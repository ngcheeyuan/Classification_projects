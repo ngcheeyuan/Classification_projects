{
  "cells": [
    {
      "cell_type": "markdown",
      "metadata": {
        "id": "view-in-github",
        "colab_type": "text"
      },
      "source": [
        "<a href=\"https://colab.research.google.com/github/ngcheeyuan/Classification_projects/blob/main/09_skimlit_milestone_project_2.ipynb\" target=\"_parent\"><img src=\"https://colab.research.google.com/assets/colab-badge.svg\" alt=\"Open In Colab\"/></a>"
      ]
    },
    {
      "cell_type": "markdown",
      "metadata": {
        "id": "0w77Tg5Ra2H3"
      },
      "source": [
        "## Skimlit:\n",
        "\n",
        "The purpose of this notebook is to build an NLP model to make reading medical abstracts easier.\n",
        "\n",
        "The paper we're replicating can be found here : https://arxiv.org/abs/1710.06071\n",
        "\n",
        "And the model architecture that they used to achieve their best results is available here : https://arxiv.org/abs/1612.05251"
      ]
    },
    {
      "cell_type": "code",
      "execution_count": 1,
      "metadata": {
        "colab": {
          "base_uri": "https://localhost:8080/"
        },
        "id": "W02Gw5ztNf1z",
        "outputId": "154efa24-b9c4-427f-cbbf-799204f63927"
      },
      "outputs": [
        {
          "output_type": "stream",
          "name": "stdout",
          "text": [
            "Thu Jan 20 15:16:47 2022       \n",
            "+-----------------------------------------------------------------------------+\n",
            "| NVIDIA-SMI 495.46       Driver Version: 460.32.03    CUDA Version: 11.2     |\n",
            "|-------------------------------+----------------------+----------------------+\n",
            "| GPU  Name        Persistence-M| Bus-Id        Disp.A | Volatile Uncorr. ECC |\n",
            "| Fan  Temp  Perf  Pwr:Usage/Cap|         Memory-Usage | GPU-Util  Compute M. |\n",
            "|                               |                      |               MIG M. |\n",
            "|===============================+======================+======================|\n",
            "|   0  Tesla T4            Off  | 00000000:00:04.0 Off |                    0 |\n",
            "| N/A   72C    P8    12W /  70W |      0MiB / 15109MiB |      0%      Default |\n",
            "|                               |                      |                  N/A |\n",
            "+-------------------------------+----------------------+----------------------+\n",
            "                                                                               \n",
            "+-----------------------------------------------------------------------------+\n",
            "| Processes:                                                                  |\n",
            "|  GPU   GI   CI        PID   Type   Process name                  GPU Memory |\n",
            "|        ID   ID                                                   Usage      |\n",
            "|=============================================================================|\n",
            "|  No running processes found                                                 |\n",
            "+-----------------------------------------------------------------------------+\n"
          ]
        }
      ],
      "source": [
        "!nvidia-smi"
      ]
    },
    {
      "cell_type": "markdown",
      "metadata": {
        "id": "Ru-P1c6-P52n"
      },
      "source": [
        "## Get Data : \n",
        "\n",
        "https://github.com/Franck-Dernoncourt/pubmed-rct"
      ]
    },
    {
      "cell_type": "code",
      "execution_count": 2,
      "metadata": {
        "colab": {
          "base_uri": "https://localhost:8080/"
        },
        "id": "oYR5j7GGQSm9",
        "outputId": "410ce28a-dfe5-463c-b6c5-6d4b09481768"
      },
      "outputs": [
        {
          "output_type": "stream",
          "name": "stdout",
          "text": [
            "fatal: destination path 'pubmed-rct' already exists and is not an empty directory.\n",
            "PubMed_200k_RCT\n",
            "PubMed_200k_RCT_numbers_replaced_with_at_sign\n",
            "PubMed_20k_RCT\n",
            "PubMed_20k_RCT_numbers_replaced_with_at_sign\n",
            "README.md\n"
          ]
        }
      ],
      "source": [
        "!git clone https://github.com/Franck-Dernoncourt/pubmed-rct\n",
        "!ls pubmed-rct"
      ]
    },
    {
      "cell_type": "code",
      "execution_count": 3,
      "metadata": {
        "colab": {
          "base_uri": "https://localhost:8080/"
        },
        "id": "udDvu1mtQX7n",
        "outputId": "ab10d7f6-9c2a-4a1f-d98d-79789b5857bc"
      },
      "outputs": [
        {
          "output_type": "stream",
          "name": "stdout",
          "text": [
            "dev.txt  test.txt  train.txt\n"
          ]
        }
      ],
      "source": [
        "!ls pubmed-rct/PubMed_20k_RCT_numbers_replaced_with_at_sign/"
      ]
    },
    {
      "cell_type": "code",
      "execution_count": 4,
      "metadata": {
        "id": "GzGDzn2FQ218"
      },
      "outputs": [],
      "source": [
        "#Start our experiments using the 20k dataset with numbers replaced with @ sign\n",
        "data_dir = '/content/pubmed-rct/PubMed_20k_RCT_numbers_replaced_with_at_sign/'"
      ]
    },
    {
      "cell_type": "code",
      "execution_count": 5,
      "metadata": {
        "colab": {
          "base_uri": "https://localhost:8080/"
        },
        "id": "tW_DPjE8RZ--",
        "outputId": "7d06cbd9-6cca-44f4-fd4b-eefb8d23ba27"
      },
      "outputs": [
        {
          "output_type": "execute_result",
          "data": {
            "text/plain": [
              "['/content/pubmed-rct/PubMed_20k_RCT_numbers_replaced_with_at_sign/test.txt',\n",
              " '/content/pubmed-rct/PubMed_20k_RCT_numbers_replaced_with_at_sign/train.txt',\n",
              " '/content/pubmed-rct/PubMed_20k_RCT_numbers_replaced_with_at_sign/dev.txt']"
            ]
          },
          "metadata": {},
          "execution_count": 5
        }
      ],
      "source": [
        "import os\n",
        "filenames =[data_dir + filename for filename in os.listdir(data_dir)]\n",
        "filenames"
      ]
    },
    {
      "cell_type": "markdown",
      "metadata": {
        "id": "mkpSUo8ZRuRz"
      },
      "source": [
        "## Preprocess data"
      ]
    },
    {
      "cell_type": "code",
      "execution_count": 6,
      "metadata": {
        "id": "IjFuMKb8SCyX"
      },
      "outputs": [],
      "source": [
        "#Create function to read the lines of a document\n",
        "\n",
        "def get_lines(filename):\n",
        "  '''\n",
        "  Reads filename (a text filename) and returns the lines of text as a list\n",
        "  \n",
        "  Args:\n",
        "    filename: a string containing the target file path.\n",
        "\n",
        "  Returns:\n",
        "    A list of strings with one string per line from the target filename.\n",
        "  \n",
        "  '''\n",
        "  with open(filename,'r') as f:\n",
        "    return f.readlines()"
      ]
    },
    {
      "cell_type": "code",
      "execution_count": 7,
      "metadata": {
        "id": "HJbZAOqESi9i"
      },
      "outputs": [],
      "source": [
        "train_lines = get_lines(data_dir +'train.txt')"
      ]
    },
    {
      "cell_type": "markdown",
      "metadata": {
        "id": "asAtkv3sSp0o"
      },
      "source": [
        "How I think our data should be best represented:\n",
        "\n",
        "'''\n",
        "'[{'line_number':0,\n",
        "\n",
        "   'target' : 'BACKGROUND',\n",
        "\n",
        "   'text' : 'Emotional eating is associated with overeating and the development of obesity .\\n',\n",
        "\n",
        "   'total_lines' : 11}]\n",
        "'''"
      ]
    },
    {
      "cell_type": "code",
      "execution_count": 8,
      "metadata": {
        "id": "KIs4lJF3Tt7T"
      },
      "outputs": [],
      "source": [
        "def preprocess_text_with_line_numbers(filename):\n",
        "  '''\n",
        "  Returns a list of dictionaries of abstract line data.\n",
        "\n",
        "  Takes in filename, reads it contents and sorts through each line,\n",
        "  extracting things like target label, the text of the sentence, how many sentencess\n",
        "  are in the current abstract and what sentence number it is on.\n",
        "  '''\n",
        "\n",
        "  input_lines = get_lines(filename)# get all lines from filename\n",
        "  abstract_lines = \"\" # creat an empty abstract\n",
        "  abstract_samples = []\n",
        "\n",
        "  #Loop through each line in the target file\n",
        "  for line in input_lines:\n",
        "    if line.startswith('###'): #check to see if this is an ID line\n",
        "       abstract_id = line\n",
        "       abstract_lines = \"\" #reset the abstract string if the line is an ID line\n",
        "    elif line.isspace(): # check to see if the line is a new line\n",
        "      abstract_line_split = abstract_lines.splitlines()\n",
        "\n",
        "      #Iterate through each line in a single abstract and count them at the same time\n",
        "\n",
        "      for abstract_line_number , abstract_line in enumerate(abstract_line_split):\n",
        "        line_data = {}\n",
        "        target_text_split = abstract_line.split('\\t') # split target label and text\n",
        "        line_data['target'] = target_text_split[0]\n",
        "        line_data['text'] = target_text_split[1].lower()\n",
        "        line_data['line_number'] = abstract_line_number\n",
        "        line_data['total_lines'] = len(abstract_line_split)-1 # how many total lines are there in target abstract and start with 0\n",
        "        abstract_samples.append(line_data)\n",
        "\n",
        "    else: # if the above conditions aren't fulfilled the line contains a labelled sentence\n",
        "      abstract_lines += line\n",
        "\n",
        "\n",
        "  return abstract_samples\n"
      ]
    },
    {
      "cell_type": "code",
      "execution_count": 9,
      "metadata": {
        "id": "qEq7pIgKWrAH"
      },
      "outputs": [],
      "source": [
        "# Get data from file and preprocess it\n",
        "\n",
        "train_samples = preprocess_text_with_line_numbers(data_dir + 'train.txt')\n",
        "val_samples = preprocess_text_with_line_numbers(data_dir + 'dev.txt')\n",
        "test_samples = preprocess_text_with_line_numbers(data_dir + 'test.txt')"
      ]
    },
    {
      "cell_type": "code",
      "execution_count": 10,
      "metadata": {
        "colab": {
          "base_uri": "https://localhost:8080/"
        },
        "id": "K44NeBg6gHHu",
        "outputId": "cc40b355-eff2-4380-f9fa-2fa351b612fa"
      },
      "outputs": [
        {
          "output_type": "execute_result",
          "data": {
            "text/plain": [
              "(180040, 30212, 30135)"
            ]
          },
          "metadata": {},
          "execution_count": 10
        }
      ],
      "source": [
        "len(train_samples),len(val_samples),len(test_samples)"
      ]
    },
    {
      "cell_type": "code",
      "execution_count": 11,
      "metadata": {
        "colab": {
          "base_uri": "https://localhost:8080/"
        },
        "id": "_4oN71PigcJ9",
        "outputId": "30f16a10-5a14-42fe-f86c-6ec0c239bef9"
      },
      "outputs": [
        {
          "output_type": "execute_result",
          "data": {
            "text/plain": [
              "[{'line_number': 0,\n",
              "  'target': 'OBJECTIVE',\n",
              "  'text': 'to investigate the efficacy of @ weeks of daily low-dose oral prednisolone in improving pain , mobility , and systemic low-grade inflammation in the short term and whether the effect would be sustained at @ weeks in older adults with moderate to severe knee osteoarthritis ( oa ) .',\n",
              "  'total_lines': 11},\n",
              " {'line_number': 1,\n",
              "  'target': 'METHODS',\n",
              "  'text': 'a total of @ patients with primary knee oa were randomized @:@ ; @ received @ mg/day of prednisolone and @ received placebo for @ weeks .',\n",
              "  'total_lines': 11},\n",
              " {'line_number': 2,\n",
              "  'target': 'METHODS',\n",
              "  'text': 'outcome measures included pain reduction and improvement in function scores and systemic inflammation markers .',\n",
              "  'total_lines': 11},\n",
              " {'line_number': 3,\n",
              "  'target': 'METHODS',\n",
              "  'text': 'pain was assessed using the visual analog pain scale ( @-@ mm ) .',\n",
              "  'total_lines': 11},\n",
              " {'line_number': 4,\n",
              "  'target': 'METHODS',\n",
              "  'text': 'secondary outcome measures included the western ontario and mcmaster universities osteoarthritis index scores , patient global assessment ( pga ) of the severity of knee oa , and @-min walk distance ( @mwd ) .',\n",
              "  'total_lines': 11},\n",
              " {'line_number': 5,\n",
              "  'target': 'METHODS',\n",
              "  'text': 'serum levels of interleukin @ ( il-@ ) , il-@ , tumor necrosis factor ( tnf ) - , and high-sensitivity c-reactive protein ( hscrp ) were measured .',\n",
              "  'total_lines': 11},\n",
              " {'line_number': 6,\n",
              "  'target': 'RESULTS',\n",
              "  'text': 'there was a clinically relevant reduction in the intervention group compared to the placebo group for knee pain , physical function , pga , and @mwd at @ weeks .',\n",
              "  'total_lines': 11},\n",
              " {'line_number': 7,\n",
              "  'target': 'RESULTS',\n",
              "  'text': 'the mean difference between treatment arms ( @ % ci ) was @ ( @-@ @ ) , p < @ ; @ ( @-@ @ ) , p < @ ; @ ( @-@ @ ) , p < @ ; and @ ( @-@ @ ) , p < @ , respectively .',\n",
              "  'total_lines': 11},\n",
              " {'line_number': 8,\n",
              "  'target': 'RESULTS',\n",
              "  'text': 'further , there was a clinically relevant reduction in the serum levels of il-@ , il-@ , tnf - , and hscrp at @ weeks in the intervention group when compared to the placebo group .',\n",
              "  'total_lines': 11},\n",
              " {'line_number': 9,\n",
              "  'target': 'RESULTS',\n",
              "  'text': 'these differences remained significant at @ weeks .',\n",
              "  'total_lines': 11}]"
            ]
          },
          "metadata": {},
          "execution_count": 11
        }
      ],
      "source": [
        "train_samples[:10]"
      ]
    },
    {
      "cell_type": "code",
      "execution_count": 12,
      "metadata": {
        "id": "68y5fcqpgilw"
      },
      "outputs": [],
      "source": [
        "import pandas as pd"
      ]
    },
    {
      "cell_type": "code",
      "execution_count": 13,
      "metadata": {
        "id": "QysK9dhvg7Jn"
      },
      "outputs": [],
      "source": [
        "df_train = pd.DataFrame(train_samples)\n",
        "df_val = pd.DataFrame(val_samples)\n",
        "df_test = pd.DataFrame(test_samples)"
      ]
    },
    {
      "cell_type": "code",
      "execution_count": 14,
      "metadata": {
        "colab": {
          "base_uri": "https://localhost:8080/",
          "height": 206
        },
        "id": "YhOl3sqhhNJ4",
        "outputId": "c40301bc-c5b2-4434-b49e-694bb11209dd"
      },
      "outputs": [
        {
          "output_type": "execute_result",
          "data": {
            "text/html": [
              "\n",
              "  <div id=\"df-d5383055-fdca-4402-8a93-2757b7afec00\">\n",
              "    <div class=\"colab-df-container\">\n",
              "      <div>\n",
              "<style scoped>\n",
              "    .dataframe tbody tr th:only-of-type {\n",
              "        vertical-align: middle;\n",
              "    }\n",
              "\n",
              "    .dataframe tbody tr th {\n",
              "        vertical-align: top;\n",
              "    }\n",
              "\n",
              "    .dataframe thead th {\n",
              "        text-align: right;\n",
              "    }\n",
              "</style>\n",
              "<table border=\"1\" class=\"dataframe\">\n",
              "  <thead>\n",
              "    <tr style=\"text-align: right;\">\n",
              "      <th></th>\n",
              "      <th>target</th>\n",
              "      <th>text</th>\n",
              "      <th>line_number</th>\n",
              "      <th>total_lines</th>\n",
              "    </tr>\n",
              "  </thead>\n",
              "  <tbody>\n",
              "    <tr>\n",
              "      <th>0</th>\n",
              "      <td>OBJECTIVE</td>\n",
              "      <td>to investigate the efficacy of @ weeks of dail...</td>\n",
              "      <td>0</td>\n",
              "      <td>11</td>\n",
              "    </tr>\n",
              "    <tr>\n",
              "      <th>1</th>\n",
              "      <td>METHODS</td>\n",
              "      <td>a total of @ patients with primary knee oa wer...</td>\n",
              "      <td>1</td>\n",
              "      <td>11</td>\n",
              "    </tr>\n",
              "    <tr>\n",
              "      <th>2</th>\n",
              "      <td>METHODS</td>\n",
              "      <td>outcome measures included pain reduction and i...</td>\n",
              "      <td>2</td>\n",
              "      <td>11</td>\n",
              "    </tr>\n",
              "    <tr>\n",
              "      <th>3</th>\n",
              "      <td>METHODS</td>\n",
              "      <td>pain was assessed using the visual analog pain...</td>\n",
              "      <td>3</td>\n",
              "      <td>11</td>\n",
              "    </tr>\n",
              "    <tr>\n",
              "      <th>4</th>\n",
              "      <td>METHODS</td>\n",
              "      <td>secondary outcome measures included the wester...</td>\n",
              "      <td>4</td>\n",
              "      <td>11</td>\n",
              "    </tr>\n",
              "  </tbody>\n",
              "</table>\n",
              "</div>\n",
              "      <button class=\"colab-df-convert\" onclick=\"convertToInteractive('df-d5383055-fdca-4402-8a93-2757b7afec00')\"\n",
              "              title=\"Convert this dataframe to an interactive table.\"\n",
              "              style=\"display:none;\">\n",
              "        \n",
              "  <svg xmlns=\"http://www.w3.org/2000/svg\" height=\"24px\"viewBox=\"0 0 24 24\"\n",
              "       width=\"24px\">\n",
              "    <path d=\"M0 0h24v24H0V0z\" fill=\"none\"/>\n",
              "    <path d=\"M18.56 5.44l.94 2.06.94-2.06 2.06-.94-2.06-.94-.94-2.06-.94 2.06-2.06.94zm-11 1L8.5 8.5l.94-2.06 2.06-.94-2.06-.94L8.5 2.5l-.94 2.06-2.06.94zm10 10l.94 2.06.94-2.06 2.06-.94-2.06-.94-.94-2.06-.94 2.06-2.06.94z\"/><path d=\"M17.41 7.96l-1.37-1.37c-.4-.4-.92-.59-1.43-.59-.52 0-1.04.2-1.43.59L10.3 9.45l-7.72 7.72c-.78.78-.78 2.05 0 2.83L4 21.41c.39.39.9.59 1.41.59.51 0 1.02-.2 1.41-.59l7.78-7.78 2.81-2.81c.8-.78.8-2.07 0-2.86zM5.41 20L4 18.59l7.72-7.72 1.47 1.35L5.41 20z\"/>\n",
              "  </svg>\n",
              "      </button>\n",
              "      \n",
              "  <style>\n",
              "    .colab-df-container {\n",
              "      display:flex;\n",
              "      flex-wrap:wrap;\n",
              "      gap: 12px;\n",
              "    }\n",
              "\n",
              "    .colab-df-convert {\n",
              "      background-color: #E8F0FE;\n",
              "      border: none;\n",
              "      border-radius: 50%;\n",
              "      cursor: pointer;\n",
              "      display: none;\n",
              "      fill: #1967D2;\n",
              "      height: 32px;\n",
              "      padding: 0 0 0 0;\n",
              "      width: 32px;\n",
              "    }\n",
              "\n",
              "    .colab-df-convert:hover {\n",
              "      background-color: #E2EBFA;\n",
              "      box-shadow: 0px 1px 2px rgba(60, 64, 67, 0.3), 0px 1px 3px 1px rgba(60, 64, 67, 0.15);\n",
              "      fill: #174EA6;\n",
              "    }\n",
              "\n",
              "    [theme=dark] .colab-df-convert {\n",
              "      background-color: #3B4455;\n",
              "      fill: #D2E3FC;\n",
              "    }\n",
              "\n",
              "    [theme=dark] .colab-df-convert:hover {\n",
              "      background-color: #434B5C;\n",
              "      box-shadow: 0px 1px 3px 1px rgba(0, 0, 0, 0.15);\n",
              "      filter: drop-shadow(0px 1px 2px rgba(0, 0, 0, 0.3));\n",
              "      fill: #FFFFFF;\n",
              "    }\n",
              "  </style>\n",
              "\n",
              "      <script>\n",
              "        const buttonEl =\n",
              "          document.querySelector('#df-d5383055-fdca-4402-8a93-2757b7afec00 button.colab-df-convert');\n",
              "        buttonEl.style.display =\n",
              "          google.colab.kernel.accessAllowed ? 'block' : 'none';\n",
              "\n",
              "        async function convertToInteractive(key) {\n",
              "          const element = document.querySelector('#df-d5383055-fdca-4402-8a93-2757b7afec00');\n",
              "          const dataTable =\n",
              "            await google.colab.kernel.invokeFunction('convertToInteractive',\n",
              "                                                     [key], {});\n",
              "          if (!dataTable) return;\n",
              "\n",
              "          const docLinkHtml = 'Like what you see? Visit the ' +\n",
              "            '<a target=\"_blank\" href=https://colab.research.google.com/notebooks/data_table.ipynb>data table notebook</a>'\n",
              "            + ' to learn more about interactive tables.';\n",
              "          element.innerHTML = '';\n",
              "          dataTable['output_type'] = 'display_data';\n",
              "          await google.colab.output.renderOutput(dataTable, element);\n",
              "          const docLink = document.createElement('div');\n",
              "          docLink.innerHTML = docLinkHtml;\n",
              "          element.appendChild(docLink);\n",
              "        }\n",
              "      </script>\n",
              "    </div>\n",
              "  </div>\n",
              "  "
            ],
            "text/plain": [
              "      target  ... total_lines\n",
              "0  OBJECTIVE  ...          11\n",
              "1    METHODS  ...          11\n",
              "2    METHODS  ...          11\n",
              "3    METHODS  ...          11\n",
              "4    METHODS  ...          11\n",
              "\n",
              "[5 rows x 4 columns]"
            ]
          },
          "metadata": {},
          "execution_count": 14
        }
      ],
      "source": [
        "df_train.head(5)"
      ]
    },
    {
      "cell_type": "code",
      "execution_count": 15,
      "metadata": {
        "colab": {
          "base_uri": "https://localhost:8080/",
          "height": 346
        },
        "id": "Z0Z60LLfhOEy",
        "outputId": "df55cb0d-3e58-4e64-de22-ca8bb25212b2"
      },
      "outputs": [
        {
          "output_type": "execute_result",
          "data": {
            "text/plain": [
              "<matplotlib.axes._subplots.AxesSubplot at 0x7f9a3fc85cd0>"
            ]
          },
          "metadata": {},
          "execution_count": 15
        },
        {
          "output_type": "display_data",
          "data": {
            "image/png": "[encoded data removed]",
            "text/plain": [
              "<Figure size 432x288 with 1 Axes>"
            ]
          },
          "metadata": {
            "needs_background": "light"
          }
        }
      ],
      "source": [
        "#distribution of labels in train data\n",
        "\n",
        "df_train.target.value_counts().plot(kind = 'bar')"
      ]
    },
    {
      "cell_type": "code",
      "execution_count": 16,
      "metadata": {
        "colab": {
          "base_uri": "https://localhost:8080/",
          "height": 286
        },
        "id": "sN-7nu_khTK5",
        "outputId": "412e1bad-b134-48a9-a036-3c739c0dbdd8"
      },
      "outputs": [
        {
          "output_type": "execute_result",
          "data": {
            "text/plain": [
              "<matplotlib.axes._subplots.AxesSubplot at 0x7f9a458c8c10>"
            ]
          },
          "metadata": {},
          "execution_count": 16
        },
        {
          "output_type": "display_data",
          "data": {
            "image/png": "[encoded data removed]",
            "text/plain": [
              "<Figure size 432x288 with 1 Axes>"
            ]
          },
          "metadata": {
            "needs_background": "light"
          }
        }
      ],
      "source": [
        "df_train.total_lines.plot.hist()"
      ]
    },
    {
      "cell_type": "markdown",
      "metadata": {
        "id": "KDqXaPNBhbny"
      },
      "source": [
        "## Get lists of sentences"
      ]
    },
    {
      "cell_type": "code",
      "execution_count": 17,
      "metadata": {
        "id": "KDLlhu8Zhs0p"
      },
      "outputs": [],
      "source": [
        "train_sentences = df_train['text'].tolist()\n",
        "val_sentences = df_val['text'].tolist()\n",
        "test_sentences = df_test['text'].tolist()"
      ]
    },
    {
      "cell_type": "code",
      "execution_count": 18,
      "metadata": {
        "colab": {
          "base_uri": "https://localhost:8080/"
        },
        "id": "PCE3HF2AiBVh",
        "outputId": "0d6da7d9-8d28-44c2-b8a4-d0d39986b678"
      },
      "outputs": [
        {
          "output_type": "execute_result",
          "data": {
            "text/plain": [
              "(180040, 30212, 30135)"
            ]
          },
          "metadata": {},
          "execution_count": 18
        }
      ],
      "source": [
        "len(train_sentences), len(val_sentences),len(test_sentences)"
      ]
    },
    {
      "cell_type": "code",
      "execution_count": 19,
      "metadata": {
        "id": "I10FBaVRiGNF"
      },
      "outputs": [],
      "source": [
        "## make numeric labels\n",
        "import tensorflow as tf\n",
        "from sklearn.preprocessing import OneHotEncoder, LabelEncoder"
      ]
    },
    {
      "cell_type": "code",
      "execution_count": 20,
      "metadata": {
        "id": "biT5a1n9imye"
      },
      "outputs": [],
      "source": [
        "one_hot_encoder = OneHotEncoder(sparse = False)\n",
        "train_labels_one_hot = one_hot_encoder.fit_transform(df_train['target'].to_numpy().reshape(-1,1))\n",
        "val_labels_one_hot = one_hot_encoder.transform(df_val['target'].to_numpy().reshape(-1,1))\n",
        "test_labels_one_hot = one_hot_encoder.transform(df_test['target'].to_numpy().reshape(-1,1))"
      ]
    },
    {
      "cell_type": "code",
      "execution_count": 21,
      "metadata": {
        "id": "if6h_SxGiy78"
      },
      "outputs": [],
      "source": [
        "label_encoder = LabelEncoder()\n",
        "train_labels_encoded = label_encoder.fit_transform(df_train['target'].to_numpy())\n",
        "val_labels_encoded = label_encoder.transform(df_val['target'].to_numpy())\n",
        "test_labels_encoded = label_encoder.transform(df_test['target'].to_numpy())"
      ]
    },
    {
      "cell_type": "code",
      "execution_count": 22,
      "metadata": {
        "colab": {
          "base_uri": "https://localhost:8080/"
        },
        "id": "tgL9sA7fjNT-",
        "outputId": "029a753e-16e2-49e8-b1cf-5f4beb9ffdce"
      },
      "outputs": [
        {
          "output_type": "execute_result",
          "data": {
            "text/plain": [
              "<tf.Tensor: shape=(180040, 5), dtype=float64, numpy=\n",
              "array([[0., 0., 0., 1., 0.],\n",
              "       [0., 0., 1., 0., 0.],\n",
              "       [0., 0., 1., 0., 0.],\n",
              "       ...,\n",
              "       [0., 0., 0., 0., 1.],\n",
              "       [0., 1., 0., 0., 0.],\n",
              "       [0., 1., 0., 0., 0.]])>"
            ]
          },
          "metadata": {},
          "execution_count": 22
        }
      ],
      "source": [
        "tf.constant(train_labels_one_hot)"
      ]
    },
    {
      "cell_type": "code",
      "execution_count": 23,
      "metadata": {
        "colab": {
          "base_uri": "https://localhost:8080/"
        },
        "id": "jI5Z63YGjQit",
        "outputId": "dcde0227-7f1d-4e5b-d119-42b7f3644963"
      },
      "outputs": [
        {
          "output_type": "execute_result",
          "data": {
            "text/plain": [
              "(5, array(['BACKGROUND', 'CONCLUSIONS', 'METHODS', 'OBJECTIVE', 'RESULTS'],\n",
              "       dtype=object))"
            ]
          },
          "metadata": {},
          "execution_count": 23
        }
      ],
      "source": [
        "num_classes = len(label_encoder.classes_)\n",
        "class_names = label_encoder.classes_\n",
        "num_classes,class_names"
      ]
    },
    {
      "cell_type": "code",
      "execution_count": 24,
      "metadata": {
        "id": "9LLJ4aCblTVD"
      },
      "outputs": [],
      "source": [
        "from sklearn.naive_bayes import MultinomialNB\n",
        "from sklearn.feature_extraction.text import TfidfVectorizer\n",
        "from sklearn.pipeline import Pipeline"
      ]
    },
    {
      "cell_type": "code",
      "execution_count": 25,
      "metadata": {
        "id": "PcCWD-dtldks"
      },
      "outputs": [],
      "source": [
        "model_0 = Pipeline([('tf-idf',TfidfVectorizer()),\n",
        "                    ('clf',MultinomialNB())])"
      ]
    },
    {
      "cell_type": "code",
      "execution_count": 26,
      "metadata": {
        "colab": {
          "base_uri": "https://localhost:8080/"
        },
        "id": "vi0-18VzmSqj",
        "outputId": "eb7206ce-86b3-46cb-bd8a-77ba6bcc26fb"
      },
      "outputs": [
        {
          "output_type": "execute_result",
          "data": {
            "text/plain": [
              "Pipeline(steps=[('tf-idf', TfidfVectorizer()), ('clf', MultinomialNB())])"
            ]
          },
          "metadata": {},
          "execution_count": 26
        }
      ],
      "source": [
        "model_0.fit(X = train_sentences,\n",
        "            y = train_labels_encoded)"
      ]
    },
    {
      "cell_type": "code",
      "execution_count": 27,
      "metadata": {
        "colab": {
          "base_uri": "https://localhost:8080/"
        },
        "id": "0DlqJykFmdee",
        "outputId": "71148550-5d87-421c-f9c5-84974217e882"
      },
      "outputs": [
        {
          "output_type": "execute_result",
          "data": {
            "text/plain": [
              "0.7218323844829869"
            ]
          },
          "metadata": {},
          "execution_count": 27
        }
      ],
      "source": [
        "model_0.score(X = val_sentences,\n",
        "              y = val_labels_encoded)"
      ]
    },
    {
      "cell_type": "code",
      "execution_count": 28,
      "metadata": {
        "colab": {
          "base_uri": "https://localhost:8080/"
        },
        "id": "XENfyLDLmx4T",
        "outputId": "7b8557e4-6598-4294-a12a-45e70ce42991"
      },
      "outputs": [
        {
          "output_type": "execute_result",
          "data": {
            "text/plain": [
              "array([4, 1, 3, ..., 4, 4, 1])"
            ]
          },
          "metadata": {},
          "execution_count": 28
        }
      ],
      "source": [
        "# make prediction using our baseline_model\n",
        "baseline_preds = model_0.predict(val_sentences)\n",
        "baseline_preds"
      ]
    },
    {
      "cell_type": "code",
      "execution_count": 29,
      "metadata": {
        "colab": {
          "base_uri": "https://localhost:8080/"
        },
        "id": "NijKUf8em4P8",
        "outputId": "93070e01-0fb9-4fdf-9ec3-e5a743c84322"
      },
      "outputs": [
        {
          "output_type": "stream",
          "name": "stdout",
          "text": [
            "--2022-01-20 15:17:02--  https://raw.githubusercontent.com/mrdbourke/tensorflow-deep-learning/main/extras/helper_functions.py\n",
            "Resolving raw.githubusercontent.com (raw.githubusercontent.com)... 185.199.108.133, 185.199.110.133, 185.199.111.133, ...\n",
            "Connecting to raw.githubusercontent.com (raw.githubusercontent.com)|185.199.108.133|:443... connected.\n",
            "HTTP request sent, awaiting response... 200 OK\n",
            "Length: 10246 (10K) [text/plain]\n",
            "Saving to: ‘helper_functions.py.1’\n",
            "\n",
            "helper_functions.py 100%[===================>]  10.01K  --.-KB/s    in 0s      \n",
            "\n",
            "2022-01-20 15:17:02 (102 MB/s) - ‘helper_functions.py.1’ saved [10246/10246]\n",
            "\n"
          ]
        }
      ],
      "source": [
        "!wget https://raw.githubusercontent.com/mrdbourke/tensorflow-deep-learning/main/extras/helper_functions.py"
      ]
    },
    {
      "cell_type": "code",
      "execution_count": 30,
      "metadata": {
        "id": "yrTzcLTmq32M"
      },
      "outputs": [],
      "source": [
        "from helper_functions import create_tensorboard_callback , plot_loss_curves ,calculate_results "
      ]
    },
    {
      "cell_type": "markdown",
      "metadata": {
        "id": "DdNi8rTX0zzC"
      },
      "source": [
        ""
      ]
    },
    {
      "cell_type": "code",
      "execution_count": 31,
      "metadata": {
        "id": "8pZiqP3krFXa"
      },
      "outputs": [],
      "source": [
        "baseline_results = calculate_results(val_labels_encoded,baseline_preds)"
      ]
    },
    {
      "cell_type": "code",
      "execution_count": 32,
      "metadata": {
        "colab": {
          "base_uri": "https://localhost:8080/"
        },
        "id": "lO5WV5OArP_j",
        "outputId": "368971c0-c9e6-483b-e6f7-31d7f374197e"
      },
      "outputs": [
        {
          "output_type": "execute_result",
          "data": {
            "text/plain": [
              "{'accuracy': 72.1832384482987,\n",
              " 'f1': 0.6989250353450294,\n",
              " 'precision': 0.7186466952323352,\n",
              " 'recall': 0.7218323844829869}"
            ]
          },
          "metadata": {},
          "execution_count": 32
        }
      ],
      "source": [
        "baseline_results"
      ]
    },
    {
      "cell_type": "markdown",
      "metadata": {
        "id": "6958C9UBrh0t"
      },
      "source": [
        "# preparing our data for deep sequence model\n",
        "\n"
      ]
    },
    {
      "cell_type": "code",
      "execution_count": 33,
      "metadata": {
        "id": "k7uPkDfarVh-"
      },
      "outputs": [],
      "source": [
        "import numpy as np\n",
        "import tensorflow as tf\n",
        "from tensorflow.keras import layers"
      ]
    },
    {
      "cell_type": "code",
      "execution_count": 34,
      "metadata": {
        "colab": {
          "base_uri": "https://localhost:8080/"
        },
        "id": "CbxFNbnhr5wW",
        "outputId": "bd6bb212-c051-4417-84bc-f46ad4d74eaf"
      },
      "outputs": [
        {
          "output_type": "execute_result",
          "data": {
            "text/plain": [
              "(26.338269273494777, 296, 1)"
            ]
          },
          "metadata": {},
          "execution_count": 34
        }
      ],
      "source": [
        "#How long is each sentence on average\n",
        "sent_lens = [len(sentence.split()) for sentence in train_sentences]\n",
        "avg_sent_len = np.mean(sent_lens)\n",
        "avg_sent_len , np.max(sent_lens), np.min(sent_lens)"
      ]
    },
    {
      "cell_type": "code",
      "execution_count": 35,
      "metadata": {
        "colab": {
          "base_uri": "https://localhost:8080/",
          "height": 265
        },
        "id": "BOK2iKGOsCeT",
        "outputId": "a3c9116f-7d61-40b9-d064-588388ebdd3d"
      },
      "outputs": [
        {
          "output_type": "display_data",
          "data": {
            "image/png": "[encoded data removed]",
            "text/plain": [
              "<Figure size 432x288 with 1 Axes>"
            ]
          },
          "metadata": {
            "needs_background": "light"
          }
        }
      ],
      "source": [
        "import matplotlib.pyplot as plt\n",
        "plt.hist(sent_lens,bins = 20);"
      ]
    },
    {
      "cell_type": "code",
      "execution_count": 36,
      "metadata": {
        "colab": {
          "base_uri": "https://localhost:8080/"
        },
        "id": "R9APt-ZrsTte",
        "outputId": "ba90480b-66f2-4b2d-b0f4-61a05558c44f"
      },
      "outputs": [
        {
          "output_type": "execute_result",
          "data": {
            "text/plain": [
              "55"
            ]
          },
          "metadata": {},
          "execution_count": 36
        }
      ],
      "source": [
        "#How long of a sentence length covers 95% of examples?\n",
        "\n",
        "output_seq_len = int(np.percentile(sent_lens,q = 95))\n",
        "output_seq_len"
      ]
    },
    {
      "cell_type": "code",
      "execution_count": 37,
      "metadata": {
        "id": "GY8yL9McsrZH"
      },
      "outputs": [],
      "source": [
        "#output_seq_len = int(np.percentile(sent_lens,q = 99))\n",
        "#output_seq_len"
      ]
    },
    {
      "cell_type": "code",
      "execution_count": 38,
      "metadata": {
        "id": "eTy-F12ls27v"
      },
      "outputs": [],
      "source": [
        "max_tokens = 68000"
      ]
    },
    {
      "cell_type": "code",
      "execution_count": 39,
      "metadata": {
        "id": "wXr7JT37tt0a"
      },
      "outputs": [],
      "source": [
        "from tensorflow.keras.layers.experimental.preprocessing import TextVectorization"
      ]
    },
    {
      "cell_type": "code",
      "execution_count": 40,
      "metadata": {
        "id": "6qoLcxQMt0bZ"
      },
      "outputs": [],
      "source": [
        "text_vectorizer = TextVectorization(max_tokens = max_tokens,\n",
        "                                    output_sequence_length = output_seq_len)"
      ]
    },
    {
      "cell_type": "code",
      "execution_count": 41,
      "metadata": {
        "id": "DtDuQCxQuAXy"
      },
      "outputs": [],
      "source": [
        "#Adapt text vectorizer to training sentences\n",
        "\n",
        "text_vectorizer.adapt(train_sentences)"
      ]
    },
    {
      "cell_type": "code",
      "execution_count": 42,
      "metadata": {
        "id": "t0lt_7ZyuN64"
      },
      "outputs": [],
      "source": [
        "#test out text vectorizer on random sentences\n",
        "\n",
        "import random"
      ]
    },
    {
      "cell_type": "code",
      "execution_count": 43,
      "metadata": {
        "colab": {
          "base_uri": "https://localhost:8080/"
        },
        "id": "ea59QsMmulX1",
        "outputId": "4bc60e27-a7c0-485a-aa6e-a196ac36f357"
      },
      "outputs": [
        {
          "output_type": "stream",
          "name": "stdout",
          "text": [
            "Text:\n",
            " this study aimed to investigate the potential use of icotinib as first-line treatment to prevent brain metastasis from advanced lung adenocarcinoma .\n",
            "\n",
            "Length of text: 149\n",
            "\n",
            "Vectorized text: [[   23    17   447     6   331     2   343    87     4 12605    25  1368\n",
            "     19     6   867   623  3563    27   588   489  3582     0     0     0\n",
            "      0     0     0     0     0     0     0     0     0     0     0     0\n",
            "      0     0     0     0     0     0     0     0     0     0     0     0\n",
            "      0     0     0     0     0     0     0]]\n"
          ]
        }
      ],
      "source": [
        "target_sentence = random.choice(train_sentences)\n",
        "print(f'Text:\\n {target_sentence}')\n",
        "print(f'\\nLength of text: {len(target_sentence)}')\n",
        "print(f'\\nVectorized text: {text_vectorizer([target_sentence])}')"
      ]
    },
    {
      "cell_type": "code",
      "execution_count": 44,
      "metadata": {
        "colab": {
          "base_uri": "https://localhost:8080/"
        },
        "id": "8QG6uOIyurK6",
        "outputId": "39c537b9-5f0a-445b-9ce9-fe0d412c0593"
      },
      "outputs": [
        {
          "output_type": "stream",
          "name": "stdout",
          "text": [
            "Number of words in vocab: 64841\n",
            "Most common words in the vocab:['', '[UNK]', 'the', 'and', 'of']\n",
            "least common words in the vocab:['aainduced', 'aaigroup', 'aachener', 'aachen', 'aaacp']\n"
          ]
        }
      ],
      "source": [
        "# How many words in our training vocabulary\n",
        "rct_20k_text_vocab = text_vectorizer.get_vocabulary()\n",
        "print(f'Number of words in vocab: {len(rct_20k_text_vocab)}')\n",
        "print(f'Most common words in the vocab:{rct_20k_text_vocab[:5]}')\n",
        "print(f'least common words in the vocab:{rct_20k_text_vocab[-5:]}')"
      ]
    },
    {
      "cell_type": "code",
      "execution_count": 45,
      "metadata": {
        "colab": {
          "base_uri": "https://localhost:8080/"
        },
        "id": "EJBhCf-svDmQ",
        "outputId": "d08aee90-0d31-4354-c3c6-a1f538707b5c"
      },
      "outputs": [
        {
          "output_type": "execute_result",
          "data": {
            "text/plain": [
              "{'batch_input_shape': (None,),\n",
              " 'dtype': 'string',\n",
              " 'idf_weights': None,\n",
              " 'max_tokens': 68000,\n",
              " 'name': 'text_vectorization',\n",
              " 'ngrams': None,\n",
              " 'output_mode': 'int',\n",
              " 'output_sequence_length': 55,\n",
              " 'pad_to_max_tokens': False,\n",
              " 'ragged': False,\n",
              " 'sparse': False,\n",
              " 'split': 'whitespace',\n",
              " 'standardize': 'lower_and_strip_punctuation',\n",
              " 'trainable': True,\n",
              " 'vocabulary': None}"
            ]
          },
          "metadata": {},
          "execution_count": 45
        }
      ],
      "source": [
        "text_vectorizer.get_config()"
      ]
    },
    {
      "cell_type": "markdown",
      "metadata": {
        "id": "5QQ9BkcuvcIo"
      },
      "source": [
        "## Create custom text embedding"
      ]
    },
    {
      "cell_type": "code",
      "execution_count": 46,
      "metadata": {
        "id": "tYLbfx90vODA"
      },
      "outputs": [],
      "source": [
        "token_embed = layers.Embedding(input_dim = len(rct_20k_text_vocab),\n",
        "                                  output_dim = 128, #number of output dim drastically changes number of paramters\n",
        "                                  mask_zero = False,\n",
        "                                  name = 'token_embedding'\n",
        "                                  )"
      ]
    },
    {
      "cell_type": "code",
      "execution_count": 47,
      "metadata": {
        "colab": {
          "base_uri": "https://localhost:8080/"
        },
        "id": "RMBp6YZ1wH4-",
        "outputId": "cecc2ac4-a7eb-46df-86b1-02b023e859f1"
      },
      "outputs": [
        {
          "output_type": "stream",
          "name": "stdout",
          "text": [
            "Sentence before vectorization:\n",
            " this study aimed to investigate the potential use of icotinib as first-line treatment to prevent brain metastasis from advanced lung adenocarcinoma .\n",
            "Sentence after vectorization (before embedding:\n",
            " [[   23    17   447     6   331     2   343    87     4 12605    25  1368\n",
            "     19     6   867   623  3563    27   588   489  3582     0     0     0\n",
            "      0     0     0     0     0     0     0     0     0     0     0     0\n",
            "      0     0     0     0     0     0     0     0     0     0     0     0\n",
            "      0     0     0     0     0     0     0]]\n",
            "Sentence after embedding:\n",
            " [[[-0.00087613  0.04335859  0.03593696 ...  0.04962707 -0.03575184\n",
            "   -0.01508424]\n",
            "  [ 0.01188451  0.02787535  0.019521   ... -0.01883907  0.0102732\n",
            "    0.04113263]\n",
            "  [-0.00710182  0.01937026  0.00781067 ... -0.01980678 -0.04395609\n",
            "    0.01469079]\n",
            "  ...\n",
            "  [ 0.04774233  0.04845661  0.01647713 ...  0.00387938 -0.01758164\n",
            "   -0.01894835]\n",
            "  [ 0.04774233  0.04845661  0.01647713 ...  0.00387938 -0.01758164\n",
            "   -0.01894835]\n",
            "  [ 0.04774233  0.04845661  0.01647713 ...  0.00387938 -0.01758164\n",
            "   -0.01894835]]]\n",
            "Embedded sentence shape :\n",
            " (1, 55, 128)\n"
          ]
        }
      ],
      "source": [
        "#show example embedding\n",
        "print(f'Sentence before vectorization:\\n {target_sentence}')\n",
        "vectorized_sentence = text_vectorizer([target_sentence])\n",
        "print(f'Sentence after vectorization (before embedding:\\n {vectorized_sentence}')\n",
        "embedded_sentence = token_embed(vectorized_sentence)\n",
        "print(f'Sentence after embedding:\\n {embedded_sentence}')\n",
        "print(f'Embedded sentence shape :\\n {embedded_sentence.shape}')"
      ]
    },
    {
      "cell_type": "markdown",
      "metadata": {
        "id": "uZDnSSomwbpZ"
      },
      "source": [
        "## Creating datasets (making sure our data loads as fast as possible)\n",
        "\n",
        "reference : https://www.tensorflow.org/guide/data_performance"
      ]
    },
    {
      "cell_type": "code",
      "execution_count": 48,
      "metadata": {
        "colab": {
          "base_uri": "https://localhost:8080/"
        },
        "id": "L5c1H736xP6I",
        "outputId": "1794a551-3660-4d7c-fdae-9b8f820ebd7c"
      },
      "outputs": [
        {
          "output_type": "execute_result",
          "data": {
            "text/plain": [
              "<TensorSliceDataset shapes: ((), (5,)), types: (tf.string, tf.float64)>"
            ]
          },
          "metadata": {},
          "execution_count": 48
        }
      ],
      "source": [
        "#Turn our data into tensorflow datasets\n",
        "train_dataset = tf.data.Dataset.from_tensor_slices((train_sentences,train_labels_one_hot))\n",
        "valid_dataset = tf.data.Dataset.from_tensor_slices((val_sentences,val_labels_one_hot))\n",
        "test_dataset = tf.data.Dataset.from_tensor_slices((test_sentences,test_labels_one_hot))\n",
        "\n",
        "train_dataset"
      ]
    },
    {
      "cell_type": "code",
      "execution_count": 49,
      "metadata": {
        "colab": {
          "base_uri": "https://localhost:8080/"
        },
        "id": "WOzW_8mBxzF6",
        "outputId": "96c6b58e-0102-4172-d573-2bcf35dfaf3e"
      },
      "outputs": [
        {
          "output_type": "execute_result",
          "data": {
            "text/plain": [
              "((180040, 5), array([0., 0., 0., 1., 0.]))"
            ]
          },
          "metadata": {},
          "execution_count": 49
        }
      ],
      "source": [
        "train_labels_one_hot.shape , train_labels_one_hot[0]"
      ]
    },
    {
      "cell_type": "code",
      "execution_count": 50,
      "metadata": {
        "colab": {
          "base_uri": "https://localhost:8080/"
        },
        "id": "Dc0N7clyx4CH",
        "outputId": "e5e50aad-f975-437d-9cc2-31baa7e1152a"
      },
      "outputs": [
        {
          "output_type": "execute_result",
          "data": {
            "text/plain": [
              "<PrefetchDataset shapes: ((None,), (None, 5)), types: (tf.string, tf.float64)>"
            ]
          },
          "metadata": {},
          "execution_count": 50
        }
      ],
      "source": [
        "#Take the TensorSliceDataset into prefetched dataset\n",
        "\n",
        "train_dataset = train_dataset.batch(32).prefetch(tf.data.AUTOTUNE)#let tensorflow automatically decide the size\n",
        "valid_dataset = valid_dataset.batch(32).prefetch(tf.data.AUTOTUNE)\n",
        "test_dataset = test_dataset.batch(32).prefetch(tf.data.AUTOTUNE)\n",
        "\n",
        "train_dataset"
      ]
    },
    {
      "cell_type": "markdown",
      "metadata": {
        "id": "hREOPdjVymCi"
      },
      "source": [
        "## Model 1 : Conv1D with token embeddings"
      ]
    },
    {
      "cell_type": "code",
      "execution_count": 51,
      "metadata": {
        "id": "cvguIBsgyzA6"
      },
      "outputs": [],
      "source": [
        "#Create 1D conv model to process sequences\n",
        "inputs = layers.Input(shape=(1,) ,dtype = tf.string)\n",
        "text_vectors = text_vectorizer(inputs)\n",
        "token_embedding = token_embed(text_vectors)\n",
        "x = layers.Conv1D(64, kernel_size = 5 , padding = 'same' , activation = 'relu')(token_embedding)\n",
        "x = layers.GlobalAveragePooling1D()(x) # condense the outpts of our feature vectors from conv layer\n",
        "outputs = layers.Dense(num_classes, activation = 'softmax')(x)\n",
        "model_1 = tf.keras.Model(inputs,outputs)"
      ]
    },
    {
      "cell_type": "code",
      "execution_count": 52,
      "metadata": {
        "id": "_H2qqGd3zjwR"
      },
      "outputs": [],
      "source": [
        "model_1.compile(loss = tf.keras.losses.CategoricalCrossentropy(),\n",
        "                optimizer = tf.keras.optimizers.Adam(),\n",
        "                metrics = ['accuracy'])"
      ]
    },
    {
      "cell_type": "code",
      "execution_count": 53,
      "metadata": {
        "id": "M8aNTfWH0ZgV"
      },
      "outputs": [],
      "source": [
        "dir_name = 'milestone_2'"
      ]
    },
    {
      "cell_type": "code",
      "execution_count": 54,
      "metadata": {
        "colab": {
          "base_uri": "https://localhost:8080/"
        },
        "id": "PJqvz4D0zvLt",
        "outputId": "f67d2b96-9e35-4925-e76f-1bb57fbc7f1b"
      },
      "outputs": [
        {
          "output_type": "stream",
          "name": "stdout",
          "text": [
            "Saving TensorBoard log files to: milestone_2/Conv1D_Model/20220120-151718\n",
            "Epoch 1/5\n",
            "562/562 [==============================] - 8s 9ms/step - loss: 0.9242 - accuracy: 0.6327 - val_loss: 0.6913 - val_accuracy: 0.7384\n",
            "Epoch 2/5\n",
            "562/562 [==============================] - 5s 8ms/step - loss: 0.6619 - accuracy: 0.7537 - val_loss: 0.6337 - val_accuracy: 0.7713\n",
            "Epoch 3/5\n",
            "562/562 [==============================] - 5s 8ms/step - loss: 0.6214 - accuracy: 0.7734 - val_loss: 0.5984 - val_accuracy: 0.7849\n",
            "Epoch 4/5\n",
            "562/562 [==============================] - 5s 8ms/step - loss: 0.5921 - accuracy: 0.7875 - val_loss: 0.5789 - val_accuracy: 0.7902\n",
            "Epoch 5/5\n",
            "562/562 [==============================] - 5s 8ms/step - loss: 0.5902 - accuracy: 0.7921 - val_loss: 0.5616 - val_accuracy: 0.8009\n"
          ]
        }
      ],
      "source": [
        "histroy_model_1 = model_1.fit(train_dataset,\n",
        "                              steps_per_epoch = int(0.1*len(train_dataset)),\n",
        "                              epochs = 5,\n",
        "                              validation_data = valid_dataset,\n",
        "                              validation_steps = int(0.1*len(valid_dataset)),\n",
        "                              callbacks = [create_tensorboard_callback(dir_name = dir_name,\n",
        "                                                                       experiment_name = 'Conv1D_Model')] )"
      ]
    },
    {
      "cell_type": "code",
      "execution_count": 55,
      "metadata": {
        "colab": {
          "base_uri": "https://localhost:8080/",
          "height": 573
        },
        "id": "ou4WXHrj0kGp",
        "outputId": "e238d6fc-91c9-4959-a345-55146d2537ab"
      },
      "outputs": [
        {
          "output_type": "display_data",
          "data": {
            "image/png": "[encoded data removed]",
            "text/plain": [
              "<Figure size 432x288 with 1 Axes>"
            ]
          },
          "metadata": {
            "needs_background": "light"
          }
        },
        {
          "output_type": "display_data",
          "data": {
            "image/png": "[encoded data removed]",
            "text/plain": [
              "<Figure size 432x288 with 1 Axes>"
            ]
          },
          "metadata": {
            "needs_background": "light"
          }
        }
      ],
      "source": [
        "plot_loss_curves(histroy_model_1)"
      ]
    },
    {
      "cell_type": "code",
      "execution_count": 56,
      "metadata": {
        "colab": {
          "base_uri": "https://localhost:8080/"
        },
        "id": "LM5IEwEX0w8O",
        "outputId": "d23daa5d-56cc-42c8-d99a-447d9fcb802a"
      },
      "outputs": [
        {
          "output_type": "stream",
          "name": "stdout",
          "text": [
            "945/945 [==============================] - 3s 3ms/step - loss: 0.5613 - accuracy: 0.8022\n"
          ]
        },
        {
          "output_type": "execute_result",
          "data": {
            "text/plain": [
              "[0.5613132119178772, 0.8022308945655823]"
            ]
          },
          "metadata": {},
          "execution_count": 56
        }
      ],
      "source": [
        "model_1.evaluate(valid_dataset)"
      ]
    },
    {
      "cell_type": "code",
      "execution_count": 57,
      "metadata": {
        "id": "9L4wjGP11D4n"
      },
      "outputs": [],
      "source": [
        "model_1_pred_probs = model_1.predict(valid_dataset)"
      ]
    },
    {
      "cell_type": "code",
      "execution_count": 58,
      "metadata": {
        "id": "bGnpViKM121W"
      },
      "outputs": [],
      "source": [
        "def model_results(model,y_true,validation_data):\n",
        "  model_pred_probs = model.predict(validation_data)\n",
        "  model_preds = tf.squeeze(np.argmax(model_pred_probs, axis = 1))\n",
        "  model_results = calculate_results(y_true = y_true,\n",
        "                                    y_pred = model_preds)\n",
        "  return model_results"
      ]
    },
    {
      "cell_type": "code",
      "execution_count": 59,
      "metadata": {
        "id": "3ZW3rcFQ1one"
      },
      "outputs": [],
      "source": [
        "model_1_results = model_results(model_1,\n",
        "                                y_true = val_labels_encoded,\n",
        "                                validation_data = valid_dataset)"
      ]
    },
    {
      "cell_type": "code",
      "execution_count": 60,
      "metadata": {
        "colab": {
          "base_uri": "https://localhost:8080/"
        },
        "id": "YaEkePxe1wki",
        "outputId": "d6d809cc-38f7-4c38-9201-77faebb3e780"
      },
      "outputs": [
        {
          "output_type": "execute_result",
          "data": {
            "text/plain": [
              "{'accuracy': 80.2230901628492,\n",
              " 'f1': 0.7992110939093597,\n",
              " 'precision': 0.8042090470449215,\n",
              " 'recall': 0.802230901628492}"
            ]
          },
          "metadata": {},
          "execution_count": 60
        }
      ],
      "source": [
        "model_1_results"
      ]
    },
    {
      "cell_type": "markdown",
      "metadata": {
        "id": "Tz4fA1IM2fmw"
      },
      "source": [
        "## Model 2 : Feature extraction with pretrained token embedding\n",
        "\n",
        "reference : https://tfhub.dev/google/universal-sentence-encoder/4"
      ]
    },
    {
      "cell_type": "code",
      "execution_count": 61,
      "metadata": {
        "id": "oO0AgAcV2zvM"
      },
      "outputs": [],
      "source": [
        "#download pretrained tensorflow hub USE\n",
        "import tensorflow_hub as hub\n",
        "tf_hub_embedding_layer = hub.KerasLayer('https://tfhub.dev/google/universal-sentence-encoder/4',\n",
        "                                        trainable = False,\n",
        "                                        name = 'universal_sentence_encoder')"
      ]
    },
    {
      "cell_type": "code",
      "execution_count": 62,
      "metadata": {
        "colab": {
          "base_uri": "https://localhost:8080/"
        },
        "id": "TFYb54N537Xi",
        "outputId": "50f0ece2-8a3c-4f2c-884d-9bc04e7773e0"
      },
      "outputs": [
        {
          "output_type": "stream",
          "name": "stdout",
          "text": [
            "Random sentence: this study was designed to compare the efficacy of equipotent volumes of colloid and crystalloid-colloid combination in spinal anesthesia-induced hypotension prophylaxis during cesarean section .\n",
            "Sentence after embedding:\n",
            " [[ 6.13433914e-03  3.13223451e-02  3.72852385e-02 -1.45972399e-02\n",
            "   4.80975211e-02 -2.63002310e-02  7.78092146e-02 -1.39344968e-02\n",
            "   6.86193407e-02  6.60782456e-02  8.75839218e-02  7.37041887e-03\n",
            "   6.93486482e-02  5.35804853e-02 -6.93765953e-02 -5.87809868e-02\n",
            "  -8.41956660e-02  2.70009898e-02 -3.26621421e-02 -1.44050261e-02\n",
            "   2.39061564e-03  3.67018916e-02 -6.87185600e-02 -6.74690232e-02\n",
            "  -2.47705379e-03 -4.44213562e-02  4.72579785e-02  1.20993480e-02\n",
            "   3.33126984e-03  1.48467906e-02  4.97507378e-02  8.77777785e-02\n",
            "   3.64687257e-02  5.46205230e-02  1.91088207e-02 -1.32667935e-02\n",
            "  -1.10443570e-02  4.59209830e-02 -4.65853289e-02 -1.29059106e-02\n",
            "   2.85761133e-02  4.38884180e-03 -3.81940678e-02 -5.13743795e-03\n",
            "   2.00036056e-02 -3.24408640e-03 -3.55542600e-02  1.00812467e-03\n",
            "   2.18860228e-02  2.74947137e-02 -5.93460836e-02 -2.00824458e-02\n",
            "  -5.65907918e-02 -5.28857969e-02  2.62105148e-02  1.71522405e-02\n",
            "  -3.18329944e-03 -3.60919088e-02  5.67528345e-02  1.78410392e-02\n",
            "  -3.08309663e-02  1.52059710e-02  5.85313141e-02 -1.93084087e-02\n",
            "   5.34988642e-02  2.90777581e-03  4.06566299e-02  1.84602682e-02\n",
            "   4.51885723e-02 -6.96505159e-02  5.68765495e-03  1.72708072e-02\n",
            "   2.94320714e-02  6.14031665e-02 -3.93238366e-02  2.16459166e-02\n",
            "  -1.22028533e-02  1.54713467e-02  5.75169362e-02  3.19962800e-02\n",
            "  -6.82740659e-02  3.67654264e-02  5.33635318e-02  5.15869483e-02\n",
            "  -3.87241580e-02  7.48765767e-02  1.50568329e-03 -5.16018085e-02\n",
            "  -6.07710658e-03 -6.44757152e-02 -4.63574268e-02 -6.83377609e-02\n",
            "  -2.17629634e-02  3.10344398e-02 -3.34908292e-02  6.90726936e-02\n",
            "  -1.95584055e-02 -2.84543149e-02  1.17146745e-02  1.02196950e-02\n",
            "  -6.27540126e-02  2.61532702e-02  7.31362700e-02  2.95522474e-02\n",
            "   5.79480007e-02 -4.17063907e-02  3.13655771e-02  4.59653512e-02\n",
            "   1.45922424e-02 -4.65957634e-02  2.92932652e-02  2.04453710e-02\n",
            "   5.93578257e-02  4.03361581e-02 -1.37287453e-02  3.08110230e-02\n",
            "  -7.56331608e-02  6.92600459e-02 -1.35262161e-02  4.75097485e-02\n",
            "   4.32333201e-02  6.06079353e-03 -1.88258905e-02 -3.78825068e-02\n",
            "   5.75854443e-02 -1.18625145e-02 -7.34274834e-02 -2.18725614e-02\n",
            "   5.31333014e-02  1.68265123e-02 -6.28614351e-02  9.04293433e-02\n",
            "   5.41994087e-02 -9.03724134e-03 -2.72317696e-02 -1.15945460e-02\n",
            "   5.36661930e-02 -7.44454190e-02 -7.01376125e-02 -1.20571367e-02\n",
            "  -6.68831095e-02  6.93413615e-02  7.01430812e-03 -4.10023518e-02\n",
            "   3.75881605e-02  7.66620189e-02  1.53038939e-02 -8.19507334e-03\n",
            "   1.44056194e-02 -6.57193363e-02  5.18275499e-02 -1.35490652e-02\n",
            "  -5.05628996e-02  1.77652985e-02  8.40843394e-02  6.43740296e-02\n",
            "  -9.40249942e-04  3.22376713e-02  4.11194749e-02  4.02195491e-02\n",
            "   2.54013073e-02 -5.09877466e-02 -7.37375244e-02  6.83212504e-02\n",
            "   2.51675304e-02 -7.82781914e-02 -5.27599901e-02  5.18767349e-02\n",
            "  -2.88772080e-02  1.34106157e-02 -4.10414673e-02 -3.63968462e-02\n",
            "  -3.31818536e-02 -6.10660715e-03  1.60427168e-02 -1.59151871e-02\n",
            "  -4.28915881e-02  2.60694046e-02  4.42881025e-02  7.16791227e-02\n",
            "  -6.64973073e-03 -6.62266985e-02  3.97144333e-02  7.16770440e-02\n",
            "  -4.43075858e-02 -1.05936201e-02  4.72909249e-02 -8.30958225e-03\n",
            "   4.31550108e-02  5.34411371e-02  4.67851385e-02 -8.06442946e-02\n",
            "  -2.81743072e-02  4.80164625e-02  2.06926931e-02  1.92556288e-02\n",
            "  -4.26582694e-02 -6.99992478e-02  1.70269497e-02 -6.74264804e-02\n",
            "   5.06294370e-02  9.39078443e-03 -7.67424107e-02  7.22333416e-02\n",
            "   3.41512747e-02 -6.85345158e-02  3.23909856e-02 -2.71641426e-02\n",
            "   5.88750616e-02  6.92667961e-02 -5.14640063e-02 -5.50823994e-02\n",
            "  -7.08518475e-02  5.73871359e-02  6.37218356e-02  2.78342217e-02\n",
            "   4.44569178e-02  3.54478322e-02  2.22690459e-02  1.48514025e-02\n",
            "   5.87445945e-02 -1.60431135e-02  5.51374443e-02 -7.94617087e-02\n",
            "   4.65527624e-02  1.69087220e-02 -6.31303117e-02  7.08315969e-02\n",
            "   4.62777093e-02 -1.35524338e-02 -2.28665899e-02  3.90560888e-02\n",
            "   5.62370114e-04 -3.54247764e-02  3.87498885e-02  3.35876942e-02\n",
            "   1.81297287e-02  1.91351157e-02 -4.75025587e-02  7.97820315e-02\n",
            "   3.93465254e-03 -2.54337396e-02 -7.54117295e-02 -7.62374103e-02\n",
            "   1.05675748e-02 -3.40391733e-02 -1.93210579e-02  1.29219582e-02\n",
            "   2.47451831e-02 -8.71059075e-02  3.91046852e-02 -6.18945286e-02\n",
            "  -3.61295231e-02 -2.91225705e-02  1.58643238e-02  3.67701054e-02\n",
            "  -4.34553400e-02  5.94578385e-02 -2.79022828e-02  1.21786650e-02\n",
            "  -2.15068017e-03  1.37778521e-02 -2.71882899e-02  1.36509268e-02\n",
            "  -5.22697419e-02 -8.29727948e-03  5.23474626e-02  1.23462277e-02\n",
            "   5.65088578e-02 -4.72635515e-02  7.23705739e-02  6.90176114e-02\n",
            "   4.46942598e-02 -7.13953748e-02 -1.01742996e-02  1.47634409e-02\n",
            "  -4.19816487e-02 -2.95458119e-02  3.53391049e-04 -3.98291349e-02\n",
            "  -3.40942107e-02  5.05579216e-03  2.97727678e-02  2.10617278e-02\n",
            "   3.81421782e-02 -3.34316902e-02  1.71291046e-02  1.50025950e-03\n",
            "  -4.04134318e-02  1.89907961e-02  3.38664688e-02  5.47738075e-02\n",
            "  -5.06847873e-02  1.62906144e-02  1.66634768e-02  1.19602811e-02\n",
            "   4.14640903e-02 -5.77601604e-02  1.76223839e-04  7.21811727e-02\n",
            "  -2.65090633e-02  1.82882082e-02  3.83028053e-02 -7.26654381e-02\n",
            "  -4.33774367e-02 -6.21853657e-02  6.67659789e-02  5.86228184e-02\n",
            "   4.01010178e-02  1.29660536e-02 -1.24519719e-02  1.14935869e-03\n",
            "  -1.81765016e-02 -2.94191185e-02 -6.21175990e-02  4.90907580e-02\n",
            "   2.94805579e-02  2.22995151e-02 -5.67865632e-02 -1.12913772e-02\n",
            "  -2.86622941e-02 -6.20322861e-02 -8.53315461e-03  1.96173638e-02\n",
            "  -4.54454869e-02  3.66858430e-02 -2.43219696e-02  3.41884606e-03\n",
            "  -5.80129214e-02  5.92597462e-02  2.26466507e-02  5.93358725e-02\n",
            "   2.80534811e-02  1.00093270e-02  2.79792142e-03  2.49833707e-02\n",
            "   2.69709360e-02 -3.07055209e-02 -3.93951610e-02  1.24355424e-02\n",
            "  -1.46581493e-02  6.49819523e-02  6.69774860e-02  3.90924178e-02\n",
            "  -7.61229545e-02 -6.74570575e-02  7.20017180e-02  1.10807288e-02\n",
            "  -5.22821359e-02 -6.94628358e-02 -4.50150073e-02 -3.18475440e-02\n",
            "   8.20402708e-03 -7.17038885e-02  6.53750300e-02  3.23506519e-02\n",
            "   6.00914282e-05  4.36851289e-03  7.89965019e-02 -6.36411235e-02\n",
            "  -6.26315996e-02 -6.80984333e-02 -8.14864486e-02 -8.02822709e-02\n",
            "  -1.28232408e-02  4.66402024e-02 -3.97700770e-03  6.74812347e-02\n",
            "  -1.86837115e-03  4.65541035e-02 -9.21307504e-03 -4.01651524e-02\n",
            "  -1.97401121e-02 -6.47700429e-02 -2.15055551e-02  2.84629390e-02\n",
            "   3.22819315e-02 -4.20025066e-02 -4.37370650e-02 -2.29062047e-02\n",
            "  -4.53450903e-02  3.37687545e-02  5.60525544e-02  2.24360842e-02\n",
            "   2.45774928e-02 -1.06554283e-02 -6.77921474e-02  6.00430481e-02\n",
            "   1.46170631e-02  1.62172932e-02  3.38792726e-02  7.34000728e-02\n",
            "  -4.99749137e-03 -4.33837734e-02 -8.24734662e-03  1.51952179e-02\n",
            "   8.09120312e-02  4.51969467e-02  4.71637547e-02 -8.64349157e-02\n",
            "   6.95451349e-02  4.13470492e-02 -3.40820923e-02  2.28117071e-02\n",
            "   2.42716260e-02  4.13201414e-02  2.92553734e-02  2.68956311e-02\n",
            "   3.30753550e-02 -4.40109223e-02  5.00082336e-02 -1.14393411e-02\n",
            "   3.31664346e-02  6.17182720e-03  2.18272787e-02  5.72086461e-02\n",
            "   5.65313697e-02 -2.63899546e-02 -3.18290219e-02  2.17410885e-02\n",
            "  -3.32798585e-02 -6.12195320e-02 -6.75840527e-02  3.08619789e-03\n",
            "   4.06820886e-02 -1.88365323e-03  5.12078591e-02  6.45824522e-02\n",
            "   7.32149780e-02  1.95071436e-02  8.22651573e-03 -5.24467640e-02\n",
            "  -6.64704591e-02 -8.02439451e-02  3.54295112e-02 -5.10072894e-02\n",
            "  -5.37405908e-02  3.09581961e-03 -1.16037894e-02  5.84539436e-02\n",
            "  -6.54421523e-02 -3.25944088e-02 -1.60588659e-02  2.69572646e-03\n",
            "   5.55109270e-02 -5.80433197e-02  2.75429953e-02  8.83311220e-03\n",
            "   3.80805582e-02 -1.71925351e-02  4.80723679e-02 -7.91161805e-02\n",
            "   9.49990097e-03  5.52777611e-02 -5.41698858e-02 -7.83076212e-02\n",
            "  -5.22954902e-03 -2.47025257e-03  4.44195941e-02  3.32088917e-02\n",
            "   4.63565491e-04  5.66147640e-02  7.46552497e-02  5.06861415e-03\n",
            "   1.61035992e-02 -4.21643816e-02 -7.34295696e-02 -2.36035679e-02\n",
            "   2.23941263e-03 -8.56000930e-02  3.22023891e-02  5.55081517e-02\n",
            "  -3.48917022e-02 -6.11431664e-03 -2.31868736e-02 -3.26492190e-02\n",
            "   6.78661945e-06 -3.24845500e-02  5.19643314e-02  1.43723963e-02\n",
            "   9.79630742e-03  1.81602966e-02 -2.69171987e-02 -4.02813330e-02\n",
            "  -1.27986772e-02 -1.84883140e-02 -9.57157835e-03 -2.13369913e-02\n",
            "   2.96114255e-02 -6.44992292e-02  3.44378129e-02  3.73675488e-02\n",
            "  -9.64218657e-03 -7.20405057e-02  5.16109653e-02  4.19606566e-02\n",
            "  -8.77426006e-03 -5.97227998e-02  4.69815359e-02  5.04569747e-02\n",
            "  -1.06075527e-02 -5.66139482e-02 -5.63988369e-03 -7.56833032e-02\n",
            "   2.11886712e-03 -9.07880291e-02  4.86783683e-02 -3.41383107e-02\n",
            "   4.41564433e-02 -5.22085316e-02  1.32292160e-03 -5.84984832e-02]]\n",
            "\n",
            "length after embedding:\n",
            " 512\n",
            "\n"
          ]
        }
      ],
      "source": [
        "#Test out of the pretrained embedding on a random sentence\n",
        "random_train_sentence = random.choice(train_sentences)\n",
        "print(f'Random sentence: {random_train_sentence}')\n",
        "use_embedded_sentence = tf_hub_embedding_layer([random_train_sentence])\n",
        "print(f'Sentence after embedding:\\n {use_embedded_sentence}\\n')\n",
        "print(f'length after embedding:\\n {len(use_embedded_sentence[0])}\\n')"
      ]
    },
    {
      "cell_type": "markdown",
      "metadata": {
        "id": "We0UZCTa4Xnz"
      },
      "source": [
        "## Building and fitting an NLP feature extraction model using pretrained embeddings"
      ]
    },
    {
      "cell_type": "code",
      "execution_count": 63,
      "metadata": {
        "id": "ye19e3KW4s2w"
      },
      "outputs": [],
      "source": [
        "inputs = layers.Input(shape = [], dtype = tf.string )\n",
        "pretrained_embedding = tf_hub_embedding_layer(inputs) # token text and create embedding of each sequence (512 long)\n",
        "x = layers.Dense(128, activation = 'relu')(pretrained_embedding)\n",
        "# Note : you could add more layers here if you wanted to\n",
        "outputs = layers.Dense(num_classes, activation = 'softmax')(x)\n",
        "model_2 = tf.keras.Model(inputs = inputs,\n",
        "                         outputs = outputs,\n",
        "                         name = 'model_2_USE_feature_extractor')\n",
        "\n",
        "model_2.compile(loss = tf.keras.losses.CategoricalCrossentropy(),\n",
        "                optimizer = tf.keras.optimizers.Adam(),\n",
        "                metrics = ['accuracy'])"
      ]
    },
    {
      "cell_type": "code",
      "execution_count": 64,
      "metadata": {
        "colab": {
          "base_uri": "https://localhost:8080/"
        },
        "id": "IZ-0UkfR5evC",
        "outputId": "9f8bb420-0b78-4e8d-8de9-89f9eadf5a7c"
      },
      "outputs": [
        {
          "output_type": "stream",
          "name": "stdout",
          "text": [
            "Model: \"model_2_USE_feature_extractor\"\n",
            "_________________________________________________________________\n",
            " Layer (type)                Output Shape              Param #   \n",
            "=================================================================\n",
            " input_2 (InputLayer)        [(None,)]                 0         \n",
            "                                                                 \n",
            " universal_sentence_encoder   (None, 512)              256797824 \n",
            " (KerasLayer)                                                    \n",
            "                                                                 \n",
            " dense_1 (Dense)             (None, 128)               65664     \n",
            "                                                                 \n",
            " dense_2 (Dense)             (None, 5)                 645       \n",
            "                                                                 \n",
            "=================================================================\n",
            "Total params: 256,864,133\n",
            "Trainable params: 66,309\n",
            "Non-trainable params: 256,797,824\n",
            "_________________________________________________________________\n"
          ]
        }
      ],
      "source": [
        "model_2.summary()"
      ]
    },
    {
      "cell_type": "code",
      "execution_count": 65,
      "metadata": {
        "colab": {
          "base_uri": "https://localhost:8080/"
        },
        "id": "CxQps_bl5hHp",
        "outputId": "b5236e5e-a9c1-4c4f-80f0-c4fd59b47964"
      },
      "outputs": [
        {
          "output_type": "stream",
          "name": "stdout",
          "text": [
            "Saving TensorBoard log files to: milestone_2/USE_feature_extractor/20220120-151802\n",
            "Epoch 1/5\n",
            "562/562 [==============================] - 9s 13ms/step - loss: 0.9131 - accuracy: 0.6527 - val_loss: 0.7989 - val_accuracy: 0.6872\n",
            "Epoch 2/5\n",
            "562/562 [==============================] - 7s 13ms/step - loss: 0.7702 - accuracy: 0.7012 - val_loss: 0.7568 - val_accuracy: 0.7035\n",
            "Epoch 3/5\n",
            "562/562 [==============================] - 7s 12ms/step - loss: 0.7545 - accuracy: 0.7102 - val_loss: 0.7418 - val_accuracy: 0.7084\n",
            "Epoch 4/5\n",
            "562/562 [==============================] - 7s 12ms/step - loss: 0.7215 - accuracy: 0.7225 - val_loss: 0.7144 - val_accuracy: 0.7277\n",
            "Epoch 5/5\n",
            "562/562 [==============================] - 7s 13ms/step - loss: 0.7285 - accuracy: 0.7197 - val_loss: 0.6937 - val_accuracy: 0.7330\n"
          ]
        }
      ],
      "source": [
        "history_model_2 = model_2.fit(train_dataset,\n",
        "                              epochs = 5,\n",
        "                              steps_per_epoch = int(0.1*len(train_dataset)),\n",
        "                              validation_data = valid_dataset,\n",
        "                              validation_steps = int(0.1*len(valid_dataset)),\n",
        "                              callbacks = [create_tensorboard_callback(dir_name = dir_name,\n",
        "                                                                       experiment_name = 'USE_feature_extractor')])"
      ]
    },
    {
      "cell_type": "code",
      "execution_count": 66,
      "metadata": {
        "colab": {
          "base_uri": "https://localhost:8080/"
        },
        "id": "o52s_MDQ523H",
        "outputId": "f5a105b2-b8ec-469d-887b-2d382b8da0bd"
      },
      "outputs": [
        {
          "output_type": "stream",
          "name": "stdout",
          "text": [
            "945/945 [==============================] - 10s 10ms/step - loss: 0.7006 - accuracy: 0.7336\n"
          ]
        },
        {
          "output_type": "execute_result",
          "data": {
            "text/plain": [
              "[0.7005637884140015, 0.7336157560348511]"
            ]
          },
          "metadata": {},
          "execution_count": 66
        }
      ],
      "source": [
        "model_2.evaluate(valid_dataset)"
      ]
    },
    {
      "cell_type": "code",
      "execution_count": 67,
      "metadata": {
        "colab": {
          "base_uri": "https://localhost:8080/",
          "height": 573
        },
        "id": "XIhJHMKI6Etv",
        "outputId": "adefd252-31cc-476e-93b2-e3503ac37ef6"
      },
      "outputs": [
        {
          "output_type": "display_data",
          "data": {
            "image/png": "[encoded data removed]",
            "text/plain": [
              "<Figure size 432x288 with 1 Axes>"
            ]
          },
          "metadata": {
            "needs_background": "light"
          }
        },
        {
          "output_type": "display_data",
          "data": {
            "image/png": "[encoded data removed]",
            "text/plain": [
              "<Figure size 432x288 with 1 Axes>"
            ]
          },
          "metadata": {
            "needs_background": "light"
          }
        }
      ],
      "source": [
        "plot_loss_curves(history_model_2)"
      ]
    },
    {
      "cell_type": "code",
      "execution_count": 68,
      "metadata": {
        "id": "35XOuvn85_xk"
      },
      "outputs": [],
      "source": [
        "model_2_results = model_results(model_2,\n",
        "                                y_true = val_labels_encoded,\n",
        "                                validation_data = valid_dataset)"
      ]
    },
    {
      "cell_type": "code",
      "execution_count": 69,
      "metadata": {
        "colab": {
          "base_uri": "https://localhost:8080/"
        },
        "id": "HmhnlWqQ6p3V",
        "outputId": "b04269ad-217c-4684-85ab-894043119b11"
      },
      "outputs": [
        {
          "output_type": "execute_result",
          "data": {
            "text/plain": [
              "{'accuracy': 72.1832384482987,\n",
              " 'f1': 0.6989250353450294,\n",
              " 'precision': 0.7186466952323352,\n",
              " 'recall': 0.7218323844829869}"
            ]
          },
          "metadata": {},
          "execution_count": 69
        }
      ],
      "source": [
        "baseline_results"
      ]
    },
    {
      "cell_type": "code",
      "execution_count": 70,
      "metadata": {
        "colab": {
          "base_uri": "https://localhost:8080/"
        },
        "id": "rYMXpK0M6EKY",
        "outputId": "5e719c34-09ee-420e-86c6-3d7acf24cbef"
      },
      "outputs": [
        {
          "output_type": "execute_result",
          "data": {
            "text/plain": [
              "{'accuracy': 73.36157818085529,\n",
              " 'f1': 0.7280760925878198,\n",
              " 'precision': 0.730099010816164,\n",
              " 'recall': 0.7336157818085529}"
            ]
          },
          "metadata": {},
          "execution_count": 70
        }
      ],
      "source": [
        "model_2_results"
      ]
    },
    {
      "cell_type": "code",
      "execution_count": 71,
      "metadata": {
        "colab": {
          "base_uri": "https://localhost:8080/"
        },
        "id": "Trjs8Jym6g4A",
        "outputId": "f756f7d1-0862-4617-fcc5-4879f81f9b77"
      },
      "outputs": [
        {
          "output_type": "execute_result",
          "data": {
            "text/plain": [
              "{'accuracy': 80.2230901628492,\n",
              " 'f1': 0.7992110939093597,\n",
              " 'precision': 0.8042090470449215,\n",
              " 'recall': 0.802230901628492}"
            ]
          },
          "metadata": {},
          "execution_count": 71
        }
      ],
      "source": [
        "model_1_results"
      ]
    },
    {
      "cell_type": "markdown",
      "metadata": {
        "id": "DTU-r10V6rrR"
      },
      "source": [
        "## Model 3 : Conv1D with character embeddings"
      ]
    },
    {
      "cell_type": "markdown",
      "metadata": {
        "id": "TEPQ_lmm64Ct"
      },
      "source": [
        "### Create a character level tokenizer"
      ]
    },
    {
      "cell_type": "code",
      "execution_count": 72,
      "metadata": {
        "colab": {
          "base_uri": "https://localhost:8080/"
        },
        "id": "S_D6F5RW8F4x",
        "outputId": "0d80e450-7dce-4cc2-fdfc-7b6a06b25bc5"
      },
      "outputs": [
        {
          "output_type": "execute_result",
          "data": {
            "text/plain": [
              "['to investigate the efficacy of @ weeks of daily low-dose oral prednisolone in improving pain , mobility , and systemic low-grade inflammation in the short term and whether the effect would be sustained at @ weeks in older adults with moderate to severe knee osteoarthritis ( oa ) .',\n",
              " 'a total of @ patients with primary knee oa were randomized @:@ ; @ received @ mg/day of prednisolone and @ received placebo for @ weeks .',\n",
              " 'outcome measures included pain reduction and improvement in function scores and systemic inflammation markers .',\n",
              " 'pain was assessed using the visual analog pain scale ( @-@ mm ) .',\n",
              " 'secondary outcome measures included the western ontario and mcmaster universities osteoarthritis index scores , patient global assessment ( pga ) of the severity of knee oa , and @-min walk distance ( @mwd ) .']"
            ]
          },
          "metadata": {},
          "execution_count": 72
        }
      ],
      "source": [
        "train_sentences[:5]"
      ]
    },
    {
      "cell_type": "code",
      "execution_count": 73,
      "metadata": {
        "id": "LPfFZvk38H_7"
      },
      "outputs": [],
      "source": [
        "def split_chars(text):\n",
        "  return ' '.join(list(text))"
      ]
    },
    {
      "cell_type": "code",
      "execution_count": 74,
      "metadata": {
        "colab": {
          "base_uri": "https://localhost:8080/",
          "height": 73
        },
        "id": "haDjBQra8QbJ",
        "outputId": "e2c8ca5c-a19a-40b7-faff-cce61c249b86"
      },
      "outputs": [
        {
          "output_type": "execute_result",
          "data": {
            "application/vnd.google.colaboratory.intrinsic+json": {
              "type": "string"
            },
            "text/plain": [
              "'t o   i n v e s t i g a t e   t h e   e f f i c a c y   o f   @   w e e k s   o f   d a i l y   l o w - d o s e   o r a l   p r e d n i s o l o n e   i n   i m p r o v i n g   p a i n   ,   m o b i l i t y   ,   a n d   s y s t e m i c   l o w - g r a d e   i n f l a m m a t i o n   i n   t h e   s h o r t   t e r m   a n d   w h e t h e r   t h e   e f f e c t   w o u l d   b e   s u s t a i n e d   a t   @   w e e k s   i n   o l d e r   a d u l t s   w i t h   m o d e r a t e   t o   s e v e r e   k n e e   o s t e o a r t h r i t i s   (   o a   )   .'"
            ]
          },
          "metadata": {},
          "execution_count": 74
        }
      ],
      "source": [
        "split_chars(train_sentences[0])"
      ]
    },
    {
      "cell_type": "code",
      "execution_count": 75,
      "metadata": {
        "id": "EhzRqgO88TzP"
      },
      "outputs": [],
      "source": [
        "#split sequence-level data splits into character -level data_spits)\n",
        "train_chars = [split_chars(sentence) for sentence in train_sentences]\n",
        "val_chars = [split_chars(sentence) for sentence in val_sentences]\n",
        "test_chars = [split_chars(sentence) for sentence in test_sentences]"
      ]
    },
    {
      "cell_type": "code",
      "execution_count": 76,
      "metadata": {
        "colab": {
          "base_uri": "https://localhost:8080/"
        },
        "id": "Tl6XeHD98oGp",
        "outputId": "719c7f76-c865-449c-c0f3-32b0a862f5ce"
      },
      "outputs": [
        {
          "output_type": "execute_result",
          "data": {
            "text/plain": [
              "149.3662574983337"
            ]
          },
          "metadata": {},
          "execution_count": 76
        }
      ],
      "source": [
        "char_lens = [len(sentence) for sentence in train_sentences]\n",
        "mean_char_len = np.mean(char_lens)\n",
        "mean_char_len"
      ]
    },
    {
      "cell_type": "code",
      "execution_count": 77,
      "metadata": {
        "colab": {
          "base_uri": "https://localhost:8080/",
          "height": 265
        },
        "id": "dwf3Qxlx8qzZ",
        "outputId": "f4e0e978-6d52-41f4-d94e-b7b4bc065ecb"
      },
      "outputs": [
        {
          "output_type": "display_data",
          "data": {
            "image/png": "[encoded data removed]",
            "text/plain": [
              "<Figure size 432x288 with 1 Axes>"
            ]
          },
          "metadata": {
            "needs_background": "light"
          }
        }
      ],
      "source": [
        "plt.hist(char_lens,bins = 7);"
      ]
    },
    {
      "cell_type": "code",
      "execution_count": 78,
      "metadata": {
        "colab": {
          "base_uri": "https://localhost:8080/"
        },
        "id": "dvCKOL7Q87ME",
        "outputId": "9c258a82-42a3-4958-af48-7726f4b18a20"
      },
      "outputs": [
        {
          "output_type": "execute_result",
          "data": {
            "text/plain": [
              "290"
            ]
          },
          "metadata": {},
          "execution_count": 78
        }
      ],
      "source": [
        "#Find what character length covers 95% of sequences\n",
        "output_seq_char_len = int(np.percentile(char_lens,95))\n",
        "output_seq_char_len"
      ]
    },
    {
      "cell_type": "code",
      "execution_count": 79,
      "metadata": {
        "colab": {
          "base_uri": "https://localhost:8080/"
        },
        "id": "RkHLWv7Z9IUt",
        "outputId": "5f9e8229-00bb-48eb-9934-2f626797f713"
      },
      "outputs": [
        {
          "output_type": "execute_result",
          "data": {
            "text/plain": [
              "('abcdefghijklmnopqrstuvwxyz0123456789!\"#$%&\\'()*+,-./:;<=>?@[\\\\]^_`{|}~', 68)"
            ]
          },
          "metadata": {},
          "execution_count": 79
        }
      ],
      "source": [
        "# Get all keyboard characters\n",
        "import string\n",
        "alphabet = string.ascii_lowercase + string.digits + string.punctuation\n",
        "alphabet , len(alphabet)"
      ]
    },
    {
      "cell_type": "code",
      "execution_count": 80,
      "metadata": {
        "id": "r_JwaV7S9fZb"
      },
      "outputs": [],
      "source": [
        "#Create char-level token vectorizer instance\n",
        "NUM_CHAR_TOKENS = len(alphabet) + 2 # add 2 for space and OOV token/[UNK]\n",
        "char_vectorizer = TextVectorization(max_tokens = NUM_CHAR_TOKENS,\n",
        "                                    output_sequence_length = output_seq_char_len,\n",
        "                                    #standardize = None,\n",
        "                                    name = 'char_vectorizer')"
      ]
    },
    {
      "cell_type": "code",
      "execution_count": 81,
      "metadata": {
        "id": "soz13N9t91aO"
      },
      "outputs": [],
      "source": [
        "# Adapt character vectorizer to training character\n",
        "char_vectorizer.adapt(train_chars)"
      ]
    },
    {
      "cell_type": "code",
      "execution_count": 82,
      "metadata": {
        "colab": {
          "base_uri": "https://localhost:8080/"
        },
        "id": "QhOfDpzK9_b6",
        "outputId": "627921e5-fd7c-4079-f884-8e3636423379"
      },
      "outputs": [
        {
          "output_type": "stream",
          "name": "stdout",
          "text": [
            "Number of different characters in character vocab:28\n",
            "5 most common characters : ['', '[UNK]', 'e', 't', 'i']\n",
            "5 least common characters : ['k', 'x', 'z', 'q', 'j']\n"
          ]
        }
      ],
      "source": [
        "char_vocab = char_vectorizer.get_vocabulary()\n",
        "print(f'Number of different characters in character vocab:{len(char_vocab)}')\n",
        "print(f'5 most common characters : {char_vocab[:5]}')\n",
        "print(f'5 least common characters : {char_vocab[-5:]}')"
      ]
    },
    {
      "cell_type": "code",
      "execution_count": 83,
      "metadata": {
        "colab": {
          "base_uri": "https://localhost:8080/"
        },
        "id": "Y8LTyvrQ-P6M",
        "outputId": "be56fcd9-7c9c-4ab7-afc8-0977d278a003"
      },
      "outputs": [
        {
          "output_type": "stream",
          "name": "stdout",
          "text": [
            "Charified text:\n",
            " c o m p l i c a t i o n s   w e r e   r a r e   i n   t h e   e a r l y   p o s t o p e r a t i v e   p e r i o d   .\n",
            "length of random_train_chars [['c', 'o', 'm', 'p', 'l', 'i', 'c', 'a', 't', 'i', 'o', 'n', 's', 'w', 'e', 'r', 'e', 'r', 'a', 'r', 'e', 'i', 'n', 't', 'h', 'e', 'e', 'a', 'r', 'l', 'y', 'p', 'o', 's', 't', 'o', 'p', 'e', 'r', 'a', 't', 'i', 'v', 'e', 'p', 'e', 'r', 'i', 'o', 'd', '.']]\n",
            "\n",
            "Vectorized char:\n",
            " [[11  7 15 14 12  4 11  5  3  4  7  6  9 20  2  8  2  8  5  8  2  4  6  3\n",
            "  13  2  2  5  8 12 19 14  7  9  3  7 14  2  8  5  3  4 21  2 14  2  8  4\n",
            "   7 10  0  0  0  0  0  0  0  0  0  0  0  0  0  0  0  0  0  0  0  0  0  0\n",
            "   0  0  0  0  0  0  0  0  0  0  0  0  0  0  0  0  0  0  0  0  0  0  0  0\n",
            "   0  0  0  0  0  0  0  0  0  0  0  0  0  0  0  0  0  0  0  0  0  0  0  0\n",
            "   0  0  0  0  0  0  0  0  0  0  0  0  0  0  0  0  0  0  0  0  0  0  0  0\n",
            "   0  0  0  0  0  0  0  0  0  0  0  0  0  0  0  0  0  0  0  0  0  0  0  0\n",
            "   0  0  0  0  0  0  0  0  0  0  0  0  0  0  0  0  0  0  0  0  0  0  0  0\n",
            "   0  0  0  0  0  0  0  0  0  0  0  0  0  0  0  0  0  0  0  0  0  0  0  0\n",
            "   0  0  0  0  0  0  0  0  0  0  0  0  0  0  0  0  0  0  0  0  0  0  0  0\n",
            "   0  0  0  0  0  0  0  0  0  0  0  0  0  0  0  0  0  0  0  0  0  0  0  0\n",
            "   0  0  0  0  0  0  0  0  0  0  0  0  0  0  0  0  0  0  0  0  0  0  0  0\n",
            "   0  0]]\n",
            "\n",
            "Length of vectorized chars : 290\n"
          ]
        }
      ],
      "source": [
        "# Test out character vectorizer\n",
        "random_train_chars = random.choice(train_chars)\n",
        "print(f'Charified text:\\n {random_train_chars}')\n",
        "print(f'length of random_train_chars {[random_train_chars.split()]}')\n",
        "vectorized_chars = char_vectorizer([random_train_chars])\n",
        "print(f'\\nVectorized char:\\n {vectorized_chars}')\n",
        "print(f'\\nLength of vectorized chars : {len(vectorized_chars[0])}')"
      ]
    },
    {
      "cell_type": "markdown",
      "metadata": {
        "id": "AnOSiNVs-_Y2"
      },
      "source": [
        "## Creating a charcter level embedding:"
      ]
    },
    {
      "cell_type": "code",
      "execution_count": 138,
      "metadata": {
        "id": "baAaQs5n_b1D"
      },
      "outputs": [],
      "source": [
        "char_embed =layers.Embedding(input_dim = len(char_vocab), # number of different characters\n",
        "                             output_dim = 24, # this is the size of the embedding in the paper (figure 1)\n",
        "                             mask_zero = False,\n",
        "                             name = 'char_embed')"
      ]
    },
    {
      "cell_type": "code",
      "execution_count": 85,
      "metadata": {
        "colab": {
          "base_uri": "https://localhost:8080/"
        },
        "id": "Rd4zBtXV_-zk",
        "outputId": "63a34f9e-526e-48f3-f8bc-3dc2ac6df7f2"
      },
      "outputs": [
        {
          "output_type": "stream",
          "name": "stdout",
          "text": [
            "Charified text : \n",
            " c o m p l i c a t i o n s   w e r e   r a r e   i n   t h e   e a r l y   p o s t o p e r a t i v e   p e r i o d   .\n",
            "Embedded chars. (after vectorization and embedding) : \n",
            " [[[ 0.04341854 -0.00530206 -0.03998606 ... -0.00186931 -0.00143478\n",
            "   -0.01314142]\n",
            "  [ 0.04119667 -0.00461458  0.00467578 ...  0.00593005  0.03213123\n",
            "    0.03248986]\n",
            "  [-0.02844726 -0.01536076 -0.03044524 ... -0.04398435 -0.03162173\n",
            "    0.04920861]\n",
            "  ...\n",
            "  [-0.01099598 -0.02445216 -0.03235111 ...  0.01521805 -0.01470668\n",
            "    0.04090113]\n",
            "  [-0.01099598 -0.02445216 -0.03235111 ...  0.01521805 -0.01470668\n",
            "    0.04090113]\n",
            "  [-0.01099598 -0.02445216 -0.03235111 ...  0.01521805 -0.01470668\n",
            "    0.04090113]]]\n",
            "Embedded chars shape : \n",
            " (1, 290, 24)\n",
            "Length of charified text : \n",
            " 117\n"
          ]
        }
      ],
      "source": [
        "# test our character embedding layer\n",
        "print(f'Charified text : \\n {random_train_chars}')\n",
        "char_embed_example = char_embed(char_vectorizer([random_train_chars]))\n",
        "print(f'Embedded chars. (after vectorization and embedding) : \\n {char_embed_example}')\n",
        "print(f'Embedded chars shape : \\n {char_embed_example.shape}')\n",
        "print(f'Length of charified text : \\n {len(random_train_chars)}')"
      ]
    },
    {
      "cell_type": "code",
      "execution_count": 86,
      "metadata": {
        "id": "wkvBdUJRAWQg"
      },
      "outputs": [],
      "source": [
        "inputs = layers.Input(shape = (1,), dtype = tf.string )\n",
        "char_vectors = char_vectorizer(inputs)\n",
        "char_embeddings = char_embed(char_vectors) # token text and create embedding of each sequence (512 long)\n",
        "x = layers.Conv1D(64, kernel_size = 5, padding = 'same',\n",
        "                  activation = 'relu')(char_embeddings)\n",
        "x = layers.GlobalMaxPooling1D()(x)\n",
        "# Note : you could add more layers here if you wanted to\n",
        "outputs = layers.Dense(num_classes, activation = 'softmax')(x)\n",
        "model_3 = tf.keras.Model(inputs = inputs,\n",
        "                         outputs = outputs,\n",
        "                         name = 'model_3_conv1d_char_embedding')\n",
        "\n",
        "model_3.compile(loss = tf.keras.losses.CategoricalCrossentropy(),\n",
        "                optimizer = tf.keras.optimizers.Adam(),\n",
        "                metrics = ['accuracy'])"
      ]
    },
    {
      "cell_type": "code",
      "execution_count": 87,
      "metadata": {
        "id": "5p1XDvf6BdlS"
      },
      "outputs": [],
      "source": [
        "#create char level datasets\n",
        "\n",
        "train_char_dataset = tf.data.Dataset.from_tensor_slices((train_chars,train_labels_one_hot)).batch(32).prefetch(tf.data.AUTOTUNE)\n",
        "val_char_dataset = tf.data.Dataset.from_tensor_slices((val_chars,val_labels_one_hot)).batch(32).prefetch(tf.data.AUTOTUNE)\n",
        "test_char_dataset = tf.data.Dataset.from_tensor_slices((test_chars,test_labels_one_hot)).batch(32).prefetch(tf.data.AUTOTUNE)"
      ]
    },
    {
      "cell_type": "code",
      "execution_count": 88,
      "metadata": {
        "colab": {
          "base_uri": "https://localhost:8080/"
        },
        "id": "N0fNrC4NCGsm",
        "outputId": "63150193-339e-4a84-a6d9-c235912d6f26"
      },
      "outputs": [
        {
          "output_type": "stream",
          "name": "stdout",
          "text": [
            "Saving TensorBoard log files to: milestone_2/character_embedding/20220120-151929\n",
            "Epoch 1/3\n",
            "562/562 [==============================] - 4s 6ms/step - loss: 1.2757 - accuracy: 0.4799 - val_loss: 1.0603 - val_accuracy: 0.5755\n",
            "Epoch 2/3\n",
            "562/562 [==============================] - 3s 5ms/step - loss: 1.0270 - accuracy: 0.5879 - val_loss: 0.9654 - val_accuracy: 0.6114\n",
            "Epoch 3/3\n",
            "562/562 [==============================] - 3s 5ms/step - loss: 0.9531 - accuracy: 0.6237 - val_loss: 0.8947 - val_accuracy: 0.6386\n"
          ]
        }
      ],
      "source": [
        "model_3_history = model_3.fit(train_char_dataset,\n",
        "                              steps_per_epoch = int(0.1*len(train_char_dataset)),\n",
        "                              epochs = 3,\n",
        "                              validation_data = val_char_dataset,\n",
        "                              validation_steps = int(0.1*len(val_char_dataset)),\n",
        "                              callbacks = [create_tensorboard_callback(dir_name = dir_name,\n",
        "                                                                       experiment_name = 'character_embedding')])"
      ]
    },
    {
      "cell_type": "code",
      "execution_count": 89,
      "metadata": {
        "colab": {
          "base_uri": "https://localhost:8080/",
          "height": 573
        },
        "id": "gEGKgMDhCgoC",
        "outputId": "84451e35-7aee-4b73-8a6f-5e91b9c061fe"
      },
      "outputs": [
        {
          "output_type": "display_data",
          "data": {
            "image/png": "[encoded data removed]",
            "text/plain": [
              "<Figure size 432x288 with 1 Axes>"
            ]
          },
          "metadata": {
            "needs_background": "light"
          }
        },
        {
          "output_type": "display_data",
          "data": {
            "image/png": "[encoded data removed]",
            "text/plain": [
              "<Figure size 432x288 with 1 Axes>"
            ]
          },
          "metadata": {
            "needs_background": "light"
          }
        }
      ],
      "source": [
        "plot_loss_curves(model_3_history)"
      ]
    },
    {
      "cell_type": "code",
      "execution_count": 90,
      "metadata": {
        "id": "7DO0fZvQDC14"
      },
      "outputs": [],
      "source": [
        "model_3_results = model_results(model_3,\n",
        "                                y_true = val_labels_encoded,\n",
        "                                validation_data = val_char_dataset)"
      ]
    },
    {
      "cell_type": "code",
      "execution_count": 91,
      "metadata": {
        "colab": {
          "base_uri": "https://localhost:8080/"
        },
        "id": "n0oo4H9MDO_G",
        "outputId": "55323525-d6e2-4ea1-b987-f2d758edeb2a"
      },
      "outputs": [
        {
          "output_type": "execute_result",
          "data": {
            "text/plain": [
              "{'accuracy': 64.21289553819675,\n",
              " 'f1': 0.6303019449347237,\n",
              " 'precision': 0.629470905192119,\n",
              " 'recall': 0.6421289553819675}"
            ]
          },
          "metadata": {},
          "execution_count": 91
        }
      ],
      "source": [
        "model_3_results"
      ]
    },
    {
      "cell_type": "markdown",
      "metadata": {
        "id": "kyEaOhbuEYFJ"
      },
      "source": [
        ""
      ]
    },
    {
      "cell_type": "markdown",
      "metadata": {
        "id": "5f4RESjzD_gg"
      },
      "source": [
        "## Experiment 4 : concatenating models - \n",
        "\n",
        "token embedding + characters embeddings (hybrid)"
      ]
    },
    {
      "cell_type": "code",
      "execution_count": 92,
      "metadata": {
        "id": "o9BdV7hBEDsc"
      },
      "outputs": [],
      "source": [
        "#setup token input/model\n",
        "token_inputs = layers.Input(shape = [], dtype =tf.string)\n",
        "token_embeddings = tf_hub_embedding_layer(token_inputs)\n",
        "token_output = layers.Dense(128,activation = 'relu')(token_embeddings)\n",
        "token_model = tf.keras.Model(inputs = token_inputs,\n",
        "                             outputs = token_output)"
      ]
    },
    {
      "cell_type": "code",
      "execution_count": 93,
      "metadata": {
        "id": "zZYacu-DFXQ8"
      },
      "outputs": [],
      "source": [
        "#setup char inputs/model\n",
        "char_inputs = layers.Input(shape=(1,), dtype = tf.string)\n",
        "char_vectors = char_vectorizer(char_inputs)\n",
        "char_embeddings = char_embed(char_vectors)\n",
        "char_bi_lstm = layers.Bidirectional(layers.LSTM(24))(char_embeddings)\n",
        "char_model = tf.keras.Model(inputs=char_inputs,\n",
        "                            outputs = char_bi_lstm)"
      ]
    },
    {
      "cell_type": "code",
      "execution_count": 94,
      "metadata": {
        "id": "vM-UT_ESF7OP"
      },
      "outputs": [],
      "source": [
        "#concatenate token an char inputs\n",
        "token_char_concat = layers.Concatenate(name = 'token_char_concat')([token_model.output,\n",
        "                                                                    char_model.output])"
      ]
    },
    {
      "cell_type": "code",
      "execution_count": 95,
      "metadata": {
        "id": "e6cl1cyiGiLQ"
      },
      "outputs": [],
      "source": [
        "#create output layers - adding in dropout\n",
        "combined_dropout = layers.Dropout(rate = 0.5)(token_char_concat)\n",
        "combined_dense = layers.Dense(128,activation = 'relu')(combined_dropout)\n",
        "final_dropout = layers.Dropout(rate = 0.5)(combined_dense)\n",
        "output_layer = layers.Dense(num_classes , activation = 'softmax')(final_dropout)"
      ]
    },
    {
      "cell_type": "code",
      "execution_count": 96,
      "metadata": {
        "id": "Pcn8yXwDG5Lc"
      },
      "outputs": [],
      "source": [
        "#Construct model with char and token inputs\n",
        "\n",
        "model_4 = tf.keras.Model(inputs =[token_model.input,char_model.input],\n",
        "                         outputs = output_layer,\n",
        "                         name = 'model_4_token_and_char_embeddings')"
      ]
    },
    {
      "cell_type": "code",
      "execution_count": 97,
      "metadata": {
        "colab": {
          "base_uri": "https://localhost:8080/"
        },
        "id": "w45rLBs2Hqp5",
        "outputId": "926519b9-1a32-48bc-ed58-30170af24deb"
      },
      "outputs": [
        {
          "output_type": "stream",
          "name": "stdout",
          "text": [
            "Model: \"model_4_token_and_char_embeddings\"\n",
            "__________________________________________________________________________________________________\n",
            " Layer (type)                   Output Shape         Param #     Connected to                     \n",
            "==================================================================================================\n",
            " input_5 (InputLayer)           [(None, 1)]          0           []                               \n",
            "                                                                                                  \n",
            " input_4 (InputLayer)           [(None,)]            0           []                               \n",
            "                                                                                                  \n",
            " char_vectorizer (TextVectoriza  (None, 290)         0           ['input_5[0][0]']                \n",
            " tion)                                                                                            \n",
            "                                                                                                  \n",
            " universal_sentence_encoder (Ke  (None, 512)         256797824   ['input_4[0][0]']                \n",
            " rasLayer)                                                                                        \n",
            "                                                                                                  \n",
            " char_embed (Embedding)         (None, 290, 24)      672         ['char_vectorizer[1][0]']        \n",
            "                                                                                                  \n",
            " dense_4 (Dense)                (None, 128)          65664       ['universal_sentence_encoder[1][0\n",
            "                                                                 ]']                              \n",
            "                                                                                                  \n",
            " bidirectional (Bidirectional)  (None, 48)           9408        ['char_embed[1][0]']             \n",
            "                                                                                                  \n",
            " token_char_concat (Concatenate  (None, 176)         0           ['dense_4[0][0]',                \n",
            " )                                                                'bidirectional[0][0]']          \n",
            "                                                                                                  \n",
            " dropout (Dropout)              (None, 176)          0           ['token_char_concat[0][0]']      \n",
            "                                                                                                  \n",
            " dense_5 (Dense)                (None, 128)          22656       ['dropout[0][0]']                \n",
            "                                                                                                  \n",
            " dropout_1 (Dropout)            (None, 128)          0           ['dense_5[0][0]']                \n",
            "                                                                                                  \n",
            " dense_6 (Dense)                (None, 5)            645         ['dropout_1[0][0]']              \n",
            "                                                                                                  \n",
            "==================================================================================================\n",
            "Total params: 256,896,869\n",
            "Trainable params: 99,045\n",
            "Non-trainable params: 256,797,824\n",
            "__________________________________________________________________________________________________\n"
          ]
        }
      ],
      "source": [
        "model_4.summary()"
      ]
    },
    {
      "cell_type": "code",
      "execution_count": 98,
      "metadata": {
        "colab": {
          "base_uri": "https://localhost:8080/",
          "height": 976
        },
        "id": "y7snlOCDH03-",
        "outputId": "8f36fcd8-6be2-4770-b9e0-a1fb4246937d"
      },
      "outputs": [
        {
          "output_type": "execute_result",
          "data": {
            "image/png": "[encoded data removed]",
            "text/plain": [
              "<IPython.core.display.Image object>"
            ]
          },
          "metadata": {},
          "execution_count": 98
        }
      ],
      "source": [
        "#Plot hybrd token and character model\n",
        "from tensorflow.keras.utils import plot_model\n",
        "plot_model(model_4, show_shapes = True)"
      ]
    },
    {
      "cell_type": "code",
      "execution_count": 99,
      "metadata": {
        "id": "JoePwfYAHhaB"
      },
      "outputs": [],
      "source": [
        "model_4.compile(loss = tf.keras.losses.CategoricalCrossentropy(),\n",
        "                optimizer = tf.keras.optimizers.Adam(),\n",
        "                metrics = ['accuracy'])"
      ]
    },
    {
      "cell_type": "code",
      "execution_count": 100,
      "metadata": {
        "id": "Mw3q8E-cIDpo"
      },
      "outputs": [],
      "source": [
        "## Combining token and character data into a tf.data Dataset\n",
        "train_char_token_data = tf.data.Dataset.from_tensor_slices((train_sentences,train_chars))\n",
        "train_char_token_labels = tf.data.Dataset.from_tensor_slices(train_labels_one_hot)\n",
        "train_char_token_dataset = tf.data.Dataset.zip((train_char_token_data,train_char_token_labels))\n",
        "\n",
        "val_char_token_data = tf.data.Dataset.from_tensor_slices((val_sentences,val_chars))\n",
        "val_char_token_labels = tf.data.Dataset.from_tensor_slices(val_labels_one_hot)\n",
        "val_char_token_dataset = tf.data.Dataset.zip((val_char_token_data,val_char_token_labels))\n",
        "\n",
        "test_char_token_data = tf.data.Dataset.from_tensor_slices((test_sentences,test_chars))\n",
        "test_char_token_labels = tf.data.Dataset.from_tensor_slices(test_labels_one_hot)\n",
        "test_char_token_dataset = tf.data.Dataset.zip((test_char_token_data,test_char_token_labels))"
      ]
    },
    {
      "cell_type": "code",
      "execution_count": 101,
      "metadata": {
        "id": "uaUNTkrJJLqQ"
      },
      "outputs": [],
      "source": [
        "#Prefetch and batch train_data\n",
        "train_char_token_dataset = train_char_token_dataset.batch(32).prefetch(tf.data.AUTOTUNE)\n",
        "val_char_token_dataset = val_char_token_dataset.batch(32).prefetch(tf.data.AUTOTUNE)\n",
        "test_char_token_dataset = test_char_token_dataset.batch(32).prefetch(tf.data.AUTOTUNE)\n",
        "                                                                   "
      ]
    },
    {
      "cell_type": "code",
      "execution_count": 102,
      "metadata": {
        "colab": {
          "base_uri": "https://localhost:8080/"
        },
        "id": "9tCOkbp-KR1J",
        "outputId": "8fe77cea-8f83-45c7-9b4e-ba094a32b911"
      },
      "outputs": [
        {
          "output_type": "execute_result",
          "data": {
            "text/plain": [
              "(<PrefetchDataset shapes: (((None,), (None,)), (None, 5)), types: ((tf.string, tf.string), tf.float64)>,\n",
              " <PrefetchDataset shapes: (((None,), (None,)), (None, 5)), types: ((tf.string, tf.string), tf.float64)>)"
            ]
          },
          "metadata": {},
          "execution_count": 102
        }
      ],
      "source": [
        "#check out our training char and token embedding dataset - the order of the data is important, and is dependent on how your model is ordered\n",
        "train_char_token_dataset , val_char_token_dataset"
      ]
    },
    {
      "cell_type": "code",
      "execution_count": 103,
      "metadata": {
        "colab": {
          "base_uri": "https://localhost:8080/"
        },
        "id": "LgC1rcRxMxf7",
        "outputId": "f4e8e2c0-a94e-4f10-d666-b52f7289e58d"
      },
      "outputs": [
        {
          "output_type": "stream",
          "name": "stdout",
          "text": [
            "Saving TensorBoard log files to: milestone_2/token and char model/20220120-151947\n",
            "Epoch 1/5\n",
            "562/562 [==============================] - 37s 51ms/step - loss: 0.9888 - accuracy: 0.6086 - val_loss: 0.7857 - val_accuracy: 0.6968\n",
            "Epoch 2/5\n",
            "562/562 [==============================] - 27s 48ms/step - loss: 0.7956 - accuracy: 0.6937 - val_loss: 0.7156 - val_accuracy: 0.7244\n",
            "Epoch 3/5\n",
            "562/562 [==============================] - 24s 43ms/step - loss: 0.7684 - accuracy: 0.7096 - val_loss: 0.6915 - val_accuracy: 0.7380\n",
            "Epoch 4/5\n",
            "562/562 [==============================] - 28s 49ms/step - loss: 0.7445 - accuracy: 0.7184 - val_loss: 0.6746 - val_accuracy: 0.7414\n",
            "Epoch 5/5\n",
            "562/562 [==============================] - 25s 45ms/step - loss: 0.7443 - accuracy: 0.7167 - val_loss: 0.6639 - val_accuracy: 0.7424\n"
          ]
        },
        {
          "output_type": "execute_result",
          "data": {
            "text/plain": [
              "<keras.callbacks.History at 0x7f9849a969d0>"
            ]
          },
          "metadata": {},
          "execution_count": 103
        }
      ],
      "source": [
        "model_4.fit(train_char_token_dataset,\n",
        "            steps_per_epoch = int(0.1*len(train_char_token_dataset)),\n",
        "            epochs = 5,\n",
        "            validation_data = val_char_token_dataset,\n",
        "            validation_steps = int(0.1*len(val_char_token_dataset)),\n",
        "            callbacks = [create_tensorboard_callback(dir_name = dir_name,\n",
        "                                                     experiment_name = 'token and char model')])"
      ]
    },
    {
      "cell_type": "code",
      "execution_count": 104,
      "metadata": {
        "colab": {
          "base_uri": "https://localhost:8080/"
        },
        "id": "zbka_NbwNh4F",
        "outputId": "785028a9-2431-40cf-f9ac-c41ea225de40"
      },
      "outputs": [
        {
          "output_type": "stream",
          "name": "stdout",
          "text": [
            "945/945 [==============================] - 21s 22ms/step - loss: 0.6696 - accuracy: 0.7425\n"
          ]
        },
        {
          "output_type": "execute_result",
          "data": {
            "text/plain": [
              "[0.6696470379829407, 0.7424533367156982]"
            ]
          },
          "metadata": {},
          "execution_count": 104
        }
      ],
      "source": [
        "model_4.evaluate(val_char_token_dataset)"
      ]
    },
    {
      "cell_type": "code",
      "execution_count": 105,
      "metadata": {
        "id": "aNFVC_XxPqZr"
      },
      "outputs": [],
      "source": [
        "model_4_results = model_results(model_4,\n",
        "                                y_true = val_labels_encoded,\n",
        "                                validation_data = val_char_token_dataset)"
      ]
    },
    {
      "cell_type": "code",
      "execution_count": 106,
      "metadata": {
        "id": "DK9vn1UxPyYK",
        "colab": {
          "base_uri": "https://localhost:8080/"
        },
        "outputId": "8769790a-2e99-4397-f762-946f4c08251a"
      },
      "outputs": [
        {
          "output_type": "execute_result",
          "data": {
            "text/plain": [
              "{'accuracy': 74.24533298027274,\n",
              " 'f1': 0.7362933712070856,\n",
              " 'precision': 0.7406547702846116,\n",
              " 'recall': 0.7424533298027274}"
            ]
          },
          "metadata": {},
          "execution_count": 106
        }
      ],
      "source": [
        "model_4_results"
      ]
    },
    {
      "cell_type": "code",
      "execution_count": 107,
      "metadata": {
        "id": "b6PdLuHSP8Cx",
        "colab": {
          "base_uri": "https://localhost:8080/"
        },
        "outputId": "4185b56d-1ea8-457c-c921-c277d1dee715"
      },
      "outputs": [
        {
          "output_type": "execute_result",
          "data": {
            "text/plain": [
              "{'accuracy': 80.2230901628492,\n",
              " 'f1': 0.7992110939093597,\n",
              " 'precision': 0.8042090470449215,\n",
              " 'recall': 0.802230901628492}"
            ]
          },
          "metadata": {},
          "execution_count": 107
        }
      ],
      "source": [
        "model_1_results"
      ]
    },
    {
      "cell_type": "markdown",
      "metadata": {
        "id": "ZQ-duYJzQA54"
      },
      "source": [
        "## Create positional embeddings"
      ]
    },
    {
      "cell_type": "code",
      "execution_count": 108,
      "metadata": {
        "id": "RulVT8XWSlZX",
        "colab": {
          "base_uri": "https://localhost:8080/"
        },
        "outputId": "4a8e13ea-e317-4546-902c-d70cede852c0"
      },
      "outputs": [
        {
          "output_type": "execute_result",
          "data": {
            "text/plain": [
              "0     15000\n",
              "1     15000\n",
              "2     15000\n",
              "3     15000\n",
              "4     14992\n",
              "5     14949\n",
              "6     14758\n",
              "7     14279\n",
              "8     13346\n",
              "9     11981\n",
              "10    10041\n",
              "11     7892\n",
              "12     5853\n",
              "13     4152\n",
              "14     2835\n",
              "15     1861\n",
              "16     1188\n",
              "17      751\n",
              "18      462\n",
              "19      286\n",
              "20      162\n",
              "21      101\n",
              "22       66\n",
              "23       33\n",
              "24       22\n",
              "25       14\n",
              "26        7\n",
              "27        4\n",
              "28        3\n",
              "29        1\n",
              "30        1\n",
              "Name: line_number, dtype: int64"
            ]
          },
          "metadata": {},
          "execution_count": 108
        }
      ],
      "source": [
        "#How many different line numbers are there\n",
        "df_train['line_number'].value_counts()"
      ]
    },
    {
      "cell_type": "code",
      "execution_count": 109,
      "metadata": {
        "id": "NA8z49miSte4",
        "colab": {
          "base_uri": "https://localhost:8080/",
          "height": 284
        },
        "outputId": "c192f67b-0c6b-42b7-fbe4-aa9031efb308"
      },
      "outputs": [
        {
          "output_type": "execute_result",
          "data": {
            "text/plain": [
              "<matplotlib.axes._subplots.AxesSubplot at 0x7f9948f00190>"
            ]
          },
          "metadata": {},
          "execution_count": 109
        },
        {
          "output_type": "display_data",
          "data": {
            "image/png": "[encoded data removed]",
            "text/plain": [
              "<Figure size 432x288 with 1 Axes>"
            ]
          },
          "metadata": {
            "needs_background": "light"
          }
        }
      ],
      "source": [
        "df_train['line_number'].plot.hist()"
      ]
    },
    {
      "cell_type": "code",
      "execution_count": 110,
      "metadata": {
        "id": "111VQ3t4Tsyd",
        "colab": {
          "base_uri": "https://localhost:8080/",
          "height": 286
        },
        "outputId": "c810b243-9dab-411c-fbdd-2002a9fc6201"
      },
      "outputs": [
        {
          "output_type": "execute_result",
          "data": {
            "text/plain": [
              "<matplotlib.axes._subplots.AxesSubplot at 0x7f99490ca210>"
            ]
          },
          "metadata": {},
          "execution_count": 110
        },
        {
          "output_type": "display_data",
          "data": {
            "image/png": "[encoded data removed]",
            "text/plain": [
              "<Figure size 432x288 with 1 Axes>"
            ]
          },
          "metadata": {
            "needs_background": "light"
          }
        }
      ],
      "source": [
        "df_train['total_lines'].plot.hist()"
      ]
    },
    {
      "cell_type": "code",
      "execution_count": 111,
      "metadata": {
        "id": "i3StbDFNS-LB"
      },
      "outputs": [],
      "source": [
        "# use TensorFlow to create one-hot-encoded tensors of our line number\n",
        "train_line_numbers_one_hot =tf.one_hot(df_train['line_number'].to_numpy(), depth = 15)\n",
        "val_line_numbers_one_hot =tf.one_hot(df_val['line_number'].to_numpy(), depth = 15)\n",
        "test_line_numbers_one_hot =tf.one_hot(df_test['line_number'].to_numpy(), depth = 15)\n",
        "\n",
        "train_total_line_numbers_one_hot =tf.one_hot(df_train['total_lines'].to_numpy(), depth = 20)\n",
        "val_total_line_numbers_one_hot =tf.one_hot(df_val['total_lines'].to_numpy(), depth = 20)\n",
        "test_total_line_numbers_one_hot =tf.one_hot(df_test['total_lines'].to_numpy(), depth = 20)"
      ]
    },
    {
      "cell_type": "code",
      "execution_count": 112,
      "metadata": {
        "id": "gCyRYjBpdfcp",
        "colab": {
          "base_uri": "https://localhost:8080/"
        },
        "outputId": "50688bae-b2d2-48f8-edc6-c92ad7aab140"
      },
      "outputs": [
        {
          "output_type": "execute_result",
          "data": {
            "text/plain": [
              "(TensorShape([180040, 15]), TensorShape([30212, 15]))"
            ]
          },
          "metadata": {},
          "execution_count": 112
        }
      ],
      "source": [
        "train_line_numbers_one_hot.shape , val_line_numbers_one_hot.shape"
      ]
    },
    {
      "cell_type": "code",
      "execution_count": 113,
      "metadata": {
        "id": "ZcuXi6afTPdM",
        "colab": {
          "base_uri": "https://localhost:8080/"
        },
        "outputId": "3cca3f57-bb3e-45a4-bffc-31f169f98c9b"
      },
      "outputs": [
        {
          "output_type": "execute_result",
          "data": {
            "text/plain": [
              "(<tf.Tensor: shape=(10, 15), dtype=float32, numpy=\n",
              " array([[1., 0., 0., 0., 0., 0., 0., 0., 0., 0., 0., 0., 0., 0., 0.],\n",
              "        [0., 1., 0., 0., 0., 0., 0., 0., 0., 0., 0., 0., 0., 0., 0.],\n",
              "        [0., 0., 1., 0., 0., 0., 0., 0., 0., 0., 0., 0., 0., 0., 0.],\n",
              "        [0., 0., 0., 1., 0., 0., 0., 0., 0., 0., 0., 0., 0., 0., 0.],\n",
              "        [0., 0., 0., 0., 1., 0., 0., 0., 0., 0., 0., 0., 0., 0., 0.],\n",
              "        [0., 0., 0., 0., 0., 1., 0., 0., 0., 0., 0., 0., 0., 0., 0.],\n",
              "        [0., 0., 0., 0., 0., 0., 1., 0., 0., 0., 0., 0., 0., 0., 0.],\n",
              "        [0., 0., 0., 0., 0., 0., 0., 1., 0., 0., 0., 0., 0., 0., 0.],\n",
              "        [0., 0., 0., 0., 0., 0., 0., 0., 1., 0., 0., 0., 0., 0., 0.],\n",
              "        [0., 0., 0., 0., 0., 0., 0., 0., 0., 1., 0., 0., 0., 0., 0.]],\n",
              "       dtype=float32)>, TensorShape([180040, 15]))"
            ]
          },
          "metadata": {},
          "execution_count": 113
        }
      ],
      "source": [
        "train_line_numbers_one_hot[:10],train_line_numbers_one_hot.shape"
      ]
    },
    {
      "cell_type": "code",
      "execution_count": 114,
      "metadata": {
        "id": "dy_GOZDDUWY5",
        "colab": {
          "base_uri": "https://localhost:8080/"
        },
        "outputId": "054d522c-392f-40e5-d211-b596c7d369ed"
      },
      "outputs": [
        {
          "output_type": "execute_result",
          "data": {
            "text/plain": [
              "(<tf.Tensor: shape=(10, 20), dtype=float32, numpy=\n",
              " array([[0., 0., 0., 0., 0., 0., 0., 0., 0., 0., 0., 1., 0., 0., 0., 0.,\n",
              "         0., 0., 0., 0.],\n",
              "        [0., 0., 0., 0., 0., 0., 0., 0., 0., 0., 0., 1., 0., 0., 0., 0.,\n",
              "         0., 0., 0., 0.],\n",
              "        [0., 0., 0., 0., 0., 0., 0., 0., 0., 0., 0., 1., 0., 0., 0., 0.,\n",
              "         0., 0., 0., 0.],\n",
              "        [0., 0., 0., 0., 0., 0., 0., 0., 0., 0., 0., 1., 0., 0., 0., 0.,\n",
              "         0., 0., 0., 0.],\n",
              "        [0., 0., 0., 0., 0., 0., 0., 0., 0., 0., 0., 1., 0., 0., 0., 0.,\n",
              "         0., 0., 0., 0.],\n",
              "        [0., 0., 0., 0., 0., 0., 0., 0., 0., 0., 0., 1., 0., 0., 0., 0.,\n",
              "         0., 0., 0., 0.],\n",
              "        [0., 0., 0., 0., 0., 0., 0., 0., 0., 0., 0., 1., 0., 0., 0., 0.,\n",
              "         0., 0., 0., 0.],\n",
              "        [0., 0., 0., 0., 0., 0., 0., 0., 0., 0., 0., 1., 0., 0., 0., 0.,\n",
              "         0., 0., 0., 0.],\n",
              "        [0., 0., 0., 0., 0., 0., 0., 0., 0., 0., 0., 1., 0., 0., 0., 0.,\n",
              "         0., 0., 0., 0.],\n",
              "        [0., 0., 0., 0., 0., 0., 0., 0., 0., 0., 0., 1., 0., 0., 0., 0.,\n",
              "         0., 0., 0., 0.]], dtype=float32)>, TensorShape([180040, 20]))"
            ]
          },
          "metadata": {},
          "execution_count": 114
        }
      ],
      "source": [
        "train_total_line_numbers_one_hot[:10],train_total_line_numbers_one_hot.shape"
      ]
    },
    {
      "cell_type": "code",
      "execution_count": 115,
      "metadata": {
        "id": "UCZDlA_eTVk4",
        "colab": {
          "base_uri": "https://localhost:8080/"
        },
        "outputId": "8b50c019-7767-4cca-b236-271c1c6188f5"
      },
      "outputs": [
        {
          "output_type": "execute_result",
          "data": {
            "text/plain": [
              "18.0"
            ]
          },
          "metadata": {},
          "execution_count": 115
        }
      ],
      "source": [
        "#check the coverage of a total_lines values of 20\n",
        "\n",
        "np.percentile(df_train.total_lines,95)"
      ]
    },
    {
      "cell_type": "markdown",
      "metadata": {
        "id": "htLy-0cLUNbx"
      },
      "source": [
        "### building a tribrid embedding model\n",
        "\n",
        "1. Create a token-level model\n",
        "2. Create a character-level model\n",
        "3. Create a model for the 'line_number' feature\n",
        "4. Create a model for the 'total_line' feature\n",
        "5. Combine the outputs of 1&2,\n",
        "6. Combine of t 3 4, 5 using tf.keras.layers.Concatenate\n",
        "7. Create an output layer to accept the tribird embedding and output label probabilities\n",
        "8. Combine the inputs of 1,2,3,4 and outputs into tf.keras.Model"
      ]
    },
    {
      "cell_type": "code",
      "execution_count": 139,
      "metadata": {
        "id": "n0q7MUFFUv40"
      },
      "outputs": [],
      "source": [
        "#1.\n",
        "token_inputs = layers.Input(shape = [], dtype = tf.string , name = 'token_inputs')\n",
        "token_embeddings = tf_hub_embedding_layer(token_inputs)\n",
        "token_outputs = layers.Dense(128, activation = 'relu')(token_embeddings)\n",
        "token_model = tf.keras.Model(inputs = token_inputs,\n",
        "                             outputs = token_outputs,\n",
        "                             name = 'token_model')\n",
        "\n",
        "#2.\n",
        "char_inputs = layers.Input(shape = (1,) , dtype = 'string' , name = 'char_inputs')\n",
        "char_vectors = char_vectorizer(char_inputs)\n",
        "char_embeddings = char_embed(char_vectors)\n",
        "char_outputs = layers.Bidirectional(layers.LSTM(32))(char_embeddings)\n",
        "char_model = tf.keras.Model(char_inputs,\n",
        "                            char_outputs,\n",
        "                            name ='char_model')\n",
        "\n",
        "#3.\n",
        "line_number_inputs = layers.Input(shape = (15,) , dtype = tf.int32, name = 'line_number_input')\n",
        "x = layers.Dense(32, activation = 'relu')(line_number_inputs)\n",
        "line_number_model = tf.keras.Model(inputs = line_number_inputs,\n",
        "                                    outputs = x)\n",
        "\n",
        "#4.\n",
        "\n",
        "total_lines_inputs = layers.Input(shape = (20,), dtype = tf.int32, name = 'total_line_inputs')\n",
        "y = layers.Dense(32, activation = 'relu')(total_lines_inputs)\n",
        "total_line_model = tf.keras.Model(inputs = total_lines_inputs,\n",
        "                                  outputs = y)\n",
        "\n",
        "#5. Combine token and char embedding into a hybrid embedding\n",
        "\n",
        "combined_embeddings = layers.Concatenate(name = 'char_token_hybrid_embedding')([token_model.output,\n",
        "                                                                                char_model.output])\n",
        "\n",
        "\n",
        "z = layers.Dense(256,activation = 'relu')(combined_embeddings)\n",
        "z = layers.Dropout(0.5)(z)\n",
        "\n",
        "#6 . COmbine positional embedding with combined token and char embeddings\n",
        "tribrid_embeddings = layers.Concatenate(name = 'char_token_position_embedding')([line_number_model.output,\n",
        "                                                                                 total_line_model.output,\n",
        "                                                                                 z])\n",
        "#7. Create output layer\n",
        "output_layer = layers.Dense(5,activation = 'softmax' , name = 'output_layer')(tribrid_embeddings)\n",
        "\n",
        "#8. Combine model\n",
        "\n",
        "model_5 = tf.keras.Model(inputs = [line_number_model.input,\n",
        "                                   total_line_model.input,\n",
        "                                   token_model.input,\n",
        "                                   char_model.input\n",
        "                                   ],\n",
        "                         outputs = output_layer,\n",
        "                         name = 'tribrid_embedding_model')"
      ]
    },
    {
      "cell_type": "code",
      "execution_count": 141,
      "metadata": {
        "id": "L0yIF_aWWWE_",
        "colab": {
          "base_uri": "https://localhost:8080/"
        },
        "outputId": "32def267-421d-477e-bae3-02e10fc4170f"
      },
      "outputs": [
        {
          "output_type": "stream",
          "name": "stdout",
          "text": [
            "Model: \"tribrid_embedding_model\"\n",
            "__________________________________________________________________________________________________\n",
            " Layer (type)                   Output Shape         Param #     Connected to                     \n",
            "==================================================================================================\n",
            " char_inputs (InputLayer)       [(None, 1)]          0           []                               \n",
            "                                                                                                  \n",
            " token_inputs (InputLayer)      [(None,)]            0           []                               \n",
            "                                                                                                  \n",
            " char_vectorizer (TextVectoriza  (None, 290)         0           ['char_inputs[0][0]']            \n",
            " tion)                                                                                            \n",
            "                                                                                                  \n",
            " universal_sentence_encoder (Ke  (None, 512)         256797824   ['token_inputs[0][0]']           \n",
            " rasLayer)                                                                                        \n",
            "                                                                                                  \n",
            " char_embed (Embedding)         (None, 290, 24)      672         ['char_vectorizer[3][0]']        \n",
            "                                                                                                  \n",
            " dense_11 (Dense)               (None, 128)          65664       ['universal_sentence_encoder[3][0\n",
            "                                                                 ]']                              \n",
            "                                                                                                  \n",
            " bidirectional_2 (Bidirectional  (None, 64)          14592       ['char_embed[0][0]']             \n",
            " )                                                                                                \n",
            "                                                                                                  \n",
            " char_token_hybrid_embedding (C  (None, 192)         0           ['dense_11[0][0]',               \n",
            " oncatenate)                                                      'bidirectional_2[0][0]']        \n",
            "                                                                                                  \n",
            " line_number_input (InputLayer)  [(None, 15)]        0           []                               \n",
            "                                                                                                  \n",
            " total_line_inputs (InputLayer)  [(None, 20)]        0           []                               \n",
            "                                                                                                  \n",
            " dense_14 (Dense)               (None, 256)          49408       ['char_token_hybrid_embedding[0][\n",
            "                                                                 0]']                             \n",
            "                                                                                                  \n",
            " dense_12 (Dense)               (None, 32)           512         ['line_number_input[0][0]']      \n",
            "                                                                                                  \n",
            " dense_13 (Dense)               (None, 32)           672         ['total_line_inputs[0][0]']      \n",
            "                                                                                                  \n",
            " dropout_3 (Dropout)            (None, 256)          0           ['dense_14[0][0]']               \n",
            "                                                                                                  \n",
            " char_token_position_embedding   (None, 320)         0           ['dense_12[0][0]',               \n",
            " (Concatenate)                                                    'dense_13[0][0]',               \n",
            "                                                                  'dropout_3[0][0]']              \n",
            "                                                                                                  \n",
            " output_layer (Dense)           (None, 5)            1605        ['char_token_position_embedding[0\n",
            "                                                                 ][0]']                           \n",
            "                                                                                                  \n",
            "==================================================================================================\n",
            "Total params: 256,930,949\n",
            "Trainable params: 133,125\n",
            "Non-trainable params: 256,797,824\n",
            "__________________________________________________________________________________________________\n"
          ]
        }
      ],
      "source": [
        "model_5.summary()"
      ]
    },
    {
      "cell_type": "code",
      "execution_count": 142,
      "metadata": {
        "id": "KV_jaUCXYmIw",
        "colab": {
          "base_uri": "https://localhost:8080/",
          "height": 856
        },
        "outputId": "8277303e-bca4-4587-fabc-2031459ab1ef"
      },
      "outputs": [
        {
          "output_type": "execute_result",
          "data": {
            "image/png": "[encoded data removed]",
            "text/plain": [
              "<IPython.core.display.Image object>"
            ]
          },
          "metadata": {},
          "execution_count": 142
        }
      ],
      "source": [
        "plot_model(model_5)"
      ]
    },
    {
      "cell_type": "markdown",
      "metadata": {
        "id": "XF9HoRBfZN6D"
      },
      "source": [
        "What is label smoothing?\n",
        "\n",
        "If our model gets too confident on a single class, it may get stuck on that class and not consider other classes.\n",
        "\n",
        "E.g. [0,0,1,0,0]\n",
        "\n",
        "what label smoothing does is it assigns some of the value from the highest pred prob to other classes in turn, hopefully, improving generalization [0.01,0.01,0.96,0.01,0.01]\n",
        "\n",
        "reference : https://www.pyimagesearch.com/2019/12/30/label-smoothing-with-keras-tensorflow-and-deep-learning/"
      ]
    },
    {
      "cell_type": "code",
      "execution_count": 143,
      "metadata": {
        "id": "sa4vXR4bYpNg"
      },
      "outputs": [],
      "source": [
        "model_5.compile(loss = tf.keras.losses.CategoricalCrossentropy(label_smoothing = 0.2),\n",
        "                optimizer = tf.keras.optimizers.Adam(),\n",
        "                metrics = ['accuracy'])"
      ]
    },
    {
      "cell_type": "code",
      "execution_count": 144,
      "metadata": {
        "id": "KJ7bcd2gZ8W6"
      },
      "outputs": [],
      "source": [
        "#Creating training and validation datasets\n",
        "\n",
        "train_char_token_pos_data = tf.data.Dataset.from_tensor_slices((train_line_numbers_one_hot,\n",
        "                                                                train_total_line_numbers_one_hot,\n",
        "                                                                train_sentences,\n",
        "                                                                train_chars))\n",
        "train_char_token_pos_labels = tf.data.Dataset.from_tensor_slices(train_labels_one_hot)\n",
        "train_char_token_pos_dataset = tf.data.Dataset.zip((train_char_token_pos_data,\n",
        "                                                    train_char_token_pos_labels))\n",
        "\n",
        "train_char_token_pos_dataset = train_char_token_pos_dataset.batch(32).prefetch(tf.data.AUTOTUNE)\n",
        "\n",
        "val_char_token_pos_data = tf.data.Dataset.from_tensor_slices((val_line_numbers_one_hot,\n",
        "                                                              val_total_line_numbers_one_hot,\n",
        "                                                              val_sentences,\n",
        "                                                              val_chars))\n",
        "val_char_token_pos_labels = tf.data.Dataset.from_tensor_slices(val_labels_one_hot)\n",
        "val_char_token_pos_dataset = tf.data.Dataset.zip((val_char_token_pos_data,\n",
        "                                                  val_char_token_pos_labels))\n",
        "\n",
        "val_char_token_pos_dataset = val_char_token_pos_dataset.batch(32).prefetch(tf.data.AUTOTUNE)\n",
        "\n",
        "\n",
        "test_char_token_pos_data = tf.data.Dataset.from_tensor_slices((test_line_numbers_one_hot,\n",
        "                                                               test_total_line_numbers_one_hot,\n",
        "                                                               test_sentences,\n",
        "                                                               test_chars))\n",
        "test_char_token_pos_labels = tf.data.Dataset.from_tensor_slices(test_labels_one_hot)\n",
        "test_char_token_pos_dataset = tf.data.Dataset.zip((test_char_token_pos_data,\n",
        "                                                    test_char_token_pos_labels))\n",
        "\n",
        "test_char_token_pos_dataset = test_char_token_pos_dataset.batch(32).prefetch(tf.data.AUTOTUNE)"
      ]
    },
    {
      "cell_type": "code",
      "execution_count": 145,
      "metadata": {
        "id": "E2uwETNPcqK2",
        "colab": {
          "base_uri": "https://localhost:8080/"
        },
        "outputId": "edd28163-ba86-4eb3-f2ac-59e0fdb95fe5"
      },
      "outputs": [
        {
          "output_type": "execute_result",
          "data": {
            "text/plain": [
              "(<PrefetchDataset shapes: (((None, 15), (None, 20), (None,), (None,)), (None, 5)), types: ((tf.float32, tf.float32, tf.string, tf.string), tf.float64)>,\n",
              " <PrefetchDataset shapes: (((None, 15), (None, 20), (None,), (None,)), (None, 5)), types: ((tf.float32, tf.float32, tf.string, tf.string), tf.float64)>)"
            ]
          },
          "metadata": {},
          "execution_count": 145
        }
      ],
      "source": [
        "train_char_token_pos_dataset, test_char_token_pos_dataset"
      ]
    },
    {
      "cell_type": "code",
      "source": [
        "earlystopping = tf.keras.callbacks.EarlyStopping(min_delta = 0.01,monitor = 'val_accuracy', verbose = 1)"
      ],
      "metadata": {
        "id": "0Un8XlskGWCi"
      },
      "execution_count": 146,
      "outputs": []
    },
    {
      "cell_type": "code",
      "execution_count": 147,
      "metadata": {
        "id": "jgFS77SlamWu",
        "colab": {
          "base_uri": "https://localhost:8080/"
        },
        "outputId": "362789dd-cb2b-41cb-840e-4d75db33d866"
      },
      "outputs": [
        {
          "output_type": "stream",
          "name": "stdout",
          "text": [
            "Saving TensorBoard log files to: milestone_2/token and char pos model/20220120-153243\n",
            "Epoch 1/5\n",
            "562/562 [==============================] - 24s 36ms/step - loss: 1.1051 - accuracy: 0.7137 - val_loss: 0.9869 - val_accuracy: 0.8042\n",
            "Epoch 2/5\n",
            "562/562 [==============================] - 19s 34ms/step - loss: 0.9714 - accuracy: 0.8122 - val_loss: 0.9552 - val_accuracy: 0.8238\n",
            "Epoch 3/5\n",
            "562/562 [==============================] - 20s 35ms/step - loss: 0.9535 - accuracy: 0.8202 - val_loss: 0.9424 - val_accuracy: 0.8278\n",
            "Epoch 4/5\n",
            "562/562 [==============================] - 20s 35ms/step - loss: 0.9419 - accuracy: 0.8321 - val_loss: 0.9322 - val_accuracy: 0.8328\n",
            "Epoch 5/5\n",
            "562/562 [==============================] - 19s 34ms/step - loss: 0.9384 - accuracy: 0.8341 - val_loss: 0.9268 - val_accuracy: 0.8391\n"
          ]
        }
      ],
      "source": [
        "model_5_history = model_5.fit(train_char_token_pos_dataset,\n",
        "                              steps_per_epoch = int(0.1*len(train_char_token_pos_dataset)),\n",
        "                              epochs = 5,\n",
        "                              validation_data = val_char_token_pos_dataset,\n",
        "                              validation_steps = int(0.1*len(val_char_token_pos_dataset)),\n",
        "                              callbacks = [create_tensorboard_callback(dir_name = dir_name,\n",
        "                                                                       experiment_name = 'token and char pos model')])"
      ]
    },
    {
      "cell_type": "code",
      "execution_count": 123,
      "metadata": {
        "id": "u0p1IeuXeZdH"
      },
      "outputs": [],
      "source": [
        "model_5_results = model_results(model_5,\n",
        "                                y_true = val_labels_encoded,\n",
        "                                validation_data = val_char_token_pos_dataset)"
      ]
    },
    {
      "cell_type": "code",
      "execution_count": 124,
      "metadata": {
        "id": "2WWr3j3ceuqe",
        "colab": {
          "base_uri": "https://localhost:8080/"
        },
        "outputId": "01746d53-a04c-4443-b5a7-6f60bfc97fc9"
      },
      "outputs": [
        {
          "output_type": "execute_result",
          "data": {
            "text/plain": [
              "{'accuracy': 84.16192241493447,\n",
              " 'f1': 0.8379559962614095,\n",
              " 'precision': 0.8442436644753223,\n",
              " 'recall': 0.8416192241493446}"
            ]
          },
          "metadata": {},
          "execution_count": 124
        }
      ],
      "source": [
        "model_5_results"
      ]
    },
    {
      "cell_type": "code",
      "source": [
        "plot_loss_curves(model_5_history)"
      ],
      "metadata": {
        "id": "K1e-NbD8DO3P",
        "colab": {
          "base_uri": "https://localhost:8080/",
          "height": 573
        },
        "outputId": "a95d3b34-5fdd-4202-ae0b-5f1acd7df4cf"
      },
      "execution_count": 125,
      "outputs": [
        {
          "output_type": "display_data",
          "data": {
            "image/png": "[encoded data removed]",
            "text/plain": [
              "<Figure size 432x288 with 1 Axes>"
            ]
          },
          "metadata": {
            "needs_background": "light"
          }
        },
        {
          "output_type": "display_data",
          "data": {
            "image/png": "[encoded data removed]",
            "text/plain": [
              "<Figure size 432x288 with 1 Axes>"
            ]
          },
          "metadata": {
            "needs_background": "light"
          }
        }
      ]
    },
    {
      "cell_type": "code",
      "source": [
        "model_5_history.epoch[-1]"
      ],
      "metadata": {
        "colab": {
          "base_uri": "https://localhost:8080/"
        },
        "id": "QflokARhHwNO",
        "outputId": "6a615006-91a2-4029-87df-5553dbf6085b"
      },
      "execution_count": 149,
      "outputs": [
        {
          "output_type": "execute_result",
          "data": {
            "text/plain": [
              "4"
            ]
          },
          "metadata": {},
          "execution_count": 149
        }
      ]
    },
    {
      "cell_type": "code",
      "source": [
        "model_5_history_2 = model_5.fit(train_char_token_pos_dataset,\n",
        "                                steps_per_epoch = int(0.1*len(train_char_token_pos_dataset)),\n",
        "                                epochs = 5,\n",
        "                                initial_epoch = model_5_history.epoch[-1],\n",
        "                                validation_data = val_char_token_pos_dataset,\n",
        "                                validation_steps = int(0.1*len(val_char_token_pos_dataset)),\n",
        "                                callbacks = [create_tensorboard_callback(dir_name = dir_name,\n",
        "                                                                        experiment_name = 'token and char pos model'),\n",
        "                                             earlystopping])"
      ],
      "metadata": {
        "colab": {
          "base_uri": "https://localhost:8080/"
        },
        "id": "nY5luotS-uJZ",
        "outputId": "fa29fa5b-9a47-41d7-b20b-c9ab7216c88d"
      },
      "execution_count": 155,
      "outputs": [
        {
          "output_type": "stream",
          "name": "stdout",
          "text": [
            "Saving TensorBoard log files to: milestone_2/token and char pos model/20220120-153645\n",
            "Epoch 5/5\n",
            "562/562 [==============================] - 20s 35ms/step - loss: 0.9354 - accuracy: 0.8356 - val_loss: 0.9206 - val_accuracy: 0.8444\n",
            "Epoch 00005: early stopping\n"
          ]
        }
      ]
    },
    {
      "cell_type": "code",
      "source": [
        "plot_loss_curves(model_5_history_2)"
      ],
      "metadata": {
        "colab": {
          "base_uri": "https://localhost:8080/",
          "height": 573
        },
        "id": "r3oRm8TC--iV",
        "outputId": "7e4ac983-9fa9-4e10-c164-fa6181c6a107"
      },
      "execution_count": 156,
      "outputs": [
        {
          "output_type": "display_data",
          "data": {
            "image/png": "[encoded data removed]",
            "text/plain": [
              "<Figure size 432x288 with 1 Axes>"
            ]
          },
          "metadata": {
            "needs_background": "light"
          }
        },
        {
          "output_type": "display_data",
          "data": {
            "image/png": "[encoded data removed]",
            "text/plain": [
              "<Figure size 432x288 with 1 Axes>"
            ]
          },
          "metadata": {
            "needs_background": "light"
          }
        }
      ]
    },
    {
      "cell_type": "code",
      "source": [
        "all_model_results = pd.DataFrame({'model_0_baseline':baseline_results,\n",
        "                                  'model_1_custom_token_embedding':model_1_results,\n",
        "                                  'model_2_pretrained_token_embedding':model_2_results,\n",
        "                                  'model_3_custom_char_embedding':model_3_results,\n",
        "                                  'model_4_hybrid_char_token_embedding':model_4_results,\n",
        "                                  'model_5_pos_char_token_embedding':model_5_results})"
      ],
      "metadata": {
        "id": "vrIcgHQ7_N3w"
      },
      "execution_count": 157,
      "outputs": []
    },
    {
      "cell_type": "code",
      "source": [
        "all_model_results = all_model_results.T"
      ],
      "metadata": {
        "id": "SQa9GuKN_tnP"
      },
      "execution_count": 158,
      "outputs": []
    },
    {
      "cell_type": "code",
      "source": [
        "all_model_results"
      ],
      "metadata": {
        "colab": {
          "base_uri": "https://localhost:8080/",
          "height": 237
        },
        "id": "Wh42npoKA55F",
        "outputId": "336d7c39-c599-4001-91d3-451a868e5cae"
      },
      "execution_count": 159,
      "outputs": [
        {
          "output_type": "execute_result",
          "data": {
            "text/html": [
              "\n",
              "  <div id=\"df-2211ff0b-a5a4-4031-aaf5-483e1c04aa87\">\n",
              "    <div class=\"colab-df-container\">\n",
              "      <div>\n",
              "<style scoped>\n",
              "    .dataframe tbody tr th:only-of-type {\n",
              "        vertical-align: middle;\n",
              "    }\n",
              "\n",
              "    .dataframe tbody tr th {\n",
              "        vertical-align: top;\n",
              "    }\n",
              "\n",
              "    .dataframe thead th {\n",
              "        text-align: right;\n",
              "    }\n",
              "</style>\n",
              "<table border=\"1\" class=\"dataframe\">\n",
              "  <thead>\n",
              "    <tr style=\"text-align: right;\">\n",
              "      <th></th>\n",
              "      <th>accuracy</th>\n",
              "      <th>precision</th>\n",
              "      <th>recall</th>\n",
              "      <th>f1</th>\n",
              "    </tr>\n",
              "  </thead>\n",
              "  <tbody>\n",
              "    <tr>\n",
              "      <th>model_0_baseline</th>\n",
              "      <td>72.183238</td>\n",
              "      <td>0.718647</td>\n",
              "      <td>0.721832</td>\n",
              "      <td>0.698925</td>\n",
              "    </tr>\n",
              "    <tr>\n",
              "      <th>model_1_custom_token_embedding</th>\n",
              "      <td>80.223090</td>\n",
              "      <td>0.804209</td>\n",
              "      <td>0.802231</td>\n",
              "      <td>0.799211</td>\n",
              "    </tr>\n",
              "    <tr>\n",
              "      <th>model_2_pretrained_token_embedding</th>\n",
              "      <td>73.361578</td>\n",
              "      <td>0.730099</td>\n",
              "      <td>0.733616</td>\n",
              "      <td>0.728076</td>\n",
              "    </tr>\n",
              "    <tr>\n",
              "      <th>model_3_custom_char_embedding</th>\n",
              "      <td>64.212896</td>\n",
              "      <td>0.629471</td>\n",
              "      <td>0.642129</td>\n",
              "      <td>0.630302</td>\n",
              "    </tr>\n",
              "    <tr>\n",
              "      <th>model_4_hybrid_char_token_embedding</th>\n",
              "      <td>74.245333</td>\n",
              "      <td>0.740655</td>\n",
              "      <td>0.742453</td>\n",
              "      <td>0.736293</td>\n",
              "    </tr>\n",
              "    <tr>\n",
              "      <th>model_5_pos_char_token_embedding</th>\n",
              "      <td>84.161922</td>\n",
              "      <td>0.844244</td>\n",
              "      <td>0.841619</td>\n",
              "      <td>0.837956</td>\n",
              "    </tr>\n",
              "  </tbody>\n",
              "</table>\n",
              "</div>\n",
              "      <button class=\"colab-df-convert\" onclick=\"convertToInteractive('df-2211ff0b-a5a4-4031-aaf5-483e1c04aa87')\"\n",
              "              title=\"Convert this dataframe to an interactive table.\"\n",
              "              style=\"display:none;\">\n",
              "        \n",
              "  <svg xmlns=\"http://www.w3.org/2000/svg\" height=\"24px\"viewBox=\"0 0 24 24\"\n",
              "       width=\"24px\">\n",
              "    <path d=\"M0 0h24v24H0V0z\" fill=\"none\"/>\n",
              "    <path d=\"M18.56 5.44l.94 2.06.94-2.06 2.06-.94-2.06-.94-.94-2.06-.94 2.06-2.06.94zm-11 1L8.5 8.5l.94-2.06 2.06-.94-2.06-.94L8.5 2.5l-.94 2.06-2.06.94zm10 10l.94 2.06.94-2.06 2.06-.94-2.06-.94-.94-2.06-.94 2.06-2.06.94z\"/><path d=\"M17.41 7.96l-1.37-1.37c-.4-.4-.92-.59-1.43-.59-.52 0-1.04.2-1.43.59L10.3 9.45l-7.72 7.72c-.78.78-.78 2.05 0 2.83L4 21.41c.39.39.9.59 1.41.59.51 0 1.02-.2 1.41-.59l7.78-7.78 2.81-2.81c.8-.78.8-2.07 0-2.86zM5.41 20L4 18.59l7.72-7.72 1.47 1.35L5.41 20z\"/>\n",
              "  </svg>\n",
              "      </button>\n",
              "      \n",
              "  <style>\n",
              "    .colab-df-container {\n",
              "      display:flex;\n",
              "      flex-wrap:wrap;\n",
              "      gap: 12px;\n",
              "    }\n",
              "\n",
              "    .colab-df-convert {\n",
              "      background-color: #E8F0FE;\n",
              "      border: none;\n",
              "      border-radius: 50%;\n",
              "      cursor: pointer;\n",
              "      display: none;\n",
              "      fill: #1967D2;\n",
              "      height: 32px;\n",
              "      padding: 0 0 0 0;\n",
              "      width: 32px;\n",
              "    }\n",
              "\n",
              "    .colab-df-convert:hover {\n",
              "      background-color: #E2EBFA;\n",
              "      box-shadow: 0px 1px 2px rgba(60, 64, 67, 0.3), 0px 1px 3px 1px rgba(60, 64, 67, 0.15);\n",
              "      fill: #174EA6;\n",
              "    }\n",
              "\n",
              "    [theme=dark] .colab-df-convert {\n",
              "      background-color: #3B4455;\n",
              "      fill: #D2E3FC;\n",
              "    }\n",
              "\n",
              "    [theme=dark] .colab-df-convert:hover {\n",
              "      background-color: #434B5C;\n",
              "      box-shadow: 0px 1px 3px 1px rgba(0, 0, 0, 0.15);\n",
              "      filter: drop-shadow(0px 1px 2px rgba(0, 0, 0, 0.3));\n",
              "      fill: #FFFFFF;\n",
              "    }\n",
              "  </style>\n",
              "\n",
              "      <script>\n",
              "        const buttonEl =\n",
              "          document.querySelector('#df-2211ff0b-a5a4-4031-aaf5-483e1c04aa87 button.colab-df-convert');\n",
              "        buttonEl.style.display =\n",
              "          google.colab.kernel.accessAllowed ? 'block' : 'none';\n",
              "\n",
              "        async function convertToInteractive(key) {\n",
              "          const element = document.querySelector('#df-2211ff0b-a5a4-4031-aaf5-483e1c04aa87');\n",
              "          const dataTable =\n",
              "            await google.colab.kernel.invokeFunction('convertToInteractive',\n",
              "                                                     [key], {});\n",
              "          if (!dataTable) return;\n",
              "\n",
              "          const docLinkHtml = 'Like what you see? Visit the ' +\n",
              "            '<a target=\"_blank\" href=https://colab.research.google.com/notebooks/data_table.ipynb>data table notebook</a>'\n",
              "            + ' to learn more about interactive tables.';\n",
              "          element.innerHTML = '';\n",
              "          dataTable['output_type'] = 'display_data';\n",
              "          await google.colab.output.renderOutput(dataTable, element);\n",
              "          const docLink = document.createElement('div');\n",
              "          docLink.innerHTML = docLinkHtml;\n",
              "          element.appendChild(docLink);\n",
              "        }\n",
              "      </script>\n",
              "    </div>\n",
              "  </div>\n",
              "  "
            ],
            "text/plain": [
              "                                      accuracy  precision    recall        f1\n",
              "model_0_baseline                     72.183238   0.718647  0.721832  0.698925\n",
              "model_1_custom_token_embedding       80.223090   0.804209  0.802231  0.799211\n",
              "model_2_pretrained_token_embedding   73.361578   0.730099  0.733616  0.728076\n",
              "model_3_custom_char_embedding        64.212896   0.629471  0.642129  0.630302\n",
              "model_4_hybrid_char_token_embedding  74.245333   0.740655  0.742453  0.736293\n",
              "model_5_pos_char_token_embedding     84.161922   0.844244  0.841619  0.837956"
            ]
          },
          "metadata": {},
          "execution_count": 159
        }
      ]
    },
    {
      "cell_type": "code",
      "source": [
        "all_model_results['accuracy'] = all_model_results['accuracy']/100"
      ],
      "metadata": {
        "id": "MMwngzrpAAdf"
      },
      "execution_count": 160,
      "outputs": []
    },
    {
      "cell_type": "code",
      "source": [
        "all_model_results.sort_values(by = 'f1')['f1'].plot(kind = 'bar' , figsize = (16,9)) "
      ],
      "metadata": {
        "colab": {
          "base_uri": "https://localhost:8080/",
          "height": 747
        },
        "id": "fniA9c4bAj2v",
        "outputId": "80989858-073d-4dba-f6ed-e15373523f75"
      },
      "execution_count": 161,
      "outputs": [
        {
          "output_type": "execute_result",
          "data": {
            "text/plain": [
              "<matplotlib.axes._subplots.AxesSubplot at 0x7f9938485e50>"
            ]
          },
          "metadata": {},
          "execution_count": 161
        },
        {
          "output_type": "display_data",
          "data": {
            "image/png": "[encoded data removed]",
            "text/plain": [
              "<Figure size 1152x648 with 1 Axes>"
            ]
          },
          "metadata": {
            "needs_background": "light"
          }
        }
      ]
    },
    {
      "cell_type": "code",
      "source": [
        "model_filepath = 'skimlit_model'\n",
        "model_5.save(model_filepath)"
      ],
      "metadata": {
        "colab": {
          "base_uri": "https://localhost:8080/"
        },
        "id": "-5h2RNfRAxVY",
        "outputId": "91b28280-84b8-45dc-8491-8d46713dcd4e"
      },
      "execution_count": 162,
      "outputs": [
        {
          "output_type": "stream",
          "name": "stderr",
          "text": [
            "WARNING:absl:Found untraced functions such as lstm_cell_10_layer_call_fn, lstm_cell_10_layer_call_and_return_conditional_losses, lstm_cell_11_layer_call_fn, lstm_cell_11_layer_call_and_return_conditional_losses, lstm_cell_10_layer_call_fn while saving (showing 5 of 10). These functions will not be directly callable after loading.\n"
          ]
        },
        {
          "output_type": "stream",
          "name": "stdout",
          "text": [
            "INFO:tensorflow:Assets written to: skimlit_model/assets\n"
          ]
        },
        {
          "output_type": "stream",
          "name": "stderr",
          "text": [
            "INFO:tensorflow:Assets written to: skimlit_model/assets\n",
            "WARNING:absl:<keras.layers.recurrent.LSTMCell object at 0x7f982513d390> has the same name 'LSTMCell' as a built-in Keras object. Consider renaming <class 'keras.layers.recurrent.LSTMCell'> to avoid naming conflicts when loading with `tf.keras.models.load_model`. If renaming is not possible, pass the object in the `custom_objects` parameter of the load function.\n",
            "WARNING:absl:<keras.layers.recurrent.LSTMCell object at 0x7f9825122bd0> has the same name 'LSTMCell' as a built-in Keras object. Consider renaming <class 'keras.layers.recurrent.LSTMCell'> to avoid naming conflicts when loading with `tf.keras.models.load_model`. If renaming is not possible, pass the object in the `custom_objects` parameter of the load function.\n"
          ]
        }
      ]
    },
    {
      "cell_type": "code",
      "source": [
        "loaded_model = tf.keras.models.load_model(model_filepath)"
      ],
      "metadata": {
        "id": "MFc89FH4BTWz"
      },
      "execution_count": 163,
      "outputs": []
    },
    {
      "cell_type": "code",
      "source": [
        "loaded_model.evaluate(val_char_token_pos_dataset)"
      ],
      "metadata": {
        "colab": {
          "base_uri": "https://localhost:8080/"
        },
        "id": "yItbiG39Bi7s",
        "outputId": "26346907-a5de-4024-e207-b171ce7fcbb8"
      },
      "execution_count": 164,
      "outputs": [
        {
          "output_type": "stream",
          "name": "stdout",
          "text": [
            "945/945 [==============================] - 143s 150ms/step - loss: 0.9225 - accuracy: 0.8412\n"
          ]
        },
        {
          "output_type": "execute_result",
          "data": {
            "text/plain": [
              "[0.922524631023407, 0.8411558270454407]"
            ]
          },
          "metadata": {},
          "execution_count": 164
        }
      ]
    },
    {
      "cell_type": "code",
      "source": [
        "loaded_model.summary()"
      ],
      "metadata": {
        "colab": {
          "base_uri": "https://localhost:8080/"
        },
        "id": "Fq9dvwh4I2LI",
        "outputId": "b281e0a8-841c-4e61-9c8f-3a6ad04a9b9a"
      },
      "execution_count": 165,
      "outputs": [
        {
          "output_type": "stream",
          "name": "stdout",
          "text": [
            "Model: \"tribrid_embedding_model\"\n",
            "__________________________________________________________________________________________________\n",
            " Layer (type)                   Output Shape         Param #     Connected to                     \n",
            "==================================================================================================\n",
            " char_inputs (InputLayer)       [(None, 1)]          0           []                               \n",
            "                                                                                                  \n",
            " token_inputs (InputLayer)      [(None,)]            0           []                               \n",
            "                                                                                                  \n",
            " char_vectorizer (TextVectoriza  (None, None)        0           ['char_inputs[0][0]']            \n",
            " tion)                                                                                            \n",
            "                                                                                                  \n",
            " universal_sentence_encoder (Ke  (None, 512)         256797824   ['token_inputs[0][0]']           \n",
            " rasLayer)                                                                                        \n",
            "                                                                                                  \n",
            " char_embed (Embedding)         (None, None, 24)     672         ['char_vectorizer[0][0]']        \n",
            "                                                                                                  \n",
            " dense_11 (Dense)               (None, 128)          65664       ['universal_sentence_encoder[0][0\n",
            "                                                                 ]']                              \n",
            "                                                                                                  \n",
            " bidirectional_2 (Bidirectional  (None, 64)          14592       ['char_embed[0][0]']             \n",
            " )                                                                                                \n",
            "                                                                                                  \n",
            " char_token_hybrid_embedding (C  (None, 192)         0           ['dense_11[0][0]',               \n",
            " oncatenate)                                                      'bidirectional_2[0][0]']        \n",
            "                                                                                                  \n",
            " line_number_input (InputLayer)  [(None, 15)]        0           []                               \n",
            "                                                                                                  \n",
            " total_line_inputs (InputLayer)  [(None, 20)]        0           []                               \n",
            "                                                                                                  \n",
            " dense_14 (Dense)               (None, 256)          49408       ['char_token_hybrid_embedding[0][\n",
            "                                                                 0]']                             \n",
            "                                                                                                  \n",
            " dense_12 (Dense)               (None, 32)           512         ['line_number_input[0][0]']      \n",
            "                                                                                                  \n",
            " dense_13 (Dense)               (None, 32)           672         ['total_line_inputs[0][0]']      \n",
            "                                                                                                  \n",
            " dropout_3 (Dropout)            (None, 256)          0           ['dense_14[0][0]']               \n",
            "                                                                                                  \n",
            " char_token_position_embedding   (None, 320)         0           ['dense_12[0][0]',               \n",
            " (Concatenate)                                                    'dense_13[0][0]',               \n",
            "                                                                  'dropout_3[0][0]']              \n",
            "                                                                                                  \n",
            " output_layer (Dense)           (None, 5)            1605        ['char_token_position_embedding[0\n",
            "                                                                 ][0]']                           \n",
            "                                                                                                  \n",
            "==================================================================================================\n",
            "Total params: 256,930,949\n",
            "Trainable params: 133,125\n",
            "Non-trainable params: 256,797,824\n",
            "__________________________________________________________________________________________________\n"
          ]
        }
      ]
    },
    {
      "cell_type": "code",
      "source": [
        "pred_probs = loaded_model.predict(test_char_token_pos_dataset)"
      ],
      "metadata": {
        "id": "2w5opGL1J36C"
      },
      "execution_count": 170,
      "outputs": []
    },
    {
      "cell_type": "code",
      "source": [
        "test_summary = pd.DataFrame({'test_sentences':test_sentences,\n",
        "                             'true_label':test_labels_encoded,\n",
        "                             'predicted_labels':np.argmax(pred_probs,axis = 1),\n",
        "                             'true_class_label':[class_names[i] for i in test_labels_encoded],\n",
        "                             'pred_class_label':[class_names[i] for i in np.argmax(pred_probs, axis = 1)],\n",
        "                             'pred_probs':np.max(pred_probs, axis = 1)})"
      ],
      "metadata": {
        "id": "t4CbC0wzL2l9"
      },
      "execution_count": 186,
      "outputs": []
    },
    {
      "cell_type": "code",
      "source": [
        "test_summary['wrong_predictions'] = test_summary.true_label != test_summary.predicted_labels"
      ],
      "metadata": {
        "id": "-Fa9vGGeMd6F"
      },
      "execution_count": 188,
      "outputs": []
    },
    {
      "cell_type": "code",
      "source": [
        "mask = test_summary['wrong_predictions'] == True\n",
        "top_10_wrong_predictions = test_summary[mask].sort_values(by = 'pred_probs' , ascending = False).head(10)"
      ],
      "metadata": {
        "id": "x95YQIsrMpwH"
      },
      "execution_count": 194,
      "outputs": []
    },
    {
      "cell_type": "code",
      "source": [
        "for row in top_10_wrong_predictions.itertuples():\n",
        "  _,sentence,_,_,true_label,predicted_label,pred_probs,_ = row\n",
        "  print(f'text : {sentence}\\n')\n",
        "  print(f'predicted label:{predicted_label}\\n')\n",
        "  print(f'actual label:{true_label}\\n')\n",
        "  print(f'prediction prob {pred_probs}')\n",
        "  print(f'---------------------------------------------------------------------------------------------------------------------------------------------\\n')"
      ],
      "metadata": {
        "colab": {
          "base_uri": "https://localhost:8080/"
        },
        "id": "Kt0n5Db6PWTW",
        "outputId": "878fe116-6540-4033-e138-fbe3638f0236"
      },
      "execution_count": 203,
      "outputs": [
        {
          "output_type": "stream",
          "name": "stdout",
          "text": [
            "text : the primary endpoint is the cumulative three-year hiv incidence .\n",
            "\n",
            "predicted label:METHODS\n",
            "\n",
            "actual label:RESULTS\n",
            "\n",
            "prediction prob 0.955270528793335\n",
            "---------------------------------------------------------------------------------------------------------------------------------------------\n",
            "\n",
            "text : symptom outcomes will be assessed and estimates of cost-effectiveness made .\n",
            "\n",
            "predicted label:METHODS\n",
            "\n",
            "actual label:CONCLUSIONS\n",
            "\n",
            "prediction prob 0.9543365836143494\n",
            "---------------------------------------------------------------------------------------------------------------------------------------------\n",
            "\n",
            "text : pretest-posttest .\n",
            "\n",
            "predicted label:BACKGROUND\n",
            "\n",
            "actual label:METHODS\n",
            "\n",
            "prediction prob 0.9366855025291443\n",
            "---------------------------------------------------------------------------------------------------------------------------------------------\n",
            "\n",
            "text : repeated measures analysis of variance ( anova ) tests were conducted to examine the differences across conditions and time .\n",
            "\n",
            "predicted label:METHODS\n",
            "\n",
            "actual label:RESULTS\n",
            "\n",
            "prediction prob 0.934567391872406\n",
            "---------------------------------------------------------------------------------------------------------------------------------------------\n",
            "\n",
            "text : non-diffuse-trickling '' ) .\n",
            "\n",
            "predicted label:BACKGROUND\n",
            "\n",
            "actual label:RESULTS\n",
            "\n",
            "prediction prob 0.9283050298690796\n",
            "---------------------------------------------------------------------------------------------------------------------------------------------\n",
            "\n",
            "text : family practices were randomly assigned to receive the educational toolkit in june @ ( intervention group ) or may @ ( control group ) .\n",
            "\n",
            "predicted label:METHODS\n",
            "\n",
            "actual label:RESULTS\n",
            "\n",
            "prediction prob 0.9273640513420105\n",
            "---------------------------------------------------------------------------------------------------------------------------------------------\n",
            "\n",
            "text : -lsb- netherlands trial register ( http://www.trialregister.nl/trialreg/index.asp ) , nr @ , date of registration @ december @ . -rsb-\n",
            "\n",
            "predicted label:BACKGROUND\n",
            "\n",
            "actual label:CONCLUSIONS\n",
            "\n",
            "prediction prob 0.9259635806083679\n",
            "---------------------------------------------------------------------------------------------------------------------------------------------\n",
            "\n",
            "text : a cluster randomised trial was implemented with @,@ children in @ government primary schools on the south coast of kenya in @-@ .\n",
            "\n",
            "predicted label:METHODS\n",
            "\n",
            "actual label:RESULTS\n",
            "\n",
            "prediction prob 0.9255701303482056\n",
            "---------------------------------------------------------------------------------------------------------------------------------------------\n",
            "\n",
            "text : data were analyzed at baseline and longitudinally .\n",
            "\n",
            "predicted label:METHODS\n",
            "\n",
            "actual label:RESULTS\n",
            "\n",
            "prediction prob 0.9249098896980286\n",
            "---------------------------------------------------------------------------------------------------------------------------------------------\n",
            "\n",
            "text : patients were randomly assigned to receive either moxonidine ( @-@ @ mg daily ) or placebo , along with standard antihypertensive treatment .\n",
            "\n",
            "predicted label:METHODS\n",
            "\n",
            "actual label:RESULTS\n",
            "\n",
            "prediction prob 0.92219078540802\n",
            "---------------------------------------------------------------------------------------------------------------------------------------------\n",
            "\n"
          ]
        }
      ]
    },
    {
      "cell_type": "code",
      "source": [
        ""
      ],
      "metadata": {
        "id": "1MvimHZbPrws"
      },
      "execution_count": null,
      "outputs": []
    }
  ],
  "metadata": {
    "accelerator": "GPU",
    "colab": {
      "name": "09 - skimlit-milestone_project_2.ipynb",
      "provenance": [],
      "authorship_tag": "ABX9TyORCXyW0100BLMVfkNyCMaL",
      "include_colab_link": true
    },
    "kernelspec": {
      "display_name": "Python 3",
      "name": "python3"
    },
    "language_info": {
      "name": "python"
    }
  },
  "nbformat": 4,
  "nbformat_minor": 0
}