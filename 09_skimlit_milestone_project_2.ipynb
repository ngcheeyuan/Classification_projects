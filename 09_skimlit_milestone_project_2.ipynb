{
  "nbformat": 4,
  "nbformat_minor": 0,
  "metadata": {
    "colab": {
      "name": "09 - skimlit-milestone_project_2.ipynb",
      "provenance": [],
      "authorship_tag": "ABX9TyMYJphjO6LE7jQJ2iVAbCWh",
      "include_colab_link": true
    },
    "kernelspec": {
      "name": "python3",
      "display_name": "Python 3"
    },
    "language_info": {
      "name": "python"
    }
  },
  "cells": [
    {
      "cell_type": "markdown",
      "metadata": {
        "id": "view-in-github",
        "colab_type": "text"
      },
      "source": [
        "<a href=\"https://colab.research.google.com/github/ngcheeyuan/Classification_projects/blob/main/09_skimlit_milestone_project_2.ipynb\" target=\"_parent\"><img src=\"https://colab.research.google.com/assets/colab-badge.svg\" alt=\"Open In Colab\"/></a>"
      ]
    },
    {
      "cell_type": "markdown",
      "source": [
        "## Skimlit sequence problem : many to one"
      ],
      "metadata": {
        "id": "0w77Tg5Ra2H3"
      }
    },
    {
      "cell_type": "code",
      "source": [
        ""
      ],
      "metadata": {
        "id": "W02Gw5ztNf1z"
      },
      "execution_count": null,
      "outputs": []
    }
  ]
}