{
  "cells": [
    {
      "cell_type": "markdown",
      "metadata": {
        "id": "view-in-github",
        "colab_type": "text"
      },
      "source": [
        "<a href=\"https://colab.research.google.com/github/ngcheeyuan/Classification_projects/blob/main/09_skimlit_milestone_project_2.ipynb\" target=\"_parent\"><img src=\"https://colab.research.google.com/assets/colab-badge.svg\" alt=\"Open In Colab\"/></a>"
      ]
    },
    {
      "cell_type": "markdown",
      "metadata": {
        "id": "0w77Tg5Ra2H3"
      },
      "source": [
        "## Skimlit:\n",
        "\n",
        "The purpose of this notebook is to build an NLP model to make reading medical abstracts easier.\n",
        "\n",
        "The paper we're replicating can be found here : https://arxiv.org/abs/1710.06071\n",
        "\n",
        "And the model architecture that they used to achieve their best results is available here : https://arxiv.org/abs/1612.05251"
      ]
    },
    {
      "cell_type": "code",
      "execution_count": null,
      "metadata": {
        "colab": {
          "base_uri": "https://localhost:8080/"
        },
        "id": "W02Gw5ztNf1z",
        "outputId": "18dd333a-92c9-4057-de62-78ebf41021fa"
      },
      "outputs": [
        {
          "name": "stdout",
          "output_type": "stream",
          "text": [
            "NVIDIA-SMI has failed because it couldn't communicate with the NVIDIA driver. Make sure that the latest NVIDIA driver is installed and running.\n",
            "\n"
          ]
        }
      ],
      "source": [
        "!nvidia-smi"
      ]
    },
    {
      "cell_type": "markdown",
      "metadata": {
        "id": "Ru-P1c6-P52n"
      },
      "source": [
        "## Get Data : \n",
        "\n",
        "https://github.com/Franck-Dernoncourt/pubmed-rct"
      ]
    },
    {
      "cell_type": "code",
      "execution_count": null,
      "metadata": {
        "colab": {
          "base_uri": "https://localhost:8080/"
        },
        "id": "oYR5j7GGQSm9",
        "outputId": "32372325-45e9-422f-db60-5ce545a7a25c"
      },
      "outputs": [
        {
          "name": "stdout",
          "output_type": "stream",
          "text": [
            "Cloning into 'pubmed-rct'...\n",
            "remote: Enumerating objects: 33, done.\u001b[K\n",
            "remote: Counting objects: 100% (3/3), done.\u001b[K\n",
            "remote: Compressing objects: 100% (3/3), done.\u001b[K\n",
            "remote: Total 33 (delta 0), reused 0 (delta 0), pack-reused 30\u001b[K\n",
            "Unpacking objects: 100% (33/33), done.\n",
            "PubMed_200k_RCT\n",
            "PubMed_200k_RCT_numbers_replaced_with_at_sign\n",
            "PubMed_20k_RCT\n",
            "PubMed_20k_RCT_numbers_replaced_with_at_sign\n",
            "README.md\n"
          ]
        }
      ],
      "source": [
        "!git clone https://github.com/Franck-Dernoncourt/pubmed-rct\n",
        "!ls pubmed-rct"
      ]
    },
    {
      "cell_type": "code",
      "execution_count": null,
      "metadata": {
        "colab": {
          "base_uri": "https://localhost:8080/"
        },
        "id": "udDvu1mtQX7n",
        "outputId": "add8dbb3-d0a4-4c94-8353-bb6faccba4dd"
      },
      "outputs": [
        {
          "name": "stdout",
          "output_type": "stream",
          "text": [
            "dev.txt  test.txt  train.txt\n"
          ]
        }
      ],
      "source": [
        "!ls pubmed-rct/PubMed_20k_RCT_numbers_replaced_with_at_sign/"
      ]
    },
    {
      "cell_type": "code",
      "execution_count": null,
      "metadata": {
        "id": "GzGDzn2FQ218"
      },
      "outputs": [],
      "source": [
        "#Start our experiments using the 20k dataset with numbers replaced with @ sign\n",
        "data_dir = '/content/pubmed-rct/PubMed_20k_RCT_numbers_replaced_with_at_sign/'"
      ]
    },
    {
      "cell_type": "code",
      "execution_count": null,
      "metadata": {
        "colab": {
          "base_uri": "https://localhost:8080/"
        },
        "id": "tW_DPjE8RZ--",
        "outputId": "97c98071-be19-4568-ce21-06171f72537b"
      },
      "outputs": [
        {
          "data": {
            "text/plain": [
              "['/content/pubmed-rct/PubMed_20k_RCT_numbers_replaced_with_at_sign/test.txt',\n",
              " '/content/pubmed-rct/PubMed_20k_RCT_numbers_replaced_with_at_sign/dev.txt',\n",
              " '/content/pubmed-rct/PubMed_20k_RCT_numbers_replaced_with_at_sign/train.txt']"
            ]
          },
          "execution_count": 5,
          "metadata": {},
          "output_type": "execute_result"
        }
      ],
      "source": [
        "import os\n",
        "filenames =[data_dir + filename for filename in os.listdir(data_dir)]\n",
        "filenames"
      ]
    },
    {
      "cell_type": "markdown",
      "metadata": {
        "id": "mkpSUo8ZRuRz"
      },
      "source": [
        "## Preprocess data"
      ]
    },
    {
      "cell_type": "code",
      "execution_count": null,
      "metadata": {
        "id": "IjFuMKb8SCyX"
      },
      "outputs": [],
      "source": [
        "#Create function to read the lines of a document\n",
        "\n",
        "def get_lines(filename):\n",
        "  '''\n",
        "  Reads filename (a text filename) and returns the lines of text as a list\n",
        "  \n",
        "  Args:\n",
        "    filename: a string containing the target file path.\n",
        "\n",
        "  Returns:\n",
        "    A list of strings with one string per line from the target filename.\n",
        "  \n",
        "  '''\n",
        "  with open(filename,'r') as f:\n",
        "    return f.readlines()"
      ]
    },
    {
      "cell_type": "code",
      "execution_count": null,
      "metadata": {
        "id": "HJbZAOqESi9i"
      },
      "outputs": [],
      "source": [
        "train_lines = get_lines(data_dir +'train.txt')"
      ]
    },
    {
      "cell_type": "markdown",
      "metadata": {
        "id": "asAtkv3sSp0o"
      },
      "source": [
        "How I think our data should be best represented:\n",
        "\n",
        "'''\n",
        "'[{'line_number':0,\n",
        "\n",
        "   'target' : 'BACKGROUND',\n",
        "\n",
        "   'text' : 'Emotional eating is associated with overeating and the development of obesity .\\n',\n",
        "\n",
        "   'total_lines' : 11}]\n",
        "'''"
      ]
    },
    {
      "cell_type": "code",
      "execution_count": null,
      "metadata": {
        "id": "KIs4lJF3Tt7T"
      },
      "outputs": [],
      "source": [
        "def preprocess_text_with_line_numbers(filename):\n",
        "  '''\n",
        "  Returns a list of dictionaries of abstract line data.\n",
        "\n",
        "  Takes in filename, reads it contents and sorts through each line,\n",
        "  extracting things like target label, the text of the sentence, how many sentencess\n",
        "  are in the current abstract and what sentence number it is on.\n",
        "  '''\n",
        "\n",
        "  input_lines = get_lines(filename)# get all lines from filename\n",
        "  abstract_lines = \"\" # creat an empty abstract\n",
        "  abstract_samples = []\n",
        "\n",
        "  #Loop through each line in the target file\n",
        "  for line in input_lines:\n",
        "    if line.startswith('###'): #check to see if this is an ID line\n",
        "       abstract_id = line\n",
        "       abstract_lines = \"\" #reset the abstract string if the line is an ID line\n",
        "    elif line.isspace(): # check to see if the line is a new line\n",
        "      abstract_line_split = abstract_lines.splitlines()\n",
        "\n",
        "      #Iterate through each line in a single abstract and count them at the same time\n",
        "\n",
        "      for abstract_line_number , abstract_line in enumerate(abstract_line_split):\n",
        "        line_data = {}\n",
        "        target_text_split = abstract_line.split('\\t') # split target label and text\n",
        "        line_data['target'] = target_text_split[0]\n",
        "        line_data['text'] = target_text_split[1].lower()\n",
        "        line_data['line_number'] = abstract_line_number\n",
        "        line_data['total_lines'] = len(abstract_line_split)-1 # how many total lines are there in target abstract and start with 0\n",
        "        abstract_samples.append(line_data)\n",
        "\n",
        "    else: # if the above conditions aren't fulfilled the line contains a labelled sentence\n",
        "      abstract_lines += line\n",
        "\n",
        "\n",
        "  return abstract_samples\n"
      ]
    },
    {
      "cell_type": "code",
      "execution_count": null,
      "metadata": {
        "id": "qEq7pIgKWrAH"
      },
      "outputs": [],
      "source": [
        "# Get data from file and preprocess it\n",
        "\n",
        "train_samples = preprocess_text_with_line_numbers(data_dir + 'train.txt')\n",
        "val_samples = preprocess_text_with_line_numbers(data_dir + 'dev.txt')\n",
        "test_samples = preprocess_text_with_line_numbers(data_dir + 'test.txt')"
      ]
    },
    {
      "cell_type": "code",
      "execution_count": null,
      "metadata": {
        "colab": {
          "base_uri": "https://localhost:8080/"
        },
        "id": "K44NeBg6gHHu",
        "outputId": "2baace35-18a5-4c78-9729-22008ea09e54"
      },
      "outputs": [
        {
          "data": {
            "text/plain": [
              "(180040, 30212, 30135)"
            ]
          },
          "execution_count": 10,
          "metadata": {},
          "output_type": "execute_result"
        }
      ],
      "source": [
        "len(train_samples),len(val_samples),len(test_samples)"
      ]
    },
    {
      "cell_type": "code",
      "execution_count": null,
      "metadata": {
        "colab": {
          "base_uri": "https://localhost:8080/"
        },
        "id": "_4oN71PigcJ9",
        "outputId": "ee1401a2-6cdf-4866-bb80-2c7999a249ed"
      },
      "outputs": [
        {
          "data": {
            "text/plain": [
              "[{'line_number': 0,\n",
              "  'target': 'OBJECTIVE',\n",
              "  'text': 'to investigate the efficacy of @ weeks of daily low-dose oral prednisolone in improving pain , mobility , and systemic low-grade inflammation in the short term and whether the effect would be sustained at @ weeks in older adults with moderate to severe knee osteoarthritis ( oa ) .',\n",
              "  'total_lines': 11},\n",
              " {'line_number': 1,\n",
              "  'target': 'METHODS',\n",
              "  'text': 'a total of @ patients with primary knee oa were randomized @:@ ; @ received @ mg/day of prednisolone and @ received placebo for @ weeks .',\n",
              "  'total_lines': 11},\n",
              " {'line_number': 2,\n",
              "  'target': 'METHODS',\n",
              "  'text': 'outcome measures included pain reduction and improvement in function scores and systemic inflammation markers .',\n",
              "  'total_lines': 11},\n",
              " {'line_number': 3,\n",
              "  'target': 'METHODS',\n",
              "  'text': 'pain was assessed using the visual analog pain scale ( @-@ mm ) .',\n",
              "  'total_lines': 11},\n",
              " {'line_number': 4,\n",
              "  'target': 'METHODS',\n",
              "  'text': 'secondary outcome measures included the western ontario and mcmaster universities osteoarthritis index scores , patient global assessment ( pga ) of the severity of knee oa , and @-min walk distance ( @mwd ) .',\n",
              "  'total_lines': 11},\n",
              " {'line_number': 5,\n",
              "  'target': 'METHODS',\n",
              "  'text': 'serum levels of interleukin @ ( il-@ ) , il-@ , tumor necrosis factor ( tnf ) - , and high-sensitivity c-reactive protein ( hscrp ) were measured .',\n",
              "  'total_lines': 11},\n",
              " {'line_number': 6,\n",
              "  'target': 'RESULTS',\n",
              "  'text': 'there was a clinically relevant reduction in the intervention group compared to the placebo group for knee pain , physical function , pga , and @mwd at @ weeks .',\n",
              "  'total_lines': 11},\n",
              " {'line_number': 7,\n",
              "  'target': 'RESULTS',\n",
              "  'text': 'the mean difference between treatment arms ( @ % ci ) was @ ( @-@ @ ) , p < @ ; @ ( @-@ @ ) , p < @ ; @ ( @-@ @ ) , p < @ ; and @ ( @-@ @ ) , p < @ , respectively .',\n",
              "  'total_lines': 11},\n",
              " {'line_number': 8,\n",
              "  'target': 'RESULTS',\n",
              "  'text': 'further , there was a clinically relevant reduction in the serum levels of il-@ , il-@ , tnf - , and hscrp at @ weeks in the intervention group when compared to the placebo group .',\n",
              "  'total_lines': 11},\n",
              " {'line_number': 9,\n",
              "  'target': 'RESULTS',\n",
              "  'text': 'these differences remained significant at @ weeks .',\n",
              "  'total_lines': 11}]"
            ]
          },
          "execution_count": 11,
          "metadata": {},
          "output_type": "execute_result"
        }
      ],
      "source": [
        "train_samples[:10]"
      ]
    },
    {
      "cell_type": "code",
      "execution_count": null,
      "metadata": {
        "id": "68y5fcqpgilw"
      },
      "outputs": [],
      "source": [
        "import pandas as pd"
      ]
    },
    {
      "cell_type": "code",
      "execution_count": null,
      "metadata": {
        "id": "QysK9dhvg7Jn"
      },
      "outputs": [],
      "source": [
        "df_train = pd.DataFrame(train_samples)\n",
        "df_val = pd.DataFrame(val_samples)\n",
        "df_test = pd.DataFrame(test_samples)"
      ]
    },
    {
      "cell_type": "code",
      "execution_count": null,
      "metadata": {
        "colab": {
          "base_uri": "https://localhost:8080/",
          "height": 206
        },
        "id": "YhOl3sqhhNJ4",
        "outputId": "631ad6b0-208e-42c2-d0cb-61ecd4836488"
      },
      "outputs": [
        {
          "data": {
            "text/html": [
              "\n",
              "  <div id=\"df-44f86292-dfce-4466-a592-c715dab9e9fd\">\n",
              "    <div class=\"colab-df-container\">\n",
              "      <div>\n",
              "<style scoped>\n",
              "    .dataframe tbody tr th:only-of-type {\n",
              "        vertical-align: middle;\n",
              "    }\n",
              "\n",
              "    .dataframe tbody tr th {\n",
              "        vertical-align: top;\n",
              "    }\n",
              "\n",
              "    .dataframe thead th {\n",
              "        text-align: right;\n",
              "    }\n",
              "</style>\n",
              "<table border=\"1\" class=\"dataframe\">\n",
              "  <thead>\n",
              "    <tr style=\"text-align: right;\">\n",
              "      <th></th>\n",
              "      <th>target</th>\n",
              "      <th>text</th>\n",
              "      <th>line_number</th>\n",
              "      <th>total_lines</th>\n",
              "    </tr>\n",
              "  </thead>\n",
              "  <tbody>\n",
              "    <tr>\n",
              "      <th>0</th>\n",
              "      <td>OBJECTIVE</td>\n",
              "      <td>to investigate the efficacy of @ weeks of dail...</td>\n",
              "      <td>0</td>\n",
              "      <td>11</td>\n",
              "    </tr>\n",
              "    <tr>\n",
              "      <th>1</th>\n",
              "      <td>METHODS</td>\n",
              "      <td>a total of @ patients with primary knee oa wer...</td>\n",
              "      <td>1</td>\n",
              "      <td>11</td>\n",
              "    </tr>\n",
              "    <tr>\n",
              "      <th>2</th>\n",
              "      <td>METHODS</td>\n",
              "      <td>outcome measures included pain reduction and i...</td>\n",
              "      <td>2</td>\n",
              "      <td>11</td>\n",
              "    </tr>\n",
              "    <tr>\n",
              "      <th>3</th>\n",
              "      <td>METHODS</td>\n",
              "      <td>pain was assessed using the visual analog pain...</td>\n",
              "      <td>3</td>\n",
              "      <td>11</td>\n",
              "    </tr>\n",
              "    <tr>\n",
              "      <th>4</th>\n",
              "      <td>METHODS</td>\n",
              "      <td>secondary outcome measures included the wester...</td>\n",
              "      <td>4</td>\n",
              "      <td>11</td>\n",
              "    </tr>\n",
              "  </tbody>\n",
              "</table>\n",
              "</div>\n",
              "      <button class=\"colab-df-convert\" onclick=\"convertToInteractive('df-44f86292-dfce-4466-a592-c715dab9e9fd')\"\n",
              "              title=\"Convert this dataframe to an interactive table.\"\n",
              "              style=\"display:none;\">\n",
              "        \n",
              "  <svg xmlns=\"http://www.w3.org/2000/svg\" height=\"24px\"viewBox=\"0 0 24 24\"\n",
              "       width=\"24px\">\n",
              "    <path d=\"M0 0h24v24H0V0z\" fill=\"none\"/>\n",
              "    <path d=\"M18.56 5.44l.94 2.06.94-2.06 2.06-.94-2.06-.94-.94-2.06-.94 2.06-2.06.94zm-11 1L8.5 8.5l.94-2.06 2.06-.94-2.06-.94L8.5 2.5l-.94 2.06-2.06.94zm10 10l.94 2.06.94-2.06 2.06-.94-2.06-.94-.94-2.06-.94 2.06-2.06.94z\"/><path d=\"M17.41 7.96l-1.37-1.37c-.4-.4-.92-.59-1.43-.59-.52 0-1.04.2-1.43.59L10.3 9.45l-7.72 7.72c-.78.78-.78 2.05 0 2.83L4 21.41c.39.39.9.59 1.41.59.51 0 1.02-.2 1.41-.59l7.78-7.78 2.81-2.81c.8-.78.8-2.07 0-2.86zM5.41 20L4 18.59l7.72-7.72 1.47 1.35L5.41 20z\"/>\n",
              "  </svg>\n",
              "      </button>\n",
              "      \n",
              "  <style>\n",
              "    .colab-df-container {\n",
              "      display:flex;\n",
              "      flex-wrap:wrap;\n",
              "      gap: 12px;\n",
              "    }\n",
              "\n",
              "    .colab-df-convert {\n",
              "      background-color: #E8F0FE;\n",
              "      border: none;\n",
              "      border-radius: 50%;\n",
              "      cursor: pointer;\n",
              "      display: none;\n",
              "      fill: #1967D2;\n",
              "      height: 32px;\n",
              "      padding: 0 0 0 0;\n",
              "      width: 32px;\n",
              "    }\n",
              "\n",
              "    .colab-df-convert:hover {\n",
              "      background-color: #E2EBFA;\n",
              "      box-shadow: 0px 1px 2px rgba(60, 64, 67, 0.3), 0px 1px 3px 1px rgba(60, 64, 67, 0.15);\n",
              "      fill: #174EA6;\n",
              "    }\n",
              "\n",
              "    [theme=dark] .colab-df-convert {\n",
              "      background-color: #3B4455;\n",
              "      fill: #D2E3FC;\n",
              "    }\n",
              "\n",
              "    [theme=dark] .colab-df-convert:hover {\n",
              "      background-color: #434B5C;\n",
              "      box-shadow: 0px 1px 3px 1px rgba(0, 0, 0, 0.15);\n",
              "      filter: drop-shadow(0px 1px 2px rgba(0, 0, 0, 0.3));\n",
              "      fill: #FFFFFF;\n",
              "    }\n",
              "  </style>\n",
              "\n",
              "      <script>\n",
              "        const buttonEl =\n",
              "          document.querySelector('#df-44f86292-dfce-4466-a592-c715dab9e9fd button.colab-df-convert');\n",
              "        buttonEl.style.display =\n",
              "          google.colab.kernel.accessAllowed ? 'block' : 'none';\n",
              "\n",
              "        async function convertToInteractive(key) {\n",
              "          const element = document.querySelector('#df-44f86292-dfce-4466-a592-c715dab9e9fd');\n",
              "          const dataTable =\n",
              "            await google.colab.kernel.invokeFunction('convertToInteractive',\n",
              "                                                     [key], {});\n",
              "          if (!dataTable) return;\n",
              "\n",
              "          const docLinkHtml = 'Like what you see? Visit the ' +\n",
              "            '<a target=\"_blank\" href=https://colab.research.google.com/notebooks/data_table.ipynb>data table notebook</a>'\n",
              "            + ' to learn more about interactive tables.';\n",
              "          element.innerHTML = '';\n",
              "          dataTable['output_type'] = 'display_data';\n",
              "          await google.colab.output.renderOutput(dataTable, element);\n",
              "          const docLink = document.createElement('div');\n",
              "          docLink.innerHTML = docLinkHtml;\n",
              "          element.appendChild(docLink);\n",
              "        }\n",
              "      </script>\n",
              "    </div>\n",
              "  </div>\n",
              "  "
            ],
            "text/plain": [
              "      target  ... total_lines\n",
              "0  OBJECTIVE  ...          11\n",
              "1    METHODS  ...          11\n",
              "2    METHODS  ...          11\n",
              "3    METHODS  ...          11\n",
              "4    METHODS  ...          11\n",
              "\n",
              "[5 rows x 4 columns]"
            ]
          },
          "execution_count": 14,
          "metadata": {},
          "output_type": "execute_result"
        }
      ],
      "source": [
        "df_train.head(5)"
      ]
    },
    {
      "cell_type": "code",
      "execution_count": null,
      "metadata": {
        "colab": {
          "base_uri": "https://localhost:8080/",
          "height": 346
        },
        "id": "Z0Z60LLfhOEy",
        "outputId": "ab88adf3-7417-408d-c578-d54c985ca332"
      },
      "outputs": [
        {
          "data": {
            "text/plain": [
              "<matplotlib.axes._subplots.AxesSubplot at 0x7f28579e34d0>"
            ]
          },
          "execution_count": 15,
          "metadata": {},
          "output_type": "execute_result"
        },
        {
          "data": {
            "image/png": "[encoded data removed]",
            "text/plain": [
              "<Figure size 432x288 with 1 Axes>"
            ]
          },
          "metadata": {},
          "output_type": "display_data"
        }
      ],
      "source": [
        "#distribution of labels in train data\n",
        "\n",
        "df_train.target.value_counts().plot(kind = 'bar')"
      ]
    },
    {
      "cell_type": "code",
      "execution_count": null,
      "metadata": {
        "colab": {
          "base_uri": "https://localhost:8080/",
          "height": 286
        },
        "id": "sN-7nu_khTK5",
        "outputId": "b788e990-f486-4e81-9e50-46f4a77eafd4"
      },
      "outputs": [
        {
          "data": {
            "text/plain": [
              "<matplotlib.axes._subplots.AxesSubplot at 0x7f2857f21dd0>"
            ]
          },
          "execution_count": 16,
          "metadata": {},
          "output_type": "execute_result"
        },
        {
          "data": {
            "image/png": "[encoded data removed]",
            "text/plain": [
              "<Figure size 432x288 with 1 Axes>"
            ]
          },
          "metadata": {},
          "output_type": "display_data"
        }
      ],
      "source": [
        "df_train.total_lines.plot.hist()"
      ]
    },
    {
      "cell_type": "markdown",
      "metadata": {
        "id": "KDqXaPNBhbny"
      },
      "source": [
        "## Get lists of sentences"
      ]
    },
    {
      "cell_type": "code",
      "execution_count": null,
      "metadata": {
        "id": "KDLlhu8Zhs0p"
      },
      "outputs": [],
      "source": [
        "train_sentences = df_train['text'].tolist()\n",
        "val_sentences = df_val['text'].tolist()\n",
        "test_sentences = df_test['text'].tolist()"
      ]
    },
    {
      "cell_type": "code",
      "execution_count": null,
      "metadata": {
        "colab": {
          "base_uri": "https://localhost:8080/"
        },
        "id": "PCE3HF2AiBVh",
        "outputId": "0a19dbc2-9d08-413d-eab4-6fcf09e8cc12"
      },
      "outputs": [
        {
          "data": {
            "text/plain": [
              "(180040, 30212, 30135)"
            ]
          },
          "execution_count": 18,
          "metadata": {},
          "output_type": "execute_result"
        }
      ],
      "source": [
        "len(train_sentences), len(val_sentences),len(test_sentences)"
      ]
    },
    {
      "cell_type": "code",
      "execution_count": null,
      "metadata": {
        "id": "I10FBaVRiGNF"
      },
      "outputs": [],
      "source": [
        "## make numeric labels\n",
        "import tensorflow as tf\n",
        "from sklearn.preprocessing import OneHotEncoder, LabelEncoder"
      ]
    },
    {
      "cell_type": "code",
      "execution_count": null,
      "metadata": {
        "id": "biT5a1n9imye"
      },
      "outputs": [],
      "source": [
        "one_hot_encoder = OneHotEncoder(sparse = False)\n",
        "train_labels_one_hot = one_hot_encoder.fit_transform(df_train['target'].to_numpy().reshape(-1,1))\n",
        "val_labels_one_hot = one_hot_encoder.transform(df_val['target'].to_numpy().reshape(-1,1))\n",
        "test_labels_one_hot = one_hot_encoder.transform(df_test['target'].to_numpy().reshape(-1,1))"
      ]
    },
    {
      "cell_type": "code",
      "execution_count": null,
      "metadata": {
        "id": "if6h_SxGiy78"
      },
      "outputs": [],
      "source": [
        "label_encoder = LabelEncoder()\n",
        "train_labels_encoded = label_encoder.fit_transform(df_train['target'].to_numpy())\n",
        "val_labels_encoded = label_encoder.transform(df_val['target'].to_numpy())\n",
        "test_labels_encoded = label_encoder.transform(df_test['target'].to_numpy())"
      ]
    },
    {
      "cell_type": "code",
      "execution_count": null,
      "metadata": {
        "colab": {
          "base_uri": "https://localhost:8080/"
        },
        "id": "tgL9sA7fjNT-",
        "outputId": "d42a545d-e204-43df-da72-61169a39b75e"
      },
      "outputs": [
        {
          "data": {
            "text/plain": [
              "<tf.Tensor: shape=(180040, 5), dtype=float64, numpy=\n",
              "array([[0., 0., 0., 1., 0.],\n",
              "       [0., 0., 1., 0., 0.],\n",
              "       [0., 0., 1., 0., 0.],\n",
              "       ...,\n",
              "       [0., 0., 0., 0., 1.],\n",
              "       [0., 1., 0., 0., 0.],\n",
              "       [0., 1., 0., 0., 0.]])>"
            ]
          },
          "execution_count": 22,
          "metadata": {},
          "output_type": "execute_result"
        }
      ],
      "source": [
        "tf.constant(train_labels_one_hot)"
      ]
    },
    {
      "cell_type": "code",
      "execution_count": null,
      "metadata": {
        "colab": {
          "base_uri": "https://localhost:8080/"
        },
        "id": "jI5Z63YGjQit",
        "outputId": "d049fa51-f400-45a8-9e10-efbdc85c3d43"
      },
      "outputs": [
        {
          "data": {
            "text/plain": [
              "(5, array(['BACKGROUND', 'CONCLUSIONS', 'METHODS', 'OBJECTIVE', 'RESULTS'],\n",
              "       dtype=object))"
            ]
          },
          "execution_count": 23,
          "metadata": {},
          "output_type": "execute_result"
        }
      ],
      "source": [
        "num_classes = len(label_encoder.classes_)\n",
        "class_names = label_encoder.classes_\n",
        "num_classes,class_names"
      ]
    },
    {
      "cell_type": "code",
      "execution_count": null,
      "metadata": {
        "id": "9LLJ4aCblTVD"
      },
      "outputs": [],
      "source": [
        "from sklearn.naive_bayes import MultinomialNB\n",
        "from sklearn.feature_extraction.text import TfidfVectorizer\n",
        "from sklearn.pipeline import Pipeline"
      ]
    },
    {
      "cell_type": "code",
      "execution_count": null,
      "metadata": {
        "id": "PcCWD-dtldks"
      },
      "outputs": [],
      "source": [
        "model_0 = Pipeline([('tf-idf',TfidfVectorizer()),\n",
        "                    ('clf',MultinomialNB())])"
      ]
    },
    {
      "cell_type": "code",
      "execution_count": null,
      "metadata": {
        "colab": {
          "base_uri": "https://localhost:8080/"
        },
        "id": "vi0-18VzmSqj",
        "outputId": "9993577c-e577-4433-d8ad-d70b030a4722"
      },
      "outputs": [
        {
          "data": {
            "text/plain": [
              "Pipeline(steps=[('tf-idf', TfidfVectorizer()), ('clf', MultinomialNB())])"
            ]
          },
          "execution_count": 26,
          "metadata": {},
          "output_type": "execute_result"
        }
      ],
      "source": [
        "model_0.fit(X = train_sentences,\n",
        "            y = train_labels_encoded)"
      ]
    },
    {
      "cell_type": "code",
      "execution_count": null,
      "metadata": {
        "colab": {
          "base_uri": "https://localhost:8080/"
        },
        "id": "0DlqJykFmdee",
        "outputId": "afd8be56-84a1-4828-f26c-37549f4b3503"
      },
      "outputs": [
        {
          "data": {
            "text/plain": [
              "0.7218323844829869"
            ]
          },
          "execution_count": 27,
          "metadata": {},
          "output_type": "execute_result"
        }
      ],
      "source": [
        "model_0.score(X = val_sentences,\n",
        "              y = val_labels_encoded)"
      ]
    },
    {
      "cell_type": "code",
      "execution_count": null,
      "metadata": {
        "colab": {
          "base_uri": "https://localhost:8080/"
        },
        "id": "XENfyLDLmx4T",
        "outputId": "5566ff5b-ef94-44f0-99c3-457e8774bb0b"
      },
      "outputs": [
        {
          "data": {
            "text/plain": [
              "array([4, 1, 3, ..., 4, 4, 1])"
            ]
          },
          "execution_count": 28,
          "metadata": {},
          "output_type": "execute_result"
        }
      ],
      "source": [
        "# make prediction using our baseline_model\n",
        "baseline_preds = model_0.predict(val_sentences)\n",
        "baseline_preds"
      ]
    },
    {
      "cell_type": "code",
      "execution_count": null,
      "metadata": {
        "colab": {
          "base_uri": "https://localhost:8080/"
        },
        "id": "NijKUf8em4P8",
        "outputId": "350d4174-8646-47b2-8cd3-9730ac36dc91"
      },
      "outputs": [
        {
          "name": "stdout",
          "output_type": "stream",
          "text": [
            "--2022-01-19 10:31:43--  https://raw.githubusercontent.com/mrdbourke/tensorflow-deep-learning/main/extras/helper_functions.py\n",
            "Resolving raw.githubusercontent.com (raw.githubusercontent.com)... 185.199.108.133, 185.199.109.133, 185.199.110.133, ...\n",
            "Connecting to raw.githubusercontent.com (raw.githubusercontent.com)|185.199.108.133|:443... connected.\n",
            "HTTP request sent, awaiting response... 200 OK\n",
            "Length: 10246 (10K) [text/plain]\n",
            "Saving to: ‘helper_functions.py’\n",
            "\n",
            "\rhelper_functions.py   0%[                    ]       0  --.-KB/s               \rhelper_functions.py 100%[===================>]  10.01K  --.-KB/s    in 0s      \n",
            "\n",
            "2022-01-19 10:31:43 (83.9 MB/s) - ‘helper_functions.py’ saved [10246/10246]\n",
            "\n"
          ]
        }
      ],
      "source": [
        "!wget https://raw.githubusercontent.com/mrdbourke/tensorflow-deep-learning/main/extras/helper_functions.py"
      ]
    },
    {
      "cell_type": "code",
      "execution_count": null,
      "metadata": {
        "id": "yrTzcLTmq32M"
      },
      "outputs": [],
      "source": [
        "from helper_functions import create_tensorboard_callback , plot_loss_curves ,calculate_results "
      ]
    },
    {
      "cell_type": "markdown",
      "metadata": {
        "id": "DdNi8rTX0zzC"
      },
      "source": [
        ""
      ]
    },
    {
      "cell_type": "code",
      "execution_count": null,
      "metadata": {
        "id": "8pZiqP3krFXa"
      },
      "outputs": [],
      "source": [
        "baseline_results = calculate_results(val_labels_encoded,baseline_preds)"
      ]
    },
    {
      "cell_type": "code",
      "execution_count": null,
      "metadata": {
        "colab": {
          "base_uri": "https://localhost:8080/"
        },
        "id": "lO5WV5OArP_j",
        "outputId": "787f81b3-026a-42f5-e4f9-34d05c2783e5"
      },
      "outputs": [
        {
          "data": {
            "text/plain": [
              "{'accuracy': 72.1832384482987,\n",
              " 'f1': 0.6989250353450294,\n",
              " 'precision': 0.7186466952323352,\n",
              " 'recall': 0.7218323844829869}"
            ]
          },
          "execution_count": 32,
          "metadata": {},
          "output_type": "execute_result"
        }
      ],
      "source": [
        "baseline_results"
      ]
    },
    {
      "cell_type": "markdown",
      "metadata": {
        "id": "6958C9UBrh0t"
      },
      "source": [
        "# preparing our data for deep sequence model\n",
        "\n"
      ]
    },
    {
      "cell_type": "code",
      "execution_count": null,
      "metadata": {
        "id": "k7uPkDfarVh-"
      },
      "outputs": [],
      "source": [
        "import numpy as np\n",
        "import tensorflow as tf\n",
        "from tensorflow.keras import layers"
      ]
    },
    {
      "cell_type": "code",
      "execution_count": null,
      "metadata": {
        "colab": {
          "base_uri": "https://localhost:8080/"
        },
        "id": "CbxFNbnhr5wW",
        "outputId": "0cd63697-a226-41bc-fedb-bcf4695495aa"
      },
      "outputs": [
        {
          "data": {
            "text/plain": [
              "(26.338269273494777, 296, 1)"
            ]
          },
          "execution_count": 34,
          "metadata": {},
          "output_type": "execute_result"
        }
      ],
      "source": [
        "#How long is each sentence on average\n",
        "sent_lens = [len(sentence.split()) for sentence in train_sentences]\n",
        "avg_sent_len = np.mean(sent_lens)\n",
        "avg_sent_len , np.max(sent_lens), np.min(sent_lens)"
      ]
    },
    {
      "cell_type": "code",
      "execution_count": null,
      "metadata": {
        "colab": {
          "base_uri": "https://localhost:8080/",
          "height": 265
        },
        "id": "BOK2iKGOsCeT",
        "outputId": "d3ea88c2-0126-44df-b761-8d772acc5b1b"
      },
      "outputs": [
        {
          "data": {
            "image/png": "[encoded data removed]",
            "text/plain": [
              "<Figure size 432x288 with 1 Axes>"
            ]
          },
          "metadata": {},
          "output_type": "display_data"
        }
      ],
      "source": [
        "import matplotlib.pyplot as plt\n",
        "plt.hist(sent_lens,bins = 20);"
      ]
    },
    {
      "cell_type": "code",
      "execution_count": null,
      "metadata": {
        "colab": {
          "base_uri": "https://localhost:8080/"
        },
        "id": "R9APt-ZrsTte",
        "outputId": "56215bbc-951b-451b-d9a2-b227e1e1ccfe"
      },
      "outputs": [
        {
          "data": {
            "text/plain": [
              "55"
            ]
          },
          "execution_count": 36,
          "metadata": {},
          "output_type": "execute_result"
        }
      ],
      "source": [
        "#How long of a sentence length covers 95% of examples?\n",
        "\n",
        "output_seq_len = int(np.percentile(sent_lens,q = 95))\n",
        "output_seq_len"
      ]
    },
    {
      "cell_type": "code",
      "execution_count": null,
      "metadata": {
        "id": "GY8yL9McsrZH"
      },
      "outputs": [],
      "source": [
        "#output_seq_len = int(np.percentile(sent_lens,q = 99))\n",
        "#output_seq_len"
      ]
    },
    {
      "cell_type": "code",
      "execution_count": null,
      "metadata": {
        "id": "eTy-F12ls27v"
      },
      "outputs": [],
      "source": [
        "max_tokens = 68000"
      ]
    },
    {
      "cell_type": "code",
      "execution_count": null,
      "metadata": {
        "id": "wXr7JT37tt0a"
      },
      "outputs": [],
      "source": [
        "from tensorflow.keras.layers.experimental.preprocessing import TextVectorization"
      ]
    },
    {
      "cell_type": "code",
      "execution_count": null,
      "metadata": {
        "id": "6qoLcxQMt0bZ"
      },
      "outputs": [],
      "source": [
        "text_vectorizer = TextVectorization(max_tokens = max_tokens,\n",
        "                                    output_sequence_length = output_seq_len)"
      ]
    },
    {
      "cell_type": "code",
      "execution_count": null,
      "metadata": {
        "id": "DtDuQCxQuAXy"
      },
      "outputs": [],
      "source": [
        "#Adapt text vectorizer to training sentences\n",
        "\n",
        "text_vectorizer.adapt(train_sentences)"
      ]
    },
    {
      "cell_type": "code",
      "execution_count": null,
      "metadata": {
        "id": "t0lt_7ZyuN64"
      },
      "outputs": [],
      "source": [
        "#test out text vectorizer on random sentences\n",
        "\n",
        "import random"
      ]
    },
    {
      "cell_type": "code",
      "execution_count": null,
      "metadata": {
        "colab": {
          "base_uri": "https://localhost:8080/"
        },
        "id": "ea59QsMmulX1",
        "outputId": "61e31ac3-9290-4eb3-99f8-5371b33836e9"
      },
      "outputs": [
        {
          "name": "stdout",
          "output_type": "stream",
          "text": [
            "Text:\n",
            " to determine ( @ ) the frequency of ih in premature infants after discontinuation of routine caffeine treatment and ( @ ) whether extending caffeine treatment to @ weeks ' postmenstrual age ( pma ) reduces ih .\n",
            "\n",
            "Length of text: 210\n",
            "\n",
            "Vectorized text: [[    6   228     2   400     4  4587     5  2264   337    21  1565     4\n",
            "    633  2597    19     3   180  8463  2597    19     6    53  8843   103\n",
            "  11463   827  4587     0     0     0     0     0     0     0     0     0\n",
            "      0     0     0     0     0     0     0     0     0     0     0     0\n",
            "      0     0     0     0     0     0     0]]\n"
          ]
        }
      ],
      "source": [
        "target_sentence = random.choice(train_sentences)\n",
        "print(f'Text:\\n {target_sentence}')\n",
        "print(f'\\nLength of text: {len(target_sentence)}')\n",
        "print(f'\\nVectorized text: {text_vectorizer([target_sentence])}')"
      ]
    },
    {
      "cell_type": "code",
      "execution_count": null,
      "metadata": {
        "colab": {
          "base_uri": "https://localhost:8080/"
        },
        "id": "8QG6uOIyurK6",
        "outputId": "e5cdf7cf-6875-41c8-e70e-d00bcfe1d4b5"
      },
      "outputs": [
        {
          "name": "stdout",
          "output_type": "stream",
          "text": [
            "Number of words in vocab: 64841\n",
            "Most common words in the vocab:['', '[UNK]', 'the', 'and', 'of']\n",
            "least common words in the vocab:['aainduced', 'aaigroup', 'aachener', 'aachen', 'aaacp']\n"
          ]
        }
      ],
      "source": [
        "# How many words in our training vocabulary\n",
        "rct_20k_text_vocab = text_vectorizer.get_vocabulary()\n",
        "print(f'Number of words in vocab: {len(rct_20k_text_vocab)}')\n",
        "print(f'Most common words in the vocab:{rct_20k_text_vocab[:5]}')\n",
        "print(f'least common words in the vocab:{rct_20k_text_vocab[-5:]}')"
      ]
    },
    {
      "cell_type": "code",
      "execution_count": null,
      "metadata": {
        "colab": {
          "base_uri": "https://localhost:8080/"
        },
        "id": "EJBhCf-svDmQ",
        "outputId": "5f23346d-b39c-4564-9e17-37f235c95bd4"
      },
      "outputs": [
        {
          "data": {
            "text/plain": [
              "{'batch_input_shape': (None,),\n",
              " 'dtype': 'string',\n",
              " 'idf_weights': None,\n",
              " 'max_tokens': 68000,\n",
              " 'name': 'text_vectorization',\n",
              " 'ngrams': None,\n",
              " 'output_mode': 'int',\n",
              " 'output_sequence_length': 55,\n",
              " 'pad_to_max_tokens': False,\n",
              " 'ragged': False,\n",
              " 'sparse': False,\n",
              " 'split': 'whitespace',\n",
              " 'standardize': 'lower_and_strip_punctuation',\n",
              " 'trainable': True,\n",
              " 'vocabulary': None}"
            ]
          },
          "execution_count": 45,
          "metadata": {},
          "output_type": "execute_result"
        }
      ],
      "source": [
        "text_vectorizer.get_config()"
      ]
    },
    {
      "cell_type": "markdown",
      "metadata": {
        "id": "5QQ9BkcuvcIo"
      },
      "source": [
        "## Create custom text embedding"
      ]
    },
    {
      "cell_type": "code",
      "execution_count": null,
      "metadata": {
        "id": "tYLbfx90vODA"
      },
      "outputs": [],
      "source": [
        "token_embed = layers.Embedding(input_dim = len(rct_20k_text_vocab),\n",
        "                                  output_dim = 128, #number of output dim drastically changes number of paramters\n",
        "                                  mask_zero = True,\n",
        "                                  name = 'token_embedding'\n",
        "                                  )"
      ]
    },
    {
      "cell_type": "code",
      "execution_count": null,
      "metadata": {
        "colab": {
          "base_uri": "https://localhost:8080/"
        },
        "id": "RMBp6YZ1wH4-",
        "outputId": "3da01851-dcd0-4dd6-ca21-c7b2305b3244"
      },
      "outputs": [
        {
          "name": "stdout",
          "output_type": "stream",
          "text": [
            "Sentence before vectorization:\n",
            " to determine ( @ ) the frequency of ih in premature infants after discontinuation of routine caffeine treatment and ( @ ) whether extending caffeine treatment to @ weeks ' postmenstrual age ( pma ) reduces ih .\n",
            "Sentence after vectorization (before embedding:\n",
            " [[    6   228     2   400     4  4587     5  2264   337    21  1565     4\n",
            "    633  2597    19     3   180  8463  2597    19     6    53  8843   103\n",
            "  11463   827  4587     0     0     0     0     0     0     0     0     0\n",
            "      0     0     0     0     0     0     0     0     0     0     0     0\n",
            "      0     0     0     0     0     0     0]]\n",
            "Sentence after embedding:\n",
            " [[[ 0.01299143 -0.03716853  0.01830549 ... -0.04616643 -0.02423886\n",
            "   -0.03990202]\n",
            "  [ 0.02724778 -0.03075286  0.03351049 ...  0.01545521 -0.01044282\n",
            "    0.04919766]\n",
            "  [ 0.01565684 -0.04970238  0.01603476 ...  0.01741297 -0.01253071\n",
            "    0.02864968]\n",
            "  ...\n",
            "  [ 0.04944264  0.04729133  0.00990795 ... -0.00046372  0.04779318\n",
            "    0.01204453]\n",
            "  [ 0.04944264  0.04729133  0.00990795 ... -0.00046372  0.04779318\n",
            "    0.01204453]\n",
            "  [ 0.04944264  0.04729133  0.00990795 ... -0.00046372  0.04779318\n",
            "    0.01204453]]]\n",
            "Embedded sentence shape :\n",
            " (1, 55, 128)\n"
          ]
        }
      ],
      "source": [
        "#show example embedding\n",
        "print(f'Sentence before vectorization:\\n {target_sentence}')\n",
        "vectorized_sentence = text_vectorizer([target_sentence])\n",
        "print(f'Sentence after vectorization (before embedding:\\n {vectorized_sentence}')\n",
        "embedded_sentence = token_embed(vectorized_sentence)\n",
        "print(f'Sentence after embedding:\\n {embedded_sentence}')\n",
        "print(f'Embedded sentence shape :\\n {embedded_sentence.shape}')"
      ]
    },
    {
      "cell_type": "markdown",
      "metadata": {
        "id": "uZDnSSomwbpZ"
      },
      "source": [
        "## Creating datasets (making sure our data loads as fast as possible)\n",
        "\n",
        "reference : https://www.tensorflow.org/guide/data_performance"
      ]
    },
    {
      "cell_type": "code",
      "execution_count": null,
      "metadata": {
        "colab": {
          "base_uri": "https://localhost:8080/"
        },
        "id": "L5c1H736xP6I",
        "outputId": "be490384-84d8-4f59-c550-442fa8aa9b8c"
      },
      "outputs": [
        {
          "data": {
            "text/plain": [
              "<TensorSliceDataset shapes: ((), (5,)), types: (tf.string, tf.float64)>"
            ]
          },
          "execution_count": 48,
          "metadata": {},
          "output_type": "execute_result"
        }
      ],
      "source": [
        "#Turn our data into tensorflow datasets\n",
        "train_dataset = tf.data.Dataset.from_tensor_slices((train_sentences,train_labels_one_hot))\n",
        "valid_dataset = tf.data.Dataset.from_tensor_slices((val_sentences,val_labels_one_hot))\n",
        "test_dataset = tf.data.Dataset.from_tensor_slices((test_sentences,test_labels_one_hot))\n",
        "\n",
        "train_dataset"
      ]
    },
    {
      "cell_type": "code",
      "execution_count": null,
      "metadata": {
        "colab": {
          "base_uri": "https://localhost:8080/"
        },
        "id": "WOzW_8mBxzF6",
        "outputId": "24d75b7f-b959-458e-c1ac-3a63c68d8d19"
      },
      "outputs": [
        {
          "data": {
            "text/plain": [
              "((180040, 5), array([0., 0., 0., 1., 0.]))"
            ]
          },
          "execution_count": 49,
          "metadata": {},
          "output_type": "execute_result"
        }
      ],
      "source": [
        "train_labels_one_hot.shape , train_labels_one_hot[0]"
      ]
    },
    {
      "cell_type": "code",
      "execution_count": null,
      "metadata": {
        "colab": {
          "base_uri": "https://localhost:8080/"
        },
        "id": "Dc0N7clyx4CH",
        "outputId": "64ca4226-a923-4a53-d56f-55f40fc49bc7"
      },
      "outputs": [
        {
          "data": {
            "text/plain": [
              "<PrefetchDataset shapes: ((None,), (None, 5)), types: (tf.string, tf.float64)>"
            ]
          },
          "execution_count": 50,
          "metadata": {},
          "output_type": "execute_result"
        }
      ],
      "source": [
        "#Take the TensorSliceDataset into prefetched dataset\n",
        "\n",
        "train_dataset = train_dataset.batch(32).prefetch(tf.data.AUTOTUNE)#let tensorflow automatically decide the size\n",
        "valid_dataset = valid_dataset.batch(32).prefetch(tf.data.AUTOTUNE)\n",
        "test_dataset = test_dataset.batch(32).prefetch(tf.data.AUTOTUNE)\n",
        "\n",
        "train_dataset"
      ]
    },
    {
      "cell_type": "markdown",
      "metadata": {
        "id": "hREOPdjVymCi"
      },
      "source": [
        "## Model 1 : Conv1D with token embeddings"
      ]
    },
    {
      "cell_type": "code",
      "execution_count": null,
      "metadata": {
        "id": "cvguIBsgyzA6"
      },
      "outputs": [],
      "source": [
        "#Create 1D conv model to process sequences\n",
        "inputs = layers.Input(shape=(1,) ,dtype = tf.string)\n",
        "text_vectors = text_vectorizer(inputs)\n",
        "token_embedding = token_embed(text_vectors)\n",
        "x = layers.Conv1D(64, kernel_size = 5 , padding = 'same' , activation = 'relu')(token_embedding)\n",
        "x = layers.GlobalAveragePooling1D()(x) # condense the outpts of our feature vectors from conv layer\n",
        "outputs = layers.Dense(num_classes, activation = 'softmax')(x)\n",
        "model_1 = tf.keras.Model(inputs,outputs)"
      ]
    },
    {
      "cell_type": "code",
      "execution_count": null,
      "metadata": {
        "id": "_H2qqGd3zjwR"
      },
      "outputs": [],
      "source": [
        "model_1.compile(loss = tf.keras.losses.CategoricalCrossentropy(),\n",
        "                optimizer = tf.keras.optimizers.Adam(),\n",
        "                metrics = ['accuracy'])"
      ]
    },
    {
      "cell_type": "code",
      "execution_count": null,
      "metadata": {
        "id": "M8aNTfWH0ZgV"
      },
      "outputs": [],
      "source": [
        "dir_name = 'milestone_2'"
      ]
    },
    {
      "cell_type": "code",
      "execution_count": null,
      "metadata": {
        "colab": {
          "base_uri": "https://localhost:8080/"
        },
        "id": "PJqvz4D0zvLt",
        "outputId": "71dd0acb-97c3-4724-9a0b-6e134ad55dcd"
      },
      "outputs": [
        {
          "name": "stdout",
          "output_type": "stream",
          "text": [
            "Saving TensorBoard log files to: milestone_2/Conv1D_Model/20220119-103208\n",
            "Epoch 1/5\n",
            "562/562 [==============================] - 57s 101ms/step - loss: 0.9263 - accuracy: 0.6350 - val_loss: 0.6930 - val_accuracy: 0.7350\n",
            "Epoch 2/5\n",
            "562/562 [==============================] - 56s 100ms/step - loss: 0.6599 - accuracy: 0.7561 - val_loss: 0.6323 - val_accuracy: 0.7716\n",
            "Epoch 3/5\n",
            "562/562 [==============================] - 56s 99ms/step - loss: 0.6176 - accuracy: 0.7744 - val_loss: 0.5985 - val_accuracy: 0.7809\n",
            "Epoch 4/5\n",
            "562/562 [==============================] - 56s 100ms/step - loss: 0.5882 - accuracy: 0.7898 - val_loss: 0.5795 - val_accuracy: 0.7932\n",
            "Epoch 5/5\n",
            "562/562 [==============================] - 57s 101ms/step - loss: 0.5900 - accuracy: 0.7919 - val_loss: 0.5621 - val_accuracy: 0.7962\n"
          ]
        }
      ],
      "source": [
        "histroy_model_1 = model_1.fit(train_dataset,\n",
        "                              steps_per_epoch = int(0.1*len(train_dataset)),\n",
        "                              epochs = 5,\n",
        "                              validation_data = valid_dataset,\n",
        "                              validation_steps = int(0.1*len(valid_dataset)),\n",
        "                              callbacks = [create_tensorboard_callback(dir_name = dir_name,\n",
        "                                                                       experiment_name = 'Conv1D_Model')] )"
      ]
    },
    {
      "cell_type": "code",
      "execution_count": null,
      "metadata": {
        "colab": {
          "base_uri": "https://localhost:8080/",
          "height": 573
        },
        "id": "ou4WXHrj0kGp",
        "outputId": "35b517bc-fddd-473d-e5e0-77aa8e219eae"
      },
      "outputs": [
        {
          "data": {
            "image/png": "[encoded data removed]",
            "text/plain": [
              "<Figure size 432x288 with 1 Axes>"
            ]
          },
          "metadata": {},
          "output_type": "display_data"
        },
        {
          "data": {
            "image/png": "[encoded data removed]",
            "text/plain": [
              "<Figure size 432x288 with 1 Axes>"
            ]
          },
          "metadata": {},
          "output_type": "display_data"
        }
      ],
      "source": [
        "plot_loss_curves(histroy_model_1)"
      ]
    },
    {
      "cell_type": "code",
      "execution_count": null,
      "metadata": {
        "colab": {
          "base_uri": "https://localhost:8080/"
        },
        "id": "LM5IEwEX0w8O",
        "outputId": "a98d593e-f08e-42c4-a716-e8a9d29dd0aa"
      },
      "outputs": [
        {
          "name": "stdout",
          "output_type": "stream",
          "text": [
            "945/945 [==============================] - 5s 6ms/step - loss: 0.5610 - accuracy: 0.8007\n"
          ]
        },
        {
          "data": {
            "text/plain": [
              "[0.5609814524650574, 0.8007083535194397]"
            ]
          },
          "execution_count": 56,
          "metadata": {},
          "output_type": "execute_result"
        }
      ],
      "source": [
        "model_1.evaluate(valid_dataset)"
      ]
    },
    {
      "cell_type": "code",
      "execution_count": null,
      "metadata": {
        "id": "9L4wjGP11D4n"
      },
      "outputs": [],
      "source": [
        "model_1_pred_probs = model_1.predict(valid_dataset)"
      ]
    },
    {
      "cell_type": "code",
      "execution_count": null,
      "metadata": {
        "id": "bGnpViKM121W"
      },
      "outputs": [],
      "source": [
        "def model_results(model,y_true,validation_data):\n",
        "  model_pred_probs = model.predict(validation_data)\n",
        "  model_preds = tf.squeeze(np.argmax(model_pred_probs, axis = 1))\n",
        "  model_results = calculate_results(y_true = y_true,\n",
        "                                    y_pred = model_preds)\n",
        "  return model_results"
      ]
    },
    {
      "cell_type": "code",
      "execution_count": null,
      "metadata": {
        "id": "3ZW3rcFQ1one"
      },
      "outputs": [],
      "source": [
        "model_1_results = model_results(model_1,\n",
        "                                y_true = val_labels_encoded,\n",
        "                                validation_data = valid_dataset)"
      ]
    },
    {
      "cell_type": "code",
      "execution_count": null,
      "metadata": {
        "colab": {
          "base_uri": "https://localhost:8080/"
        },
        "id": "YaEkePxe1wki",
        "outputId": "abf9b57b-e9ed-4fd8-acaa-9846bc7f6098"
      },
      "outputs": [
        {
          "data": {
            "text/plain": [
              "{'accuracy': 80.07083278167616,\n",
              " 'f1': 0.7975567357201117,\n",
              " 'precision': 0.8011920265147686,\n",
              " 'recall': 0.8007083278167616}"
            ]
          },
          "execution_count": 60,
          "metadata": {},
          "output_type": "execute_result"
        }
      ],
      "source": [
        "model_1_results"
      ]
    },
    {
      "cell_type": "markdown",
      "metadata": {
        "id": "Tz4fA1IM2fmw"
      },
      "source": [
        "## Model 2 : Feature extraction with pretrained token embedding\n",
        "\n",
        "reference : https://tfhub.dev/google/universal-sentence-encoder/4"
      ]
    },
    {
      "cell_type": "code",
      "execution_count": null,
      "metadata": {
        "id": "oO0AgAcV2zvM"
      },
      "outputs": [],
      "source": [
        "#download pretrained tensorflow hub USE\n",
        "import tensorflow_hub as hub\n",
        "tf_hub_embedding_layer = hub.KerasLayer('https://tfhub.dev/google/universal-sentence-encoder/4',\n",
        "                                        trainable = False,\n",
        "                                        name = 'universal_sentence_encoder')"
      ]
    },
    {
      "cell_type": "code",
      "execution_count": null,
      "metadata": {
        "colab": {
          "base_uri": "https://localhost:8080/"
        },
        "id": "TFYb54N537Xi",
        "outputId": "e9630778-9cca-4182-ae89-8a5c0dea20c5"
      },
      "outputs": [
        {
          "name": "stdout",
          "output_type": "stream",
          "text": [
            "Random sentence: adverse events ( aes ) occurred in @ % , @ % , and @ % of patients , and serious aes occurred in @ % , @ % , and @ % of patients .\n",
            "Sentence after embedding:\n",
            " [[-0.0266442   0.06650238 -0.04380094 -0.02511616  0.07902536  0.01957569\n",
            "  -0.01010744 -0.03309953 -0.03826108  0.01147285  0.08343324 -0.06121542\n",
            "   0.02771736  0.07007635  0.02126204  0.04586772 -0.08402286 -0.06994548\n",
            "   0.02938817 -0.04232827  0.06893381  0.03419052  0.01573376 -0.0694062\n",
            "  -0.05238879 -0.0057681   0.04435274 -0.00721642  0.08086164  0.02950386\n",
            "   0.061139    0.08420291  0.00341542 -0.02405158 -0.04367292 -0.03066227\n",
            "  -0.05905061  0.05820428 -0.03146794 -0.07224765 -0.03588278 -0.0197778\n",
            "   0.05883391 -0.07038837  0.04145847  0.05809341 -0.04221194 -0.03492729\n",
            "   0.06456308  0.04321193  0.03191681  0.06383202 -0.06570511  0.01354472\n",
            "   0.03879602  0.02875551  0.00936825  0.05648154  0.01014688  0.03526498\n",
            "  -0.05082386 -0.03116257  0.00939666  0.06143661 -0.00240152  0.02925768\n",
            "  -0.00996406 -0.05246434  0.0197963  -0.00716983  0.06106304 -0.0276041\n",
            "  -0.06734073  0.04820758 -0.01131015 -0.05076107 -0.05438372  0.07039596\n",
            "  -0.03930378 -0.03841817 -0.06476083  0.03806883  0.00930641  0.0592313\n",
            "   0.00961787  0.07952643  0.02280828 -0.04650046 -0.01377345 -0.08073668\n",
            "  -0.02307012 -0.02012492 -0.0409372  -0.05947621 -0.0430939   0.02583878\n",
            "   0.04131704 -0.02068105  0.00408703  0.03621111 -0.03351504 -0.07361702\n",
            "  -0.04075804 -0.03111045 -0.04168121 -0.04464784 -0.05964974 -0.02006896\n",
            "  -0.01390719  0.04669753  0.02076115 -0.02485073  0.00506682  0.01960979\n",
            "   0.05173193 -0.02153128 -0.00227741  0.03517269  0.06748813  0.02454501\n",
            "  -0.00718493 -0.04875489  0.05338771 -0.02200315 -0.00874866 -0.03571592\n",
            "  -0.07514387 -0.04498009  0.03567643  0.05718118  0.03444573  0.08368441\n",
            "   0.01954193  0.00582974 -0.0282132  -0.06074018  0.03873312  0.03352488\n",
            "  -0.0152039  -0.04983441  0.05015891  0.07009514  0.05234814  0.02856014\n",
            "   0.03304481 -0.044719    0.05778596  0.05682996  0.04747786 -0.07522257\n",
            "  -0.01981948 -0.01058208  0.04343841  0.07342056 -0.01013388  0.00060589\n",
            "  -0.02187214 -0.06251452 -0.00145969  0.07647451 -0.01495452 -0.02843288\n",
            "  -0.06315069  0.04075402  0.05903948 -0.03483161  0.01927969 -0.02051223\n",
            "   0.05858678  0.06673265 -0.02618752 -0.08324607 -0.06148035 -0.05608467\n",
            "  -0.07111123 -0.04678381 -0.00086989 -0.00660674  0.02618003  0.04227751\n",
            "  -0.06182293  0.02982584  0.01909897  0.0491126  -0.01150784  0.03198684\n",
            "   0.03304533  0.02328669  0.05145987  0.0604898   0.05431    -0.00270416\n",
            "  -0.00278553  0.03466345  0.01424315 -0.02344943  0.00416824  0.02375593\n",
            "  -0.01467422 -0.02320367  0.04356691  0.05103995 -0.02443143  0.02036635\n",
            "   0.00027964  0.00622441  0.047369   -0.07723572 -0.02757835 -0.00518823\n",
            "  -0.05542621 -0.06365395 -0.03108532 -0.06457988 -0.00888908  0.06470815\n",
            "   0.05002869 -0.00539088  0.03893405 -0.00115034  0.02013815 -0.03017359\n",
            "   0.02944742  0.04076601 -0.06231625  0.02257861  0.05043478 -0.02180184\n",
            "  -0.05125263 -0.01477761 -0.02046343  0.06871194 -0.05436052  0.02383721\n",
            "   0.00881612  0.03461849  0.0293566   0.06434337 -0.0046332  -0.06742921\n",
            "  -0.01307542  0.05516474  0.01421944  0.01645522  0.06678762 -0.01883799\n",
            "  -0.07069262  0.01628053  0.03570564  0.01450396  0.00987969 -0.03539718\n",
            "  -0.00330422 -0.00105028  0.04044889  0.03692077 -0.02419634  0.01448371\n",
            "  -0.04749975 -0.03119972  0.02115559  0.03638636 -0.03357117 -0.0422407\n",
            "   0.0130714  -0.01747237  0.04804419  0.07935635 -0.05283615 -0.0336552\n",
            "  -0.00590609  0.00136211  0.01905352 -0.07666676 -0.0455175  -0.033131\n",
            "  -0.06740944  0.05279357 -0.01155948 -0.0751757  -0.03868143 -0.02849928\n",
            "  -0.07676438 -0.06309133  0.04637913 -0.02671295  0.00242845 -0.04578453\n",
            "   0.02638058  0.02468236 -0.01186289 -0.01700495 -0.03370344  0.02369497\n",
            "  -0.07550453 -0.07401677 -0.02207996 -0.02843426  0.06248148  0.04992406\n",
            "  -0.01439907 -0.01816048  0.00184307 -0.0589143  -0.02070012  0.00984991\n",
            "  -0.02121323  0.07962886 -0.0451398  -0.02080049 -0.05816869  0.00491019\n",
            "  -0.03310343  0.01918087 -0.06714854 -0.05125324  0.00030278  0.03254871\n",
            "   0.05522422  0.0410575  -0.04956782 -0.02054675  0.00725811  0.04608287\n",
            "  -0.0485338   0.07165001 -0.03348847 -0.01701868 -0.03141404  0.04070085\n",
            "   0.0642617   0.04638219  0.04216445  0.00445581 -0.03158529  0.03760683\n",
            "  -0.06140442  0.06708676 -0.05643852  0.0661343   0.05958341  0.06574775\n",
            "   0.04372948  0.03170149  0.05984549  0.07964568 -0.05205164 -0.03067131\n",
            "  -0.01040792  0.03797142 -0.01117488 -0.02246208 -0.02927002 -0.02587421\n",
            "   0.0527744  -0.00815958  0.06309885  0.01804529 -0.02244844  0.04164863\n",
            "   0.07434873 -0.06170534 -0.04318226 -0.06257001  0.06204065  0.02195408\n",
            "   0.01504788  0.03838602  0.00241028 -0.01250869 -0.01779553  0.01225753\n",
            "   0.0686271   0.06005293  0.05280826  0.07760768  0.02147523  0.02179382\n",
            "  -0.01879686  0.03466248 -0.01775777 -0.06048897  0.02521021 -0.03763377\n",
            "  -0.01442168  0.01523213  0.01535768  0.02759956 -0.00859494 -0.06211042\n",
            "   0.06649718  0.05979003 -0.07895359  0.01365498 -0.05260979 -0.00225418\n",
            "   0.04685472  0.05189301 -0.02113162 -0.08358226  0.06085117  0.05600713\n",
            "   0.0283262   0.0464665  -0.00810322  0.01468832  0.07474342 -0.0577421\n",
            "   0.03958399 -0.00590429 -0.05918925  0.00477621  0.03478671  0.04270567\n",
            "  -0.07139679 -0.04412608 -0.07565708 -0.03855049  0.02252526  0.05029265\n",
            "   0.00894334 -0.0738067  -0.06000248  0.00746965  0.0662054   0.00512346\n",
            "   0.02454654  0.05099249 -0.04754306  0.05466861 -0.07861087 -0.05359776\n",
            "   0.0714058   0.02139858 -0.01078498 -0.03183819  0.02933847 -0.06346552\n",
            "   0.03864854  0.0410499  -0.01818946  0.06992656  0.06208445  0.0672369\n",
            "   0.06939584 -0.05071377 -0.03001557 -0.04060961 -0.03468797  0.044037\n",
            "  -0.05648442  0.01681633  0.06127545 -0.01778174 -0.04152027 -0.06668551\n",
            "   0.07610425  0.00143937 -0.06996705  0.00531376  0.03290669  0.02224712\n",
            "  -0.07096311 -0.01653285  0.0147869   0.00757092 -0.02728777  0.04695642\n",
            "   0.04490814 -0.00209899 -0.02435275  0.04869079 -0.04150907  0.05170198\n",
            "   0.01140384  0.03476578  0.05881951  0.01044706 -0.0457361   0.03997904\n",
            "  -0.05254527  0.07438999  0.0030817   0.0454783   0.04892631 -0.07182392\n",
            "  -0.07986596 -0.06337517  0.04672049 -0.01653472 -0.05658142  0.03767377\n",
            "   0.03585091  0.00671943  0.03687641  0.04634108 -0.04058724 -0.00612808\n",
            "   0.01414815  0.04180771  0.0559153  -0.02856595  0.01878663 -0.0059719\n",
            "   0.05970163 -0.08378212  0.06587965 -0.00274839  0.02013545 -0.03571595\n",
            "  -0.03964749 -0.01216269]]\n",
            "\n",
            "length after embedding:\n",
            " 512\n",
            "\n"
          ]
        }
      ],
      "source": [
        "#Test out of the pretrained embedding on a random sentence\n",
        "random_train_sentence = random.choice(train_sentences)\n",
        "print(f'Random sentence: {random_train_sentence}')\n",
        "use_embedded_sentence = tf_hub_embedding_layer([random_train_sentence])\n",
        "print(f'Sentence after embedding:\\n {use_embedded_sentence}\\n')\n",
        "print(f'length after embedding:\\n {len(use_embedded_sentence[0])}\\n')"
      ]
    },
    {
      "cell_type": "markdown",
      "metadata": {
        "id": "We0UZCTa4Xnz"
      },
      "source": [
        "## Building and fitting an NLP feature extraction model using pretrained embeddings"
      ]
    },
    {
      "cell_type": "code",
      "execution_count": null,
      "metadata": {
        "id": "ye19e3KW4s2w"
      },
      "outputs": [],
      "source": [
        "inputs = layers.Input(shape = [], dtype = tf.string )\n",
        "pretrained_embedding = tf_hub_embedding_layer(inputs) # token text and create embedding of each sequence (512 long)\n",
        "x = layers.Dense(128, activation = 'relu')(pretrained_embedding)\n",
        "# Note : you could add more layers here if you wanted to\n",
        "outputs = layers.Dense(num_classes, activation = 'softmax')(x)\n",
        "model_2 = tf.keras.Model(inputs = inputs,\n",
        "                         outputs = outputs,\n",
        "                         name = 'model_2_USE_feature_extractor')\n",
        "\n",
        "model_2.compile(loss = tf.keras.losses.CategoricalCrossentropy(),\n",
        "                optimizer = tf.keras.optimizers.Adam(),\n",
        "                metrics = ['accuracy'])"
      ]
    },
    {
      "cell_type": "code",
      "execution_count": null,
      "metadata": {
        "colab": {
          "base_uri": "https://localhost:8080/"
        },
        "id": "IZ-0UkfR5evC",
        "outputId": "75ae24ba-c2ef-4e60-f12e-86a073640c35"
      },
      "outputs": [
        {
          "name": "stdout",
          "output_type": "stream",
          "text": [
            "Model: \"model_2_USE_feature_extractor\"\n",
            "_________________________________________________________________\n",
            " Layer (type)                Output Shape              Param #   \n",
            "=================================================================\n",
            " input_2 (InputLayer)        [(None,)]                 0         \n",
            "                                                                 \n",
            " universal_sentence_encoder   (None, 512)              256797824 \n",
            " (KerasLayer)                                                    \n",
            "                                                                 \n",
            " dense_1 (Dense)             (None, 128)               65664     \n",
            "                                                                 \n",
            " dense_2 (Dense)             (None, 5)                 645       \n",
            "                                                                 \n",
            "=================================================================\n",
            "Total params: 256,864,133\n",
            "Trainable params: 66,309\n",
            "Non-trainable params: 256,797,824\n",
            "_________________________________________________________________\n"
          ]
        }
      ],
      "source": [
        "model_2.summary()"
      ]
    },
    {
      "cell_type": "code",
      "execution_count": null,
      "metadata": {
        "colab": {
          "base_uri": "https://localhost:8080/"
        },
        "id": "CxQps_bl5hHp",
        "outputId": "fd30bc5c-620a-4ffd-b950-d850930af6f9"
      },
      "outputs": [
        {
          "name": "stdout",
          "output_type": "stream",
          "text": [
            "Saving TensorBoard log files to: milestone_2/USE_feature_extractor/20220119-103731\n",
            "Epoch 1/5\n",
            "562/562 [==============================] - 12s 15ms/step - loss: 0.9157 - accuracy: 0.6464 - val_loss: 0.7950 - val_accuracy: 0.6918\n",
            "Epoch 2/5\n",
            "562/562 [==============================] - 8s 14ms/step - loss: 0.7682 - accuracy: 0.7018 - val_loss: 0.7539 - val_accuracy: 0.7021\n",
            "Epoch 3/5\n",
            "562/562 [==============================] - 8s 14ms/step - loss: 0.7518 - accuracy: 0.7128 - val_loss: 0.7380 - val_accuracy: 0.7131\n",
            "Epoch 4/5\n",
            "562/562 [==============================] - 8s 14ms/step - loss: 0.7182 - accuracy: 0.7238 - val_loss: 0.7102 - val_accuracy: 0.7324\n",
            "Epoch 5/5\n",
            "562/562 [==============================] - 8s 15ms/step - loss: 0.7253 - accuracy: 0.7210 - val_loss: 0.6911 - val_accuracy: 0.7347\n"
          ]
        }
      ],
      "source": [
        "history_model_2 = model_2.fit(train_dataset,\n",
        "                              epochs = 5,\n",
        "                              steps_per_epoch = int(0.1*len(train_dataset)),\n",
        "                              validation_data = valid_dataset,\n",
        "                              validation_steps = int(0.1*len(valid_dataset)),\n",
        "                              callbacks = [create_tensorboard_callback(dir_name = dir_name,\n",
        "                                                                       experiment_name = 'USE_feature_extractor')])"
      ]
    },
    {
      "cell_type": "code",
      "execution_count": null,
      "metadata": {
        "colab": {
          "base_uri": "https://localhost:8080/"
        },
        "id": "o52s_MDQ523H",
        "outputId": "32a2d176-ae51-4478-c916-c8ae33b2c8b8"
      },
      "outputs": [
        {
          "name": "stdout",
          "output_type": "stream",
          "text": [
            "945/945 [==============================] - 11s 12ms/step - loss: 0.6973 - accuracy: 0.7348\n"
          ]
        },
        {
          "data": {
            "text/plain": [
              "[0.6973399519920349, 0.7348073720932007]"
            ]
          },
          "execution_count": 66,
          "metadata": {},
          "output_type": "execute_result"
        }
      ],
      "source": [
        "model_2.evaluate(valid_dataset)"
      ]
    },
    {
      "cell_type": "code",
      "execution_count": null,
      "metadata": {
        "colab": {
          "base_uri": "https://localhost:8080/",
          "height": 573
        },
        "id": "XIhJHMKI6Etv",
        "outputId": "43a5e975-8f54-475e-8fba-354bbef363ba"
      },
      "outputs": [
        {
          "data": {
            "image/png": "[encoded data removed]",
            "text/plain": [
              "<Figure size 432x288 with 1 Axes>"
            ]
          },
          "metadata": {},
          "output_type": "display_data"
        },
        {
          "data": {
            "image/png": "[encoded data removed]",
            "text/plain": [
              "<Figure size 432x288 with 1 Axes>"
            ]
          },
          "metadata": {},
          "output_type": "display_data"
        }
      ],
      "source": [
        "plot_loss_curves(history_model_2)"
      ]
    },
    {
      "cell_type": "code",
      "execution_count": null,
      "metadata": {
        "id": "35XOuvn85_xk"
      },
      "outputs": [],
      "source": [
        "model_2_results = model_results(model_2,\n",
        "                                y_true = val_labels_encoded,\n",
        "                                validation_data = valid_dataset)"
      ]
    },
    {
      "cell_type": "code",
      "execution_count": null,
      "metadata": {
        "colab": {
          "base_uri": "https://localhost:8080/"
        },
        "id": "HmhnlWqQ6p3V",
        "outputId": "1fef466c-5a5a-4daf-a822-a6e1dd8ed6c2"
      },
      "outputs": [
        {
          "data": {
            "text/plain": [
              "{'accuracy': 72.1832384482987,\n",
              " 'f1': 0.6989250353450294,\n",
              " 'precision': 0.7186466952323352,\n",
              " 'recall': 0.7218323844829869}"
            ]
          },
          "execution_count": 69,
          "metadata": {},
          "output_type": "execute_result"
        }
      ],
      "source": [
        "baseline_results"
      ]
    },
    {
      "cell_type": "code",
      "execution_count": null,
      "metadata": {
        "colab": {
          "base_uri": "https://localhost:8080/"
        },
        "id": "rYMXpK0M6EKY",
        "outputId": "baae9ab2-c788-4b88-f2b7-a0d5ef89f9bf"
      },
      "outputs": [
        {
          "data": {
            "text/plain": [
              "{'accuracy': 73.48073613133855,\n",
              " 'f1': 0.7289172357010698,\n",
              " 'precision': 0.731029264372925,\n",
              " 'recall': 0.7348073613133854}"
            ]
          },
          "execution_count": 70,
          "metadata": {},
          "output_type": "execute_result"
        }
      ],
      "source": [
        "model_2_results"
      ]
    },
    {
      "cell_type": "code",
      "execution_count": null,
      "metadata": {
        "colab": {
          "base_uri": "https://localhost:8080/"
        },
        "id": "Trjs8Jym6g4A",
        "outputId": "1ed56350-c978-4fdc-ce54-0aeb9ac1bf95"
      },
      "outputs": [
        {
          "data": {
            "text/plain": [
              "{'accuracy': 80.07083278167616,\n",
              " 'f1': 0.7975567357201117,\n",
              " 'precision': 0.8011920265147686,\n",
              " 'recall': 0.8007083278167616}"
            ]
          },
          "execution_count": 71,
          "metadata": {},
          "output_type": "execute_result"
        }
      ],
      "source": [
        "model_1_results"
      ]
    },
    {
      "cell_type": "markdown",
      "metadata": {
        "id": "DTU-r10V6rrR"
      },
      "source": [
        "## Model 3 : Conv1D with character embeddings"
      ]
    },
    {
      "cell_type": "markdown",
      "metadata": {
        "id": "TEPQ_lmm64Ct"
      },
      "source": [
        "### Create a character level tokenizer"
      ]
    },
    {
      "cell_type": "code",
      "execution_count": null,
      "metadata": {
        "colab": {
          "base_uri": "https://localhost:8080/"
        },
        "id": "S_D6F5RW8F4x",
        "outputId": "93da93f9-5d13-4f24-e5a1-77b7fd44e1a1"
      },
      "outputs": [
        {
          "data": {
            "text/plain": [
              "['to investigate the efficacy of @ weeks of daily low-dose oral prednisolone in improving pain , mobility , and systemic low-grade inflammation in the short term and whether the effect would be sustained at @ weeks in older adults with moderate to severe knee osteoarthritis ( oa ) .',\n",
              " 'a total of @ patients with primary knee oa were randomized @:@ ; @ received @ mg/day of prednisolone and @ received placebo for @ weeks .',\n",
              " 'outcome measures included pain reduction and improvement in function scores and systemic inflammation markers .',\n",
              " 'pain was assessed using the visual analog pain scale ( @-@ mm ) .',\n",
              " 'secondary outcome measures included the western ontario and mcmaster universities osteoarthritis index scores , patient global assessment ( pga ) of the severity of knee oa , and @-min walk distance ( @mwd ) .']"
            ]
          },
          "execution_count": 72,
          "metadata": {},
          "output_type": "execute_result"
        }
      ],
      "source": [
        "train_sentences[:5]"
      ]
    },
    {
      "cell_type": "code",
      "execution_count": null,
      "metadata": {
        "id": "LPfFZvk38H_7"
      },
      "outputs": [],
      "source": [
        "def split_chars(text):\n",
        "  return ' '.join(list(text))"
      ]
    },
    {
      "cell_type": "code",
      "execution_count": null,
      "metadata": {
        "colab": {
          "base_uri": "https://localhost:8080/",
          "height": 73
        },
        "id": "haDjBQra8QbJ",
        "outputId": "bf9982f8-9428-4677-f511-40c9b99b6448"
      },
      "outputs": [
        {
          "data": {
            "application/vnd.google.colaboratory.intrinsic+json": {
              "type": "string"
            },
            "text/plain": [
              "'t o   i n v e s t i g a t e   t h e   e f f i c a c y   o f   @   w e e k s   o f   d a i l y   l o w - d o s e   o r a l   p r e d n i s o l o n e   i n   i m p r o v i n g   p a i n   ,   m o b i l i t y   ,   a n d   s y s t e m i c   l o w - g r a d e   i n f l a m m a t i o n   i n   t h e   s h o r t   t e r m   a n d   w h e t h e r   t h e   e f f e c t   w o u l d   b e   s u s t a i n e d   a t   @   w e e k s   i n   o l d e r   a d u l t s   w i t h   m o d e r a t e   t o   s e v e r e   k n e e   o s t e o a r t h r i t i s   (   o a   )   .'"
            ]
          },
          "execution_count": 74,
          "metadata": {},
          "output_type": "execute_result"
        }
      ],
      "source": [
        "split_chars(train_sentences[0])"
      ]
    },
    {
      "cell_type": "code",
      "execution_count": null,
      "metadata": {
        "id": "EhzRqgO88TzP"
      },
      "outputs": [],
      "source": [
        "#split sequence-level data splits into character -level data_spits)\n",
        "train_chars = [split_chars(sentence) for sentence in train_sentences]\n",
        "val_chars = [split_chars(sentence) for sentence in val_sentences]\n",
        "test_chars = [split_chars(sentence) for sentence in test_sentences]"
      ]
    },
    {
      "cell_type": "code",
      "execution_count": null,
      "metadata": {
        "colab": {
          "base_uri": "https://localhost:8080/"
        },
        "id": "Tl6XeHD98oGp",
        "outputId": "da4dc91b-34d4-4c9a-a6d3-1707513e039b"
      },
      "outputs": [
        {
          "data": {
            "text/plain": [
              "149.3662574983337"
            ]
          },
          "execution_count": 76,
          "metadata": {},
          "output_type": "execute_result"
        }
      ],
      "source": [
        "char_lens = [len(sentence) for sentence in train_sentences]\n",
        "mean_char_len = np.mean(char_lens)\n",
        "mean_char_len"
      ]
    },
    {
      "cell_type": "code",
      "execution_count": null,
      "metadata": {
        "colab": {
          "base_uri": "https://localhost:8080/",
          "height": 265
        },
        "id": "dwf3Qxlx8qzZ",
        "outputId": "7401cf64-ae2a-4abf-bf3a-37a51596572c"
      },
      "outputs": [
        {
          "data": {
            "image/png": "[encoded data removed]",
            "text/plain": [
              "<Figure size 432x288 with 1 Axes>"
            ]
          },
          "metadata": {},
          "output_type": "display_data"
        }
      ],
      "source": [
        "plt.hist(char_lens,bins = 7);"
      ]
    },
    {
      "cell_type": "code",
      "execution_count": null,
      "metadata": {
        "colab": {
          "base_uri": "https://localhost:8080/"
        },
        "id": "dvCKOL7Q87ME",
        "outputId": "fde1ecfb-4526-460a-afe7-de9c9aa16152"
      },
      "outputs": [
        {
          "data": {
            "text/plain": [
              "290"
            ]
          },
          "execution_count": 78,
          "metadata": {},
          "output_type": "execute_result"
        }
      ],
      "source": [
        "#Find what character length covers 95% of sequences\n",
        "output_seq_char_len = int(np.percentile(char_lens,95))\n",
        "output_seq_char_len"
      ]
    },
    {
      "cell_type": "code",
      "execution_count": null,
      "metadata": {
        "colab": {
          "base_uri": "https://localhost:8080/"
        },
        "id": "RkHLWv7Z9IUt",
        "outputId": "07e7369a-3a42-4dee-d23b-678d18db2918"
      },
      "outputs": [
        {
          "data": {
            "text/plain": [
              "('abcdefghijklmnopqrstuvwxyz0123456789!\"#$%&\\'()*+,-./:;<=>?@[\\\\]^_`{|}~', 68)"
            ]
          },
          "execution_count": 79,
          "metadata": {},
          "output_type": "execute_result"
        }
      ],
      "source": [
        "# Get all keyboard characters\n",
        "import string\n",
        "alphabet = string.ascii_lowercase + string.digits + string.punctuation\n",
        "alphabet , len(alphabet)"
      ]
    },
    {
      "cell_type": "code",
      "execution_count": null,
      "metadata": {
        "id": "r_JwaV7S9fZb"
      },
      "outputs": [],
      "source": [
        "#Create char-level token vectorizer instance\n",
        "NUM_CHAR_TOKENS = len(alphabet) + 2 # add 2 for space and OOV token/[UNK]\n",
        "char_vectorizer = TextVectorization(max_tokens = NUM_CHAR_TOKENS,\n",
        "                                    output_sequence_length = output_seq_char_len,\n",
        "                                    #standardize = None,\n",
        "                                    name = 'char_vectorizer')"
      ]
    },
    {
      "cell_type": "code",
      "execution_count": null,
      "metadata": {
        "id": "soz13N9t91aO"
      },
      "outputs": [],
      "source": [
        "# Adapt character vectorizer to training character\n",
        "char_vectorizer.adapt(train_chars)"
      ]
    },
    {
      "cell_type": "code",
      "execution_count": null,
      "metadata": {
        "colab": {
          "base_uri": "https://localhost:8080/"
        },
        "id": "QhOfDpzK9_b6",
        "outputId": "2dce93a8-99b7-4994-c611-256eceba9ad2"
      },
      "outputs": [
        {
          "name": "stdout",
          "output_type": "stream",
          "text": [
            "Number of different characters in character vocab:28\n",
            "5 most common characters : ['', '[UNK]', 'e', 't', 'i']\n",
            "5 least common characters : ['k', 'x', 'z', 'q', 'j']\n"
          ]
        }
      ],
      "source": [
        "char_vocab = char_vectorizer.get_vocabulary()\n",
        "print(f'Number of different characters in character vocab:{len(char_vocab)}')\n",
        "print(f'5 most common characters : {char_vocab[:5]}')\n",
        "print(f'5 least common characters : {char_vocab[-5:]}')"
      ]
    },
    {
      "cell_type": "code",
      "execution_count": null,
      "metadata": {
        "colab": {
          "base_uri": "https://localhost:8080/"
        },
        "id": "Y8LTyvrQ-P6M",
        "outputId": "1df1f33b-bea2-4097-ee32-0827000c6a2f"
      },
      "outputs": [
        {
          "name": "stdout",
          "output_type": "stream",
          "text": [
            "Charified text:\n",
            " t h e   t o t a l   s u c c e s s   r a t e   a t   @   w e e k s   w a s   l o w e r   f o r   e x p e c t a n t   t h a n   f o r   s u r g i c a l   m a n a g e m e n t   (   @   v s   @   %   ;   p   =   @   )   .\n",
            "length of random_train_chars [['t', 'h', 'e', 't', 'o', 't', 'a', 'l', 's', 'u', 'c', 'c', 'e', 's', 's', 'r', 'a', 't', 'e', 'a', 't', '@', 'w', 'e', 'e', 'k', 's', 'w', 'a', 's', 'l', 'o', 'w', 'e', 'r', 'f', 'o', 'r', 'e', 'x', 'p', 'e', 'c', 't', 'a', 'n', 't', 't', 'h', 'a', 'n', 'f', 'o', 'r', 's', 'u', 'r', 'g', 'i', 'c', 'a', 'l', 'm', 'a', 'n', 'a', 'g', 'e', 'm', 'e', 'n', 't', '(', '@', 'v', 's', '@', '%', ';', 'p', '=', '@', ')', '.']]\n",
            "\n",
            "Vectorized char:\n",
            " [[ 3 13  2  3  7  3  5 12  9 16 11 11  2  9  9  8  5  3  2  5  3 20  2  2\n",
            "  23  9 20  5  9 12  7 20  2  8 17  7  8  2 24 14  2 11  3  5  6  3  3 13\n",
            "   5  6 17  7  8  9 16  8 18  4 11  5 12 15  5  6  5 18  2 15  2  6  3 21\n",
            "   9 14  0  0  0  0  0  0  0  0  0  0  0  0  0  0  0  0  0  0  0  0  0  0\n",
            "   0  0  0  0  0  0  0  0  0  0  0  0  0  0  0  0  0  0  0  0  0  0  0  0\n",
            "   0  0  0  0  0  0  0  0  0  0  0  0  0  0  0  0  0  0  0  0  0  0  0  0\n",
            "   0  0  0  0  0  0  0  0  0  0  0  0  0  0  0  0  0  0  0  0  0  0  0  0\n",
            "   0  0  0  0  0  0  0  0  0  0  0  0  0  0  0  0  0  0  0  0  0  0  0  0\n",
            "   0  0  0  0  0  0  0  0  0  0  0  0  0  0  0  0  0  0  0  0  0  0  0  0\n",
            "   0  0  0  0  0  0  0  0  0  0  0  0  0  0  0  0  0  0  0  0  0  0  0  0\n",
            "   0  0  0  0  0  0  0  0  0  0  0  0  0  0  0  0  0  0  0  0  0  0  0  0\n",
            "   0  0  0  0  0  0  0  0  0  0  0  0  0  0  0  0  0  0  0  0  0  0  0  0\n",
            "   0  0]]\n",
            "\n",
            "Length of vectorized chars : 290\n"
          ]
        }
      ],
      "source": [
        "# Test out character vectorizer\n",
        "random_train_chars = random.choice(train_chars)\n",
        "print(f'Charified text:\\n {random_train_chars}')\n",
        "print(f'length of random_train_chars {[random_train_chars.split()]}')\n",
        "vectorized_chars = char_vectorizer([random_train_chars])\n",
        "print(f'\\nVectorized char:\\n {vectorized_chars}')\n",
        "print(f'\\nLength of vectorized chars : {len(vectorized_chars[0])}')"
      ]
    },
    {
      "cell_type": "markdown",
      "metadata": {
        "id": "AnOSiNVs-_Y2"
      },
      "source": [
        "## Creating a charcter level embedding:"
      ]
    },
    {
      "cell_type": "code",
      "execution_count": null,
      "metadata": {
        "id": "baAaQs5n_b1D"
      },
      "outputs": [],
      "source": [
        "char_embed =layers.Embedding(input_dim = len(char_vocab), # number of different characters\n",
        "                             output_dim = 24, # this is the size of the embedding in the paper (figure 1)\n",
        "                             mask_zero = True,\n",
        "                             name = 'char_embed')"
      ]
    },
    {
      "cell_type": "code",
      "execution_count": null,
      "metadata": {
        "colab": {
          "base_uri": "https://localhost:8080/"
        },
        "id": "Rd4zBtXV_-zk",
        "outputId": "bb34f3f0-70ab-4ffe-9f5c-cfa534ff2936"
      },
      "outputs": [
        {
          "name": "stdout",
          "output_type": "stream",
          "text": [
            "Charified text : \n",
            " t h e   t o t a l   s u c c e s s   r a t e   a t   @   w e e k s   w a s   l o w e r   f o r   e x p e c t a n t   t h a n   f o r   s u r g i c a l   m a n a g e m e n t   (   @   v s   @   %   ;   p   =   @   )   .\n",
            "Embedded chars. (after vectorization and embedding) : \n",
            " [[[ 0.00083058  0.03352585 -0.04307758 ...  0.03429807  0.03831117\n",
            "    0.0392541 ]\n",
            "  [-0.0305071  -0.00184268 -0.00578108 ... -0.01821616  0.0472925\n",
            "   -0.00292847]\n",
            "  [ 0.04613404 -0.00882391  0.04722747 ... -0.01174877 -0.0146183\n",
            "   -0.01191262]\n",
            "  ...\n",
            "  [ 0.0234386   0.00932823 -0.00542967 ... -0.03299256 -0.02201608\n",
            "   -0.02243151]\n",
            "  [ 0.0234386   0.00932823 -0.00542967 ... -0.03299256 -0.02201608\n",
            "   -0.02243151]\n",
            "  [ 0.0234386   0.00932823 -0.00542967 ... -0.03299256 -0.02201608\n",
            "   -0.02243151]]]\n",
            "Embedded chars shape : \n",
            " (1, 290, 25)\n",
            "Length of charified text : \n",
            " 217\n"
          ]
        }
      ],
      "source": [
        "# test our character embedding layer\n",
        "print(f'Charified text : \\n {random_train_chars}')\n",
        "char_embed_example = char_embed(char_vectorizer([random_train_chars]))\n",
        "print(f'Embedded chars. (after vectorization and embedding) : \\n {char_embed_example}')\n",
        "print(f'Embedded chars shape : \\n {char_embed_example.shape}')\n",
        "print(f'Length of charified text : \\n {len(random_train_chars)}')"
      ]
    },
    {
      "cell_type": "code",
      "execution_count": null,
      "metadata": {
        "id": "wkvBdUJRAWQg"
      },
      "outputs": [],
      "source": [
        "inputs = layers.Input(shape = (1,), dtype = tf.string )\n",
        "char_vectors = char_vectorizer(inputs)\n",
        "char_embeddings = char_embed(char_vectors) # token text and create embedding of each sequence (512 long)\n",
        "x = layers.Conv1D(64, kernel_size = 5, padding = 'same',\n",
        "                  activation = 'relu')(char_embeddings)\n",
        "x = layers.GlobalMaxPooling1D()(x)\n",
        "# Note : you could add more layers here if you wanted to\n",
        "outputs = layers.Dense(num_classes, activation = 'softmax')(x)\n",
        "model_3 = tf.keras.Model(inputs = inputs,\n",
        "                         outputs = outputs,\n",
        "                         name = 'model_3_conv1d_char_embedding')\n",
        "\n",
        "model_3.compile(loss = tf.keras.losses.CategoricalCrossentropy(),\n",
        "                optimizer = tf.keras.optimizers.Adam(),\n",
        "                metrics = ['accuracy'])"
      ]
    },
    {
      "cell_type": "code",
      "execution_count": null,
      "metadata": {
        "id": "5p1XDvf6BdlS"
      },
      "outputs": [],
      "source": [
        "#create char level datasets\n",
        "\n",
        "train_char_dataset = tf.data.Dataset.from_tensor_slices((train_chars,train_labels_one_hot)).batch(32).prefetch(tf.data.AUTOTUNE)\n",
        "val_char_dataset = tf.data.Dataset.from_tensor_slices((val_chars,val_labels_one_hot)).batch(32).prefetch(tf.data.AUTOTUNE)\n",
        "test_char_dataset = tf.data.Dataset.from_tensor_slices((test_chars,test_labels_one_hot)).batch(32).prefetch(tf.data.AUTOTUNE)"
      ]
    },
    {
      "cell_type": "code",
      "execution_count": null,
      "metadata": {
        "colab": {
          "base_uri": "https://localhost:8080/"
        },
        "id": "N0fNrC4NCGsm",
        "outputId": "30d3e064-1338-4bc2-8c65-55859f2d0b67"
      },
      "outputs": [
        {
          "name": "stdout",
          "output_type": "stream",
          "text": [
            "Saving TensorBoard log files to: milestone_2/character_embedding/20220119-103934\n",
            "Epoch 1/3\n",
            "562/562 [==============================] - 17s 30ms/step - loss: 1.2615 - accuracy: 0.4966 - val_loss: 1.0284 - val_accuracy: 0.5888\n",
            "Epoch 2/3\n",
            "562/562 [==============================] - 17s 30ms/step - loss: 0.9971 - accuracy: 0.5974 - val_loss: 0.9297 - val_accuracy: 0.6310\n",
            "Epoch 3/3\n",
            "562/562 [==============================] - 17s 30ms/step - loss: 0.9153 - accuracy: 0.6398 - val_loss: 0.8605 - val_accuracy: 0.6606\n"
          ]
        }
      ],
      "source": [
        "model_3_history = model_3.fit(train_char_dataset,\n",
        "                              steps_per_epoch = int(0.1*len(train_char_dataset)),\n",
        "                              epochs = 3,\n",
        "                              validation_data = val_char_dataset,\n",
        "                              validation_steps = int(0.1*len(val_char_dataset)),\n",
        "                              callbacks = [create_tensorboard_callback(dir_name = dir_name,\n",
        "                                                                       experiment_name = 'character_embedding')])"
      ]
    },
    {
      "cell_type": "code",
      "execution_count": null,
      "metadata": {
        "colab": {
          "base_uri": "https://localhost:8080/",
          "height": 573
        },
        "id": "gEGKgMDhCgoC",
        "outputId": "92a46d13-00f7-4346-fc7b-fbb5c42e313b"
      },
      "outputs": [
        {
          "data": {
            "image/png": "[encoded data removed]",
            "text/plain": [
              "<Figure size 432x288 with 1 Axes>"
            ]
          },
          "metadata": {},
          "output_type": "display_data"
        },
        {
          "data": {
            "image/png": "[encoded data removed]",
            "text/plain": [
              "<Figure size 432x288 with 1 Axes>"
            ]
          },
          "metadata": {},
          "output_type": "display_data"
        }
      ],
      "source": [
        "plot_loss_curves(model_3_history)"
      ]
    },
    {
      "cell_type": "code",
      "execution_count": null,
      "metadata": {
        "id": "7DO0fZvQDC14"
      },
      "outputs": [],
      "source": [
        "model_3_results = model_results(model_3,\n",
        "                                y_true = val_labels_encoded,\n",
        "                                validation_data = val_char_dataset)"
      ]
    },
    {
      "cell_type": "code",
      "execution_count": null,
      "metadata": {
        "colab": {
          "base_uri": "https://localhost:8080/"
        },
        "id": "n0oo4H9MDO_G",
        "outputId": "529f2a6d-f720-4aa0-fdc5-b13594ccb35c"
      },
      "outputs": [
        {
          "data": {
            "text/plain": [
              "{'accuracy': 65.89765656030715,\n",
              " 'f1': 0.6501473830885117,\n",
              " 'precision': 0.6528907769708945,\n",
              " 'recall': 0.6589765656030716}"
            ]
          },
          "execution_count": 91,
          "metadata": {},
          "output_type": "execute_result"
        }
      ],
      "source": [
        "model_3_results"
      ]
    },
    {
      "cell_type": "markdown",
      "metadata": {
        "id": "kyEaOhbuEYFJ"
      },
      "source": [
        ""
      ]
    },
    {
      "cell_type": "markdown",
      "metadata": {
        "id": "5f4RESjzD_gg"
      },
      "source": [
        "## Experiment 4 : concatenating models - \n",
        "\n",
        "token embedding + characters embeddings (hybrid)"
      ]
    },
    {
      "cell_type": "code",
      "execution_count": null,
      "metadata": {
        "id": "o9BdV7hBEDsc"
      },
      "outputs": [],
      "source": [
        "#setup token input/model\n",
        "token_inputs = layers.Input(shape = [], dtype =tf.string)\n",
        "token_embeddings = tf_hub_embedding_layer(token_inputs)\n",
        "token_output = layers.Dense(128,activation = 'relu')(token_embeddings)\n",
        "token_model = tf.keras.Model(inputs = token_inputs,\n",
        "                             outputs = token_output)"
      ]
    },
    {
      "cell_type": "code",
      "execution_count": null,
      "metadata": {
        "id": "zZYacu-DFXQ8"
      },
      "outputs": [],
      "source": [
        "#setup char inputs/model\n",
        "char_inputs = layers.Input(shape=(1,), dtype = tf.string)\n",
        "char_vectors = char_vectorizer(char_inputs)\n",
        "char_embeddings = char_embed(char_vectors)\n",
        "char_bi_lstm = layers.Bidirectional(layers.LSTM(24))(char_embeddings)\n",
        "char_model = tf.keras.Model(inputs=char_inputs,\n",
        "                            outputs = char_bi_lstm)"
      ]
    },
    {
      "cell_type": "code",
      "execution_count": null,
      "metadata": {
        "id": "vM-UT_ESF7OP"
      },
      "outputs": [],
      "source": [
        "#concatenate token an char inputs\n",
        "token_char_concat = layers.Concatenate(name = 'token_char_concat')([token_model.output,\n",
        "                                                                    char_model.output])"
      ]
    },
    {
      "cell_type": "code",
      "execution_count": null,
      "metadata": {
        "id": "e6cl1cyiGiLQ"
      },
      "outputs": [],
      "source": [
        "#create output layers - adding in dropout\n",
        "combined_dropout = layers.Dropout(rate = 0.5)(token_char_concat)\n",
        "combined_dense = layers.Dense(128,activation = 'relu')(combined_dropout)\n",
        "final_dropout = layers.Dropout(rate = 0.5)(combined_dense)\n",
        "output_layer = layers.Dense(num_classes , activation = 'softmax')(final_dropout)"
      ]
    },
    {
      "cell_type": "code",
      "execution_count": null,
      "metadata": {
        "id": "Pcn8yXwDG5Lc"
      },
      "outputs": [],
      "source": [
        "#Construct model with char and token inputs\n",
        "\n",
        "model_4 = tf.keras.Model(inputs =[token_model.input,char_model.input],\n",
        "                         outputs = output_layer,\n",
        "                         name = 'model_4_token_and_char_embeddings')"
      ]
    },
    {
      "cell_type": "code",
      "execution_count": null,
      "metadata": {
        "colab": {
          "base_uri": "https://localhost:8080/"
        },
        "id": "w45rLBs2Hqp5",
        "outputId": "772e7907-f33c-490f-ad4c-4e8c2da36842"
      },
      "outputs": [
        {
          "name": "stdout",
          "output_type": "stream",
          "text": [
            "Model: \"model_4_token_and_char_embeddings\"\n",
            "__________________________________________________________________________________________________\n",
            " Layer (type)                   Output Shape         Param #     Connected to                     \n",
            "==================================================================================================\n",
            " input_5 (InputLayer)           [(None, 1)]          0           []                               \n",
            "                                                                                                  \n",
            " input_4 (InputLayer)           [(None,)]            0           []                               \n",
            "                                                                                                  \n",
            " char_vectorizer (TextVectoriza  (None, 290)         0           ['input_5[0][0]']                \n",
            " tion)                                                                                            \n",
            "                                                                                                  \n",
            " universal_sentence_encoder (Ke  (None, 512)         256797824   ['input_4[0][0]']                \n",
            " rasLayer)                                                                                        \n",
            "                                                                                                  \n",
            " char_embed (Embedding)         (None, 290, 25)      700         ['char_vectorizer[1][0]']        \n",
            "                                                                                                  \n",
            " dense_4 (Dense)                (None, 128)          65664       ['universal_sentence_encoder[1][0\n",
            "                                                                 ]']                              \n",
            "                                                                                                  \n",
            " bidirectional (Bidirectional)  (None, 48)           9600        ['char_embed[1][0]']             \n",
            "                                                                                                  \n",
            " token_char_concat (Concatenate  (None, 176)         0           ['dense_4[0][0]',                \n",
            " )                                                                'bidirectional[0][0]']          \n",
            "                                                                                                  \n",
            " dropout (Dropout)              (None, 176)          0           ['token_char_concat[0][0]']      \n",
            "                                                                                                  \n",
            " dense_5 (Dense)                (None, 128)          22656       ['dropout[0][0]']                \n",
            "                                                                                                  \n",
            " dropout_1 (Dropout)            (None, 128)          0           ['dense_5[0][0]']                \n",
            "                                                                                                  \n",
            " dense_6 (Dense)                (None, 5)            645         ['dropout_1[0][0]']              \n",
            "                                                                                                  \n",
            "==================================================================================================\n",
            "Total params: 256,897,089\n",
            "Trainable params: 99,265\n",
            "Non-trainable params: 256,797,824\n",
            "__________________________________________________________________________________________________\n"
          ]
        }
      ],
      "source": [
        "model_4.summary()"
      ]
    },
    {
      "cell_type": "code",
      "execution_count": null,
      "metadata": {
        "colab": {
          "base_uri": "https://localhost:8080/",
          "height": 976
        },
        "id": "y7snlOCDH03-",
        "outputId": "13aee854-d888-45b4-ae20-de068b344883"
      },
      "outputs": [
        {
          "data": {
            "image/png": "[encoded data removed]",
            "text/plain": [
              "<IPython.core.display.Image object>"
            ]
          },
          "execution_count": 98,
          "metadata": {},
          "output_type": "execute_result"
        }
      ],
      "source": [
        "#Plot hybrd token and character model\n",
        "from tensorflow.keras.utils import plot_model\n",
        "plot_model(model_4, show_shapes = True)"
      ]
    },
    {
      "cell_type": "code",
      "execution_count": null,
      "metadata": {
        "id": "JoePwfYAHhaB"
      },
      "outputs": [],
      "source": [
        "model_4.compile(loss = tf.keras.losses.CategoricalCrossentropy(),\n",
        "                optimizer = tf.keras.optimizers.Adam(),\n",
        "                metrics = ['accuracy'])"
      ]
    },
    {
      "cell_type": "code",
      "execution_count": null,
      "metadata": {
        "id": "Mw3q8E-cIDpo"
      },
      "outputs": [],
      "source": [
        "## Combining token and character data into a tf.data Dataset\n",
        "train_char_token_data = tf.data.Dataset.from_tensor_slices((train_sentences,train_chars))\n",
        "train_char_token_labels = tf.data.Dataset.from_tensor_slices(train_labels_one_hot)\n",
        "train_char_token_dataset = tf.data.Dataset.zip((train_char_token_data,train_char_token_labels))\n",
        "\n",
        "val_char_token_data = tf.data.Dataset.from_tensor_slices((val_sentences,val_chars))\n",
        "val_char_token_labels = tf.data.Dataset.from_tensor_slices(val_labels_one_hot)\n",
        "val_char_token_dataset = tf.data.Dataset.zip((val_char_token_data,val_char_token_labels))\n",
        "\n",
        "test_char_token_data = tf.data.Dataset.from_tensor_slices((test_sentences,test_chars))\n",
        "test_char_token_labels = tf.data.Dataset.from_tensor_slices(test_labels_one_hot)\n",
        "test_char_token_dataset = tf.data.Dataset.zip((test_char_token_data,test_char_token_labels))"
      ]
    },
    {
      "cell_type": "code",
      "execution_count": null,
      "metadata": {
        "id": "uaUNTkrJJLqQ"
      },
      "outputs": [],
      "source": [
        "#Prefetch and batch train_data\n",
        "train_char_token_dataset = train_char_token_dataset.batch(32).prefetch(tf.data.AUTOTUNE)\n",
        "val_char_token_dataset = val_char_token_dataset.batch(32).prefetch(tf.data.AUTOTUNE)\n",
        "test_char_token_dataset = test_char_token_dataset.batch(32).prefetch(tf.data.AUTOTUNE)\n",
        "                                                                   "
      ]
    },
    {
      "cell_type": "code",
      "execution_count": null,
      "metadata": {
        "colab": {
          "base_uri": "https://localhost:8080/"
        },
        "id": "9tCOkbp-KR1J",
        "outputId": "1cfd1805-6721-4991-9587-bc06a7a53687"
      },
      "outputs": [
        {
          "data": {
            "text/plain": [
              "(<PrefetchDataset shapes: (((None,), (None,)), (None, 5)), types: ((tf.string, tf.string), tf.float64)>,\n",
              " <PrefetchDataset shapes: (((None,), (None,)), (None, 5)), types: ((tf.string, tf.string), tf.float64)>)"
            ]
          },
          "execution_count": 102,
          "metadata": {},
          "output_type": "execute_result"
        }
      ],
      "source": [
        "#check out our training char and token embedding dataset - the order of the data is important, and is dependent on how your model is ordered\n",
        "train_char_token_dataset , val_char_token_dataset"
      ]
    },
    {
      "cell_type": "code",
      "execution_count": null,
      "metadata": {
        "colab": {
          "background_save": true,
          "base_uri": "https://localhost:8080/"
        },
        "id": "LgC1rcRxMxf7",
        "outputId": "c66abd56-9e7e-4943-9344-13a6fb1a90be"
      },
      "outputs": [
        {
          "name": "stdout",
          "output_type": "stream",
          "text": [
            "Saving TensorBoard log files to: milestone_2/token and char model/20220119-104107\n",
            "Epoch 1/5\n",
            "562/562 [==============================] - 197s 334ms/step - loss: 0.9827 - accuracy: 0.6123 - val_loss: 0.7875 - val_accuracy: 0.6975\n",
            "Epoch 2/5\n",
            "562/562 [==============================] - 177s 316ms/step - loss: 0.8025 - accuracy: 0.6876 - val_loss: 0.7180 - val_accuracy: 0.7257\n",
            "Epoch 3/5\n",
            "562/562 [==============================] - 173s 308ms/step - loss: 0.7695 - accuracy: 0.7056 - val_loss: 0.6901 - val_accuracy: 0.7404\n",
            "Epoch 4/5\n",
            "562/562 [==============================] - 164s 292ms/step - loss: 0.7371 - accuracy: 0.7179 - val_loss: 0.6683 - val_accuracy: 0.7447\n",
            "Epoch 5/5\n",
            "562/562 [==============================] - 168s 299ms/step - loss: 0.7463 - accuracy: 0.7155 - val_loss: 0.6524 - val_accuracy: 0.7513\n"
          ]
        },
        {
          "data": {
            "text/plain": [
              "<keras.callbacks.History at 0x7f27d0ef5790>"
            ]
          },
          "execution_count": null,
          "metadata": {},
          "output_type": "execute_result"
        }
      ],
      "source": [
        "model_4.fit(train_char_token_dataset,\n",
        "            steps_per_epoch = int(0.1*len(train_char_token_dataset)),\n",
        "            epochs = 5,\n",
        "            validation_data = val_char_token_dataset,\n",
        "            validation_steps = int(0.1*len(val_char_token_dataset)),\n",
        "            callbacks = [create_tensorboard_callback(dir_name = dir_name,\n",
        "                                                     experiment_name = 'token and char model')])"
      ]
    },
    {
      "cell_type": "code",
      "execution_count": null,
      "metadata": {
        "colab": {
          "background_save": true
        },
        "id": "zbka_NbwNh4F",
        "outputId": "4d2ded41-c530-4482-bfd3-7ca5500b8eb9"
      },
      "outputs": [
        {
          "name": "stdout",
          "output_type": "stream",
          "text": [
            "945/945 [==============================] - 70s 74ms/step - loss: 0.6614 - accuracy: 0.7465\n"
          ]
        },
        {
          "data": {
            "text/plain": [
              "[0.6613614559173584, 0.7465245723724365]"
            ]
          },
          "execution_count": null,
          "metadata": {},
          "output_type": "execute_result"
        }
      ],
      "source": [
        "model_4.evaluate(val_char_token_dataset)"
      ]
    },
    {
      "cell_type": "code",
      "execution_count": 105,
      "metadata": {
        "id": "aNFVC_XxPqZr"
      },
      "outputs": [],
      "source": [
        "model_4_results = model_results(model_4,\n",
        "                                y_true = val_labels_encoded,\n",
        "                                validation_data = val_char_token_dataset)"
      ]
    },
    {
      "cell_type": "code",
      "execution_count": 106,
      "metadata": {
        "id": "DK9vn1UxPyYK",
        "colab": {
          "base_uri": "https://localhost:8080/"
        },
        "outputId": "3ec9bdd6-9f5b-430e-acb5-b44ccbdd983d"
      },
      "outputs": [
        {
          "data": {
            "text/plain": [
              "{'accuracy': 74.65245597775719,\n",
              " 'f1': 0.7410456150365349,\n",
              " 'precision': 0.7440605090534647,\n",
              " 'recall': 0.7465245597775718}"
            ]
          },
          "execution_count": null,
          "metadata": {},
          "output_type": "execute_result"
        }
      ],
      "source": [
        "model_4_results"
      ]
    },
    {
      "cell_type": "code",
      "execution_count": 107,
      "metadata": {
        "id": "b6PdLuHSP8Cx",
        "colab": {
          "base_uri": "https://localhost:8080/"
        },
        "outputId": "4a047c35-5c23-4765-85ad-4299a326b917"
      },
      "outputs": [
        {
          "data": {
            "text/plain": [
              "{'accuracy': 80.07083278167616,\n",
              " 'f1': 0.7975567357201117,\n",
              " 'precision': 0.8011920265147686,\n",
              " 'recall': 0.8007083278167616}"
            ]
          },
          "execution_count": null,
          "metadata": {},
          "output_type": "execute_result"
        }
      ],
      "source": [
        "model_1_results"
      ]
    },
    {
      "cell_type": "markdown",
      "metadata": {
        "id": "ZQ-duYJzQA54"
      },
      "source": [
        "## Create positional embeddings"
      ]
    },
    {
      "cell_type": "code",
      "execution_count": 108,
      "metadata": {
        "id": "RulVT8XWSlZX",
        "colab": {
          "base_uri": "https://localhost:8080/"
        },
        "outputId": "454e9fc6-ac1f-4855-edf4-644159f3bea3"
      },
      "outputs": [
        {
          "data": {
            "text/plain": [
              "0     15000\n",
              "1     15000\n",
              "2     15000\n",
              "3     15000\n",
              "4     14992\n",
              "5     14949\n",
              "6     14758\n",
              "7     14279\n",
              "8     13346\n",
              "9     11981\n",
              "10    10041\n",
              "11     7892\n",
              "12     5853\n",
              "13     4152\n",
              "14     2835\n",
              "15     1861\n",
              "16     1188\n",
              "17      751\n",
              "18      462\n",
              "19      286\n",
              "20      162\n",
              "21      101\n",
              "22       66\n",
              "23       33\n",
              "24       22\n",
              "25       14\n",
              "26        7\n",
              "27        4\n",
              "28        3\n",
              "29        1\n",
              "30        1\n",
              "Name: line_number, dtype: int64"
            ]
          },
          "execution_count": null,
          "metadata": {},
          "output_type": "execute_result"
        }
      ],
      "source": [
        "#How many different line numbers are there\n",
        "df_train['line_number'].value_counts()"
      ]
    },
    {
      "cell_type": "code",
      "execution_count": 109,
      "metadata": {
        "id": "NA8z49miSte4",
        "colab": {
          "base_uri": "https://localhost:8080/",
          "height": 284
        },
        "outputId": "ea2582b7-8e18-4368-f241-7e473201f2ff"
      },
      "outputs": [
        {
          "data": {
            "text/plain": [
              "<matplotlib.axes._subplots.AxesSubplot at 0x7f27c2960910>"
            ]
          },
          "execution_count": null,
          "metadata": {},
          "output_type": "execute_result"
        },
        {
          "data": {
            "image/png": "[encoded data removed]",
            "text/plain": [
              "<Figure size 432x288 with 1 Axes>"
            ]
          },
          "metadata": {},
          "output_type": "display_data"
        }
      ],
      "source": [
        "df_train['line_number'].plot.hist()"
      ]
    },
    {
      "cell_type": "code",
      "execution_count": 110,
      "metadata": {
        "id": "111VQ3t4Tsyd",
        "colab": {
          "base_uri": "https://localhost:8080/",
          "height": 286
        },
        "outputId": "cc62f12c-fca1-401c-8106-0bfbb38c81e4"
      },
      "outputs": [
        {
          "data": {
            "text/plain": [
              "<matplotlib.axes._subplots.AxesSubplot at 0x7f27c48f1250>"
            ]
          },
          "execution_count": null,
          "metadata": {},
          "output_type": "execute_result"
        },
        {
          "data": {
            "image/png": "[encoded data removed]",
            "text/plain": [
              "<Figure size 432x288 with 1 Axes>"
            ]
          },
          "metadata": {},
          "output_type": "display_data"
        }
      ],
      "source": [
        "df_train['total_lines'].plot.hist()"
      ]
    },
    {
      "cell_type": "code",
      "execution_count": 111,
      "metadata": {
        "id": "i3StbDFNS-LB"
      },
      "outputs": [],
      "source": [
        "# use TensorFlow to create one-hot-encoded tensors of our line number\n",
        "train_line_numbers_one_hot =tf.one_hot(df_train['line_number'].to_numpy(), depth = 15)\n",
        "val_line_numbers_one_hot =tf.one_hot(df_val['line_number'].to_numpy(), depth = 15)\n",
        "test_line_numbers_one_hot =tf.one_hot(df_test['line_number'].to_numpy(), depth = 15)\n",
        "\n",
        "train_total_line_numbers_one_hot =tf.one_hot(df_train['total_lines'].to_numpy(), depth = 20)\n",
        "val_total_line_numbers_one_hot =tf.one_hot(df_val['total_lines'].to_numpy(), depth = 20)\n",
        "test_total_line_numbers_one_hot =tf.one_hot(df_test['total_lines'].to_numpy(), depth = 20)"
      ]
    },
    {
      "cell_type": "code",
      "execution_count": 112,
      "metadata": {
        "id": "gCyRYjBpdfcp",
        "colab": {
          "base_uri": "https://localhost:8080/"
        },
        "outputId": "6533c4b3-962f-4967-880d-1723d65096e3"
      },
      "outputs": [
        {
          "data": {
            "text/plain": [
              "(TensorShape([180040, 15]), TensorShape([30212, 15]))"
            ]
          },
          "execution_count": null,
          "metadata": {},
          "output_type": "execute_result"
        }
      ],
      "source": [
        "train_line_numbers_one_hot.shape , val_line_numbers_one_hot.shape"
      ]
    },
    {
      "cell_type": "code",
      "execution_count": 113,
      "metadata": {
        "id": "ZcuXi6afTPdM",
        "colab": {
          "base_uri": "https://localhost:8080/"
        },
        "outputId": "58e0337e-41a9-4b68-d201-08116964c36b"
      },
      "outputs": [
        {
          "data": {
            "text/plain": [
              "(<tf.Tensor: shape=(10, 15), dtype=float32, numpy=\n",
              " array([[1., 0., 0., 0., 0., 0., 0., 0., 0., 0., 0., 0., 0., 0., 0.],\n",
              "        [0., 1., 0., 0., 0., 0., 0., 0., 0., 0., 0., 0., 0., 0., 0.],\n",
              "        [0., 0., 1., 0., 0., 0., 0., 0., 0., 0., 0., 0., 0., 0., 0.],\n",
              "        [0., 0., 0., 1., 0., 0., 0., 0., 0., 0., 0., 0., 0., 0., 0.],\n",
              "        [0., 0., 0., 0., 1., 0., 0., 0., 0., 0., 0., 0., 0., 0., 0.],\n",
              "        [0., 0., 0., 0., 0., 1., 0., 0., 0., 0., 0., 0., 0., 0., 0.],\n",
              "        [0., 0., 0., 0., 0., 0., 1., 0., 0., 0., 0., 0., 0., 0., 0.],\n",
              "        [0., 0., 0., 0., 0., 0., 0., 1., 0., 0., 0., 0., 0., 0., 0.],\n",
              "        [0., 0., 0., 0., 0., 0., 0., 0., 1., 0., 0., 0., 0., 0., 0.],\n",
              "        [0., 0., 0., 0., 0., 0., 0., 0., 0., 1., 0., 0., 0., 0., 0.]],\n",
              "       dtype=float32)>, TensorShape([180040, 15]))"
            ]
          },
          "execution_count": null,
          "metadata": {},
          "output_type": "execute_result"
        }
      ],
      "source": [
        "train_line_numbers_one_hot[:10],train_line_numbers_one_hot.shape"
      ]
    },
    {
      "cell_type": "code",
      "execution_count": 114,
      "metadata": {
        "id": "dy_GOZDDUWY5",
        "colab": {
          "base_uri": "https://localhost:8080/"
        },
        "outputId": "42e01f72-906e-4f71-8ce7-49d81501a7bb"
      },
      "outputs": [
        {
          "data": {
            "text/plain": [
              "(<tf.Tensor: shape=(10, 20), dtype=float32, numpy=\n",
              " array([[0., 0., 0., 0., 0., 0., 0., 0., 0., 0., 0., 1., 0., 0., 0., 0.,\n",
              "         0., 0., 0., 0.],\n",
              "        [0., 0., 0., 0., 0., 0., 0., 0., 0., 0., 0., 1., 0., 0., 0., 0.,\n",
              "         0., 0., 0., 0.],\n",
              "        [0., 0., 0., 0., 0., 0., 0., 0., 0., 0., 0., 1., 0., 0., 0., 0.,\n",
              "         0., 0., 0., 0.],\n",
              "        [0., 0., 0., 0., 0., 0., 0., 0., 0., 0., 0., 1., 0., 0., 0., 0.,\n",
              "         0., 0., 0., 0.],\n",
              "        [0., 0., 0., 0., 0., 0., 0., 0., 0., 0., 0., 1., 0., 0., 0., 0.,\n",
              "         0., 0., 0., 0.],\n",
              "        [0., 0., 0., 0., 0., 0., 0., 0., 0., 0., 0., 1., 0., 0., 0., 0.,\n",
              "         0., 0., 0., 0.],\n",
              "        [0., 0., 0., 0., 0., 0., 0., 0., 0., 0., 0., 1., 0., 0., 0., 0.,\n",
              "         0., 0., 0., 0.],\n",
              "        [0., 0., 0., 0., 0., 0., 0., 0., 0., 0., 0., 1., 0., 0., 0., 0.,\n",
              "         0., 0., 0., 0.],\n",
              "        [0., 0., 0., 0., 0., 0., 0., 0., 0., 0., 0., 1., 0., 0., 0., 0.,\n",
              "         0., 0., 0., 0.],\n",
              "        [0., 0., 0., 0., 0., 0., 0., 0., 0., 0., 0., 1., 0., 0., 0., 0.,\n",
              "         0., 0., 0., 0.]], dtype=float32)>, TensorShape([180040, 20]))"
            ]
          },
          "execution_count": null,
          "metadata": {},
          "output_type": "execute_result"
        }
      ],
      "source": [
        "train_total_line_numbers_one_hot[:10],train_total_line_numbers_one_hot.shape"
      ]
    },
    {
      "cell_type": "code",
      "execution_count": 115,
      "metadata": {
        "id": "UCZDlA_eTVk4",
        "colab": {
          "base_uri": "https://localhost:8080/"
        },
        "outputId": "224b3388-7e42-4754-cb7e-f33d6b6965cb"
      },
      "outputs": [
        {
          "data": {
            "text/plain": [
              "18.0"
            ]
          },
          "execution_count": null,
          "metadata": {},
          "output_type": "execute_result"
        }
      ],
      "source": [
        "#check the coverage of a total_lines values of 20\n",
        "\n",
        "np.percentile(df_train.total_lines,95)"
      ]
    },
    {
      "cell_type": "markdown",
      "metadata": {
        "id": "htLy-0cLUNbx"
      },
      "source": [
        "### building a tribrid embedding model\n",
        "\n",
        "1. Create a token-level model\n",
        "2. Create a character-level model\n",
        "3. Create a model for the 'line_number' feature\n",
        "4. Create a model for the 'total_line' feature\n",
        "5. Combine the outputs of 1&2,\n",
        "6. Combine of t 3 4, 5 using tf.keras.layers.Concatenate\n",
        "7. Create an output layer to accept the tribird embedding and output label probabilities\n",
        "8. Combine the inputs of 1,2,3,4 and outputs into tf.keras.Model"
      ]
    },
    {
      "cell_type": "code",
      "execution_count": 116,
      "metadata": {
        "id": "n0q7MUFFUv40"
      },
      "outputs": [],
      "source": [
        "#1.\n",
        "token_inputs = layers.Input(shape = [], dtype = tf.string , name = 'token_inputs')\n",
        "token_embeddings = tf_hub_embedding_layer(token_inputs)\n",
        "token_outputs = layers.Dense(128, activation = 'relu')(token_embeddings)\n",
        "token_model = tf.keras.Model(inputs = token_inputs,\n",
        "                             outputs = token_outputs,\n",
        "                             name = 'token_model')\n",
        "\n",
        "#2.\n",
        "char_inputs = layers.Input(shape = (1,) , dtype = 'string' , name = 'char_inputs')\n",
        "char_vectors = char_vectorizer(char_inputs)\n",
        "char_embeddings = char_embed(char_vectors)\n",
        "char_outputs = layers.Bidirectional(layers.LSTM(32))(char_embeddings)\n",
        "char_model = tf.keras.Model(char_inputs,\n",
        "                            char_outputs,\n",
        "                            name ='char_model')\n",
        "\n",
        "#3.\n",
        "line_number_inputs = layers.Input(shape = (15,) , dtype = tf.int32, name = 'line_number_input')\n",
        "x = layers.Dense(32, activation = 'relu')(line_number_inputs)\n",
        "line_number_model = tf.keras.Model(inputs = line_number_inputs,\n",
        "                                    outputs = x)\n",
        "\n",
        "#4.\n",
        "\n",
        "total_lines_inputs = layers.Input(shape = (20,), dtype = tf.int32, name = 'total_line_inputs')\n",
        "y = layers.Dense(32, activation = 'relu')(total_lines_inputs)\n",
        "total_line_model = tf.keras.Model(inputs = total_lines_inputs,\n",
        "                                  outputs = y)\n",
        "\n",
        "#5. Combine token and char embedding into a hybrid embedding\n",
        "\n",
        "combined_embeddings = layers.Concatenate(name = 'char_token_hybrid_embedding')([token_model.output,\n",
        "                                                                                char_model.output])\n",
        "\n",
        "\n",
        "z = layers.Dense(256,activation = 'relu')(combined_embeddings)\n",
        "z = layers.Dropout(0.5)(z)\n",
        "\n",
        "#6 . COmbine positional embedding with combined token and char embeddings\n",
        "tribrid_embeddings = layers.Concatenate(name = 'char_token_position_embedding')([line_number_model.output,\n",
        "                                                                                 total_line_model.output,\n",
        "                                                                                 z])\n",
        "#7. Create output layer\n",
        "output_layer = layers.Dense(5,activation = 'softmax' , name = 'output_layer')(tribrid_embeddings)\n",
        "\n",
        "#8. Combine model\n",
        "\n",
        "model_5 = tf.keras.Model(inputs = [line_number_model.input,\n",
        "                                   total_line_model.input,\n",
        "                                   token_model.input,\n",
        "                                   char_model.input\n",
        "                                   ],\n",
        "                         outputs = output_layer,\n",
        "                         name = 'tribrid_embedding_model')"
      ]
    },
    {
      "cell_type": "code",
      "execution_count": 117,
      "metadata": {
        "id": "L0yIF_aWWWE_",
        "colab": {
          "base_uri": "https://localhost:8080/"
        },
        "outputId": "f74273dd-7761-4f15-c4df-819f59ec1c5b"
      },
      "outputs": [
        {
          "output_type": "stream",
          "name": "stdout",
          "text": [
            "Model: \"tribrid_embedding_model\"\n",
            "__________________________________________________________________________________________________\n",
            " Layer (type)                   Output Shape         Param #     Connected to                     \n",
            "==================================================================================================\n",
            " char_inputs (InputLayer)       [(None, 1)]          0           []                               \n",
            "                                                                                                  \n",
            " token_inputs (InputLayer)      [(None,)]            0           []                               \n",
            "                                                                                                  \n",
            " char_vectorizer (TextVectoriza  (None, 290)         0           ['char_inputs[0][0]']            \n",
            " tion)                                                                                            \n",
            "                                                                                                  \n",
            " universal_sentence_encoder (Ke  (None, 512)         256797824   ['token_inputs[0][0]']           \n",
            " rasLayer)                                                                                        \n",
            "                                                                                                  \n",
            " char_embed (Embedding)         (None, 290, 25)      700         ['char_vectorizer[2][0]']        \n",
            "                                                                                                  \n",
            " dense_7 (Dense)                (None, 128)          65664       ['universal_sentence_encoder[2][0\n",
            "                                                                 ]']                              \n",
            "                                                                                                  \n",
            " bidirectional_1 (Bidirectional  (None, 48)          9600        ['char_embed[2][0]']             \n",
            " )                                                                                                \n",
            "                                                                                                  \n",
            " char_token_hybrid_embedding (C  (None, 176)         0           ['dense_7[0][0]',                \n",
            " oncatenate)                                                      'bidirectional_1[0][0]']        \n",
            "                                                                                                  \n",
            " line_number_input (InputLayer)  [(None, 15)]        0           []                               \n",
            "                                                                                                  \n",
            " total_line_inputs (InputLayer)  [(None, 20)]        0           []                               \n",
            "                                                                                                  \n",
            " dense_10 (Dense)               (None, 256)          45312       ['char_token_hybrid_embedding[0][\n",
            "                                                                 0]']                             \n",
            "                                                                                                  \n",
            " dense_8 (Dense)                (None, 32)           512         ['line_number_input[0][0]']      \n",
            "                                                                                                  \n",
            " dense_9 (Dense)                (None, 32)           672         ['total_line_inputs[0][0]']      \n",
            "                                                                                                  \n",
            " dropout_2 (Dropout)            (None, 256)          0           ['dense_10[0][0]']               \n",
            "                                                                                                  \n",
            " char_token_position_embedding   (None, 320)         0           ['dense_8[0][0]',                \n",
            " (Concatenate)                                                    'dense_9[0][0]',                \n",
            "                                                                  'dropout_2[0][0]']              \n",
            "                                                                                                  \n",
            " output_layer (Dense)           (None, 5)            1605        ['char_token_position_embedding[0\n",
            "                                                                 ][0]']                           \n",
            "                                                                                                  \n",
            "==================================================================================================\n",
            "Total params: 256,921,889\n",
            "Trainable params: 124,065\n",
            "Non-trainable params: 256,797,824\n",
            "__________________________________________________________________________________________________\n"
          ]
        }
      ],
      "source": [
        "model_5.summary()"
      ]
    },
    {
      "cell_type": "code",
      "execution_count": 118,
      "metadata": {
        "id": "KV_jaUCXYmIw",
        "colab": {
          "base_uri": "https://localhost:8080/",
          "height": 856
        },
        "outputId": "1dda5e11-00f8-4dcf-9d2a-42b71763aefe"
      },
      "outputs": [
        {
          "output_type": "execute_result",
          "data": {
            "image/png": "[encoded data removed]",
            "text/plain": [
              "<IPython.core.display.Image object>"
            ]
          },
          "metadata": {},
          "execution_count": 118
        }
      ],
      "source": [
        "plot_model(model_5)"
      ]
    },
    {
      "cell_type": "markdown",
      "metadata": {
        "id": "XF9HoRBfZN6D"
      },
      "source": [
        "What is label smoothing?\n",
        "\n",
        "If our model gets too confident on a single class, it may get stuck on that class and not consider other classes.\n",
        "\n",
        "E.g. [0,0,1,0,0]\n",
        "\n",
        "what label smoothing does is it assigns some of the value from the highest pred prob to other classes in turn, hopefully, improving generalization [0.01,0.01,0.96,0.01,0.01]\n",
        "\n",
        "reference : https://www.pyimagesearch.com/2019/12/30/label-smoothing-with-keras-tensorflow-and-deep-learning/"
      ]
    },
    {
      "cell_type": "code",
      "execution_count": 119,
      "metadata": {
        "id": "sa4vXR4bYpNg"
      },
      "outputs": [],
      "source": [
        "model_5.compile(loss = tf.keras.losses.CategoricalCrossentropy(label_smoothing = 0.2),\n",
        "                optimizer = tf.keras.optimizers.Adam(),\n",
        "                metrics = ['accuracy'])"
      ]
    },
    {
      "cell_type": "code",
      "execution_count": 120,
      "metadata": {
        "id": "KJ7bcd2gZ8W6"
      },
      "outputs": [],
      "source": [
        "#Creating training and validation datasets\n",
        "\n",
        "train_char_token_pos_data = tf.data.Dataset.from_tensor_slices((train_line_numbers_one_hot,\n",
        "                                                                train_total_line_numbers_one_hot,\n",
        "                                                                train_sentences,\n",
        "                                                                train_chars))\n",
        "train_char_token_pos_labels = tf.data.Dataset.from_tensor_slices(train_labels_one_hot)\n",
        "train_char_token_pos_dataset = tf.data.Dataset.zip((train_char_token_pos_data,\n",
        "                                                    train_char_token_pos_labels))\n",
        "\n",
        "train_char_token_pos_dataset = train_char_token_pos_dataset.batch(32).prefetch(tf.data.AUTOTUNE)\n",
        "\n",
        "val_char_token_pos_data = tf.data.Dataset.from_tensor_slices((val_line_numbers_one_hot,\n",
        "                                                              val_total_line_numbers_one_hot,\n",
        "                                                              val_sentences,\n",
        "                                                              val_chars))\n",
        "val_char_token_pos_labels = tf.data.Dataset.from_tensor_slices(val_labels_one_hot)\n",
        "val_char_token_pos_dataset = tf.data.Dataset.zip((val_char_token_pos_data,\n",
        "                                                  val_char_token_pos_labels))\n",
        "\n",
        "val_char_token_pos_dataset = val_char_token_pos_dataset.batch(32).prefetch(tf.data.AUTOTUNE)\n",
        "\n",
        "\n",
        "test_char_token_pos_data = tf.data.Dataset.from_tensor_slices((test_line_numbers_one_hot,\n",
        "                                                               test_total_line_numbers_one_hot,\n",
        "                                                               test_sentences,\n",
        "                                                               test_chars))\n",
        "test_char_token_pos_labels = tf.data.Dataset.from_tensor_slices(test_labels_one_hot)\n",
        "test_char_token_pos_dataset = tf.data.Dataset.zip((test_char_token_pos_data,\n",
        "                                                    test_char_token_pos_labels))\n",
        "\n",
        "test_char_token_pos_dataset = test_char_token_pos_dataset.batch(32).prefetch(tf.data.AUTOTUNE)"
      ]
    },
    {
      "cell_type": "code",
      "execution_count": 121,
      "metadata": {
        "id": "E2uwETNPcqK2",
        "colab": {
          "base_uri": "https://localhost:8080/"
        },
        "outputId": "dfd07902-c319-4f0d-b9f5-afd26b34ecdd"
      },
      "outputs": [
        {
          "output_type": "execute_result",
          "data": {
            "text/plain": [
              "(<PrefetchDataset shapes: (((None, 15), (None, 20), (None,), (None,)), (None, 5)), types: ((tf.float32, tf.float32, tf.string, tf.string), tf.float64)>,\n",
              " <PrefetchDataset shapes: (((None, 15), (None, 20), (None,), (None,)), (None, 5)), types: ((tf.float32, tf.float32, tf.string, tf.string), tf.float64)>)"
            ]
          },
          "metadata": {},
          "execution_count": 121
        }
      ],
      "source": [
        "train_char_token_pos_dataset, test_char_token_pos_dataset"
      ]
    },
    {
      "cell_type": "code",
      "execution_count": 124,
      "metadata": {
        "id": "jgFS77SlamWu",
        "colab": {
          "base_uri": "https://localhost:8080/"
        },
        "outputId": "20cdd8c1-9319-472e-9e53-207b4b965f2c"
      },
      "outputs": [
        {
          "output_type": "stream",
          "name": "stdout",
          "text": [
            "Saving TensorBoard log files to: milestone_2/token and char pos model/20220119-110122\n",
            "Epoch 1/5\n",
            "562/562 [==============================] - 191s 324ms/step - loss: 1.0948 - accuracy: 0.7252 - val_loss: 1.0003 - val_accuracy: 0.7909\n",
            "Epoch 2/5\n",
            "562/562 [==============================] - 162s 289ms/step - loss: 0.9675 - accuracy: 0.8146 - val_loss: 0.9638 - val_accuracy: 0.8185\n",
            "Epoch 3/5\n",
            "562/562 [==============================] - 162s 288ms/step - loss: 0.9496 - accuracy: 0.8234 - val_loss: 0.9467 - val_accuracy: 0.8288\n",
            "Epoch 4/5\n",
            "562/562 [==============================] - 168s 299ms/step - loss: 0.9391 - accuracy: 0.8331 - val_loss: 0.9357 - val_accuracy: 0.8311\n",
            "Epoch 5/5\n",
            "562/562 [==============================] - 162s 288ms/step - loss: 0.9350 - accuracy: 0.8367 - val_loss: 0.9310 - val_accuracy: 0.8331\n"
          ]
        }
      ],
      "source": [
        "model_5_history = model_5.fit(train_char_token_pos_dataset,\n",
        "                              steps_per_epoch = int(0.1*len(train_char_token_pos_dataset)),\n",
        "                              epochs = 5,\n",
        "                              validation_data = test_char_token_pos_dataset,\n",
        "                              validation_steps = int(0.1*len(test_char_token_pos_dataset)),\n",
        "                              callbacks = [create_tensorboard_callback(dir_name = dir_name,\n",
        "                                                                       experiment_name = 'token and char pos model')])"
      ]
    },
    {
      "cell_type": "code",
      "execution_count": 126,
      "metadata": {
        "id": "u0p1IeuXeZdH"
      },
      "outputs": [],
      "source": [
        "model_5_results = model_results(model_5,\n",
        "                                y_true = val_labels_encoded,\n",
        "                                validation_data = val_char_token_pos_dataset)"
      ]
    },
    {
      "cell_type": "code",
      "execution_count": 127,
      "metadata": {
        "id": "2WWr3j3ceuqe",
        "colab": {
          "base_uri": "https://localhost:8080/"
        },
        "outputId": "5a48286b-8582-4885-f807-0683b6439ccf"
      },
      "outputs": [
        {
          "output_type": "execute_result",
          "data": {
            "text/plain": [
              "{'accuracy': 84.40685820203893,\n",
              " 'f1': 0.8402072766116138,\n",
              " 'precision': 0.8465583242765172,\n",
              " 'recall': 0.8440685820203893}"
            ]
          },
          "metadata": {},
          "execution_count": 127
        }
      ],
      "source": [
        "model_5_results"
      ]
    },
    {
      "cell_type": "code",
      "source": [
        ""
      ],
      "metadata": {
        "id": "K1e-NbD8DO3P"
      },
      "execution_count": null,
      "outputs": []
    }
  ],
  "metadata": {
    "accelerator": "GPU",
    "colab": {
      "name": "09 - skimlit-milestone_project_2.ipynb",
      "provenance": [],
      "authorship_tag": "ABX9TyOp1CO3iUuHMRBHvZBNp1K3",
      "include_colab_link": true
    },
    "kernelspec": {
      "display_name": "Python 3",
      "name": "python3"
    },
    "language_info": {
      "name": "python"
    }
  },
  "nbformat": 4,
  "nbformat_minor": 0
}