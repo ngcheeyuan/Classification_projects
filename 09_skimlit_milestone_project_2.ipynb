{
  "nbformat": 4,
  "nbformat_minor": 0,
  "metadata": {
    "colab": {
      "name": "09 - skimlit-milestone_project_2.ipynb",
      "provenance": [],
      "authorship_tag": "ABX9TyOWB6EfOIZpo7b5ssE+Ac1C",
      "include_colab_link": true
    },
    "kernelspec": {
      "name": "python3",
      "display_name": "Python 3"
    },
    "language_info": {
      "name": "python"
    },
    "accelerator": "GPU"
  },
  "cells": [
    {
      "cell_type": "markdown",
      "metadata": {
        "id": "view-in-github",
        "colab_type": "text"
      },
      "source": [
        "<a href=\"https://colab.research.google.com/github/ngcheeyuan/Classification_projects/blob/main/09_skimlit_milestone_project_2.ipynb\" target=\"_parent\"><img src=\"https://colab.research.google.com/assets/colab-badge.svg\" alt=\"Open In Colab\"/></a>"
      ]
    },
    {
      "cell_type": "markdown",
      "source": [
        "## Skimlit:\n",
        "\n",
        "The purpose of this notebook is to build an NLP model to make reading medical abstracts easier.\n",
        "\n",
        "The paper we're replicating can be found here : https://arxiv.org/abs/1710.06071\n",
        "\n",
        "And the model architecture that they used to achieve their best results is available here : https://arxiv.org/abs/1612.05251"
      ],
      "metadata": {
        "id": "0w77Tg5Ra2H3"
      }
    },
    {
      "cell_type": "code",
      "source": [
        "!nvidia-smi"
      ],
      "metadata": {
        "colab": {
          "base_uri": "https://localhost:8080/"
        },
        "id": "W02Gw5ztNf1z",
        "outputId": "0efb36f0-c82d-4469-d18b-9d2c78685dd6"
      },
      "execution_count": 19,
      "outputs": [
        {
          "output_type": "stream",
          "name": "stdout",
          "text": [
            "Wed Jan 19 05:13:22 2022       \n",
            "+-----------------------------------------------------------------------------+\n",
            "| NVIDIA-SMI 495.46       Driver Version: 460.32.03    CUDA Version: 11.2     |\n",
            "|-------------------------------+----------------------+----------------------+\n",
            "| GPU  Name        Persistence-M| Bus-Id        Disp.A | Volatile Uncorr. ECC |\n",
            "| Fan  Temp  Perf  Pwr:Usage/Cap|         Memory-Usage | GPU-Util  Compute M. |\n",
            "|                               |                      |               MIG M. |\n",
            "|===============================+======================+======================|\n",
            "|   0  Tesla T4            Off  | 00000000:00:04.0 Off |                    0 |\n",
            "| N/A   38C    P8     9W /  70W |      0MiB / 15109MiB |      0%      Default |\n",
            "|                               |                      |                  N/A |\n",
            "+-------------------------------+----------------------+----------------------+\n",
            "                                                                               \n",
            "+-----------------------------------------------------------------------------+\n",
            "| Processes:                                                                  |\n",
            "|  GPU   GI   CI        PID   Type   Process name                  GPU Memory |\n",
            "|        ID   ID                                                   Usage      |\n",
            "|=============================================================================|\n",
            "|  No running processes found                                                 |\n",
            "+-----------------------------------------------------------------------------+\n"
          ]
        }
      ]
    },
    {
      "cell_type": "markdown",
      "source": [
        "## Get Data : \n",
        "\n",
        "https://github.com/Franck-Dernoncourt/pubmed-rct"
      ],
      "metadata": {
        "id": "Ru-P1c6-P52n"
      }
    },
    {
      "cell_type": "code",
      "source": [
        "!git clone https://github.com/Franck-Dernoncourt/pubmed-rct\n",
        "!ls pubmed-rct"
      ],
      "metadata": {
        "colab": {
          "base_uri": "https://localhost:8080/"
        },
        "id": "oYR5j7GGQSm9",
        "outputId": "91b67052-abc3-4bd3-ce9f-a5060b421569"
      },
      "execution_count": 20,
      "outputs": [
        {
          "output_type": "stream",
          "name": "stdout",
          "text": [
            "fatal: destination path 'pubmed-rct' already exists and is not an empty directory.\n",
            "PubMed_200k_RCT\n",
            "PubMed_200k_RCT_numbers_replaced_with_at_sign\n",
            "PubMed_20k_RCT\n",
            "PubMed_20k_RCT_numbers_replaced_with_at_sign\n",
            "README.md\n"
          ]
        }
      ]
    },
    {
      "cell_type": "code",
      "source": [
        "!ls pubmed-rct/PubMed_20k_RCT_numbers_replaced_with_at_sign/"
      ],
      "metadata": {
        "colab": {
          "base_uri": "https://localhost:8080/"
        },
        "id": "udDvu1mtQX7n",
        "outputId": "a90d5377-8429-4af0-c4f9-382ab23a5a1b"
      },
      "execution_count": 21,
      "outputs": [
        {
          "output_type": "stream",
          "name": "stdout",
          "text": [
            "dev.txt  test.txt  train.txt\n"
          ]
        }
      ]
    },
    {
      "cell_type": "code",
      "source": [
        "#Start our experiments using the 20k dataset with numbers replaced with @ sign\n",
        "data_dir = '/content/pubmed-rct/PubMed_20k_RCT_numbers_replaced_with_at_sign/'"
      ],
      "metadata": {
        "id": "GzGDzn2FQ218"
      },
      "execution_count": 22,
      "outputs": []
    },
    {
      "cell_type": "code",
      "source": [
        "import os\n",
        "filenames =[data_dir + filename for filename in os.listdir(data_dir)]\n",
        "filenames"
      ],
      "metadata": {
        "colab": {
          "base_uri": "https://localhost:8080/"
        },
        "id": "tW_DPjE8RZ--",
        "outputId": "25f72652-a79b-44d9-9df4-b534176f72c4"
      },
      "execution_count": 23,
      "outputs": [
        {
          "output_type": "execute_result",
          "data": {
            "text/plain": [
              "['/content/pubmed-rct/PubMed_20k_RCT_numbers_replaced_with_at_sign/test.txt',\n",
              " '/content/pubmed-rct/PubMed_20k_RCT_numbers_replaced_with_at_sign/train.txt',\n",
              " '/content/pubmed-rct/PubMed_20k_RCT_numbers_replaced_with_at_sign/dev.txt']"
            ]
          },
          "metadata": {},
          "execution_count": 23
        }
      ]
    },
    {
      "cell_type": "markdown",
      "source": [
        "## Preprocess data"
      ],
      "metadata": {
        "id": "mkpSUo8ZRuRz"
      }
    },
    {
      "cell_type": "code",
      "source": [
        "#Create function to read the lines of a document\n",
        "\n",
        "def get_lines(filename):\n",
        "  '''\n",
        "  Reads filename (a text filename) and returns the lines of text as a list\n",
        "  \n",
        "  Args:\n",
        "    filename: a string containing the target file path.\n",
        "\n",
        "  Returns:\n",
        "    A list of strings with one string per line from the target filename.\n",
        "  \n",
        "  '''\n",
        "  with open(filename,'r') as f:\n",
        "    return f.readlines()"
      ],
      "metadata": {
        "id": "IjFuMKb8SCyX"
      },
      "execution_count": 24,
      "outputs": []
    },
    {
      "cell_type": "code",
      "source": [
        "train_lines = get_lines(data_dir +'train.txt')"
      ],
      "metadata": {
        "id": "HJbZAOqESi9i"
      },
      "execution_count": 25,
      "outputs": []
    },
    {
      "cell_type": "markdown",
      "source": [
        "How I think our data should be best represented:\n",
        "\n",
        "'''\n",
        "'[{'line_number':0,\n",
        "\n",
        "   'target' : 'BACKGROUND',\n",
        "\n",
        "   'text' : 'Emotional eating is associated with overeating and the development of obesity .\\n',\n",
        "\n",
        "   'total_lines' : 11}]\n",
        "'''"
      ],
      "metadata": {
        "id": "asAtkv3sSp0o"
      }
    },
    {
      "cell_type": "code",
      "source": [
        "def preprocess_text_with_line_numbers(filename):\n",
        "  '''\n",
        "  Returns a list of dictionaries of abstract line data.\n",
        "\n",
        "  Takes in filename, reads it contents and sorts through each line,\n",
        "  extracting things like target label, the text of the sentence, how many sentencess\n",
        "  are in the current abstract and what sentence number it is on.\n",
        "  '''\n",
        "\n",
        "  input_lines = get_lines(filename)# get all lines from filename\n",
        "  abstract_lines = \"\" # creat an empty abstract\n",
        "  abstract_samples = []\n",
        "\n",
        "  #Loop through each line in the target file\n",
        "  for line in input_lines:\n",
        "    if line.startswith('###'): #check to see if this is an ID line\n",
        "       abstract_id = line\n",
        "       abstract_lines = \"\" #reset the abstract string if the line is an ID line\n",
        "    elif line.isspace(): # check to see if the line is a new line\n",
        "      abstract_line_split = abstract_lines.splitlines()\n",
        "\n",
        "      #Iterate through each line in a single abstract and count them at the same time\n",
        "\n",
        "      for abstract_line_number , abstract_line in enumerate(abstract_line_split):\n",
        "        line_data = {}\n",
        "        target_text_split = abstract_line.split('\\t') # split target label and text\n",
        "        line_data['target'] = target_text_split[0]\n",
        "        line_data['text'] = target_text_split[1].lower()\n",
        "        line_data['line_number'] = abstract_line_number\n",
        "        line_data['total_lines'] = len(abstract_line_split)-1 # how many total lines are there in target abstract and start with 0\n",
        "        abstract_samples.append(line_data)\n",
        "\n",
        "    else: # if the above conditions aren't fulfilled the line contains a labelled sentence\n",
        "      abstract_lines += line\n",
        "\n",
        "\n",
        "  return abstract_samples\n"
      ],
      "metadata": {
        "id": "KIs4lJF3Tt7T"
      },
      "execution_count": 26,
      "outputs": []
    },
    {
      "cell_type": "code",
      "source": [
        "# Get data from file and preprocess it\n",
        "\n",
        "train_samples = preprocess_text_with_line_numbers(data_dir + 'train.txt')\n",
        "val_samples = preprocess_text_with_line_numbers(data_dir + 'dev.txt')\n",
        "test_samples = preprocess_text_with_line_numbers(data_dir + 'test.txt')"
      ],
      "metadata": {
        "id": "qEq7pIgKWrAH"
      },
      "execution_count": 27,
      "outputs": []
    },
    {
      "cell_type": "code",
      "source": [
        "len(train_samples),len(val_samples),len(test_samples)"
      ],
      "metadata": {
        "colab": {
          "base_uri": "https://localhost:8080/"
        },
        "id": "K44NeBg6gHHu",
        "outputId": "3c11049d-4b36-4b90-f5d5-49c69332eb76"
      },
      "execution_count": 28,
      "outputs": [
        {
          "output_type": "execute_result",
          "data": {
            "text/plain": [
              "(180040, 30212, 30135)"
            ]
          },
          "metadata": {},
          "execution_count": 28
        }
      ]
    },
    {
      "cell_type": "code",
      "source": [
        "train_samples[:10]"
      ],
      "metadata": {
        "colab": {
          "base_uri": "https://localhost:8080/"
        },
        "id": "_4oN71PigcJ9",
        "outputId": "3cd1940d-e3ee-4b85-a059-e254852d6833"
      },
      "execution_count": 29,
      "outputs": [
        {
          "output_type": "execute_result",
          "data": {
            "text/plain": [
              "[{'line_number': 0,\n",
              "  'target': 'OBJECTIVE',\n",
              "  'text': 'to investigate the efficacy of @ weeks of daily low-dose oral prednisolone in improving pain , mobility , and systemic low-grade inflammation in the short term and whether the effect would be sustained at @ weeks in older adults with moderate to severe knee osteoarthritis ( oa ) .',\n",
              "  'total_lines': 11},\n",
              " {'line_number': 1,\n",
              "  'target': 'METHODS',\n",
              "  'text': 'a total of @ patients with primary knee oa were randomized @:@ ; @ received @ mg/day of prednisolone and @ received placebo for @ weeks .',\n",
              "  'total_lines': 11},\n",
              " {'line_number': 2,\n",
              "  'target': 'METHODS',\n",
              "  'text': 'outcome measures included pain reduction and improvement in function scores and systemic inflammation markers .',\n",
              "  'total_lines': 11},\n",
              " {'line_number': 3,\n",
              "  'target': 'METHODS',\n",
              "  'text': 'pain was assessed using the visual analog pain scale ( @-@ mm ) .',\n",
              "  'total_lines': 11},\n",
              " {'line_number': 4,\n",
              "  'target': 'METHODS',\n",
              "  'text': 'secondary outcome measures included the western ontario and mcmaster universities osteoarthritis index scores , patient global assessment ( pga ) of the severity of knee oa , and @-min walk distance ( @mwd ) .',\n",
              "  'total_lines': 11},\n",
              " {'line_number': 5,\n",
              "  'target': 'METHODS',\n",
              "  'text': 'serum levels of interleukin @ ( il-@ ) , il-@ , tumor necrosis factor ( tnf ) - , and high-sensitivity c-reactive protein ( hscrp ) were measured .',\n",
              "  'total_lines': 11},\n",
              " {'line_number': 6,\n",
              "  'target': 'RESULTS',\n",
              "  'text': 'there was a clinically relevant reduction in the intervention group compared to the placebo group for knee pain , physical function , pga , and @mwd at @ weeks .',\n",
              "  'total_lines': 11},\n",
              " {'line_number': 7,\n",
              "  'target': 'RESULTS',\n",
              "  'text': 'the mean difference between treatment arms ( @ % ci ) was @ ( @-@ @ ) , p < @ ; @ ( @-@ @ ) , p < @ ; @ ( @-@ @ ) , p < @ ; and @ ( @-@ @ ) , p < @ , respectively .',\n",
              "  'total_lines': 11},\n",
              " {'line_number': 8,\n",
              "  'target': 'RESULTS',\n",
              "  'text': 'further , there was a clinically relevant reduction in the serum levels of il-@ , il-@ , tnf - , and hscrp at @ weeks in the intervention group when compared to the placebo group .',\n",
              "  'total_lines': 11},\n",
              " {'line_number': 9,\n",
              "  'target': 'RESULTS',\n",
              "  'text': 'these differences remained significant at @ weeks .',\n",
              "  'total_lines': 11}]"
            ]
          },
          "metadata": {},
          "execution_count": 29
        }
      ]
    },
    {
      "cell_type": "code",
      "source": [
        "import pandas as pd"
      ],
      "metadata": {
        "id": "68y5fcqpgilw"
      },
      "execution_count": 30,
      "outputs": []
    },
    {
      "cell_type": "code",
      "source": [
        "df_train = pd.DataFrame(train_samples)\n",
        "df_val = pd.DataFrame(val_samples)\n",
        "df_test = pd.DataFrame(test_samples)"
      ],
      "metadata": {
        "id": "QysK9dhvg7Jn"
      },
      "execution_count": 31,
      "outputs": []
    },
    {
      "cell_type": "code",
      "source": [
        "df_train.head(5)"
      ],
      "metadata": {
        "colab": {
          "base_uri": "https://localhost:8080/",
          "height": 206
        },
        "id": "YhOl3sqhhNJ4",
        "outputId": "c5115517-c3e8-4ed7-89cb-292bbeb875fa"
      },
      "execution_count": 32,
      "outputs": [
        {
          "output_type": "execute_result",
          "data": {
            "text/html": [
              "\n",
              "  <div id=\"df-171b11bb-2483-4456-a196-1a1820415817\">\n",
              "    <div class=\"colab-df-container\">\n",
              "      <div>\n",
              "<style scoped>\n",
              "    .dataframe tbody tr th:only-of-type {\n",
              "        vertical-align: middle;\n",
              "    }\n",
              "\n",
              "    .dataframe tbody tr th {\n",
              "        vertical-align: top;\n",
              "    }\n",
              "\n",
              "    .dataframe thead th {\n",
              "        text-align: right;\n",
              "    }\n",
              "</style>\n",
              "<table border=\"1\" class=\"dataframe\">\n",
              "  <thead>\n",
              "    <tr style=\"text-align: right;\">\n",
              "      <th></th>\n",
              "      <th>target</th>\n",
              "      <th>text</th>\n",
              "      <th>line_number</th>\n",
              "      <th>total_lines</th>\n",
              "    </tr>\n",
              "  </thead>\n",
              "  <tbody>\n",
              "    <tr>\n",
              "      <th>0</th>\n",
              "      <td>OBJECTIVE</td>\n",
              "      <td>to investigate the efficacy of @ weeks of dail...</td>\n",
              "      <td>0</td>\n",
              "      <td>11</td>\n",
              "    </tr>\n",
              "    <tr>\n",
              "      <th>1</th>\n",
              "      <td>METHODS</td>\n",
              "      <td>a total of @ patients with primary knee oa wer...</td>\n",
              "      <td>1</td>\n",
              "      <td>11</td>\n",
              "    </tr>\n",
              "    <tr>\n",
              "      <th>2</th>\n",
              "      <td>METHODS</td>\n",
              "      <td>outcome measures included pain reduction and i...</td>\n",
              "      <td>2</td>\n",
              "      <td>11</td>\n",
              "    </tr>\n",
              "    <tr>\n",
              "      <th>3</th>\n",
              "      <td>METHODS</td>\n",
              "      <td>pain was assessed using the visual analog pain...</td>\n",
              "      <td>3</td>\n",
              "      <td>11</td>\n",
              "    </tr>\n",
              "    <tr>\n",
              "      <th>4</th>\n",
              "      <td>METHODS</td>\n",
              "      <td>secondary outcome measures included the wester...</td>\n",
              "      <td>4</td>\n",
              "      <td>11</td>\n",
              "    </tr>\n",
              "  </tbody>\n",
              "</table>\n",
              "</div>\n",
              "      <button class=\"colab-df-convert\" onclick=\"convertToInteractive('df-171b11bb-2483-4456-a196-1a1820415817')\"\n",
              "              title=\"Convert this dataframe to an interactive table.\"\n",
              "              style=\"display:none;\">\n",
              "        \n",
              "  <svg xmlns=\"http://www.w3.org/2000/svg\" height=\"24px\"viewBox=\"0 0 24 24\"\n",
              "       width=\"24px\">\n",
              "    <path d=\"M0 0h24v24H0V0z\" fill=\"none\"/>\n",
              "    <path d=\"M18.56 5.44l.94 2.06.94-2.06 2.06-.94-2.06-.94-.94-2.06-.94 2.06-2.06.94zm-11 1L8.5 8.5l.94-2.06 2.06-.94-2.06-.94L8.5 2.5l-.94 2.06-2.06.94zm10 10l.94 2.06.94-2.06 2.06-.94-2.06-.94-.94-2.06-.94 2.06-2.06.94z\"/><path d=\"M17.41 7.96l-1.37-1.37c-.4-.4-.92-.59-1.43-.59-.52 0-1.04.2-1.43.59L10.3 9.45l-7.72 7.72c-.78.78-.78 2.05 0 2.83L4 21.41c.39.39.9.59 1.41.59.51 0 1.02-.2 1.41-.59l7.78-7.78 2.81-2.81c.8-.78.8-2.07 0-2.86zM5.41 20L4 18.59l7.72-7.72 1.47 1.35L5.41 20z\"/>\n",
              "  </svg>\n",
              "      </button>\n",
              "      \n",
              "  <style>\n",
              "    .colab-df-container {\n",
              "      display:flex;\n",
              "      flex-wrap:wrap;\n",
              "      gap: 12px;\n",
              "    }\n",
              "\n",
              "    .colab-df-convert {\n",
              "      background-color: #E8F0FE;\n",
              "      border: none;\n",
              "      border-radius: 50%;\n",
              "      cursor: pointer;\n",
              "      display: none;\n",
              "      fill: #1967D2;\n",
              "      height: 32px;\n",
              "      padding: 0 0 0 0;\n",
              "      width: 32px;\n",
              "    }\n",
              "\n",
              "    .colab-df-convert:hover {\n",
              "      background-color: #E2EBFA;\n",
              "      box-shadow: 0px 1px 2px rgba(60, 64, 67, 0.3), 0px 1px 3px 1px rgba(60, 64, 67, 0.15);\n",
              "      fill: #174EA6;\n",
              "    }\n",
              "\n",
              "    [theme=dark] .colab-df-convert {\n",
              "      background-color: #3B4455;\n",
              "      fill: #D2E3FC;\n",
              "    }\n",
              "\n",
              "    [theme=dark] .colab-df-convert:hover {\n",
              "      background-color: #434B5C;\n",
              "      box-shadow: 0px 1px 3px 1px rgba(0, 0, 0, 0.15);\n",
              "      filter: drop-shadow(0px 1px 2px rgba(0, 0, 0, 0.3));\n",
              "      fill: #FFFFFF;\n",
              "    }\n",
              "  </style>\n",
              "\n",
              "      <script>\n",
              "        const buttonEl =\n",
              "          document.querySelector('#df-171b11bb-2483-4456-a196-1a1820415817 button.colab-df-convert');\n",
              "        buttonEl.style.display =\n",
              "          google.colab.kernel.accessAllowed ? 'block' : 'none';\n",
              "\n",
              "        async function convertToInteractive(key) {\n",
              "          const element = document.querySelector('#df-171b11bb-2483-4456-a196-1a1820415817');\n",
              "          const dataTable =\n",
              "            await google.colab.kernel.invokeFunction('convertToInteractive',\n",
              "                                                     [key], {});\n",
              "          if (!dataTable) return;\n",
              "\n",
              "          const docLinkHtml = 'Like what you see? Visit the ' +\n",
              "            '<a target=\"_blank\" href=https://colab.research.google.com/notebooks/data_table.ipynb>data table notebook</a>'\n",
              "            + ' to learn more about interactive tables.';\n",
              "          element.innerHTML = '';\n",
              "          dataTable['output_type'] = 'display_data';\n",
              "          await google.colab.output.renderOutput(dataTable, element);\n",
              "          const docLink = document.createElement('div');\n",
              "          docLink.innerHTML = docLinkHtml;\n",
              "          element.appendChild(docLink);\n",
              "        }\n",
              "      </script>\n",
              "    </div>\n",
              "  </div>\n",
              "  "
            ],
            "text/plain": [
              "      target  ... total_lines\n",
              "0  OBJECTIVE  ...          11\n",
              "1    METHODS  ...          11\n",
              "2    METHODS  ...          11\n",
              "3    METHODS  ...          11\n",
              "4    METHODS  ...          11\n",
              "\n",
              "[5 rows x 4 columns]"
            ]
          },
          "metadata": {},
          "execution_count": 32
        }
      ]
    },
    {
      "cell_type": "code",
      "source": [
        "#distribution of labels in train data\n",
        "\n",
        "df_train.target.value_counts().plot(kind = 'bar')"
      ],
      "metadata": {
        "colab": {
          "base_uri": "https://localhost:8080/",
          "height": 346
        },
        "id": "Z0Z60LLfhOEy",
        "outputId": "d8083423-9a21-46fc-fc56-8865736d74c6"
      },
      "execution_count": 33,
      "outputs": [
        {
          "output_type": "execute_result",
          "data": {
            "text/plain": [
              "<matplotlib.axes._subplots.AxesSubplot at 0x7f14cca90bd0>"
            ]
          },
          "metadata": {},
          "execution_count": 33
        },
        {
          "output_type": "display_data",
          "data": {
            "image/png": "[encoded data removed]",
            "text/plain": [
              "<Figure size 432x288 with 1 Axes>"
            ]
          },
          "metadata": {
            "needs_background": "light"
          }
        }
      ]
    },
    {
      "cell_type": "code",
      "source": [
        "df_train.total_lines.plot.hist()"
      ],
      "metadata": {
        "colab": {
          "base_uri": "https://localhost:8080/",
          "height": 286
        },
        "id": "sN-7nu_khTK5",
        "outputId": "485d88ce-443c-4255-d1f9-9b5198db5484"
      },
      "execution_count": 34,
      "outputs": [
        {
          "output_type": "execute_result",
          "data": {
            "text/plain": [
              "<matplotlib.axes._subplots.AxesSubplot at 0x7f14cbad3550>"
            ]
          },
          "metadata": {},
          "execution_count": 34
        },
        {
          "output_type": "display_data",
          "data": {
            "image/png": "[encoded data removed]",
            "text/plain": [
              "<Figure size 432x288 with 1 Axes>"
            ]
          },
          "metadata": {
            "needs_background": "light"
          }
        }
      ]
    },
    {
      "cell_type": "markdown",
      "source": [
        "## Get lists of sentences"
      ],
      "metadata": {
        "id": "KDqXaPNBhbny"
      }
    },
    {
      "cell_type": "code",
      "source": [
        "train_sentences = df_train['text'].tolist()\n",
        "val_sentences = df_val['text'].tolist()\n",
        "test_sentences = df_test['text'].tolist()"
      ],
      "metadata": {
        "id": "KDLlhu8Zhs0p"
      },
      "execution_count": 35,
      "outputs": []
    },
    {
      "cell_type": "code",
      "source": [
        "len(train_sentences), len(val_sentences),len(test_sentences)"
      ],
      "metadata": {
        "colab": {
          "base_uri": "https://localhost:8080/"
        },
        "id": "PCE3HF2AiBVh",
        "outputId": "43e19147-9c2a-4b2c-a8e0-83e6a013ae27"
      },
      "execution_count": 36,
      "outputs": [
        {
          "output_type": "execute_result",
          "data": {
            "text/plain": [
              "(180040, 30212, 30135)"
            ]
          },
          "metadata": {},
          "execution_count": 36
        }
      ]
    },
    {
      "cell_type": "code",
      "source": [
        "## make numeric labels\n",
        "import tensorflow as tf\n",
        "from sklearn.preprocessing import OneHotEncoder, LabelEncoder"
      ],
      "metadata": {
        "id": "I10FBaVRiGNF"
      },
      "execution_count": 41,
      "outputs": []
    },
    {
      "cell_type": "code",
      "source": [
        "one_hot_encoder = OneHotEncoder(sparse = False)\n",
        "train_labels_one_hot = one_hot_encoder.fit_transform(df_train['target'].to_numpy().reshape(-1,1))\n",
        "val_labels_one_hot = one_hot_encoder.transform(df_val['target'].to_numpy().reshape(-1,1))\n",
        "test_labels_one_hot = one_hot_encoder.transform(df_test['target'].to_numpy().reshape(-1,1))"
      ],
      "metadata": {
        "id": "biT5a1n9imye"
      },
      "execution_count": 42,
      "outputs": []
    },
    {
      "cell_type": "code",
      "source": [
        "label_encoder = LabelEncoder()\n",
        "train_labels_encoded = label_encoder.fit_transform(df_train['target'].to_numpy())\n",
        "val_labels_encoded = label_encoder.transform(df_val['target'].to_numpy())\n",
        "test_labels_encoded = label_encoder.transform(df_test['target'].to_numpy())"
      ],
      "metadata": {
        "id": "if6h_SxGiy78"
      },
      "execution_count": 43,
      "outputs": []
    },
    {
      "cell_type": "code",
      "source": [
        "tf.constant(train_labels_one_hot)"
      ],
      "metadata": {
        "colab": {
          "base_uri": "https://localhost:8080/"
        },
        "id": "tgL9sA7fjNT-",
        "outputId": "71bb2f84-fdb7-4747-a7b1-b5c6fe5e324b"
      },
      "execution_count": 44,
      "outputs": [
        {
          "output_type": "execute_result",
          "data": {
            "text/plain": [
              "<tf.Tensor: shape=(180040, 5), dtype=float64, numpy=\n",
              "array([[0., 0., 0., 1., 0.],\n",
              "       [0., 0., 1., 0., 0.],\n",
              "       [0., 0., 1., 0., 0.],\n",
              "       ...,\n",
              "       [0., 0., 0., 0., 1.],\n",
              "       [0., 1., 0., 0., 0.],\n",
              "       [0., 1., 0., 0., 0.]])>"
            ]
          },
          "metadata": {},
          "execution_count": 44
        }
      ]
    },
    {
      "cell_type": "code",
      "source": [
        "num_classes = len(label_encoder.classes_)\n",
        "class_names = label_encoder.classes_\n",
        "num_classes,class_names"
      ],
      "metadata": {
        "colab": {
          "base_uri": "https://localhost:8080/"
        },
        "id": "jI5Z63YGjQit",
        "outputId": "c632e8bf-6cc0-46b7-fbe7-edaf647943fa"
      },
      "execution_count": 45,
      "outputs": [
        {
          "output_type": "execute_result",
          "data": {
            "text/plain": [
              "(5, array(['BACKGROUND', 'CONCLUSIONS', 'METHODS', 'OBJECTIVE', 'RESULTS'],\n",
              "       dtype=object))"
            ]
          },
          "metadata": {},
          "execution_count": 45
        }
      ]
    },
    {
      "cell_type": "code",
      "source": [
        "from sklearn.naive_bayes import MultinomialNB\n",
        "from sklearn.feature_extraction.text import TfidfVectorizer\n",
        "from sklearn.pipeline import Pipeline"
      ],
      "metadata": {
        "id": "9LLJ4aCblTVD"
      },
      "execution_count": 46,
      "outputs": []
    },
    {
      "cell_type": "code",
      "source": [
        "model_0 = Pipeline([('tf-idf',TfidfVectorizer()),\n",
        "                    ('clf',MultinomialNB())])"
      ],
      "metadata": {
        "id": "PcCWD-dtldks"
      },
      "execution_count": 47,
      "outputs": []
    },
    {
      "cell_type": "code",
      "source": [
        "model_0.fit(X = train_sentences,\n",
        "            y = train_labels_encoded)"
      ],
      "metadata": {
        "colab": {
          "base_uri": "https://localhost:8080/"
        },
        "id": "vi0-18VzmSqj",
        "outputId": "e43fe4c3-05dd-42a3-a522-cb16cbd4e81e"
      },
      "execution_count": 48,
      "outputs": [
        {
          "output_type": "execute_result",
          "data": {
            "text/plain": [
              "Pipeline(steps=[('tf-idf', TfidfVectorizer()), ('clf', MultinomialNB())])"
            ]
          },
          "metadata": {},
          "execution_count": 48
        }
      ]
    },
    {
      "cell_type": "code",
      "source": [
        "model_0.score(X = val_sentences,\n",
        "              y = val_labels_encoded)"
      ],
      "metadata": {
        "colab": {
          "base_uri": "https://localhost:8080/"
        },
        "id": "0DlqJykFmdee",
        "outputId": "79427f64-0f70-4070-f53a-9d35be94c908"
      },
      "execution_count": 51,
      "outputs": [
        {
          "output_type": "execute_result",
          "data": {
            "text/plain": [
              "0.7218323844829869"
            ]
          },
          "metadata": {},
          "execution_count": 51
        }
      ]
    },
    {
      "cell_type": "code",
      "source": [
        "# make prediction using our baseline_model\n",
        "baseline_preds = model_0.predict(val_sentences)\n",
        "baseline_preds"
      ],
      "metadata": {
        "colab": {
          "base_uri": "https://localhost:8080/"
        },
        "id": "XENfyLDLmx4T",
        "outputId": "d27809f5-26d9-42ce-9948-dda615b3ef26"
      },
      "execution_count": 52,
      "outputs": [
        {
          "output_type": "execute_result",
          "data": {
            "text/plain": [
              "array([4, 1, 3, ..., 4, 4, 1])"
            ]
          },
          "metadata": {},
          "execution_count": 52
        }
      ]
    },
    {
      "cell_type": "code",
      "source": [
        "!wget https://raw.githubusercontent.com/mrdbourke/tensorflow-deep-learning/main/extras/helper_functions.py"
      ],
      "metadata": {
        "colab": {
          "base_uri": "https://localhost:8080/"
        },
        "id": "NijKUf8em4P8",
        "outputId": "11366313-67bf-495f-a18e-ed557707a5b4"
      },
      "execution_count": 53,
      "outputs": [
        {
          "output_type": "stream",
          "name": "stdout",
          "text": [
            "--2022-01-19 05:14:00--  https://raw.githubusercontent.com/mrdbourke/tensorflow-deep-learning/main/extras/helper_functions.py\n",
            "Resolving raw.githubusercontent.com (raw.githubusercontent.com)... 185.199.111.133, 185.199.109.133, 185.199.110.133, ...\n",
            "Connecting to raw.githubusercontent.com (raw.githubusercontent.com)|185.199.111.133|:443... connected.\n",
            "HTTP request sent, awaiting response... 200 OK\n",
            "Length: 10246 (10K) [text/plain]\n",
            "Saving to: ‘helper_functions.py’\n",
            "\n",
            "\rhelper_functions.py   0%[                    ]       0  --.-KB/s               \rhelper_functions.py 100%[===================>]  10.01K  --.-KB/s    in 0s      \n",
            "\n",
            "2022-01-19 05:14:00 (92.8 MB/s) - ‘helper_functions.py’ saved [10246/10246]\n",
            "\n"
          ]
        }
      ]
    },
    {
      "cell_type": "code",
      "source": [
        "from helper_functions import create_tensorboard_callback , plot_loss_curves ,calculate_results "
      ],
      "metadata": {
        "id": "yrTzcLTmq32M"
      },
      "execution_count": 93,
      "outputs": []
    },
    {
      "cell_type": "markdown",
      "source": [
        ""
      ],
      "metadata": {
        "id": "DdNi8rTX0zzC"
      }
    },
    {
      "cell_type": "code",
      "source": [
        "baseline_results = calculate_results(val_labels_encoded,baseline_preds)"
      ],
      "metadata": {
        "id": "8pZiqP3krFXa"
      },
      "execution_count": 55,
      "outputs": []
    },
    {
      "cell_type": "code",
      "source": [
        "baseline_results"
      ],
      "metadata": {
        "colab": {
          "base_uri": "https://localhost:8080/"
        },
        "id": "lO5WV5OArP_j",
        "outputId": "3ed8ab35-c29b-4cfb-ea38-dd57a8e99670"
      },
      "execution_count": 56,
      "outputs": [
        {
          "output_type": "execute_result",
          "data": {
            "text/plain": [
              "{'accuracy': 72.1832384482987,\n",
              " 'f1': 0.6989250353450294,\n",
              " 'precision': 0.7186466952323352,\n",
              " 'recall': 0.7218323844829869}"
            ]
          },
          "metadata": {},
          "execution_count": 56
        }
      ]
    },
    {
      "cell_type": "markdown",
      "source": [
        "# preparing our data for deep sequence model\n",
        "\n"
      ],
      "metadata": {
        "id": "6958C9UBrh0t"
      }
    },
    {
      "cell_type": "code",
      "source": [
        "import numpy as np\n",
        "import tensorflow as tf\n",
        "from tensorflow.keras import layers"
      ],
      "metadata": {
        "id": "k7uPkDfarVh-"
      },
      "execution_count": 57,
      "outputs": []
    },
    {
      "cell_type": "code",
      "source": [
        "#How long is each sentence on average\n",
        "sent_lens = [len(sentence.split()) for sentence in train_sentences]\n",
        "avg_sent_len = np.mean(sent_lens)\n",
        "avg_sent_len , np.max(sent_lens), np.min(sent_lens)"
      ],
      "metadata": {
        "colab": {
          "base_uri": "https://localhost:8080/"
        },
        "id": "CbxFNbnhr5wW",
        "outputId": "7b701b97-3af1-4193-b9cf-d7b9f6059517"
      },
      "execution_count": 58,
      "outputs": [
        {
          "output_type": "execute_result",
          "data": {
            "text/plain": [
              "(26.338269273494777, 296, 1)"
            ]
          },
          "metadata": {},
          "execution_count": 58
        }
      ]
    },
    {
      "cell_type": "code",
      "source": [
        "import matplotlib.pyplot as plt\n",
        "plt.hist(sent_lens,bins = 20);"
      ],
      "metadata": {
        "colab": {
          "base_uri": "https://localhost:8080/",
          "height": 265
        },
        "id": "BOK2iKGOsCeT",
        "outputId": "f846583f-7148-49bc-bb0a-ceedf6cc2b7b"
      },
      "execution_count": 59,
      "outputs": [
        {
          "output_type": "display_data",
          "data": {
            "image/png": "[encoded data removed]",
            "text/plain": [
              "<Figure size 432x288 with 1 Axes>"
            ]
          },
          "metadata": {
            "needs_background": "light"
          }
        }
      ]
    },
    {
      "cell_type": "code",
      "source": [
        "#How long of a sentence length covers 95% of examples?\n",
        "\n",
        "output_seq_len = int(np.percentile(sent_lens,q = 95))\n",
        "output_seq_len"
      ],
      "metadata": {
        "colab": {
          "base_uri": "https://localhost:8080/"
        },
        "id": "R9APt-ZrsTte",
        "outputId": "35257a50-e892-46dc-bb29-842d44e9a5a8"
      },
      "execution_count": 60,
      "outputs": [
        {
          "output_type": "execute_result",
          "data": {
            "text/plain": [
              "55"
            ]
          },
          "metadata": {},
          "execution_count": 60
        }
      ]
    },
    {
      "cell_type": "code",
      "source": [
        "#output_seq_len = int(np.percentile(sent_lens,q = 99))\n",
        "#output_seq_len"
      ],
      "metadata": {
        "id": "GY8yL9McsrZH"
      },
      "execution_count": 61,
      "outputs": []
    },
    {
      "cell_type": "code",
      "source": [
        "max_tokens = 68000"
      ],
      "metadata": {
        "id": "eTy-F12ls27v"
      },
      "execution_count": 62,
      "outputs": []
    },
    {
      "cell_type": "code",
      "source": [
        "from tensorflow.keras.layers.experimental.preprocessing import TextVectorization"
      ],
      "metadata": {
        "id": "wXr7JT37tt0a"
      },
      "execution_count": 63,
      "outputs": []
    },
    {
      "cell_type": "code",
      "source": [
        "text_vectorizer = TextVectorization(max_tokens = max_tokens,\n",
        "                                    output_sequence_length = output_seq_len)"
      ],
      "metadata": {
        "id": "6qoLcxQMt0bZ"
      },
      "execution_count": 64,
      "outputs": []
    },
    {
      "cell_type": "code",
      "source": [
        "#Adapt text vectorizer to training sentences\n",
        "\n",
        "text_vectorizer.adapt(train_sentences)"
      ],
      "metadata": {
        "id": "DtDuQCxQuAXy"
      },
      "execution_count": 65,
      "outputs": []
    },
    {
      "cell_type": "code",
      "source": [
        "#test out text vectorizer on random sentences\n",
        "\n",
        "import random"
      ],
      "metadata": {
        "id": "t0lt_7ZyuN64"
      },
      "execution_count": 66,
      "outputs": []
    },
    {
      "cell_type": "code",
      "source": [
        "target_sentence = random.choice(train_sentences)\n",
        "print(f'Text:\\n {target_sentence}')\n",
        "print(f'\\nLength of text: {len(target_sentence)}')\n",
        "print(f'\\nVectorized text: {text_vectorizer([target_sentence])}')"
      ],
      "metadata": {
        "colab": {
          "base_uri": "https://localhost:8080/"
        },
        "id": "ea59QsMmulX1",
        "outputId": "3419a650-2dd6-4b87-ca84-1c4b293ac0bc"
      },
      "execution_count": 70,
      "outputs": [
        {
          "output_type": "stream",
          "name": "stdout",
          "text": [
            "Text:\n",
            " the doctors/psychologists responded to standardized items regarding various aspects of utility and practicability of the questionnaire .\n",
            "\n",
            "Length of text: 136\n",
            "\n",
            "Vectorized text: [[    2 59443  3071     6   974  1928   539  1139  1775     4  2049     3\n",
            "  29154     4     2   325     0     0     0     0     0     0     0     0\n",
            "      0     0     0     0     0     0     0     0     0     0     0     0\n",
            "      0     0     0     0     0     0     0     0     0     0     0     0\n",
            "      0     0     0     0     0     0     0]]\n"
          ]
        }
      ]
    },
    {
      "cell_type": "code",
      "source": [
        "# How many words in our training vocabulary\n",
        "rct_20k_text_vocab = text_vectorizer.get_vocabulary()\n",
        "print(f'Number of words in vocab: {len(rct_20k_text_vocab)}')\n",
        "print(f'Most common words in the vocab:{rct_20k_text_vocab[:5]}')\n",
        "print(f'least common words in the vocab:{rct_20k_text_vocab[-5:]}')"
      ],
      "metadata": {
        "colab": {
          "base_uri": "https://localhost:8080/"
        },
        "id": "8QG6uOIyurK6",
        "outputId": "1f3d8b62-3c64-42fa-df39-ca1a754a5153"
      },
      "execution_count": 71,
      "outputs": [
        {
          "output_type": "stream",
          "name": "stdout",
          "text": [
            "Number of words in vocab: 64841\n",
            "Most common words in the vocab:['', '[UNK]', 'the', 'and', 'of']\n",
            "least common words in the vocab:['aainduced', 'aaigroup', 'aachener', 'aachen', 'aaacp']\n"
          ]
        }
      ]
    },
    {
      "cell_type": "code",
      "source": [
        "text_vectorizer.get_config()"
      ],
      "metadata": {
        "colab": {
          "base_uri": "https://localhost:8080/"
        },
        "id": "EJBhCf-svDmQ",
        "outputId": "a9bbd7cc-be53-4f83-d750-f0f0e8ebe00a"
      },
      "execution_count": 72,
      "outputs": [
        {
          "output_type": "execute_result",
          "data": {
            "text/plain": [
              "{'batch_input_shape': (None,),\n",
              " 'dtype': 'string',\n",
              " 'idf_weights': None,\n",
              " 'max_tokens': 68000,\n",
              " 'name': 'text_vectorization',\n",
              " 'ngrams': None,\n",
              " 'output_mode': 'int',\n",
              " 'output_sequence_length': 55,\n",
              " 'pad_to_max_tokens': False,\n",
              " 'ragged': False,\n",
              " 'sparse': False,\n",
              " 'split': 'whitespace',\n",
              " 'standardize': 'lower_and_strip_punctuation',\n",
              " 'trainable': True,\n",
              " 'vocabulary': None}"
            ]
          },
          "metadata": {},
          "execution_count": 72
        }
      ]
    },
    {
      "cell_type": "markdown",
      "source": [
        "## Create custom text embedding"
      ],
      "metadata": {
        "id": "5QQ9BkcuvcIo"
      }
    },
    {
      "cell_type": "code",
      "source": [
        "token_embed = layers.Embedding(input_dim = len(rct_20k_text_vocab),\n",
        "                                  output_dim = 128, #number of output dim drastically changes number of paramters\n",
        "                                  mask_zero = True,\n",
        "                                  name = 'token_embedding'\n",
        "                                  )"
      ],
      "metadata": {
        "id": "tYLbfx90vODA"
      },
      "execution_count": 76,
      "outputs": []
    },
    {
      "cell_type": "code",
      "source": [
        "#show example embedding\n",
        "print(f'Sentence before vectorization:\\n {target_sentence}')\n",
        "vectorized_sentence = text_vectorizer([target_sentence])\n",
        "print(f'Sentence after vectorization (before embedding:\\n {vectorized_sentence}')\n",
        "embedded_sentence = token_embed(vectorized_sentence)\n",
        "print(f'Sentence after embedding:\\n {embedded_sentence}')\n",
        "print(f'Embedded sentence shape :\\n {embedded_sentence.shape}')"
      ],
      "metadata": {
        "colab": {
          "base_uri": "https://localhost:8080/"
        },
        "id": "RMBp6YZ1wH4-",
        "outputId": "bac8ac21-fb35-4bc0-c7cd-78a9a9604be5"
      },
      "execution_count": 77,
      "outputs": [
        {
          "output_type": "stream",
          "name": "stdout",
          "text": [
            "Sentence before vectorization:\n",
            " the doctors/psychologists responded to standardized items regarding various aspects of utility and practicability of the questionnaire .\n",
            "Sentence after vectorization (before embedding:\n",
            " [[    2 59443  3071     6   974  1928   539  1139  1775     4  2049     3\n",
            "  29154     4     2   325     0     0     0     0     0     0     0     0\n",
            "      0     0     0     0     0     0     0     0     0     0     0     0\n",
            "      0     0     0     0     0     0     0     0     0     0     0     0\n",
            "      0     0     0     0     0     0     0]]\n",
            "Sentence after embedding:\n",
            " [[[ 0.01030044  0.00864906  0.01255173 ...  0.0036764  -0.01804437\n",
            "   -0.02425113]\n",
            "  [ 0.01023076 -0.00197872 -0.01327514 ... -0.04073722  0.02685808\n",
            "   -0.02941864]\n",
            "  [ 0.00861109 -0.00830547 -0.01926116 ... -0.0095262  -0.04303471\n",
            "   -0.01868547]\n",
            "  ...\n",
            "  [ 0.04539665  0.00621377 -0.03211799 ... -0.04867808  0.03421256\n",
            "   -0.04671424]\n",
            "  [ 0.04539665  0.00621377 -0.03211799 ... -0.04867808  0.03421256\n",
            "   -0.04671424]\n",
            "  [ 0.04539665  0.00621377 -0.03211799 ... -0.04867808  0.03421256\n",
            "   -0.04671424]]]\n",
            "Embedded sentence shape :\n",
            " (1, 55, 128)\n"
          ]
        }
      ]
    },
    {
      "cell_type": "markdown",
      "source": [
        "## Creating datasets (making sure our data loads as fast as possible)\n",
        "\n",
        "reference : https://www.tensorflow.org/guide/data_performance"
      ],
      "metadata": {
        "id": "uZDnSSomwbpZ"
      }
    },
    {
      "cell_type": "code",
      "source": [
        "#Turn our data into tensorflow datasets\n",
        "train_dataset = tf.data.Dataset.from_tensor_slices((train_sentences,train_labels_one_hot))\n",
        "valid_dataset = tf.data.Dataset.from_tensor_slices((val_sentences,val_labels_one_hot))\n",
        "test_dataset = tf.data.Dataset.from_tensor_slices((test_sentences,test_labels_one_hot))\n",
        "\n",
        "train_dataset"
      ],
      "metadata": {
        "colab": {
          "base_uri": "https://localhost:8080/"
        },
        "id": "L5c1H736xP6I",
        "outputId": "319c9ccd-a81a-444a-80d6-59ec3525c8fe"
      },
      "execution_count": 79,
      "outputs": [
        {
          "output_type": "execute_result",
          "data": {
            "text/plain": [
              "<TensorSliceDataset shapes: ((), (5,)), types: (tf.string, tf.float64)>"
            ]
          },
          "metadata": {},
          "execution_count": 79
        }
      ]
    },
    {
      "cell_type": "code",
      "source": [
        "train_labels_one_hot.shape , train_labels_one_hot[0]"
      ],
      "metadata": {
        "colab": {
          "base_uri": "https://localhost:8080/"
        },
        "id": "WOzW_8mBxzF6",
        "outputId": "cbdb8e42-f909-46ba-db98-a40c0908a005"
      },
      "execution_count": 82,
      "outputs": [
        {
          "output_type": "execute_result",
          "data": {
            "text/plain": [
              "((180040, 5), array([0., 0., 0., 1., 0.]))"
            ]
          },
          "metadata": {},
          "execution_count": 82
        }
      ]
    },
    {
      "cell_type": "code",
      "source": [
        "#Take the TensorSliceDataset into prefetched dataset\n",
        "\n",
        "train_dataset = train_dataset.batch(32).prefetch(tf.data.AUTOTUNE)#let tensorflow automatically decide the size\n",
        "valid_dataset = valid_dataset.batch(32).prefetch(tf.data.AUTOTUNE)\n",
        "test_dataset = test_dataset.batch(32).prefetch(tf.data.AUTOTUNE)\n",
        "\n",
        "train_dataset"
      ],
      "metadata": {
        "colab": {
          "base_uri": "https://localhost:8080/"
        },
        "id": "Dc0N7clyx4CH",
        "outputId": "71892491-1fcc-4e69-fb95-ba0d657319c0"
      },
      "execution_count": 84,
      "outputs": [
        {
          "output_type": "execute_result",
          "data": {
            "text/plain": [
              "<PrefetchDataset shapes: ((None,), (None, 5)), types: (tf.string, tf.float64)>"
            ]
          },
          "metadata": {},
          "execution_count": 84
        }
      ]
    },
    {
      "cell_type": "markdown",
      "source": [
        "## Model 1 : Conv1D with token embeddings"
      ],
      "metadata": {
        "id": "hREOPdjVymCi"
      }
    },
    {
      "cell_type": "code",
      "source": [
        "#Create 1D conv model to process sequences\n",
        "inputs = layers.Input(shape=(1,) ,dtype = tf.string)\n",
        "text_vectors = text_vectorizer(inputs)\n",
        "token_embedding = token_embed(text_vectors)\n",
        "x = layers.Conv1D(64, kernel_size = 5 , padding = 'same' , activation = 'relu')(token_embedding)\n",
        "x = layers.GlobalAveragePooling1D()(x) # condense the outpts of our feature vectors from conv layer\n",
        "outputs = layers.Dense(num_classes, activation = 'softmax')(x)\n",
        "model_1 = tf.keras.Model(inputs,outputs)"
      ],
      "metadata": {
        "id": "cvguIBsgyzA6"
      },
      "execution_count": 86,
      "outputs": []
    },
    {
      "cell_type": "code",
      "source": [
        "model_1.compile(loss = tf.keras.losses.CategoricalCrossentropy(),\n",
        "                optimizer = tf.keras.optimizers.Adam(),\n",
        "                metrics = ['accuracy'])"
      ],
      "metadata": {
        "id": "_H2qqGd3zjwR"
      },
      "execution_count": 88,
      "outputs": []
    },
    {
      "cell_type": "code",
      "source": [
        "dir_name = 'milestone_2'"
      ],
      "metadata": {
        "id": "M8aNTfWH0ZgV"
      },
      "execution_count": 89,
      "outputs": []
    },
    {
      "cell_type": "code",
      "source": [
        "histroy_model_1 = model_1.fit(train_dataset,\n",
        "                              steps_per_epoch = int(0.1*len(train_dataset)),\n",
        "                              epochs = 5,\n",
        "                              validation_data = valid_dataset,\n",
        "                              validation_steps = int(0.1*len(valid_dataset)),\n",
        "                              callbacks = [create_tensorboard_callback(dir_name = dir_name,\n",
        "                                                                       experiment_name = 'Conv1D_Model')] )"
      ],
      "metadata": {
        "colab": {
          "base_uri": "https://localhost:8080/"
        },
        "id": "PJqvz4D0zvLt",
        "outputId": "c9bc7d96-cc92-4e96-8df3-e41b7f4e1c27"
      },
      "execution_count": 91,
      "outputs": [
        {
          "output_type": "stream",
          "name": "stdout",
          "text": [
            "Saving TensorBoard log files to: milestone_2/Conv1D_Model/20220119-053221\n",
            "Epoch 1/5\n",
            "562/562 [==============================] - 15s 9ms/step - loss: 0.9204 - accuracy: 0.6400 - val_loss: 0.6825 - val_accuracy: 0.7427\n",
            "Epoch 2/5\n",
            "562/562 [==============================] - 5s 8ms/step - loss: 0.6586 - accuracy: 0.7554 - val_loss: 0.6330 - val_accuracy: 0.7686\n",
            "Epoch 3/5\n",
            "562/562 [==============================] - 5s 8ms/step - loss: 0.6188 - accuracy: 0.7752 - val_loss: 0.5976 - val_accuracy: 0.7856\n",
            "Epoch 4/5\n",
            "562/562 [==============================] - 5s 8ms/step - loss: 0.5901 - accuracy: 0.7888 - val_loss: 0.5775 - val_accuracy: 0.7899\n",
            "Epoch 5/5\n",
            "562/562 [==============================] - 5s 8ms/step - loss: 0.5904 - accuracy: 0.7919 - val_loss: 0.5592 - val_accuracy: 0.7985\n"
          ]
        }
      ]
    },
    {
      "cell_type": "code",
      "source": [
        "plot_loss_curves(histroy_model_1)"
      ],
      "metadata": {
        "colab": {
          "base_uri": "https://localhost:8080/",
          "height": 573
        },
        "id": "ou4WXHrj0kGp",
        "outputId": "3ba653a2-7ea4-49fe-cfd2-4b9298209ebe"
      },
      "execution_count": 95,
      "outputs": [
        {
          "output_type": "display_data",
          "data": {
            "image/png": "[encoded data removed]",
            "text/plain": [
              "<Figure size 432x288 with 1 Axes>"
            ]
          },
          "metadata": {
            "needs_background": "light"
          }
        },
        {
          "output_type": "display_data",
          "data": {
            "image/png": "[encoded data removed]",
            "text/plain": [
              "<Figure size 432x288 with 1 Axes>"
            ]
          },
          "metadata": {
            "needs_background": "light"
          }
        }
      ]
    },
    {
      "cell_type": "code",
      "source": [
        "model_1.evaluate(valid_dataset)"
      ],
      "metadata": {
        "colab": {
          "base_uri": "https://localhost:8080/"
        },
        "id": "LM5IEwEX0w8O",
        "outputId": "fea86379-ec4d-49e4-f686-d24059ed71a5"
      },
      "execution_count": 96,
      "outputs": [
        {
          "output_type": "stream",
          "name": "stdout",
          "text": [
            "945/945 [==============================] - 3s 3ms/step - loss: 0.5612 - accuracy: 0.8023\n"
          ]
        },
        {
          "output_type": "execute_result",
          "data": {
            "text/plain": [
              "[0.5611749887466431, 0.8022639751434326]"
            ]
          },
          "metadata": {},
          "execution_count": 96
        }
      ]
    },
    {
      "cell_type": "code",
      "source": [
        "model_1_pred_probs = model_1.predict(valid_dataset)"
      ],
      "metadata": {
        "id": "9L4wjGP11D4n"
      },
      "execution_count": 105,
      "outputs": []
    },
    {
      "cell_type": "code",
      "source": [
        "def model_results(model,y_true,validation_data):\n",
        "  model_pred_probs = model.predict(validation_data)\n",
        "  model_preds = tf.squeeze(np.argmax(model_pred_probs, axis = 1))\n",
        "  model_results = calculate_results(y_true = y_true,\n",
        "                                    y_pred = model_preds)\n",
        "  return model_results"
      ],
      "metadata": {
        "id": "bGnpViKM121W"
      },
      "execution_count": 110,
      "outputs": []
    },
    {
      "cell_type": "code",
      "source": [
        "model_1_results = model_results(model_1,\n",
        "                                y_true = val_labels_encoded,\n",
        "                                validation_data = valid_dataset)"
      ],
      "metadata": {
        "id": "3ZW3rcFQ1one"
      },
      "execution_count": 111,
      "outputs": []
    },
    {
      "cell_type": "code",
      "source": [
        "model_1_results"
      ],
      "metadata": {
        "colab": {
          "base_uri": "https://localhost:8080/"
        },
        "id": "YaEkePxe1wki",
        "outputId": "a3ca0440-6ef7-45df-d5ef-afb58b858a11"
      },
      "execution_count": 112,
      "outputs": [
        {
          "output_type": "execute_result",
          "data": {
            "text/plain": [
              "{'accuracy': 80.22640010591819,\n",
              " 'f1': 0.7991000781095597,\n",
              " 'precision': 0.8029369022643885,\n",
              " 'recall': 0.8022640010591818}"
            ]
          },
          "metadata": {},
          "execution_count": 112
        }
      ]
    },
    {
      "cell_type": "markdown",
      "source": [
        "## Model 2 : Feature extraction with pretrained token embedding\n",
        "\n",
        "reference : https://tfhub.dev/google/universal-sentence-encoder/4"
      ],
      "metadata": {
        "id": "Tz4fA1IM2fmw"
      }
    },
    {
      "cell_type": "code",
      "source": [
        "#download pretrained tensorflow hub USE\n",
        "import tensorflow_hub as hub\n",
        "tf_hub_embedding_layer = hub.KerasLayer('https://tfhub.dev/google/universal-sentence-encoder/4',\n",
        "                                        trainable = False,\n",
        "                                        name = 'universal_sentence_encoder')"
      ],
      "metadata": {
        "id": "oO0AgAcV2zvM"
      },
      "execution_count": 113,
      "outputs": []
    },
    {
      "cell_type": "code",
      "source": [
        "#Test out of the pretrained embedding on a random sentence\n",
        "random_train_sentence = random.choice(train_sentences)\n",
        "print(f'Random sentence: {random_train_sentence}')\n",
        "use_embedded_sentence = tf_hub_embedding_layer([random_train_sentence])\n",
        "print(f'Sentence after embedding:\\n {use_embedded_sentence}\\n')\n",
        "print(f'length after embedding:\\n {len(use_embedded_sentence[0])}\\n')"
      ],
      "metadata": {
        "colab": {
          "base_uri": "https://localhost:8080/"
        },
        "id": "TFYb54N537Xi",
        "outputId": "6e8d6f8a-38ae-4680-b7d1-fe1910bde28c"
      },
      "execution_count": 117,
      "outputs": [
        {
          "output_type": "stream",
          "name": "stdout",
          "text": [
            "Random sentence: change in attitude accounted for significant variance in intention .\n",
            "Sentence after embedding:\n",
            " [[-7.53517216e-03 -4.31280844e-02 -3.28110461e-03 -7.09598511e-02\n",
            "   4.38166969e-02  6.52305409e-02 -5.68150282e-02 -4.04490642e-02\n",
            "   2.70027928e-02  2.17973888e-02 -3.82362865e-02  1.30071526e-03\n",
            "  -5.08957244e-02  9.25468095e-03  2.07701996e-02 -8.75331834e-02\n",
            "   5.32942973e-02 -7.22133815e-02  7.79997706e-02  4.81864251e-02\n",
            "   3.01091000e-03  3.64045389e-02  7.28234798e-02 -7.12397397e-02\n",
            "   3.36447209e-02  2.74564624e-02  7.54177123e-02  5.46246432e-02\n",
            "   5.71521707e-02 -3.46761681e-02 -1.21586621e-02 -3.13186273e-02\n",
            "  -1.36452438e-02 -4.37960989e-04 -6.56252131e-02 -4.39405479e-02\n",
            "  -4.97929491e-02  2.45533343e-02  4.20622304e-02  1.28280837e-02\n",
            "  -6.42459393e-02  6.30058646e-02  2.67918091e-02  1.32784396e-02\n",
            "  -2.19410378e-02 -3.56922708e-02 -6.53545409e-02 -1.06122633e-02\n",
            "   4.75797094e-02 -2.04987433e-02 -8.59684218e-03 -4.18223701e-02\n",
            "   2.73891855e-02 -6.16350397e-02 -4.43146490e-02 -5.43529950e-02\n",
            "   3.40766087e-02 -2.19954886e-02  3.98441441e-02 -7.34943300e-02\n",
            "   6.83562923e-03  2.03396212e-02 -1.66278915e-03 -2.74994131e-02\n",
            "  -3.90820093e-02 -3.70645151e-02 -2.07529869e-02  4.20051403e-02\n",
            "   7.90245458e-02  7.69663677e-02 -3.97441443e-04  5.22022322e-02\n",
            "   5.07040322e-02  3.50041017e-02 -4.80476879e-02  8.46357420e-02\n",
            "  -3.77652012e-02  5.29101342e-02 -1.92093034e-03 -4.82318699e-02\n",
            "  -1.49798235e-02  2.93794181e-02  2.31961235e-02  5.75809367e-02\n",
            "   4.07250971e-02  2.37276331e-02  8.46016258e-02  4.07448038e-02\n",
            "  -6.49237558e-02  6.14950396e-02  2.69191302e-02  3.47677954e-02\n",
            "   5.35112768e-02  1.92030165e-02 -7.14334026e-02 -3.42689338e-03\n",
            "  -6.30682260e-02  1.97997503e-02 -7.01647252e-02 -2.12963223e-02\n",
            "  -6.01962954e-02  3.92343216e-02 -3.35487984e-02  4.19195257e-02\n",
            "  -5.65841533e-02 -5.46723092e-03 -7.17820451e-02  4.55487287e-03\n",
            "   3.36306505e-02  1.52219469e-02  7.43180290e-02 -7.28055313e-02\n",
            "  -1.87364370e-02 -5.87858260e-02  4.08742540e-02  7.87853524e-02\n",
            "  -1.57764498e-02 -7.76484013e-02  2.12714765e-02 -5.00323065e-02\n",
            "   4.92397994e-02 -6.76264539e-02 -1.51804136e-02 -1.36168292e-02\n",
            "   1.09940609e-02  1.95015948e-02 -3.76351364e-02  5.46663590e-02\n",
            "   2.85561886e-02  2.87875813e-02 -3.04615945e-02 -5.33053353e-02\n",
            "  -2.09487905e-03 -4.12477031e-02 -8.55664816e-03  3.26921344e-02\n",
            "  -2.97510810e-02  8.33674073e-02 -5.72640859e-02  6.60391599e-02\n",
            "   2.29991954e-02 -2.93592028e-02 -4.15774845e-02 -6.93674106e-03\n",
            "  -5.56799350e-03 -1.27887726e-02 -1.30195087e-02 -5.60061745e-02\n",
            "   5.05081657e-03  2.82477178e-02  4.94035855e-02  7.63091445e-02\n",
            "   2.78138486e-03  4.61942926e-02 -2.27443930e-02 -4.44367155e-03\n",
            "   5.80434278e-02 -6.84992522e-02  8.94013979e-03 -4.52586412e-02\n",
            "  -8.56231600e-02 -5.21599390e-02 -1.32990247e-02 -3.31349596e-02\n",
            "   5.38332090e-02 -4.99722622e-02 -4.49729078e-02 -2.96600466e-03\n",
            "   3.83518375e-02  1.43533265e-02 -1.66087691e-02 -7.08086565e-02\n",
            "   1.72833144e-03  6.81826100e-03 -4.72479127e-02 -1.17688556e-03\n",
            "  -1.89781059e-02 -4.52201959e-04  5.89838251e-02  7.90115520e-02\n",
            "   1.92025676e-02 -4.97869961e-02 -1.37453368e-02 -3.58344838e-02\n",
            "  -2.74193287e-02  3.27455997e-02  3.92004736e-02  1.49496673e-02\n",
            "  -4.53387126e-02 -1.09887859e-02  7.44174141e-03 -5.57842888e-02\n",
            "  -4.37396877e-02  5.94863519e-02 -3.57914567e-02 -9.74868052e-03\n",
            "  -5.52569218e-02  4.62987088e-03  9.07185208e-03 -5.42698763e-02\n",
            "  -1.49872554e-02  4.38264869e-02  4.26733866e-02  1.52587695e-02\n",
            "  -1.06847165e-02 -1.37666408e-02 -9.00298432e-02  4.28641811e-02\n",
            "  -5.02614453e-02 -3.82426493e-02  2.68889870e-02 -2.63198465e-02\n",
            "   2.44052638e-03 -6.71146363e-02 -2.58280933e-02  8.11575800e-02\n",
            "  -4.46923524e-02 -2.44186129e-02 -6.48875954e-03 -5.56080081e-02\n",
            "   2.55560726e-02  6.77238405e-02 -6.84928447e-02 -4.86901449e-03\n",
            "  -3.64343226e-02  4.46821079e-02 -8.17687716e-03  8.06115195e-02\n",
            "  -7.46340811e-05  2.02927720e-02  3.48554105e-02  6.19285740e-02\n",
            "  -4.98131961e-02  2.53773537e-02  5.57579054e-03 -4.51377742e-02\n",
            "   3.66276726e-02 -7.82026560e-04 -5.89269586e-02  4.99904938e-02\n",
            "   4.88145947e-02  4.59889602e-03 -8.43586251e-02 -5.56525551e-02\n",
            "   3.34550329e-02  1.65634323e-02 -2.62102000e-02  5.79696000e-02\n",
            "   5.87534579e-03  4.72346097e-02  4.87270094e-02  6.94169104e-02\n",
            "   3.06967739e-02 -3.39515582e-02 -4.28725146e-02  4.85302368e-03\n",
            "  -9.16638970e-02 -3.78172845e-02 -2.51446962e-02  1.85450036e-02\n",
            "  -6.68051839e-02  1.99213699e-02 -6.89255968e-02  3.76273803e-02\n",
            "  -4.74114381e-02 -4.87325247e-03 -7.37019479e-02 -1.60703007e-02\n",
            "  -6.66139424e-02 -4.47188392e-02 -5.68113364e-02 -5.23848906e-02\n",
            "   4.56415378e-02 -2.34022662e-02  2.56110430e-02  7.71808205e-04\n",
            "  -7.56752416e-02 -6.73336117e-03 -5.40164225e-02 -8.62024575e-02\n",
            "  -3.55356075e-02 -9.33811814e-03  4.13370430e-02  5.35443202e-02\n",
            "  -1.34488540e-02  4.83024903e-02 -8.04218426e-02  5.13608791e-02\n",
            "  -4.36002649e-02  2.29948871e-02  5.53806536e-02  9.01105925e-02\n",
            "  -6.40932098e-02  1.58248227e-02  8.37912317e-03  1.78926550e-02\n",
            "   1.09476391e-02 -3.44770327e-02  4.31546569e-02  1.18703824e-02\n",
            "  -1.63142104e-02 -5.32956384e-02 -6.71214163e-02 -6.95132688e-02\n",
            "  -4.25720215e-02 -2.58487910e-02 -2.65605152e-02 -8.35593417e-03\n",
            "  -5.24692200e-02 -2.38479376e-02 -1.56461950e-02  8.16417709e-02\n",
            "  -5.26462495e-02  8.12405422e-02 -6.92259595e-02 -1.56187257e-02\n",
            "  -6.30081594e-02 -3.19800079e-02 -5.54959290e-02  4.63294610e-02\n",
            "   4.13145386e-02  3.85114411e-03  4.96127531e-02  2.74331626e-02\n",
            "  -6.74461871e-02  3.87811218e-03  3.30350213e-02 -7.19839782e-02\n",
            "  -9.30075422e-02 -1.42938867e-02  2.38870587e-02  2.77693775e-02\n",
            "   1.02860834e-02  1.67935044e-02  6.12042658e-02 -4.78324667e-02\n",
            "   2.51901634e-02 -6.93795159e-02  2.37346329e-02  5.04593477e-02\n",
            "   2.08618455e-02  2.06225161e-02  5.60511872e-02 -3.69594358e-02\n",
            "  -6.81733713e-02  7.08773285e-02 -2.34706700e-02  2.61728335e-02\n",
            "  -2.36594472e-02 -3.04115675e-02  2.68725865e-02 -2.73535475e-02\n",
            "  -6.02648705e-02  7.26270350e-03  3.11499238e-02  4.72329706e-02\n",
            "  -8.07078257e-02  3.12319025e-02  2.27369554e-02 -6.13421760e-02\n",
            "  -1.36716233e-03  2.33168472e-02 -8.79073590e-02  1.48042198e-02\n",
            "  -2.30021048e-02  3.55728306e-02 -5.90165928e-02  2.54017748e-02\n",
            "   2.06748731e-02 -6.02152459e-02 -2.66389549e-02  1.87868085e-02\n",
            "  -2.46454906e-02  3.29974145e-02 -2.62979232e-02 -1.49964057e-02\n",
            "  -3.60228866e-02  5.00174686e-02  2.36362778e-02 -4.59581576e-02\n",
            "  -2.60073189e-02  4.22855839e-02 -6.67637140e-02  4.48212773e-03\n",
            "  -4.46508937e-02  5.81354871e-02  7.74289668e-02  6.49927510e-03\n",
            "  -8.06460455e-02  4.23545903e-03  3.20248189e-03  3.96776795e-02\n",
            "  -2.67447121e-02 -5.34924008e-02  3.68833635e-03 -2.70077586e-02\n",
            "  -2.32993737e-02  6.82018623e-02  3.56590450e-02 -8.28863159e-02\n",
            "  -1.69050395e-02  1.81376431e-02 -6.25347048e-02  6.43026605e-02\n",
            "  -2.28122566e-02 -7.06547648e-02 -2.44298913e-02  8.34493339e-02\n",
            "   8.45614634e-03  4.85942513e-02  3.77182439e-02  6.25585094e-02\n",
            "   1.95200071e-02  1.39466776e-02  1.67871807e-02  4.95586060e-02\n",
            "   4.25318554e-02 -9.42811836e-04  1.01849642e-02 -2.07374003e-02\n",
            "   4.56476472e-02 -6.62079230e-02  7.69927204e-02 -2.92499978e-02\n",
            "  -1.61381103e-02 -1.97140544e-04 -7.27040693e-02 -3.96296941e-02\n",
            "  -6.73324466e-02 -4.58139647e-03 -2.83363629e-02 -3.48088634e-03\n",
            "   1.52936848e-02 -3.68505903e-02 -6.00300804e-02  3.00041661e-02\n",
            "  -7.72488043e-02 -9.65994690e-03 -7.47003183e-02  6.21677600e-02\n",
            "   7.17548206e-02  6.08044267e-02  2.63532754e-02 -6.43602088e-02\n",
            "   5.46766929e-02 -1.33846374e-02 -3.50998575e-03 -4.90061939e-02\n",
            "   1.25988936e-02 -2.92117838e-02 -1.16719333e-02 -3.84766050e-02\n",
            "  -4.42972109e-02  1.58393439e-02 -2.20074020e-02  4.92457524e-02\n",
            "   4.60130535e-03 -1.48796779e-03 -4.98704389e-02  2.15946883e-02\n",
            "   2.41915658e-02  2.23320108e-02  2.89944746e-02 -1.51199587e-02\n",
            "  -7.65176397e-03 -8.09283331e-02 -2.53180396e-02 -1.44196106e-02\n",
            "   7.73756951e-02 -5.76387113e-03  7.78111070e-02  7.64784142e-02\n",
            "  -4.55912016e-02 -6.37185248e-03  3.53183714e-03 -1.33003993e-03\n",
            "  -6.47142809e-03  1.70833357e-02  1.39186475e-02  5.14438860e-02\n",
            "   1.08020329e-04 -2.59991959e-02  4.85283276e-03 -4.91593145e-02\n",
            "   5.85923977e-02 -7.10238069e-02 -3.51964161e-02  5.31160682e-02\n",
            "  -5.73755018e-02  1.48822283e-02  5.67676127e-03 -3.08286808e-02\n",
            "  -2.40696501e-02 -2.09082551e-02  4.76556793e-02  2.94020716e-02\n",
            "   7.91205242e-02  2.98875812e-02 -4.69146110e-02  1.03601012e-02\n",
            "   1.35137876e-02  5.05680181e-02  7.02674463e-02  3.51851806e-02\n",
            "   6.68668002e-02 -1.81251820e-02  2.74082571e-02  2.59227809e-02\n",
            "   7.66806751e-02  9.16564465e-03  9.34488419e-03  4.05533314e-02]]\n",
            "\n",
            "length after embedding:\n",
            " 512\n",
            "\n"
          ]
        }
      ]
    },
    {
      "cell_type": "markdown",
      "source": [
        "## Building and fitting an NLP feature extraction model using pretrained embeddings"
      ],
      "metadata": {
        "id": "We0UZCTa4Xnz"
      }
    },
    {
      "cell_type": "code",
      "source": [
        "inputs = layers.Input(shape = [], dtype = tf.string )\n",
        "pretrained_embedding = tf_hub_embedding_layer(inputs) # token text and create embedding of each sequence (512 long)\n",
        "x = layers.Dense(128, activation = 'relu')(pretrained_embedding)\n",
        "# Note : you could add more layers here if you wanted to\n",
        "outputs = layers.Dense(num_classes, activation = 'softmax')(x)\n",
        "model_2 = tf.keras.Model(inputs = inputs,\n",
        "                         outputs = outputs,\n",
        "                         name = 'model_2_USE_feature_extractor')\n",
        "\n",
        "model_2.compile(loss = tf.keras.losses.CategoricalCrossentropy(),\n",
        "                optimizer = tf.keras.optimizers.Adam(),\n",
        "                metrics = ['accuracy'])"
      ],
      "metadata": {
        "id": "ye19e3KW4s2w"
      },
      "execution_count": 127,
      "outputs": []
    },
    {
      "cell_type": "code",
      "source": [
        "model_2.summary()"
      ],
      "metadata": {
        "colab": {
          "base_uri": "https://localhost:8080/"
        },
        "id": "IZ-0UkfR5evC",
        "outputId": "122ba73e-d41b-406d-a225-fd2254e3a33d"
      },
      "execution_count": 128,
      "outputs": [
        {
          "output_type": "stream",
          "name": "stdout",
          "text": [
            "Model: \"model_2_USE_feature_extractor\"\n",
            "_________________________________________________________________\n",
            " Layer (type)                Output Shape              Param #   \n",
            "=================================================================\n",
            " input_5 (InputLayer)        [(None,)]                 0         \n",
            "                                                                 \n",
            " universal_sentence_encoder   (None, 512)              256797824 \n",
            " (KerasLayer)                                                    \n",
            "                                                                 \n",
            " dense_5 (Dense)             (None, 128)               65664     \n",
            "                                                                 \n",
            " dense_6 (Dense)             (None, 5)                 645       \n",
            "                                                                 \n",
            "=================================================================\n",
            "Total params: 256,864,133\n",
            "Trainable params: 66,309\n",
            "Non-trainable params: 256,797,824\n",
            "_________________________________________________________________\n"
          ]
        }
      ]
    },
    {
      "cell_type": "code",
      "source": [
        "history_model_2 = model_2.fit(train_dataset,\n",
        "                              epochs = 5,\n",
        "                              steps_per_epoch = int(0.1*len(train_dataset)),\n",
        "                              validation_data = valid_dataset,\n",
        "                              validation_steps = int(0.1*len(valid_dataset)),\n",
        "                              callbacks = [create_tensorboard_callback(dir_name = dir_name,\n",
        "                                                                       experiment_name = 'USE_feature_extractor')])"
      ],
      "metadata": {
        "colab": {
          "base_uri": "https://localhost:8080/"
        },
        "id": "CxQps_bl5hHp",
        "outputId": "d3e09383-62af-49d6-fdb0-979b96372f1a"
      },
      "execution_count": 129,
      "outputs": [
        {
          "output_type": "stream",
          "name": "stdout",
          "text": [
            "Saving TensorBoard log files to: milestone_2/USE_feature_extractor/20220119-055703\n",
            "Epoch 1/5\n",
            "562/562 [==============================] - 8s 12ms/step - loss: 0.9185 - accuracy: 0.6495 - val_loss: 0.7969 - val_accuracy: 0.6898\n",
            "Epoch 2/5\n",
            "562/562 [==============================] - 7s 12ms/step - loss: 0.7687 - accuracy: 0.7018 - val_loss: 0.7539 - val_accuracy: 0.7021\n",
            "Epoch 3/5\n",
            "562/562 [==============================] - 7s 13ms/step - loss: 0.7523 - accuracy: 0.7132 - val_loss: 0.7393 - val_accuracy: 0.7121\n",
            "Epoch 4/5\n",
            "562/562 [==============================] - 7s 13ms/step - loss: 0.7198 - accuracy: 0.7232 - val_loss: 0.7123 - val_accuracy: 0.7301\n",
            "Epoch 5/5\n",
            "562/562 [==============================] - 7s 13ms/step - loss: 0.7279 - accuracy: 0.7218 - val_loss: 0.6927 - val_accuracy: 0.7337\n"
          ]
        }
      ]
    },
    {
      "cell_type": "code",
      "source": [
        "model_2.evaluate(valid_dataset)"
      ],
      "metadata": {
        "colab": {
          "base_uri": "https://localhost:8080/"
        },
        "id": "o52s_MDQ523H",
        "outputId": "d29f9c1b-efc7-41d1-f8ff-c844205d48f1"
      },
      "execution_count": 130,
      "outputs": [
        {
          "output_type": "stream",
          "name": "stdout",
          "text": [
            "945/945 [==============================] - 10s 10ms/step - loss: 0.6997 - accuracy: 0.7336\n"
          ]
        },
        {
          "output_type": "execute_result",
          "data": {
            "text/plain": [
              "[0.6997029781341553, 0.7336488962173462]"
            ]
          },
          "metadata": {},
          "execution_count": 130
        }
      ]
    },
    {
      "cell_type": "code",
      "source": [
        "plot_loss_curves(history_model_2)"
      ],
      "metadata": {
        "colab": {
          "base_uri": "https://localhost:8080/",
          "height": 573
        },
        "id": "XIhJHMKI6Etv",
        "outputId": "bc934a0d-4a22-457d-fcaa-c1fabf11b22f"
      },
      "execution_count": 131,
      "outputs": [
        {
          "output_type": "display_data",
          "data": {
            "image/png": "[encoded data removed]",
            "text/plain": [
              "<Figure size 432x288 with 1 Axes>"
            ]
          },
          "metadata": {
            "needs_background": "light"
          }
        },
        {
          "output_type": "display_data",
          "data": {
            "image/png": "[encoded data removed]",
            "text/plain": [
              "<Figure size 432x288 with 1 Axes>"
            ]
          },
          "metadata": {
            "needs_background": "light"
          }
        }
      ]
    },
    {
      "cell_type": "code",
      "source": [
        "model_2_results = model_results(model_2,\n",
        "                                y_true = val_labels_encoded,\n",
        "                                validation_data = valid_dataset)"
      ],
      "metadata": {
        "id": "35XOuvn85_xk"
      },
      "execution_count": 125,
      "outputs": []
    },
    {
      "cell_type": "code",
      "source": [
        "baseline_results"
      ],
      "metadata": {
        "colab": {
          "base_uri": "https://localhost:8080/"
        },
        "id": "HmhnlWqQ6p3V",
        "outputId": "0abd32b1-570f-457b-8704-b4f9f802a318"
      },
      "execution_count": 134,
      "outputs": [
        {
          "output_type": "execute_result",
          "data": {
            "text/plain": [
              "{'accuracy': 72.1832384482987,\n",
              " 'f1': 0.6989250353450294,\n",
              " 'precision': 0.7186466952323352,\n",
              " 'recall': 0.7218323844829869}"
            ]
          },
          "metadata": {},
          "execution_count": 134
        }
      ]
    },
    {
      "cell_type": "code",
      "source": [
        "model_2_results"
      ],
      "metadata": {
        "colab": {
          "base_uri": "https://localhost:8080/"
        },
        "id": "rYMXpK0M6EKY",
        "outputId": "3727e058-7ff7-4d6d-97df-5c6f4ecf4c0f"
      },
      "execution_count": 132,
      "outputs": [
        {
          "output_type": "execute_result",
          "data": {
            "text/plain": [
              "{'accuracy': 71.2730041043294,\n",
              " 'f1': 0.7097583026720821,\n",
              " 'precision': 0.7131970807181995,\n",
              " 'recall': 0.7127300410432941}"
            ]
          },
          "metadata": {},
          "execution_count": 132
        }
      ]
    },
    {
      "cell_type": "code",
      "source": [
        "model_1_results"
      ],
      "metadata": {
        "colab": {
          "base_uri": "https://localhost:8080/"
        },
        "id": "Trjs8Jym6g4A",
        "outputId": "c13e8771-7a7a-467a-a3e3-ccb2a17ef16d"
      },
      "execution_count": 133,
      "outputs": [
        {
          "output_type": "execute_result",
          "data": {
            "text/plain": [
              "{'accuracy': 80.22640010591819,\n",
              " 'f1': 0.7991000781095597,\n",
              " 'precision': 0.8029369022643885,\n",
              " 'recall': 0.8022640010591818}"
            ]
          },
          "metadata": {},
          "execution_count": 133
        }
      ]
    },
    {
      "cell_type": "markdown",
      "source": [
        "## Model 3 : Conv1D with character embeddings"
      ],
      "metadata": {
        "id": "DTU-r10V6rrR"
      }
    },
    {
      "cell_type": "markdown",
      "source": [
        "### Create a character level tokenizer"
      ],
      "metadata": {
        "id": "TEPQ_lmm64Ct"
      }
    },
    {
      "cell_type": "code",
      "source": [
        "train_sentences[:5]"
      ],
      "metadata": {
        "colab": {
          "base_uri": "https://localhost:8080/"
        },
        "id": "S_D6F5RW8F4x",
        "outputId": "28da78a6-f1d9-4e22-8912-5b118f3ea468"
      },
      "execution_count": 137,
      "outputs": [
        {
          "output_type": "execute_result",
          "data": {
            "text/plain": [
              "['to investigate the efficacy of @ weeks of daily low-dose oral prednisolone in improving pain , mobility , and systemic low-grade inflammation in the short term and whether the effect would be sustained at @ weeks in older adults with moderate to severe knee osteoarthritis ( oa ) .',\n",
              " 'a total of @ patients with primary knee oa were randomized @:@ ; @ received @ mg/day of prednisolone and @ received placebo for @ weeks .',\n",
              " 'outcome measures included pain reduction and improvement in function scores and systemic inflammation markers .',\n",
              " 'pain was assessed using the visual analog pain scale ( @-@ mm ) .',\n",
              " 'secondary outcome measures included the western ontario and mcmaster universities osteoarthritis index scores , patient global assessment ( pga ) of the severity of knee oa , and @-min walk distance ( @mwd ) .']"
            ]
          },
          "metadata": {},
          "execution_count": 137
        }
      ]
    },
    {
      "cell_type": "code",
      "source": [
        "def split_chars(text):\n",
        "  return ' '.join(list(text))"
      ],
      "metadata": {
        "id": "LPfFZvk38H_7"
      },
      "execution_count": 142,
      "outputs": []
    },
    {
      "cell_type": "code",
      "source": [
        "split_chars(train_sentences[0])"
      ],
      "metadata": {
        "colab": {
          "base_uri": "https://localhost:8080/",
          "height": 148
        },
        "id": "haDjBQra8QbJ",
        "outputId": "a2a3d53b-0cd1-4c66-eb8e-2603704749c3"
      },
      "execution_count": 143,
      "outputs": [
        {
          "output_type": "execute_result",
          "data": {
            "application/vnd.google.colaboratory.intrinsic+json": {
              "type": "string"
            },
            "text/plain": [
              "'t o   i n v e s t i g a t e   t h e   e f f i c a c y   o f   @   w e e k s   o f   d a i l y   l o w - d o s e   o r a l   p r e d n i s o l o n e   i n   i m p r o v i n g   p a i n   ,   m o b i l i t y   ,   a n d   s y s t e m i c   l o w - g r a d e   i n f l a m m a t i o n   i n   t h e   s h o r t   t e r m   a n d   w h e t h e r   t h e   e f f e c t   w o u l d   b e   s u s t a i n e d   a t   @   w e e k s   i n   o l d e r   a d u l t s   w i t h   m o d e r a t e   t o   s e v e r e   k n e e   o s t e o a r t h r i t i s   (   o a   )   .'"
            ]
          },
          "metadata": {},
          "execution_count": 143
        }
      ]
    },
    {
      "cell_type": "code",
      "source": [
        "#split sequence-level data splits into character -level data_spits)\n",
        "train_chars = [split_chars(sentence) for sentence in train_sentences]\n",
        "val_chars = [split_chars(sentence) for sentence in val_sentences]\n",
        "test_chars = [split_chars(sentence) for sentence in test_sentences]"
      ],
      "metadata": {
        "id": "EhzRqgO88TzP"
      },
      "execution_count": 144,
      "outputs": []
    },
    {
      "cell_type": "code",
      "source": [
        "char_lens = [len(sentence) for sentence in train_sentences]\n",
        "mean_char_len = np.mean(char_lens)\n",
        "mean_char_len"
      ],
      "metadata": {
        "colab": {
          "base_uri": "https://localhost:8080/"
        },
        "id": "Tl6XeHD98oGp",
        "outputId": "8c30a855-363f-4a2a-a115-1e52b3c3f5d2"
      },
      "execution_count": 146,
      "outputs": [
        {
          "output_type": "execute_result",
          "data": {
            "text/plain": [
              "149.3662574983337"
            ]
          },
          "metadata": {},
          "execution_count": 146
        }
      ]
    },
    {
      "cell_type": "code",
      "source": [
        "plt.hist(char_lens,bins = 7);"
      ],
      "metadata": {
        "colab": {
          "base_uri": "https://localhost:8080/",
          "height": 265
        },
        "id": "dwf3Qxlx8qzZ",
        "outputId": "2a174e70-ca49-4651-da7e-c4ac46cb2d81"
      },
      "execution_count": 149,
      "outputs": [
        {
          "output_type": "display_data",
          "data": {
            "image/png": "[encoded data removed]",
            "text/plain": [
              "<Figure size 432x288 with 1 Axes>"
            ]
          },
          "metadata": {
            "needs_background": "light"
          }
        }
      ]
    },
    {
      "cell_type": "code",
      "source": [
        "#Find what character length covers 95% of sequences\n",
        "output_seq_char_len = int(np.percentile(char_lens,95))\n",
        "output_seq_char_len"
      ],
      "metadata": {
        "colab": {
          "base_uri": "https://localhost:8080/"
        },
        "id": "dvCKOL7Q87ME",
        "outputId": "4faceb55-e58f-497f-c8d1-54ad97dfde85"
      },
      "execution_count": 150,
      "outputs": [
        {
          "output_type": "execute_result",
          "data": {
            "text/plain": [
              "290"
            ]
          },
          "metadata": {},
          "execution_count": 150
        }
      ]
    },
    {
      "cell_type": "code",
      "source": [
        "# Get all keyboard characters\n",
        "import string\n",
        "alphabet = string.ascii_lowercase + string.digits + string.punctuation\n",
        "alphabet , len(alphabet)"
      ],
      "metadata": {
        "colab": {
          "base_uri": "https://localhost:8080/"
        },
        "id": "RkHLWv7Z9IUt",
        "outputId": "5cc8db7f-2a2b-46d8-ec91-585e657d18df"
      },
      "execution_count": 152,
      "outputs": [
        {
          "output_type": "execute_result",
          "data": {
            "text/plain": [
              "('abcdefghijklmnopqrstuvwxyz0123456789!\"#$%&\\'()*+,-./:;<=>?@[\\\\]^_`{|}~', 68)"
            ]
          },
          "metadata": {},
          "execution_count": 152
        }
      ]
    },
    {
      "cell_type": "code",
      "source": [
        "#Create char-level token vectorizer instance\n",
        "NUM_CHAR_TOKENS = len(alphabet) + 2 # add 2 for space and OOV token/[UNK]\n",
        "char_vectorizer = TextVectorization(max_tokens = NUM_CHAR_TOKENS,\n",
        "                                    output_sequence_length = output_seq_char_len,\n",
        "                                    #standardize = None,\n",
        "                                    name = 'char_vectorizer')"
      ],
      "metadata": {
        "id": "r_JwaV7S9fZb"
      },
      "execution_count": 159,
      "outputs": []
    },
    {
      "cell_type": "code",
      "source": [
        "# Adapt character vectorizer to training character\n",
        "char_vectorizer.adapt(train_chars)"
      ],
      "metadata": {
        "id": "soz13N9t91aO"
      },
      "execution_count": 160,
      "outputs": []
    },
    {
      "cell_type": "code",
      "source": [
        "char_vocab = char_vectorizer.get_vocabulary()\n",
        "print(f'Number of different characters in character vocab:{len(char_vocab)}')\n",
        "print(f'5 most common characters : {char_vocab[:5]}')\n",
        "print(f'5 least common characters : {char_vocab[-5:]}')"
      ],
      "metadata": {
        "colab": {
          "base_uri": "https://localhost:8080/"
        },
        "id": "QhOfDpzK9_b6",
        "outputId": "40f14c62-20a1-495f-c57b-9decaf1eac10"
      },
      "execution_count": 161,
      "outputs": [
        {
          "output_type": "stream",
          "name": "stdout",
          "text": [
            "Number of different characters in character vocab:28\n",
            "5 most common characters : ['', '[UNK]', 'e', 't', 'i']\n",
            "5 least common characters : ['k', 'x', 'z', 'q', 'j']\n"
          ]
        }
      ]
    },
    {
      "cell_type": "code",
      "source": [
        "# Test out character vectorizer\n",
        "random_train_chars = random.choice(train_chars)\n",
        "print(f'Charified text:\\n {random_train_chars}')\n",
        "print(f'length of random_train_chars {[random_train_chars.split()]}')\n",
        "vectorized_chars = char_vectorizer([random_train_chars])\n",
        "print(f'\\nVectorized char:\\n {vectorized_chars}')\n",
        "print(f'\\nLength of vectorized chars : {len(vectorized_chars[0])}')"
      ],
      "metadata": {
        "colab": {
          "base_uri": "https://localhost:8080/"
        },
        "id": "Y8LTyvrQ-P6M",
        "outputId": "d5a52f8b-a0a6-441f-f670-1a5515bffb2d"
      },
      "execution_count": 167,
      "outputs": [
        {
          "output_type": "stream",
          "name": "stdout",
          "text": [
            "Charified text:\n",
            " p r e v i o u s   s t u d i e s   h a v e   s h o w n   a s s o c i a t i o n s   b e t w e e n   i n c r e a s e d   h e a r t   r a t e   a n d   c v   r i s k   i n   v a r i o u s   p o p u l a t i o n s   .\n",
            "length of random_train_chars [['p', 'r', 'e', 'v', 'i', 'o', 'u', 's', 's', 't', 'u', 'd', 'i', 'e', 's', 'h', 'a', 'v', 'e', 's', 'h', 'o', 'w', 'n', 'a', 's', 's', 'o', 'c', 'i', 'a', 't', 'i', 'o', 'n', 's', 'b', 'e', 't', 'w', 'e', 'e', 'n', 'i', 'n', 'c', 'r', 'e', 'a', 's', 'e', 'd', 'h', 'e', 'a', 'r', 't', 'r', 'a', 't', 'e', 'a', 'n', 'd', 'c', 'v', 'r', 'i', 's', 'k', 'i', 'n', 'v', 'a', 'r', 'i', 'o', 'u', 's', 'p', 'o', 'p', 'u', 'l', 'a', 't', 'i', 'o', 'n', 's', '.']]\n",
            "\n",
            "Vectorized char:\n",
            " [[14  8  2 21  4  7 16  9  9  3 16 10  4  2  9 13  5 21  2  9 13  7 20  6\n",
            "   5  9  9  7 11  4  5  3  4  7  6  9 22  2  3 20  2  2  6  4  6 11  8  2\n",
            "   5  9  2 10 13  2  5  8  3  8  5  3  2  5  6 10 11 21  8  4  9 23  4  6\n",
            "  21  5  8  4  7 16  9 14  7 14 16 12  5  3  4  7  6  9  0  0  0  0  0  0\n",
            "   0  0  0  0  0  0  0  0  0  0  0  0  0  0  0  0  0  0  0  0  0  0  0  0\n",
            "   0  0  0  0  0  0  0  0  0  0  0  0  0  0  0  0  0  0  0  0  0  0  0  0\n",
            "   0  0  0  0  0  0  0  0  0  0  0  0  0  0  0  0  0  0  0  0  0  0  0  0\n",
            "   0  0  0  0  0  0  0  0  0  0  0  0  0  0  0  0  0  0  0  0  0  0  0  0\n",
            "   0  0  0  0  0  0  0  0  0  0  0  0  0  0  0  0  0  0  0  0  0  0  0  0\n",
            "   0  0  0  0  0  0  0  0  0  0  0  0  0  0  0  0  0  0  0  0  0  0  0  0\n",
            "   0  0  0  0  0  0  0  0  0  0  0  0  0  0  0  0  0  0  0  0  0  0  0  0\n",
            "   0  0  0  0  0  0  0  0  0  0  0  0  0  0  0  0  0  0  0  0  0  0  0  0\n",
            "   0  0]]\n",
            "\n",
            "Length of vectorized chars : 290\n"
          ]
        }
      ]
    },
    {
      "cell_type": "markdown",
      "source": [
        "## Creating a charcter level embedding:"
      ],
      "metadata": {
        "id": "AnOSiNVs-_Y2"
      }
    },
    {
      "cell_type": "code",
      "source": [
        "char_embed =layers.Embedding(input_dim = len(char_vocab), # number of different characters\n",
        "                             output_dim = 25, # this is the size of the embedding in the paper (figure 1)\n",
        "                             mask_zero = True,\n",
        "                             name = 'char_embed')"
      ],
      "metadata": {
        "id": "baAaQs5n_b1D"
      },
      "execution_count": 168,
      "outputs": []
    },
    {
      "cell_type": "code",
      "source": [
        "# test our character embedding layer\n",
        "print(f'Charified text : \\n {random_train_chars}')\n",
        "char_embed_example = char_embed(char_vectorizer([random_train_chars]))\n",
        "print(f'Embedded chars. (after vectorization and embedding) : \\n {char_embed_example}')\n",
        "print(f'Embedded chars shape : \\n {char_embed_example.shape}')\n",
        "print(f'Length of charified text : \\n {len(random_train_chars)}')"
      ],
      "metadata": {
        "colab": {
          "base_uri": "https://localhost:8080/"
        },
        "id": "Rd4zBtXV_-zk",
        "outputId": "b1528072-8c33-461e-8344-48d441b5ea9b"
      },
      "execution_count": 171,
      "outputs": [
        {
          "output_type": "stream",
          "name": "stdout",
          "text": [
            "Charified text : \n",
            " p r e v i o u s   s t u d i e s   h a v e   s h o w n   a s s o c i a t i o n s   b e t w e e n   i n c r e a s e d   h e a r t   r a t e   a n d   c v   r i s k   i n   v a r i o u s   p o p u l a t i o n s   .\n",
            "Embedded chars. (after vectorization and embedding) : \n",
            " [[[-0.03171221  0.00527913 -0.04147882 ...  0.00182698 -0.03072312\n",
            "    0.04044309]\n",
            "  [-0.04452972 -0.020116    0.02337669 ... -0.00322849  0.00568062\n",
            "    0.03790157]\n",
            "  [ 0.00196233 -0.02411631 -0.03253919 ...  0.0185062  -0.00910822\n",
            "    0.03449673]\n",
            "  ...\n",
            "  [-0.02293305  0.03258773  0.00233724 ...  0.00928183 -0.01684422\n",
            "    0.04044432]\n",
            "  [-0.02293305  0.03258773  0.00233724 ...  0.00928183 -0.01684422\n",
            "    0.04044432]\n",
            "  [-0.02293305  0.03258773  0.00233724 ...  0.00928183 -0.01684422\n",
            "    0.04044432]]]\n",
            "Embedded chars shape : \n",
            " (1, 290, 25)\n",
            "Length of charified text : \n",
            " 211\n"
          ]
        }
      ]
    },
    {
      "cell_type": "code",
      "source": [
        "inputs = layers.Input(shape = (1,), dtype = tf.string )\n",
        "char_vectors = char_vectorizer(inputs)\n",
        "char_embeddings = char_embed(char_vectors) # token text and create embedding of each sequence (512 long)\n",
        "x = layers.Conv1D(64, kernel_size = 5, padding = 'same',\n",
        "                  activation = 'relu')(char_embeddings)\n",
        "x = layers.GlobalMaxPooling1D()(x)\n",
        "# Note : you could add more layers here if you wanted to\n",
        "outputs = layers.Dense(num_classes, activation = 'softmax')(x)\n",
        "model_3 = tf.keras.Model(inputs = inputs,\n",
        "                         outputs = outputs,\n",
        "                         name = 'model_3_conv1d_char_embedding')\n",
        "\n",
        "model_3.compile(loss = tf.keras.losses.CategoricalCrossentropy(),\n",
        "                optimizer = tf.keras.optimizers.Adam(),\n",
        "                metrics = ['accuracy'])"
      ],
      "metadata": {
        "id": "wkvBdUJRAWQg"
      },
      "execution_count": 175,
      "outputs": []
    },
    {
      "cell_type": "code",
      "source": [
        "#create char level datasets\n",
        "\n",
        "train_char_dataset = tf.data.Dataset.from_tensor_slices((train_chars,train_labels_one_hot)).batch(32).prefetch(tf.data.AUTOTUNE)\n",
        "val_char_dataset = tf.data.Dataset.from_tensor_slices((val_chars,val_labels_one_hot)).batch(32).prefetch(tf.data.AUTOTUNE)\n",
        "test_char_dataset = tf.data.Dataset.from_tensor_slices((test_chars,test_labels_one_hot)).batch(32).prefetch(tf.data.AUTOTUNE)"
      ],
      "metadata": {
        "id": "5p1XDvf6BdlS"
      },
      "execution_count": 176,
      "outputs": []
    },
    {
      "cell_type": "code",
      "source": [
        "model_3_history = model_3.fit(train_char_dataset,\n",
        "                              steps_per_epoch = int(0.1*len(train_char_dataset)),\n",
        "                              epochs = 3,\n",
        "                              validation_data = val_char_dataset,\n",
        "                              validation_steps = int(0.1*len(val_char_dataset)),\n",
        "                              callbacks = [create_tensorboard_callback(dir_name = dir_name,\n",
        "                                                                       experiment_name = 'character_embedding')])"
      ],
      "metadata": {
        "colab": {
          "base_uri": "https://localhost:8080/"
        },
        "id": "N0fNrC4NCGsm",
        "outputId": "81e33ccc-cd81-46c7-ecbb-6892c0605442"
      },
      "execution_count": 179,
      "outputs": [
        {
          "output_type": "stream",
          "name": "stdout",
          "text": [
            "Saving TensorBoard log files to: milestone_2/character_embedding/20220119-063323\n",
            "Epoch 1/3\n",
            "562/562 [==============================] - 4s 5ms/step - loss: 1.2736 - accuracy: 0.4826 - val_loss: 1.0432 - val_accuracy: 0.5961\n",
            "Epoch 2/3\n",
            "562/562 [==============================] - 3s 5ms/step - loss: 1.0033 - accuracy: 0.5975 - val_loss: 0.9311 - val_accuracy: 0.6396\n",
            "Epoch 3/3\n",
            "562/562 [==============================] - 3s 5ms/step - loss: 0.9223 - accuracy: 0.6387 - val_loss: 0.8567 - val_accuracy: 0.6779\n"
          ]
        }
      ]
    },
    {
      "cell_type": "code",
      "source": [
        "plot_loss_curves(model_3_history)"
      ],
      "metadata": {
        "colab": {
          "base_uri": "https://localhost:8080/",
          "height": 573
        },
        "id": "gEGKgMDhCgoC",
        "outputId": "307512de-54e8-4039-c84a-fbb133d9df04"
      },
      "execution_count": 180,
      "outputs": [
        {
          "output_type": "display_data",
          "data": {
            "image/png": "[encoded data removed]",
            "text/plain": [
              "<Figure size 432x288 with 1 Axes>"
            ]
          },
          "metadata": {
            "needs_background": "light"
          }
        },
        {
          "output_type": "display_data",
          "data": {
            "image/png": "[encoded data removed]",
            "text/plain": [
              "<Figure size 432x288 with 1 Axes>"
            ]
          },
          "metadata": {
            "needs_background": "light"
          }
        }
      ]
    },
    {
      "cell_type": "code",
      "source": [
        "model_3_results = model_results(model_3,\n",
        "                                y_true = val_labels_encoded,\n",
        "                                validation_data = val_char_dataset)"
      ],
      "metadata": {
        "id": "7DO0fZvQDC14"
      },
      "execution_count": 188,
      "outputs": []
    },
    {
      "cell_type": "code",
      "source": [
        "model_3_results"
      ],
      "metadata": {
        "colab": {
          "base_uri": "https://localhost:8080/"
        },
        "id": "n0oo4H9MDO_G",
        "outputId": "7cb66fc4-eb2a-4f62-d4c0-f79731d8cd3c"
      },
      "execution_count": 189,
      "outputs": [
        {
          "output_type": "execute_result",
          "data": {
            "text/plain": [
              "{'accuracy': 65.95723553554879,\n",
              " 'f1': 0.6472190409942441,\n",
              " 'precision': 0.6514723936866841,\n",
              " 'recall': 0.6595723553554879}"
            ]
          },
          "metadata": {},
          "execution_count": 189
        }
      ]
    },
    {
      "cell_type": "markdown",
      "source": [
        ""
      ],
      "metadata": {
        "id": "kyEaOhbuEYFJ"
      }
    },
    {
      "cell_type": "markdown",
      "source": [
        "## Experiment 4 : concatenating models - \n",
        "\n",
        "token embedding + characters embeddings (hybrid)"
      ],
      "metadata": {
        "id": "5f4RESjzD_gg"
      }
    },
    {
      "cell_type": "code",
      "source": [
        "#setup token input/model\n",
        "token_inputs = layers.Input(shape = [], dtype =tf.string)\n",
        "token_embeddings = tf_hub_embedding_layer(token_inputs)\n",
        "token_output = layers.Dense(128,activation = 'relu')(token_embeddings)\n",
        "token_model = tf.keras.Model(inputs = token_inputs,\n",
        "                             outputs = token_output)"
      ],
      "metadata": {
        "id": "o9BdV7hBEDsc"
      },
      "execution_count": 192,
      "outputs": []
    },
    {
      "cell_type": "code",
      "source": [
        "#setup char inputs/model\n",
        "char_inputs = layers.Input(shape=(1,), dtype = tf.string)\n",
        "char_vectors = char_vectorizer(char_inputs)\n",
        "char_embeddings = char_embed(char_vectors)\n",
        "char_bi_lstm = layers.Bidirectional(layers.LSTM(24))(char_embeddings)\n",
        "char_model = tf.keras.Model(inputs=char_inputs,\n",
        "                            outputs = char_bi_lstm)"
      ],
      "metadata": {
        "id": "zZYacu-DFXQ8"
      },
      "execution_count": 195,
      "outputs": []
    },
    {
      "cell_type": "code",
      "source": [
        "#concatenate token an char inputs\n",
        "token_char_concat = layers.Concatenate(name = 'token_char_concat')([token_model.output,\n",
        "                                                                    char_model.output])"
      ],
      "metadata": {
        "id": "vM-UT_ESF7OP"
      },
      "execution_count": 196,
      "outputs": []
    },
    {
      "cell_type": "code",
      "source": [
        "#create output layers - adding in dropout\n",
        "combined_dropout = layers.Dropout(rate = 0.5)(token_char_concat)\n",
        "combined_dense = layers.Dense(128,activation = 'relu')(combined_dropout)\n",
        "final_dropout = layers.Dropout(rate = 0.5)(combined_dense)\n",
        "output_layer = layers.Dense(num_classes , activation = 'softmax')(final_dropout)"
      ],
      "metadata": {
        "id": "e6cl1cyiGiLQ"
      },
      "execution_count": 199,
      "outputs": []
    },
    {
      "cell_type": "code",
      "source": [
        "#Construct model with char and token inputs\n",
        "\n",
        "model_4 = tf.keras.Model(inputs =[token_model.input,char_model.input],\n",
        "                         outputs = output_layer,\n",
        "                         name = 'model_4_token_and_char_embeddings')"
      ],
      "metadata": {
        "id": "Pcn8yXwDG5Lc"
      },
      "execution_count": 200,
      "outputs": []
    },
    {
      "cell_type": "code",
      "source": [
        "model_4.summary()"
      ],
      "metadata": {
        "colab": {
          "base_uri": "https://localhost:8080/"
        },
        "id": "w45rLBs2Hqp5",
        "outputId": "3e494aca-96d2-425e-e813-5d0560476a14"
      },
      "execution_count": 201,
      "outputs": [
        {
          "output_type": "stream",
          "name": "stdout",
          "text": [
            "Model: \"model_4_token_and_char_embeddings\"\n",
            "__________________________________________________________________________________________________\n",
            " Layer (type)                   Output Shape         Param #     Connected to                     \n",
            "==================================================================================================\n",
            " input_12 (InputLayer)          [(None, 1)]          0           []                               \n",
            "                                                                                                  \n",
            " input_10 (InputLayer)          [(None,)]            0           []                               \n",
            "                                                                                                  \n",
            " char_vectorizer (TextVectoriza  (None, 290)         0           ['input_12[0][0]']               \n",
            " tion)                                                                                            \n",
            "                                                                                                  \n",
            " universal_sentence_encoder (Ke  (None, 512)         256797824   ['input_10[0][0]']               \n",
            " rasLayer)                                                                                        \n",
            "                                                                                                  \n",
            " char_embed (Embedding)         (None, 290, 25)      700         ['char_vectorizer[3][0]']        \n",
            "                                                                                                  \n",
            " dense_11 (Dense)               (None, 128)          65664       ['universal_sentence_encoder[5][0\n",
            "                                                                 ]']                              \n",
            "                                                                                                  \n",
            " bidirectional_1 (Bidirectional  (None, 48)          9600        ['char_embed[3][0]']             \n",
            " )                                                                                                \n",
            "                                                                                                  \n",
            " token_char_concat (Concatenate  (None, 176)         0           ['dense_11[0][0]',               \n",
            " )                                                                'bidirectional_1[0][0]']        \n",
            "                                                                                                  \n",
            " dropout_1 (Dropout)            (None, 176)          0           ['token_char_concat[0][0]']      \n",
            "                                                                                                  \n",
            " dense_13 (Dense)               (None, 128)          22656       ['dropout_1[0][0]']              \n",
            "                                                                                                  \n",
            " dropout_2 (Dropout)            (None, 128)          0           ['dense_13[0][0]']               \n",
            "                                                                                                  \n",
            " dense_14 (Dense)               (None, 5)            645         ['dropout_2[0][0]']              \n",
            "                                                                                                  \n",
            "==================================================================================================\n",
            "Total params: 256,897,089\n",
            "Trainable params: 99,265\n",
            "Non-trainable params: 256,797,824\n",
            "__________________________________________________________________________________________________\n"
          ]
        }
      ]
    },
    {
      "cell_type": "code",
      "source": [
        "#Plot hybrd token and character model\n",
        "from tensorflow.keras.utils import plot_model\n",
        "plot_model(model_4, show_shapes = True)"
      ],
      "metadata": {
        "colab": {
          "base_uri": "https://localhost:8080/",
          "height": 662
        },
        "id": "y7snlOCDH03-",
        "outputId": "d31ca84a-8c52-448d-c422-fae44378c3f0"
      },
      "execution_count": 207,
      "outputs": [
        {
          "output_type": "execute_result",
          "data": {
            "image/png": "[encoded data removed]",
            "text/plain": [
              "<IPython.core.display.Image object>"
            ]
          },
          "metadata": {},
          "execution_count": 207
        }
      ]
    },
    {
      "cell_type": "code",
      "source": [
        "model_4.compile(loss = tf.keras.losses.CategoricalCrossentropy(),\n",
        "                optimizer = tf.keras.optimizers.Adam(),\n",
        "                metrics = ['accuracy'])"
      ],
      "metadata": {
        "id": "JoePwfYAHhaB"
      },
      "execution_count": 239,
      "outputs": []
    },
    {
      "cell_type": "code",
      "source": [
        "## Combining token and character data into a tf.data Dataset\n",
        "train_char_token_data = tf.data.Dataset.from_tensor_slices((train_sentences,train_chars))\n",
        "train_char_token_labels = tf.data.Dataset.from_tensor_slices(train_labels_one_hot)\n",
        "train_char_token_dataset = tf.data.Dataset.zip((train_char_token_data,train_char_token_labels))\n",
        "\n",
        "val_char_token_data = tf.data.Dataset.from_tensor_slices((val_sentences,val_chars))\n",
        "val_char_token_labels = tf.data.Dataset.from_tensor_slices(val_labels_one_hot)\n",
        "val_char_token_dataset = tf.data.Dataset.zip((val_char_token_data,val_char_token_labels))\n",
        "\n",
        "test_char_token_data = tf.data.Dataset.from_tensor_slices((test_sentences,test_chars))\n",
        "test_char_token_labels = tf.data.Dataset.from_tensor_slices(test_labels_one_hot)\n",
        "test_char_token_dataset = tf.data.Dataset.zip((test_char_token_data,test_char_token_labels))"
      ],
      "metadata": {
        "id": "Mw3q8E-cIDpo"
      },
      "execution_count": 240,
      "outputs": []
    },
    {
      "cell_type": "code",
      "source": [
        "#Prefetch and batch train_data\n",
        "train_char_token_dataset = train_char_token_dataset.batch(32).prefetch(tf.data.AUTOTUNE)\n",
        "val_char_token_dataset = val_char_token_dataset.batch(32).prefetch(tf.data.AUTOTUNE)\n",
        "test_char_token_dataset = test_char_token_dataset.batch(32).prefetch(tf.data.AUTOTUNE)\n",
        "                                                                   "
      ],
      "metadata": {
        "id": "uaUNTkrJJLqQ"
      },
      "execution_count": 241,
      "outputs": []
    },
    {
      "cell_type": "code",
      "source": [
        "#check out our training char and token embedding dataset - the order of the data is important, and is dependent on how your model is ordered\n",
        "train_char_token_dataset , val_char_token_dataset"
      ],
      "metadata": {
        "colab": {
          "base_uri": "https://localhost:8080/"
        },
        "id": "9tCOkbp-KR1J",
        "outputId": "6c0e0ca7-92f1-4063-e536-fc2589c85db6"
      },
      "execution_count": 237,
      "outputs": [
        {
          "output_type": "execute_result",
          "data": {
            "text/plain": [
              "(<PrefetchDataset shapes: (((None,), (None,)), (None, 5)), types: ((tf.string, tf.string), tf.float64)>,\n",
              " <PrefetchDataset shapes: (((None,), (None,)), (None, 5)), types: ((tf.string, tf.string), tf.float64)>)"
            ]
          },
          "metadata": {},
          "execution_count": 237
        }
      ]
    },
    {
      "cell_type": "code",
      "source": [
        "model_4.fit(train_char_token_dataset,\n",
        "            steps_per_epoch = int(0.1*len(train_char_token_dataset)),\n",
        "            epochs = 5,\n",
        "            validation_data = val_char_token_dataset,\n",
        "            validation_steps = int(0.1*len(val_char_token_dataset)),\n",
        "            callbacks = [create_tensorboard_callback(dir_name = dir_name,\n",
        "                                                     experiment_name = 'token and char model')])"
      ],
      "metadata": {
        "colab": {
          "base_uri": "https://localhost:8080/"
        },
        "id": "LgC1rcRxMxf7",
        "outputId": "4b0e8ca1-1ead-4800-d187-1c3d3f4f44dd"
      },
      "execution_count": 243,
      "outputs": [
        {
          "output_type": "stream",
          "name": "stdout",
          "text": [
            "Saving TensorBoard log files to: milestone_2/token and char model/20220119-072842\n",
            "Epoch 1/5\n",
            "562/562 [==============================] - 37s 52ms/step - loss: 0.9088 - accuracy: 0.6425 - val_loss: 0.7775 - val_accuracy: 0.7031\n",
            "Epoch 2/5\n",
            "562/562 [==============================] - 27s 47ms/step - loss: 0.7954 - accuracy: 0.6941 - val_loss: 0.7139 - val_accuracy: 0.7277\n",
            "Epoch 3/5\n",
            "562/562 [==============================] - 24s 43ms/step - loss: 0.7771 - accuracy: 0.7013 - val_loss: 0.6929 - val_accuracy: 0.7390\n",
            "Epoch 4/5\n",
            "562/562 [==============================] - 27s 48ms/step - loss: 0.7403 - accuracy: 0.7182 - val_loss: 0.6710 - val_accuracy: 0.7490\n",
            "Epoch 5/5\n",
            "562/562 [==============================] - 25s 44ms/step - loss: 0.7468 - accuracy: 0.7157 - val_loss: 0.6534 - val_accuracy: 0.7517\n"
          ]
        },
        {
          "output_type": "execute_result",
          "data": {
            "text/plain": [
              "<keras.callbacks.History at 0x7f13c60d8a10>"
            ]
          },
          "metadata": {},
          "execution_count": 243
        }
      ]
    },
    {
      "cell_type": "code",
      "source": [
        "model_4.evaluate(val_char_token_dataset)"
      ],
      "metadata": {
        "colab": {
          "base_uri": "https://localhost:8080/"
        },
        "id": "zbka_NbwNh4F",
        "outputId": "9a517f6e-463e-400e-ad04-006f2edc51dd"
      },
      "execution_count": 244,
      "outputs": [
        {
          "output_type": "stream",
          "name": "stdout",
          "text": [
            "945/945 [==============================] - 21s 22ms/step - loss: 0.6609 - accuracy: 0.7471\n"
          ]
        },
        {
          "output_type": "execute_result",
          "data": {
            "text/plain": [
              "[0.6608960032463074, 0.7470541596412659]"
            ]
          },
          "metadata": {},
          "execution_count": 244
        }
      ]
    },
    {
      "cell_type": "code",
      "source": [
        "model_4_results = model_results(model_4,\n",
        "                                y_true = val_labels_encoded,\n",
        "                                validation_data = val_char_token_dataset)"
      ],
      "metadata": {
        "id": "aNFVC_XxPqZr"
      },
      "execution_count": 248,
      "outputs": []
    },
    {
      "cell_type": "code",
      "source": [
        "model_4_results"
      ],
      "metadata": {
        "colab": {
          "base_uri": "https://localhost:8080/"
        },
        "id": "DK9vn1UxPyYK",
        "outputId": "f2d2689d-87fa-4374-84be-92748c3cc593"
      },
      "execution_count": 250,
      "outputs": [
        {
          "output_type": "execute_result",
          "data": {
            "text/plain": [
              "{'accuracy': 74.70541506686085,\n",
              " 'f1': 0.7425543843285768,\n",
              " 'precision': 0.7433280176820892,\n",
              " 'recall': 0.7470541506686085}"
            ]
          },
          "metadata": {},
          "execution_count": 250
        }
      ]
    },
    {
      "cell_type": "code",
      "source": [
        "model_1_results"
      ],
      "metadata": {
        "colab": {
          "base_uri": "https://localhost:8080/"
        },
        "id": "b6PdLuHSP8Cx",
        "outputId": "f161beca-cd9f-4e30-a67c-ecdef6b0b4d5"
      },
      "execution_count": 251,
      "outputs": [
        {
          "output_type": "execute_result",
          "data": {
            "text/plain": [
              "{'accuracy': 80.22640010591819,\n",
              " 'f1': 0.7991000781095597,\n",
              " 'precision': 0.8029369022643885,\n",
              " 'recall': 0.8022640010591818}"
            ]
          },
          "metadata": {},
          "execution_count": 251
        }
      ]
    },
    {
      "cell_type": "markdown",
      "source": [
        "## Create positional embeddings"
      ],
      "metadata": {
        "id": "ZQ-duYJzQA54"
      }
    },
    {
      "cell_type": "code",
      "source": [
        "#How many different line numbers are there\n",
        "df_train['line_number'].value_counts()"
      ],
      "metadata": {
        "colab": {
          "base_uri": "https://localhost:8080/"
        },
        "id": "RulVT8XWSlZX",
        "outputId": "7cedbd95-b0eb-4af9-c7b8-3c0c9e169ba3"
      },
      "execution_count": 253,
      "outputs": [
        {
          "output_type": "execute_result",
          "data": {
            "text/plain": [
              "0     15000\n",
              "1     15000\n",
              "2     15000\n",
              "3     15000\n",
              "4     14992\n",
              "5     14949\n",
              "6     14758\n",
              "7     14279\n",
              "8     13346\n",
              "9     11981\n",
              "10    10041\n",
              "11     7892\n",
              "12     5853\n",
              "13     4152\n",
              "14     2835\n",
              "15     1861\n",
              "16     1188\n",
              "17      751\n",
              "18      462\n",
              "19      286\n",
              "20      162\n",
              "21      101\n",
              "22       66\n",
              "23       33\n",
              "24       22\n",
              "25       14\n",
              "26        7\n",
              "27        4\n",
              "28        3\n",
              "29        1\n",
              "30        1\n",
              "Name: line_number, dtype: int64"
            ]
          },
          "metadata": {},
          "execution_count": 253
        }
      ]
    },
    {
      "cell_type": "code",
      "source": [
        "df_train['line_number'].plot.hist()"
      ],
      "metadata": {
        "colab": {
          "base_uri": "https://localhost:8080/",
          "height": 284
        },
        "id": "NA8z49miSte4",
        "outputId": "6d8431fd-0d41-4606-fef6-dc6efa130519"
      },
      "execution_count": 254,
      "outputs": [
        {
          "output_type": "execute_result",
          "data": {
            "text/plain": [
              "<matplotlib.axes._subplots.AxesSubplot at 0x7f12c2cf21d0>"
            ]
          },
          "metadata": {},
          "execution_count": 254
        },
        {
          "output_type": "display_data",
          "data": {
            "image/png": "[encoded data removed]",
            "text/plain": [
              "<Figure size 432x288 with 1 Axes>"
            ]
          },
          "metadata": {
            "needs_background": "light"
          }
        }
      ]
    },
    {
      "cell_type": "code",
      "source": [
        "df_train['total_lines'].plot.hist()"
      ],
      "metadata": {
        "colab": {
          "base_uri": "https://localhost:8080/",
          "height": 286
        },
        "id": "111VQ3t4Tsyd",
        "outputId": "3033b49b-1497-4536-8faf-944eb8f4f248"
      },
      "execution_count": 259,
      "outputs": [
        {
          "output_type": "execute_result",
          "data": {
            "text/plain": [
              "<matplotlib.axes._subplots.AxesSubplot at 0x7f12c4e30850>"
            ]
          },
          "metadata": {},
          "execution_count": 259
        },
        {
          "output_type": "display_data",
          "data": {
            "image/png": "[encoded data removed]",
            "text/plain": [
              "<Figure size 432x288 with 1 Axes>"
            ]
          },
          "metadata": {
            "needs_background": "light"
          }
        }
      ]
    },
    {
      "cell_type": "code",
      "source": [
        "# use TensorFlow to create one-hot-encoded tensors of our line number\n",
        "train_line_numbers_one_hot =tf.one_hot(df_train['line_number'].to_numpy(), depth = 15)\n",
        "val_line_numbers_one_hot =tf.one_hot(df_val['line_number'].to_numpy(), depth = 15)\n",
        "test_line_numbers_one_hot =tf.one_hot(df_test['line_number'].to_numpy(), depth = 15)\n",
        "\n",
        "train_total_line_numbers_one_hot =tf.one_hot(df_train['total_lines'].to_numpy(), depth = 20)\n",
        "val_total_line_numbers_one_hot =tf.one_hot(df_val['total_lines'].to_numpy(), depth = 20)\n",
        "test_total_line_numbers_one_hot =tf.one_hot(df_test['total_lines'].to_numpy(), depth = 20)"
      ],
      "metadata": {
        "id": "i3StbDFNS-LB"
      },
      "execution_count": 260,
      "outputs": []
    },
    {
      "cell_type": "code",
      "source": [
        "train_line_numbers_one_hot[:10],train_line_numbers_one_hot.shape"
      ],
      "metadata": {
        "colab": {
          "base_uri": "https://localhost:8080/"
        },
        "id": "ZcuXi6afTPdM",
        "outputId": "8d00fb5d-4370-44e6-b2f7-7015452dd4d7"
      },
      "execution_count": 257,
      "outputs": [
        {
          "output_type": "execute_result",
          "data": {
            "text/plain": [
              "(<tf.Tensor: shape=(10, 15), dtype=float32, numpy=\n",
              " array([[1., 0., 0., 0., 0., 0., 0., 0., 0., 0., 0., 0., 0., 0., 0.],\n",
              "        [0., 1., 0., 0., 0., 0., 0., 0., 0., 0., 0., 0., 0., 0., 0.],\n",
              "        [0., 0., 1., 0., 0., 0., 0., 0., 0., 0., 0., 0., 0., 0., 0.],\n",
              "        [0., 0., 0., 1., 0., 0., 0., 0., 0., 0., 0., 0., 0., 0., 0.],\n",
              "        [0., 0., 0., 0., 1., 0., 0., 0., 0., 0., 0., 0., 0., 0., 0.],\n",
              "        [0., 0., 0., 0., 0., 1., 0., 0., 0., 0., 0., 0., 0., 0., 0.],\n",
              "        [0., 0., 0., 0., 0., 0., 1., 0., 0., 0., 0., 0., 0., 0., 0.],\n",
              "        [0., 0., 0., 0., 0., 0., 0., 1., 0., 0., 0., 0., 0., 0., 0.],\n",
              "        [0., 0., 0., 0., 0., 0., 0., 0., 1., 0., 0., 0., 0., 0., 0.],\n",
              "        [0., 0., 0., 0., 0., 0., 0., 0., 0., 1., 0., 0., 0., 0., 0.]],\n",
              "       dtype=float32)>, TensorShape([180040, 15]))"
            ]
          },
          "metadata": {},
          "execution_count": 257
        }
      ]
    },
    {
      "cell_type": "code",
      "source": [
        "train_total_line_numbers_one_hot[:10],train_total_line_numbers_one_hot.shape"
      ],
      "metadata": {
        "colab": {
          "base_uri": "https://localhost:8080/"
        },
        "id": "dy_GOZDDUWY5",
        "outputId": "1522b2a3-7855-48cb-d835-a8ac67a531d5"
      },
      "execution_count": 264,
      "outputs": [
        {
          "output_type": "execute_result",
          "data": {
            "text/plain": [
              "(<tf.Tensor: shape=(10, 20), dtype=float32, numpy=\n",
              " array([[0., 0., 0., 0., 0., 0., 0., 0., 0., 0., 0., 1., 0., 0., 0., 0.,\n",
              "         0., 0., 0., 0.],\n",
              "        [0., 0., 0., 0., 0., 0., 0., 0., 0., 0., 0., 1., 0., 0., 0., 0.,\n",
              "         0., 0., 0., 0.],\n",
              "        [0., 0., 0., 0., 0., 0., 0., 0., 0., 0., 0., 1., 0., 0., 0., 0.,\n",
              "         0., 0., 0., 0.],\n",
              "        [0., 0., 0., 0., 0., 0., 0., 0., 0., 0., 0., 1., 0., 0., 0., 0.,\n",
              "         0., 0., 0., 0.],\n",
              "        [0., 0., 0., 0., 0., 0., 0., 0., 0., 0., 0., 1., 0., 0., 0., 0.,\n",
              "         0., 0., 0., 0.],\n",
              "        [0., 0., 0., 0., 0., 0., 0., 0., 0., 0., 0., 1., 0., 0., 0., 0.,\n",
              "         0., 0., 0., 0.],\n",
              "        [0., 0., 0., 0., 0., 0., 0., 0., 0., 0., 0., 1., 0., 0., 0., 0.,\n",
              "         0., 0., 0., 0.],\n",
              "        [0., 0., 0., 0., 0., 0., 0., 0., 0., 0., 0., 1., 0., 0., 0., 0.,\n",
              "         0., 0., 0., 0.],\n",
              "        [0., 0., 0., 0., 0., 0., 0., 0., 0., 0., 0., 1., 0., 0., 0., 0.,\n",
              "         0., 0., 0., 0.],\n",
              "        [0., 0., 0., 0., 0., 0., 0., 0., 0., 0., 0., 1., 0., 0., 0., 0.,\n",
              "         0., 0., 0., 0.]], dtype=float32)>, TensorShape([180040, 20]))"
            ]
          },
          "metadata": {},
          "execution_count": 264
        }
      ]
    },
    {
      "cell_type": "code",
      "source": [
        "#check the coverage of a total_lines values of 20\n",
        "\n",
        "np.percentile(df_train.total_lines,95)"
      ],
      "metadata": {
        "colab": {
          "base_uri": "https://localhost:8080/"
        },
        "id": "UCZDlA_eTVk4",
        "outputId": "63bed143-bbd9-4e7f-fa84-47ddc351e6fe"
      },
      "execution_count": 262,
      "outputs": [
        {
          "output_type": "execute_result",
          "data": {
            "text/plain": [
              "18.0"
            ]
          },
          "metadata": {},
          "execution_count": 262
        }
      ]
    },
    {
      "cell_type": "markdown",
      "source": [
        "### building a tribrid embedding model\n",
        "\n",
        "1. Create a token-level model\n",
        "2. Create a character-level model\n",
        "3. Create a model for the 'line_number' feature\n",
        "4. Create a model for the 'total_line' feature\n",
        "5. Combine the outputs of 1&2,\n",
        "6. Combine of t 3 4, 5 using tf.keras.layers.Concatenate\n",
        "7. Create an output layer to accept the tribird embedding and output label probabilities\n",
        "8. Combine the inputs of 1,2,3,4 and outputs into tf.keras.Model"
      ],
      "metadata": {
        "id": "htLy-0cLUNbx"
      }
    },
    {
      "cell_type": "code",
      "source": [
        "#1.\n",
        "token_inputs = layers.Input(shape = [], dtype = tf.string , name = 'token_inputs')\n",
        "token_embeddings = tf_hub_embedding_layer(token_inputs)\n",
        "token_outputs = layers.Dense(128, activation = 'relu')(token_embeddings)\n",
        "token_model = tf.keras.Model(inputs = token_inputs,\n",
        "                             outputs = token_outputs,\n",
        "                             name = 'token_model')\n",
        "\n",
        "#2.\n",
        "char_inputs = layers.Input(shape = (1,) , dtype = 'string' , name = 'char_inputs')\n",
        "char_vectors = char_vectorizer(char_inputs)\n",
        "char_embeddings = char_embed(char_vectors)\n",
        "char_outputs = layers.Bidirectional(layers.LSTM(24))(char_embeddings)\n",
        "char_model = tf.keras.Model(char_inputs,\n",
        "                            char_outputs,\n",
        "                            name ='char_model')\n",
        "\n",
        "#3.\n",
        "line_number_inputs = layers.Input(shape = (15,) , dtype = tf.float32, name = 'line_number_input')\n",
        "x = layers.Dense(32, activation = 'relu')(line_number_inputs)\n",
        "line_number_model = tf.keras.Model(inputs = line_number_inputs,\n",
        "                                    outputs = x)\n",
        "\n",
        "#4.\n",
        "\n",
        "total_lines_inputs = layers.Input(shape = (20,), dtype = tf.float32, name = 'total_line_inputs')\n",
        "y = layers.Dense(32, activation = 'relu')(total_lines_inputs)\n",
        "total_line_model = tf.keras.Model(inputs = total_lines_inputs,\n",
        "                                  outputs = y)\n",
        "\n",
        "#5. Combine token and char embedding into a hybrid embedding\n",
        "\n",
        "combined_embeddings = layers.Concatenate(name = 'char_token_hybrid_embedding')([token_model.output,\n",
        "                                                                                char_model.output])\n",
        "\n",
        "\n",
        "z = layers.Dense(256,activation = 'relu')(combined_embeddings)\n",
        "z = layers.Dropout(0.5)(z)\n",
        "\n",
        "#6 . COmbine positional embedding with combined token and char embeddings\n",
        "tribrid_embeddings = layers.Concatenate(name = 'char_token_position_embedding')([line_number_model.output,\n",
        "                                                                                 total_line_model.output,\n",
        "                                                                                 z])\n",
        "#7. Create output layer\n",
        "output_layer = layers.Dense(5,activation = 'softmax' , name = 'output_layer')(tribrid_embeddings)\n",
        "\n",
        "#8. Combine model\n",
        "\n",
        "model_5 = tf.keras.Model(inputs = [line_number_model.input,\n",
        "                                   total_line_model.input,\n",
        "                                   token_model.input,\n",
        "                                   char_model.input\n",
        "                                   ],\n",
        "                         outputs = output_layer,\n",
        "                         name = 'tribrid_embedding_model')"
      ],
      "metadata": {
        "id": "n0q7MUFFUv40"
      },
      "execution_count": 277,
      "outputs": []
    },
    {
      "cell_type": "code",
      "source": [
        "model_5.summary()"
      ],
      "metadata": {
        "colab": {
          "base_uri": "https://localhost:8080/"
        },
        "id": "L0yIF_aWWWE_",
        "outputId": "7b2d6b50-75e1-4eb7-9503-84070ded9a31"
      },
      "execution_count": 278,
      "outputs": [
        {
          "output_type": "stream",
          "name": "stdout",
          "text": [
            "Model: \"tribrid_embedding_model\"\n",
            "__________________________________________________________________________________________________\n",
            " Layer (type)                   Output Shape         Param #     Connected to                     \n",
            "==================================================================================================\n",
            " char_inputs (InputLayer)       [(None, 1)]          0           []                               \n",
            "                                                                                                  \n",
            " token_inputs (InputLayer)      [(None,)]            0           []                               \n",
            "                                                                                                  \n",
            " char_vectorizer (TextVectoriza  (None, 290)         0           ['char_inputs[0][0]']            \n",
            " tion)                                                                                            \n",
            "                                                                                                  \n",
            " universal_sentence_encoder (Ke  (None, 512)         256797824   ['token_inputs[0][0]']           \n",
            " rasLayer)                                                                                        \n",
            "                                                                                                  \n",
            " char_embed (Embedding)         (None, 290, 25)      700         ['char_vectorizer[11][0]']       \n",
            "                                                                                                  \n",
            " dense_34 (Dense)               (None, 128)          65664       ['universal_sentence_encoder[13][\n",
            "                                                                 0]']                             \n",
            "                                                                                                  \n",
            " bidirectional_9 (Bidirectional  (None, 48)          9600        ['char_embed[11][0]']            \n",
            " )                                                                                                \n",
            "                                                                                                  \n",
            " char_token_hybrid_embedding (C  (None, 176)         0           ['dense_34[0][0]',               \n",
            " oncatenate)                                                      'bidirectional_9[0][0]']        \n",
            "                                                                                                  \n",
            " line_number_input (InputLayer)  [(None, 15)]        0           []                               \n",
            "                                                                                                  \n",
            " total_line_inputs (InputLayer)  [(None, 20)]        0           []                               \n",
            "                                                                                                  \n",
            " dense_37 (Dense)               (None, 256)          45312       ['char_token_hybrid_embedding[0][\n",
            "                                                                 0]']                             \n",
            "                                                                                                  \n",
            " dense_35 (Dense)               (None, 32)           512         ['line_number_input[0][0]']      \n",
            "                                                                                                  \n",
            " dense_36 (Dense)               (None, 32)           672         ['total_line_inputs[0][0]']      \n",
            "                                                                                                  \n",
            " dropout_5 (Dropout)            (None, 256)          0           ['dense_37[0][0]']               \n",
            "                                                                                                  \n",
            " char_token_position_embedding   (None, 320)         0           ['dense_35[0][0]',               \n",
            " (Concatenate)                                                    'dense_36[0][0]',               \n",
            "                                                                  'dropout_5[0][0]']              \n",
            "                                                                                                  \n",
            " output_layer (Dense)           (None, 5)            1605        ['char_token_position_embedding[0\n",
            "                                                                 ][0]']                           \n",
            "                                                                                                  \n",
            "==================================================================================================\n",
            "Total params: 256,921,889\n",
            "Trainable params: 124,065\n",
            "Non-trainable params: 256,797,824\n",
            "__________________________________________________________________________________________________\n"
          ]
        }
      ]
    },
    {
      "cell_type": "code",
      "source": [
        "plot_model(model_5)"
      ],
      "metadata": {
        "colab": {
          "base_uri": "https://localhost:8080/",
          "height": 626
        },
        "id": "KV_jaUCXYmIw",
        "outputId": "70b59fe4-8a19-4e9e-efb4-0183a007f091"
      },
      "execution_count": 279,
      "outputs": [
        {
          "output_type": "execute_result",
          "data": {
            "image/png": "[encoded data removed]",
            "text/plain": [
              "<IPython.core.display.Image object>"
            ]
          },
          "metadata": {},
          "execution_count": 279
        }
      ]
    },
    {
      "cell_type": "code",
      "source": [
        ""
      ],
      "metadata": {
        "id": "sa4vXR4bYpNg"
      },
      "execution_count": null,
      "outputs": []
    }
  ]
}