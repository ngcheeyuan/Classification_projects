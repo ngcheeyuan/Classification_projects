{
  "nbformat": 4,
  "nbformat_minor": 0,
  "metadata": {
    "colab": {
      "name": "toxic_comments.ipynb",
      "provenance": [],
      "authorship_tag": "ABX9TyMxmqrJNwfsqQZy5puD/uUq",
      "include_colab_link": true
    },
    "kernelspec": {
      "name": "python3",
      "display_name": "Python 3"
    },
    "language_info": {
      "name": "python"
    },
    "accelerator": "GPU"
  },
  "cells": [
    {
      "cell_type": "markdown",
      "metadata": {
        "id": "view-in-github",
        "colab_type": "text"
      },
      "source": [
        "<a href=\"https://colab.research.google.com/github/ngcheeyuan/Classification_projects/blob/main/toxic_comments.ipynb\" target=\"_parent\"><img src=\"https://colab.research.google.com/assets/colab-badge.svg\" alt=\"Open In Colab\"/></a>"
      ]
    },
    {
      "cell_type": "code",
      "execution_count": 199,
      "metadata": {
        "id": "o4ew_OWhX4RD"
      },
      "outputs": [],
      "source": [
        "import tensorflow as tf\n",
        "import tensorflow_datasets as tfds"
      ]
    },
    {
      "cell_type": "code",
      "source": [
        "ds , ds_info = tfds.load('civil_comments' ,\n",
        "                        shuffle_files = True,\n",
        "                        with_info = True)"
      ],
      "metadata": {
        "id": "hSZHWdCMYysr"
      },
      "execution_count": 200,
      "outputs": []
    },
    {
      "cell_type": "code",
      "source": [
        "import pandas as pd"
      ],
      "metadata": {
        "id": "UFApjBUJGzt5"
      },
      "execution_count": 201,
      "outputs": []
    },
    {
      "cell_type": "markdown",
      "source": [
        "## prepping dataframe"
      ],
      "metadata": {
        "id": "HgB-eaHdS9OC"
      }
    },
    {
      "cell_type": "code",
      "source": [
        "train_sample = ds['train'].shuffle(buffer_size = 2000).take(500000)\n",
        "val_sample = ds['validation'].shuffle(buffer_size = 2000).take(100000)\n",
        "test_sample = ds['test'].shuffle(buffer_size = 2000).take(100000)"
      ],
      "metadata": {
        "id": "l89YkH2jOZqn"
      },
      "execution_count": 202,
      "outputs": []
    },
    {
      "cell_type": "code",
      "source": [
        "df_train = pd.DataFrame(train_sample).applymap(lambda x : x.numpy())\n",
        "df_val = pd.DataFrame(val_sample).applymap(lambda x : x.numpy())\n",
        "df_test = pd.DataFrame(test_sample).applymap(lambda x : x.numpy())"
      ],
      "metadata": {
        "id": "K8T5KcM8Pobc"
      },
      "execution_count": 203,
      "outputs": []
    },
    {
      "cell_type": "code",
      "source": [
        "df_train['text'] = df_train['text'].map(lambda x : str(x)[2:-1])\n",
        "df_val['text'] = df_val['text'].map(lambda x : str(x)[2:-1])\n",
        "df_test['text'] = df_test['text'].map(lambda x : str(x)[2:-1])"
      ],
      "metadata": {
        "id": "J6wzmRANIwMN"
      },
      "execution_count": 204,
      "outputs": []
    },
    {
      "cell_type": "code",
      "source": [
        "#removing duplicates as the sampling was done with replacement\n",
        "df_train = df_train.drop(df_train[df_train.duplicated(keep = 'first')].index)\n",
        "df_val = df_val.drop(df_val[df_val.duplicated(keep = 'first')].index)\n",
        "df_test = df_test.drop(df_test[df_test.duplicated(keep = 'first')].index)"
      ],
      "metadata": {
        "id": "WqD1EAOOTG-a"
      },
      "execution_count": 205,
      "outputs": []
    },
    {
      "cell_type": "code",
      "source": [
        "df_train.head(10)"
      ],
      "metadata": {
        "colab": {
          "base_uri": "https://localhost:8080/",
          "height": 363
        },
        "id": "GRuJRShv8wyY",
        "outputId": "6afc0b62-3f08-40cf-8d49-a79152895400"
      },
      "execution_count": 206,
      "outputs": [
        {
          "output_type": "execute_result",
          "data": {
            "text/html": [
              "\n",
              "  <div id=\"df-8a192038-d7d8-411b-8072-13ccf5381b3f\">\n",
              "    <div class=\"colab-df-container\">\n",
              "      <div>\n",
              "<style scoped>\n",
              "    .dataframe tbody tr th:only-of-type {\n",
              "        vertical-align: middle;\n",
              "    }\n",
              "\n",
              "    .dataframe tbody tr th {\n",
              "        vertical-align: top;\n",
              "    }\n",
              "\n",
              "    .dataframe thead th {\n",
              "        text-align: right;\n",
              "    }\n",
              "</style>\n",
              "<table border=\"1\" class=\"dataframe\">\n",
              "  <thead>\n",
              "    <tr style=\"text-align: right;\">\n",
              "      <th></th>\n",
              "      <th>identity_attack</th>\n",
              "      <th>insult</th>\n",
              "      <th>obscene</th>\n",
              "      <th>severe_toxicity</th>\n",
              "      <th>sexual_explicit</th>\n",
              "      <th>text</th>\n",
              "      <th>threat</th>\n",
              "      <th>toxicity</th>\n",
              "    </tr>\n",
              "  </thead>\n",
              "  <tbody>\n",
              "    <tr>\n",
              "      <th>0</th>\n",
              "      <td>0.0</td>\n",
              "      <td>0.3</td>\n",
              "      <td>0.1</td>\n",
              "      <td>0.0</td>\n",
              "      <td>0.0</td>\n",
              "      <td>Brian S12--blind much, or total ignorance, or ...</td>\n",
              "      <td>0.3</td>\n",
              "      <td>0.4</td>\n",
              "    </tr>\n",
              "    <tr>\n",
              "      <th>1</th>\n",
              "      <td>0.0</td>\n",
              "      <td>0.0</td>\n",
              "      <td>0.0</td>\n",
              "      <td>0.0</td>\n",
              "      <td>0.0</td>\n",
              "      <td>They always say they are going to leave - but ...</td>\n",
              "      <td>0.0</td>\n",
              "      <td>0.0</td>\n",
              "    </tr>\n",
              "    <tr>\n",
              "      <th>2</th>\n",
              "      <td>0.0</td>\n",
              "      <td>0.0</td>\n",
              "      <td>0.0</td>\n",
              "      <td>0.0</td>\n",
              "      <td>0.0</td>\n",
              "      <td>&gt;&gt;Speaking of strokes of genius ...\\n\\n... and...</td>\n",
              "      <td>0.0</td>\n",
              "      <td>0.0</td>\n",
              "    </tr>\n",
              "    <tr>\n",
              "      <th>3</th>\n",
              "      <td>0.0</td>\n",
              "      <td>0.0</td>\n",
              "      <td>0.0</td>\n",
              "      <td>0.0</td>\n",
              "      <td>0.0</td>\n",
              "      <td>Abraham Pineo Gesner was a Canadian physician ...</td>\n",
              "      <td>0.0</td>\n",
              "      <td>0.0</td>\n",
              "    </tr>\n",
              "    <tr>\n",
              "      <th>4</th>\n",
              "      <td>0.0</td>\n",
              "      <td>0.0</td>\n",
              "      <td>0.0</td>\n",
              "      <td>0.0</td>\n",
              "      <td>0.0</td>\n",
              "      <td>\"A party of substance\" states Andrew Who.     ...</td>\n",
              "      <td>0.0</td>\n",
              "      <td>0.0</td>\n",
              "    </tr>\n",
              "    <tr>\n",
              "      <th>5</th>\n",
              "      <td>0.0</td>\n",
              "      <td>0.0</td>\n",
              "      <td>0.0</td>\n",
              "      <td>0.0</td>\n",
              "      <td>0.0</td>\n",
              "      <td>So killing them is the answer ? And you have n...</td>\n",
              "      <td>1.0</td>\n",
              "      <td>1.0</td>\n",
              "    </tr>\n",
              "    <tr>\n",
              "      <th>6</th>\n",
              "      <td>0.0</td>\n",
              "      <td>0.0</td>\n",
              "      <td>0.0</td>\n",
              "      <td>0.0</td>\n",
              "      <td>0.0</td>\n",
              "      <td>While I applaud PT for looking at ways to incr...</td>\n",
              "      <td>0.0</td>\n",
              "      <td>0.0</td>\n",
              "    </tr>\n",
              "    <tr>\n",
              "      <th>7</th>\n",
              "      <td>0.0</td>\n",
              "      <td>0.3</td>\n",
              "      <td>0.0</td>\n",
              "      <td>0.0</td>\n",
              "      <td>0.0</td>\n",
              "      <td>Trump will drain your pocket hon.</td>\n",
              "      <td>0.0</td>\n",
              "      <td>0.4</td>\n",
              "    </tr>\n",
              "    <tr>\n",
              "      <th>8</th>\n",
              "      <td>0.0</td>\n",
              "      <td>0.0</td>\n",
              "      <td>0.0</td>\n",
              "      <td>0.0</td>\n",
              "      <td>0.0</td>\n",
              "      <td>One never loses siding with solid bishops, of ...</td>\n",
              "      <td>0.0</td>\n",
              "      <td>0.0</td>\n",
              "    </tr>\n",
              "    <tr>\n",
              "      <th>9</th>\n",
              "      <td>0.0</td>\n",
              "      <td>0.0</td>\n",
              "      <td>0.0</td>\n",
              "      <td>0.0</td>\n",
              "      <td>0.0</td>\n",
              "      <td>Funny, no matter what Obama did, you folks on ...</td>\n",
              "      <td>0.0</td>\n",
              "      <td>0.0</td>\n",
              "    </tr>\n",
              "  </tbody>\n",
              "</table>\n",
              "</div>\n",
              "      <button class=\"colab-df-convert\" onclick=\"convertToInteractive('df-8a192038-d7d8-411b-8072-13ccf5381b3f')\"\n",
              "              title=\"Convert this dataframe to an interactive table.\"\n",
              "              style=\"display:none;\">\n",
              "        \n",
              "  <svg xmlns=\"http://www.w3.org/2000/svg\" height=\"24px\"viewBox=\"0 0 24 24\"\n",
              "       width=\"24px\">\n",
              "    <path d=\"M0 0h24v24H0V0z\" fill=\"none\"/>\n",
              "    <path d=\"M18.56 5.44l.94 2.06.94-2.06 2.06-.94-2.06-.94-.94-2.06-.94 2.06-2.06.94zm-11 1L8.5 8.5l.94-2.06 2.06-.94-2.06-.94L8.5 2.5l-.94 2.06-2.06.94zm10 10l.94 2.06.94-2.06 2.06-.94-2.06-.94-.94-2.06-.94 2.06-2.06.94z\"/><path d=\"M17.41 7.96l-1.37-1.37c-.4-.4-.92-.59-1.43-.59-.52 0-1.04.2-1.43.59L10.3 9.45l-7.72 7.72c-.78.78-.78 2.05 0 2.83L4 21.41c.39.39.9.59 1.41.59.51 0 1.02-.2 1.41-.59l7.78-7.78 2.81-2.81c.8-.78.8-2.07 0-2.86zM5.41 20L4 18.59l7.72-7.72 1.47 1.35L5.41 20z\"/>\n",
              "  </svg>\n",
              "      </button>\n",
              "      \n",
              "  <style>\n",
              "    .colab-df-container {\n",
              "      display:flex;\n",
              "      flex-wrap:wrap;\n",
              "      gap: 12px;\n",
              "    }\n",
              "\n",
              "    .colab-df-convert {\n",
              "      background-color: #E8F0FE;\n",
              "      border: none;\n",
              "      border-radius: 50%;\n",
              "      cursor: pointer;\n",
              "      display: none;\n",
              "      fill: #1967D2;\n",
              "      height: 32px;\n",
              "      padding: 0 0 0 0;\n",
              "      width: 32px;\n",
              "    }\n",
              "\n",
              "    .colab-df-convert:hover {\n",
              "      background-color: #E2EBFA;\n",
              "      box-shadow: 0px 1px 2px rgba(60, 64, 67, 0.3), 0px 1px 3px 1px rgba(60, 64, 67, 0.15);\n",
              "      fill: #174EA6;\n",
              "    }\n",
              "\n",
              "    [theme=dark] .colab-df-convert {\n",
              "      background-color: #3B4455;\n",
              "      fill: #D2E3FC;\n",
              "    }\n",
              "\n",
              "    [theme=dark] .colab-df-convert:hover {\n",
              "      background-color: #434B5C;\n",
              "      box-shadow: 0px 1px 3px 1px rgba(0, 0, 0, 0.15);\n",
              "      filter: drop-shadow(0px 1px 2px rgba(0, 0, 0, 0.3));\n",
              "      fill: #FFFFFF;\n",
              "    }\n",
              "  </style>\n",
              "\n",
              "      <script>\n",
              "        const buttonEl =\n",
              "          document.querySelector('#df-8a192038-d7d8-411b-8072-13ccf5381b3f button.colab-df-convert');\n",
              "        buttonEl.style.display =\n",
              "          google.colab.kernel.accessAllowed ? 'block' : 'none';\n",
              "\n",
              "        async function convertToInteractive(key) {\n",
              "          const element = document.querySelector('#df-8a192038-d7d8-411b-8072-13ccf5381b3f');\n",
              "          const dataTable =\n",
              "            await google.colab.kernel.invokeFunction('convertToInteractive',\n",
              "                                                     [key], {});\n",
              "          if (!dataTable) return;\n",
              "\n",
              "          const docLinkHtml = 'Like what you see? Visit the ' +\n",
              "            '<a target=\"_blank\" href=https://colab.research.google.com/notebooks/data_table.ipynb>data table notebook</a>'\n",
              "            + ' to learn more about interactive tables.';\n",
              "          element.innerHTML = '';\n",
              "          dataTable['output_type'] = 'display_data';\n",
              "          await google.colab.output.renderOutput(dataTable, element);\n",
              "          const docLink = document.createElement('div');\n",
              "          docLink.innerHTML = docLinkHtml;\n",
              "          element.appendChild(docLink);\n",
              "        }\n",
              "      </script>\n",
              "    </div>\n",
              "  </div>\n",
              "  "
            ],
            "text/plain": [
              "   identity_attack  insult  ...  threat  toxicity\n",
              "0              0.0     0.3  ...     0.3       0.4\n",
              "1              0.0     0.0  ...     0.0       0.0\n",
              "2              0.0     0.0  ...     0.0       0.0\n",
              "3              0.0     0.0  ...     0.0       0.0\n",
              "4              0.0     0.0  ...     0.0       0.0\n",
              "5              0.0     0.0  ...     1.0       1.0\n",
              "6              0.0     0.0  ...     0.0       0.0\n",
              "7              0.0     0.3  ...     0.0       0.4\n",
              "8              0.0     0.0  ...     0.0       0.0\n",
              "9              0.0     0.0  ...     0.0       0.0\n",
              "\n",
              "[10 rows x 8 columns]"
            ]
          },
          "metadata": {},
          "execution_count": 206
        }
      ]
    },
    {
      "cell_type": "code",
      "source": [
        "df_train.isna().sum()"
      ],
      "metadata": {
        "colab": {
          "base_uri": "https://localhost:8080/"
        },
        "id": "7_2n34k2ajII",
        "outputId": "97de1d1c-eb35-4055-840d-f51b8fcaa6b6"
      },
      "execution_count": 207,
      "outputs": [
        {
          "output_type": "execute_result",
          "data": {
            "text/plain": [
              "identity_attack    0\n",
              "insult             0\n",
              "obscene            0\n",
              "severe_toxicity    0\n",
              "sexual_explicit    0\n",
              "text               0\n",
              "threat             0\n",
              "toxicity           0\n",
              "dtype: int64"
            ]
          },
          "metadata": {},
          "execution_count": 207
        }
      ]
    },
    {
      "cell_type": "code",
      "source": [
        "df_val.isna().sum()"
      ],
      "metadata": {
        "id": "zohFdkV3WNTI",
        "colab": {
          "base_uri": "https://localhost:8080/"
        },
        "outputId": "6e79a1af-1b2b-4937-d1bd-b1b7903e13b9"
      },
      "execution_count": 208,
      "outputs": [
        {
          "output_type": "execute_result",
          "data": {
            "text/plain": [
              "identity_attack    0\n",
              "insult             0\n",
              "obscene            0\n",
              "severe_toxicity    0\n",
              "sexual_explicit    0\n",
              "text               0\n",
              "threat             0\n",
              "toxicity           0\n",
              "dtype: int64"
            ]
          },
          "metadata": {},
          "execution_count": 208
        }
      ]
    },
    {
      "cell_type": "markdown",
      "source": [
        "## Visualizing random texts"
      ],
      "metadata": {
        "id": "IyH0uYurizFO"
      }
    },
    {
      "cell_type": "code",
      "source": [
        "df_test.isna().sum()"
      ],
      "metadata": {
        "colab": {
          "base_uri": "https://localhost:8080/"
        },
        "id": "6mOYezPzMAas",
        "outputId": "8b867654-3290-4a34-da4d-607f66caf58d"
      },
      "execution_count": 209,
      "outputs": [
        {
          "output_type": "execute_result",
          "data": {
            "text/plain": [
              "identity_attack    0\n",
              "insult             0\n",
              "obscene            0\n",
              "severe_toxicity    0\n",
              "sexual_explicit    0\n",
              "text               0\n",
              "threat             0\n",
              "toxicity           0\n",
              "dtype: int64"
            ]
          },
          "metadata": {},
          "execution_count": 209
        }
      ]
    },
    {
      "cell_type": "code",
      "source": [
        "import random\n",
        "\n",
        "random_index = random.randint(0,len(df_train)-9)\n",
        "\n",
        "for row in df_train[random_index:random_index+9].itertuples():\n",
        "  _,attack,insult,obscene,severe_toxic,sexual,text,threat,toxic= row\n",
        "  print(f'text: {str(text)[:]}')\n",
        "  print(f'text: {len(str(text))}')\n",
        "  print(f'attack: {attack}, insults: {insult} obscene: {obscene} severe_toxcity : {severe_toxic}, sexual: {sexual} , threat: {threat}, toxic: {toxic}')\n",
        "  print('-----------------------------------------------------------------------------------------------------------------------------------------------------')"
      ],
      "metadata": {
        "id": "Mavx9-nijQF5",
        "colab": {
          "base_uri": "https://localhost:8080/"
        },
        "outputId": "092c7b3c-ee1e-4d04-d7ed-b132522281a3"
      },
      "execution_count": 210,
      "outputs": [
        {
          "output_type": "stream",
          "name": "stdout",
          "text": [
            "text: I don't care about the tight budget, where the money comes from or whether or not they partner with the city but the state should provide the necessary public access to that park. \\n\\nChugach State Park access has been an issue since at least the early 80s and providing adequate parking is a much greater public need than spending more money on studies for that road to nowhere out of Juneau or funding that KABATA gang  and their bridge to nowhere across Knik Arm. So if anyone wants to know where the money would come from, those are my suggestions.\n",
            "text: 552\n",
            "attack: 0.0, insults: 0.0 obscene: 0.0 severe_toxcity : 0.0, sexual: 0.0 , threat: 0.0, toxic: 0.0\n",
            "-----------------------------------------------------------------------------------------------------------------------------------------------------\n",
            "text: Maybe one day they will pass voter owned elections and then they won't have fundraisers.\\n\\nAlso noteworthy, not a single fundraiser at a vegan restaurant despite there being 3 within walking distance of the Capitol.  That speaks volumes.\n",
            "text: 238\n",
            "attack: 0.0, insults: 0.0 obscene: 0.1666666716337204 severe_toxcity : 0.0, sexual: 0.0 , threat: 0.0, toxic: 0.0\n",
            "-----------------------------------------------------------------------------------------------------------------------------------------------------\n",
            "text: Amazing how fast the Globalist Left abandons Human Rights and Equality when they lose an election.\n",
            "text: 98\n",
            "attack: 0.0, insults: 0.0 obscene: 0.0 severe_toxcity : 0.0, sexual: 0.0 , threat: 0.0, toxic: 0.0\n",
            "-----------------------------------------------------------------------------------------------------------------------------------------------------\n",
            "text: good read, thanks\n",
            "text: 17\n",
            "attack: 0.0, insults: 0.0 obscene: 0.0 severe_toxcity : 0.0, sexual: 0.0 , threat: 0.0, toxic: 0.0\n",
            "-----------------------------------------------------------------------------------------------------------------------------------------------------\n",
            "text: Microaggressions deserve microresponses.\n",
            "text: 40\n",
            "attack: 0.0, insults: 0.0 obscene: 0.0 severe_toxcity : 0.0, sexual: 0.0 , threat: 0.0, toxic: 0.0\n",
            "-----------------------------------------------------------------------------------------------------------------------------------------------------\n",
            "text: Much ado about nothing! The big question is, did they pay for that seat?\n",
            "text: 72\n",
            "attack: 0.0, insults: 0.0 obscene: 0.0 severe_toxcity : 0.0, sexual: 0.0 , threat: 0.0, toxic: 0.0\n",
            "-----------------------------------------------------------------------------------------------------------------------------------------------------\n",
            "text: TRUMP IS THE PROBLEM. THE STOCK MARKET WILL COLLAPSE. OH WAIT....LET ME CHECK ON THAT...OH, ITS AT AN ALL TIME HIGH. NEVER MIND I'M WRONG AGAIN...BYE.\n",
            "text: 150\n",
            "attack: 0.0, insults: 0.0 obscene: 0.0 severe_toxcity : 0.0, sexual: 0.0 , threat: 0.0, toxic: 0.0\n",
            "-----------------------------------------------------------------------------------------------------------------------------------------------------\n",
            "text: No, she said PP did not use federal funds for abortion. And they do. They continue to perform the same number annually and they have not had their funds cut. Simple math.\n",
            "text: 170\n",
            "attack: 0.0, insults: 0.0 obscene: 0.0 severe_toxcity : 0.0, sexual: 0.20000000298023224 , threat: 0.0, toxic: 0.20000000298023224\n",
            "-----------------------------------------------------------------------------------------------------------------------------------------------------\n",
            "text: Right, drive with your brain in gear and not on your iPhone\n",
            "text: 59\n",
            "attack: 0.0, insults: 0.30000001192092896 obscene: 0.0 severe_toxcity : 0.0, sexual: 0.0 , threat: 0.0, toxic: 0.30000001192092896\n",
            "-----------------------------------------------------------------------------------------------------------------------------------------------------\n"
          ]
        }
      ]
    },
    {
      "cell_type": "code",
      "source": [
        "pip install vaderSentiment"
      ],
      "metadata": {
        "id": "2_fbEOZqnzN0",
        "colab": {
          "base_uri": "https://localhost:8080/"
        },
        "outputId": "ae499b03-a867-47d6-a344-2caaa09fe66c"
      },
      "execution_count": 211,
      "outputs": [
        {
          "output_type": "stream",
          "name": "stdout",
          "text": [
            "Requirement already satisfied: vaderSentiment in /usr/local/lib/python3.7/dist-packages (3.3.2)\n",
            "Requirement already satisfied: requests in /usr/local/lib/python3.7/dist-packages (from vaderSentiment) (2.23.0)\n",
            "Requirement already satisfied: idna<3,>=2.5 in /usr/local/lib/python3.7/dist-packages (from requests->vaderSentiment) (2.10)\n",
            "Requirement already satisfied: chardet<4,>=3.0.2 in /usr/local/lib/python3.7/dist-packages (from requests->vaderSentiment) (3.0.4)\n",
            "Requirement already satisfied: certifi>=2017.4.17 in /usr/local/lib/python3.7/dist-packages (from requests->vaderSentiment) (2021.10.8)\n",
            "Requirement already satisfied: urllib3!=1.25.0,!=1.25.1,<1.26,>=1.21.1 in /usr/local/lib/python3.7/dist-packages (from requests->vaderSentiment) (1.24.3)\n"
          ]
        }
      ]
    },
    {
      "cell_type": "code",
      "source": [
        "from vaderSentiment.vaderSentiment import SentimentIntensityAnalyzer"
      ],
      "metadata": {
        "id": "QOajqoYbjRPE"
      },
      "execution_count": 212,
      "outputs": []
    },
    {
      "cell_type": "code",
      "source": [
        "analyzer = SentimentIntensityAnalyzer()"
      ],
      "metadata": {
        "id": "NqiO6X9Now8v"
      },
      "execution_count": 213,
      "outputs": []
    },
    {
      "cell_type": "code",
      "source": [
        "import numpy as np\n",
        "vfunc = np.vectorize(analyzer.polarity_scores)"
      ],
      "metadata": {
        "id": "bqR9sSV-oMBD"
      },
      "execution_count": 214,
      "outputs": []
    },
    {
      "cell_type": "code",
      "source": [
        "df_train['text']"
      ],
      "metadata": {
        "colab": {
          "base_uri": "https://localhost:8080/"
        },
        "id": "0P4H4kbzQpye",
        "outputId": "efa0038e-5872-4fa4-cfc6-0335cf50cb45"
      },
      "execution_count": 215,
      "outputs": [
        {
          "output_type": "execute_result",
          "data": {
            "text/plain": [
              "0         Brian S12--blind much, or total ignorance, or ...\n",
              "1         They always say they are going to leave - but ...\n",
              "2         >>Speaking of strokes of genius ...\\n\\n... and...\n",
              "3         Abraham Pineo Gesner was a Canadian physician ...\n",
              "4         \"A party of substance\" states Andrew Who.     ...\n",
              "                                ...                        \n",
              "499995    Chris,\\n\\n Trump is not doing well.  The Repub...\n",
              "499996    I see the zupta  twitterbots out and about tod...\n",
              "499997    \"... full-fledged member in the community of t...\n",
              "499998    I've noticed he bought a bunch go frontage lot...\n",
              "499999    forgiving ones enemies is primarily a new test...\n",
              "Name: text, Length: 496974, dtype: object"
            ]
          },
          "metadata": {},
          "execution_count": 215
        }
      ]
    },
    {
      "cell_type": "code",
      "source": [
        "df_train['sentiment'] = vfunc(df_train['text'])\n",
        "df_val['sentiment'] = vfunc(df_val['text'])\n",
        "df_test['sentiment'] = vfunc(df_test['text'])"
      ],
      "metadata": {
        "id": "UUA1GDPhoWSt"
      },
      "execution_count": 216,
      "outputs": []
    },
    {
      "cell_type": "code",
      "source": [
        "df_train.reset_index(drop = True , inplace = True)\n",
        "df_val.reset_index(drop = True , inplace = True)\n",
        "df_test.reset_index(drop = True , inplace = True)"
      ],
      "metadata": {
        "id": "ir-vvDe6QQCK"
      },
      "execution_count": 217,
      "outputs": []
    },
    {
      "cell_type": "code",
      "source": [
        "df_train = pd.concat([df_train.drop(columns = ['sentiment'] , axis = 'columns') ,pd.json_normalize(df_train['sentiment'])],axis =1 )\n",
        "df_val = pd.concat([df_val.drop(columns = ['sentiment'] , axis = 'columns') ,pd.json_normalize(df_val['sentiment'])],axis =1 )\n",
        "df_test = pd.concat([df_test.drop(columns = ['sentiment'] , axis = 'columns') ,pd.json_normalize(df_test['sentiment'])],axis =1 )"
      ],
      "metadata": {
        "id": "dKDyeypLp5um"
      },
      "execution_count": 218,
      "outputs": []
    },
    {
      "cell_type": "code",
      "source": [
        "df_train[df_train.isnull().any(axis=1)]"
      ],
      "metadata": {
        "colab": {
          "base_uri": "https://localhost:8080/",
          "height": 49
        },
        "id": "dDgGKxbkZNBS",
        "outputId": "bdb9e1db-c9b9-447d-c787-a191aaa21580"
      },
      "execution_count": 219,
      "outputs": [
        {
          "output_type": "execute_result",
          "data": {
            "text/html": [
              "\n",
              "  <div id=\"df-c2d8d930-36ec-470a-8588-26babf1d0a53\">\n",
              "    <div class=\"colab-df-container\">\n",
              "      <div>\n",
              "<style scoped>\n",
              "    .dataframe tbody tr th:only-of-type {\n",
              "        vertical-align: middle;\n",
              "    }\n",
              "\n",
              "    .dataframe tbody tr th {\n",
              "        vertical-align: top;\n",
              "    }\n",
              "\n",
              "    .dataframe thead th {\n",
              "        text-align: right;\n",
              "    }\n",
              "</style>\n",
              "<table border=\"1\" class=\"dataframe\">\n",
              "  <thead>\n",
              "    <tr style=\"text-align: right;\">\n",
              "      <th></th>\n",
              "      <th>identity_attack</th>\n",
              "      <th>insult</th>\n",
              "      <th>obscene</th>\n",
              "      <th>severe_toxicity</th>\n",
              "      <th>sexual_explicit</th>\n",
              "      <th>text</th>\n",
              "      <th>threat</th>\n",
              "      <th>toxicity</th>\n",
              "      <th>neg</th>\n",
              "      <th>neu</th>\n",
              "      <th>pos</th>\n",
              "      <th>compound</th>\n",
              "    </tr>\n",
              "  </thead>\n",
              "  <tbody>\n",
              "  </tbody>\n",
              "</table>\n",
              "</div>\n",
              "      <button class=\"colab-df-convert\" onclick=\"convertToInteractive('df-c2d8d930-36ec-470a-8588-26babf1d0a53')\"\n",
              "              title=\"Convert this dataframe to an interactive table.\"\n",
              "              style=\"display:none;\">\n",
              "        \n",
              "  <svg xmlns=\"http://www.w3.org/2000/svg\" height=\"24px\"viewBox=\"0 0 24 24\"\n",
              "       width=\"24px\">\n",
              "    <path d=\"M0 0h24v24H0V0z\" fill=\"none\"/>\n",
              "    <path d=\"M18.56 5.44l.94 2.06.94-2.06 2.06-.94-2.06-.94-.94-2.06-.94 2.06-2.06.94zm-11 1L8.5 8.5l.94-2.06 2.06-.94-2.06-.94L8.5 2.5l-.94 2.06-2.06.94zm10 10l.94 2.06.94-2.06 2.06-.94-2.06-.94-.94-2.06-.94 2.06-2.06.94z\"/><path d=\"M17.41 7.96l-1.37-1.37c-.4-.4-.92-.59-1.43-.59-.52 0-1.04.2-1.43.59L10.3 9.45l-7.72 7.72c-.78.78-.78 2.05 0 2.83L4 21.41c.39.39.9.59 1.41.59.51 0 1.02-.2 1.41-.59l7.78-7.78 2.81-2.81c.8-.78.8-2.07 0-2.86zM5.41 20L4 18.59l7.72-7.72 1.47 1.35L5.41 20z\"/>\n",
              "  </svg>\n",
              "      </button>\n",
              "      \n",
              "  <style>\n",
              "    .colab-df-container {\n",
              "      display:flex;\n",
              "      flex-wrap:wrap;\n",
              "      gap: 12px;\n",
              "    }\n",
              "\n",
              "    .colab-df-convert {\n",
              "      background-color: #E8F0FE;\n",
              "      border: none;\n",
              "      border-radius: 50%;\n",
              "      cursor: pointer;\n",
              "      display: none;\n",
              "      fill: #1967D2;\n",
              "      height: 32px;\n",
              "      padding: 0 0 0 0;\n",
              "      width: 32px;\n",
              "    }\n",
              "\n",
              "    .colab-df-convert:hover {\n",
              "      background-color: #E2EBFA;\n",
              "      box-shadow: 0px 1px 2px rgba(60, 64, 67, 0.3), 0px 1px 3px 1px rgba(60, 64, 67, 0.15);\n",
              "      fill: #174EA6;\n",
              "    }\n",
              "\n",
              "    [theme=dark] .colab-df-convert {\n",
              "      background-color: #3B4455;\n",
              "      fill: #D2E3FC;\n",
              "    }\n",
              "\n",
              "    [theme=dark] .colab-df-convert:hover {\n",
              "      background-color: #434B5C;\n",
              "      box-shadow: 0px 1px 3px 1px rgba(0, 0, 0, 0.15);\n",
              "      filter: drop-shadow(0px 1px 2px rgba(0, 0, 0, 0.3));\n",
              "      fill: #FFFFFF;\n",
              "    }\n",
              "  </style>\n",
              "\n",
              "      <script>\n",
              "        const buttonEl =\n",
              "          document.querySelector('#df-c2d8d930-36ec-470a-8588-26babf1d0a53 button.colab-df-convert');\n",
              "        buttonEl.style.display =\n",
              "          google.colab.kernel.accessAllowed ? 'block' : 'none';\n",
              "\n",
              "        async function convertToInteractive(key) {\n",
              "          const element = document.querySelector('#df-c2d8d930-36ec-470a-8588-26babf1d0a53');\n",
              "          const dataTable =\n",
              "            await google.colab.kernel.invokeFunction('convertToInteractive',\n",
              "                                                     [key], {});\n",
              "          if (!dataTable) return;\n",
              "\n",
              "          const docLinkHtml = 'Like what you see? Visit the ' +\n",
              "            '<a target=\"_blank\" href=https://colab.research.google.com/notebooks/data_table.ipynb>data table notebook</a>'\n",
              "            + ' to learn more about interactive tables.';\n",
              "          element.innerHTML = '';\n",
              "          dataTable['output_type'] = 'display_data';\n",
              "          await google.colab.output.renderOutput(dataTable, element);\n",
              "          const docLink = document.createElement('div');\n",
              "          docLink.innerHTML = docLinkHtml;\n",
              "          element.appendChild(docLink);\n",
              "        }\n",
              "      </script>\n",
              "    </div>\n",
              "  </div>\n",
              "  "
            ],
            "text/plain": [
              "Empty DataFrame\n",
              "Columns: [identity_attack, insult, obscene, severe_toxicity, sexual_explicit, text, threat, toxicity, neg, neu, pos, compound]\n",
              "Index: []"
            ]
          },
          "metadata": {},
          "execution_count": 219
        }
      ]
    },
    {
      "cell_type": "code",
      "source": [
        "import matplotlib.pyplot as plt\n",
        "fig, ax = plt.subplots(2, 3, sharex='col', sharey='row', figsize=(12,7))\n",
        "ax = ax.ravel() \n",
        "\n",
        "for idx,columns in enumerate(['identity_attack','insult','obscene','severe_toxicity','sexual_explicit','threat']):\n",
        "  ax[idx].hist(df_train.loc[:,columns], bins=12, alpha=0.5)\n",
        "  ax[idx].set_title(f'histogram of {columns} label')"
      ],
      "metadata": {
        "colab": {
          "base_uri": "https://localhost:8080/",
          "height": 444
        },
        "id": "d27lL0uuca9p",
        "outputId": "e278e7ab-9dc4-409c-e154-5b80a98407d2"
      },
      "execution_count": 220,
      "outputs": [
        {
          "output_type": "display_data",
          "data": {
            "image/png": "[encoded data removed]",
            "text/plain": [
              "<Figure size 864x504 with 6 Axes>"
            ]
          },
          "metadata": {
            "needs_background": "light"
          }
        }
      ]
    },
    {
      "cell_type": "code",
      "source": [
        "fig,ax = plt.subplots(1,1,figsize = (7,7))\n",
        "ax = df_train['toxicity'].hist()\n",
        "ax.set_title(f'target label historgram: toxicity')"
      ],
      "metadata": {
        "colab": {
          "base_uri": "https://localhost:8080/",
          "height": 463
        },
        "id": "7_AITGr3spT7",
        "outputId": "a769d333-c174-4285-9d36-204c5626823e"
      },
      "execution_count": 221,
      "outputs": [
        {
          "output_type": "execute_result",
          "data": {
            "text/plain": [
              "Text(0.5, 1.0, 'target label historgram: toxicity')"
            ]
          },
          "metadata": {},
          "execution_count": 221
        },
        {
          "output_type": "display_data",
          "data": {
            "image/png": "[encoded data removed]",
            "text/plain": [
              "<Figure size 504x504 with 1 Axes>"
            ]
          },
          "metadata": {
            "needs_background": "light"
          }
        }
      ]
    },
    {
      "cell_type": "code",
      "source": [
        "def convert_target_class(df,label,threshold):\n",
        "  '''\n",
        "  Function to convert target class labels to binary, where positive classes will be where target >= threshold\n",
        "\n",
        "  df : dataframe\n",
        "  label : name of the target column, input has to be a string\n",
        "  threshold : a floating number between 0 and 1\n",
        "  '''\n",
        "  temp_df = df.copy()\n",
        "  temp_df[label] = temp_df[label].map(lambda x : 1 if x >= threshold else 0)\n",
        "\n",
        "  return temp_df"
      ],
      "metadata": {
        "id": "Q9K30oiNtExV"
      },
      "execution_count": 222,
      "outputs": []
    },
    {
      "cell_type": "code",
      "source": [
        "df_train = convert_target_class(df_train , 'toxicity' , 0.5)\n",
        "df_val = convert_target_class(df_val , 'toxicity' , 0.5)\n",
        "df_val = convert_target_class(df_val , 'toxicity' , 0.5)"
      ],
      "metadata": {
        "id": "w2RXc1fGuHGb"
      },
      "execution_count": 223,
      "outputs": []
    },
    {
      "cell_type": "code",
      "source": [
        "df_train.toxicity.mean() , df_val.toxicity.mean() , df_test.toxicity.mean()"
      ],
      "metadata": {
        "colab": {
          "base_uri": "https://localhost:8080/"
        },
        "id": "NTQMRVGCXFtk",
        "outputId": "529c3107-38fa-413f-b8d5-b85de2bfad01"
      },
      "execution_count": 224,
      "outputs": [
        {
          "output_type": "execute_result",
          "data": {
            "text/plain": [
              "(0.08035229207161743, 0.07910123018860142, 0.10316588340479929)"
            ]
          },
          "metadata": {},
          "execution_count": 224
        }
      ]
    },
    {
      "cell_type": "code",
      "source": [
        "X_train = df_train['text']\n",
        "X_train_indicators = df_train[['identity_attack','insult','obscene','severe_toxicity','sexual_explicit','threat']]\n",
        "y_train = df_train['toxicity']\n",
        "\n",
        "X_val = df_val['text']\n",
        "X_val_indicators = df_val[['identity_attack','insult','obscene','severe_toxicity','sexual_explicit','threat']]\n",
        "y_val = df_val['toxicity']\n",
        "\n",
        "X_test = df_test['text']\n",
        "X_val_indicators = df_val[['identity_attack','insult','obscene','severe_toxicity','sexual_explicit','threat']]\n",
        "y_test = df_test['toxicity']"
      ],
      "metadata": {
        "id": "SAXUpesvXzs1"
      },
      "execution_count": 225,
      "outputs": []
    },
    {
      "cell_type": "code",
      "source": [
        "len(X_train),len(y_train), len(X_val), len(y_val), len(X_test), len(y_test)"
      ],
      "metadata": {
        "colab": {
          "base_uri": "https://localhost:8080/"
        },
        "id": "sAwMVa5IX0bh",
        "outputId": "f3f93a78-e041-4a74-a93e-2db0b7885788"
      },
      "execution_count": 226,
      "outputs": [
        {
          "output_type": "execute_result",
          "data": {
            "text/plain": [
              "(496974, 496974, 96977, 96977, 96972, 96972)"
            ]
          },
          "metadata": {},
          "execution_count": 226
        }
      ]
    },
    {
      "cell_type": "code",
      "source": [
        "import itertools\n",
        "import matplotlib.pyplot as plt\n",
        "import numpy as np\n",
        "from sklearn.metrics import confusion_matrix\n",
        "\n",
        "# Our function needs a different name to sklearn's plot_confusion_matrix\n",
        "def make_confusion_matrix(y_true, y_pred, classes=None, figsize=(10, 10), text_size=15, norm=False, savefig=False): \n",
        "  \"\"\"Makes a labelled confusion matrix comparing predictions and ground truth labels.\n",
        "  If classes is passed, confusion matrix will be labelled, if not, integer class values\n",
        "  will be used.\n",
        "  Args:\n",
        "    y_true: Array of truth labels (must be same shape as y_pred).\n",
        "    y_pred: Array of predicted labels (must be same shape as y_true).\n",
        "    classes: Array of class labels (e.g. string form). If `None`, integer labels are used.\n",
        "    figsize: Size of output figure (default=(10, 10)).\n",
        "    text_size: Size of output figure text (default=15).\n",
        "    norm: normalize values or not (default=False).\n",
        "    savefig: save confusion matrix to file (default=False).\n",
        "  \n",
        "  Returns:\n",
        "    A labelled confusion matrix plot comparing y_true and y_pred.\n",
        "  Example usage:\n",
        "    make_confusion_matrix(y_true=test_labels, # ground truth test labels\n",
        "                          y_pred=y_preds, # predicted labels\n",
        "                          classes=class_names, # array of class label names\n",
        "                          figsize=(15, 15),\n",
        "                          text_size=10)\n",
        "  \"\"\"  \n",
        "  # Create the confustion matrix\n",
        "  cm = confusion_matrix(y_true, y_pred)\n",
        "  cm_norm = cm.astype(\"float\") / cm.sum(axis=1)[:, np.newaxis] # normalize it\n",
        "  n_classes = cm.shape[0] # find the number of classes we're dealing with\n",
        "\n",
        "  # Plot the figure and make it pretty\n",
        "  fig, ax = plt.subplots(figsize=figsize)\n",
        "  cax = ax.matshow(cm, cmap=plt.cm.Blues) # colors will represent how 'correct' a class is, darker == better\n",
        "  fig.colorbar(cax)\n",
        "\n",
        "  # Are there a list of classes?\n",
        "  if classes:\n",
        "    labels = classes\n",
        "  else:\n",
        "    labels = np.arange(cm.shape[0])\n",
        "  \n",
        "  # Label the axes\n",
        "  ax.set(title=\"Confusion Matrix\",\n",
        "         xlabel=\"Predicted label\",\n",
        "         ylabel=\"True label\",\n",
        "         xticks=np.arange(n_classes), # create enough axis slots for each class\n",
        "         yticks=np.arange(n_classes), \n",
        "         xticklabels=labels, # axes will labeled with class names (if they exist) or ints\n",
        "         yticklabels=labels)\n",
        "  \n",
        "  # Make x-axis labels appear on bottom\n",
        "  ax.xaxis.set_label_position(\"bottom\")\n",
        "  ax.xaxis.tick_bottom()\n",
        "\n",
        "  # Set the threshold for different colors\n",
        "  threshold = (cm.max() + cm.min()) / 2.\n",
        "\n",
        "  # Plot the text on each cell\n",
        "  for i, j in itertools.product(range(cm.shape[0]), range(cm.shape[1])):\n",
        "    if norm:\n",
        "      plt.text(j, i, f\"{cm[i, j]} ({cm_norm[i, j]*100:.1f}%)\",\n",
        "              horizontalalignment=\"center\",\n",
        "              color=\"white\" if cm[i, j] > threshold else \"black\",\n",
        "              size=text_size)\n",
        "    else:\n",
        "      plt.text(j, i, f\"{cm[i, j]}\",\n",
        "              horizontalalignment=\"center\",\n",
        "              color=\"white\" if cm[i, j] > threshold else \"black\",\n",
        "              size=text_size)\n",
        "\n",
        "  # Save the figure to the current working directory\n",
        "  if savefig:\n",
        "    fig.savefig(\"confusion_matrix.png\")"
      ],
      "metadata": {
        "id": "6QEruRVRxc7T"
      },
      "execution_count": 227,
      "outputs": []
    },
    {
      "cell_type": "code",
      "source": [
        "import tensorflow as tf\n",
        "from tensorflow.keras.layers import TextVectorization"
      ],
      "metadata": {
        "id": "4WrzOlK1uY7Z"
      },
      "execution_count": 228,
      "outputs": []
    },
    {
      "cell_type": "code",
      "source": [
        "text_vec = TextVectorization(max_tokens= 10000,\n",
        "                             standardize = 'lower_and_strip_punctuation',\n",
        "                             split = 'whitespace',\n",
        "                             ngrams = None,\n",
        "                             output_mode = 'int',\n",
        "                             output_sequence_length = None, #pad text to have the same length as the longest text,\n",
        "                             pad_to_max_tokens = True)"
      ],
      "metadata": {
        "id": "ToqJyOGCvbUM"
      },
      "execution_count": 229,
      "outputs": []
    },
    {
      "cell_type": "code",
      "source": [
        "#Average number of tokens in the training tweets\n",
        "round(sum([len(i.split()) for i in X_train])/len(X_train))"
      ],
      "metadata": {
        "colab": {
          "base_uri": "https://localhost:8080/"
        },
        "id": "SQjX0MrNvfAg",
        "outputId": "56500160-36de-4ef2-8096-425920075ed7"
      },
      "execution_count": 230,
      "outputs": [
        {
          "output_type": "execute_result",
          "data": {
            "text/plain": [
              "51"
            ]
          },
          "metadata": {},
          "execution_count": 230
        }
      ]
    },
    {
      "cell_type": "code",
      "source": [
        "#setup text vectorization variables\n",
        "max_vocab_length = 10000 # max num of words to have in our vocab\n",
        "max_length = 51 # max length of our sequence\n",
        "\n",
        "text_vectorizer = TextVectorization(max_tokens = max_vocab_length,\n",
        "                                    output_sequence_length = max_length)"
      ],
      "metadata": {
        "id": "bMqOAGsHvk5h"
      },
      "execution_count": 231,
      "outputs": []
    },
    {
      "cell_type": "code",
      "source": [
        "#Fit the text vectorizer to the training text\n",
        "text_vectorizer.adapt(X_train)"
      ],
      "metadata": {
        "id": "ngPmtTmsvuh8"
      },
      "execution_count": 232,
      "outputs": []
    },
    {
      "cell_type": "code",
      "source": [
        "sample_sentence = \"Trump is awesome!\"\n",
        "text_vectorizer([sample_sentence])"
      ],
      "metadata": {
        "colab": {
          "base_uri": "https://localhost:8080/"
        },
        "id": "iu8SqG-2vyFe",
        "outputId": "6c142b49-2a07-439f-e896-2e347c059208"
      },
      "execution_count": 233,
      "outputs": [
        {
          "output_type": "execute_result",
          "data": {
            "text/plain": [
              "<tf.Tensor: shape=(1, 51), dtype=int64, numpy=\n",
              "array([[  59,    7, 3069,    0,    0,    0,    0,    0,    0,    0,    0,\n",
              "           0,    0,    0,    0,    0,    0,    0,    0,    0,    0,    0,\n",
              "           0,    0,    0,    0,    0,    0,    0,    0,    0,    0,    0,\n",
              "           0,    0,    0,    0,    0,    0,    0,    0,    0,    0,    0,\n",
              "           0,    0,    0,    0,    0,    0,    0]])>"
            ]
          },
          "metadata": {},
          "execution_count": 233
        }
      ]
    },
    {
      "cell_type": "code",
      "source": [
        "# get the unique words in the vocabulary\n",
        "words_in_vocab = text_vectorizer.get_vocabulary()\n",
        "top_5_words = words_in_vocab[:5]\n",
        "bottom_5_words = words_in_vocab[-5:]"
      ],
      "metadata": {
        "id": "zikoWMmWv9-3"
      },
      "execution_count": 234,
      "outputs": []
    },
    {
      "cell_type": "code",
      "source": [
        "print(top_5_words)\n",
        "print(bottom_5_words)"
      ],
      "metadata": {
        "colab": {
          "base_uri": "https://localhost:8080/"
        },
        "id": "j6MBIasKjOLm",
        "outputId": "0c403acd-de3b-49b5-a5dd-4387c76232ce"
      },
      "execution_count": 235,
      "outputs": [
        {
          "output_type": "stream",
          "name": "stdout",
          "text": [
            "['', '[UNK]', 'the', 'to', 'and']\n",
            "['assemble', 'advancing', 'abundant', 'absorbed', 'versa']\n"
          ]
        }
      ]
    },
    {
      "cell_type": "code",
      "source": [
        "from tensorflow.keras import layers\n",
        "\n",
        "embedding = layers.Embedding(input_dim = max_vocab_length,\n",
        "                             output_dim = 128,\n",
        "                             input_length = max_length)\n",
        "embedding"
      ],
      "metadata": {
        "colab": {
          "base_uri": "https://localhost:8080/"
        },
        "id": "7QkATteywIlB",
        "outputId": "211a0ae1-1a98-495c-9fcb-e54cbb1cdec9"
      },
      "execution_count": 236,
      "outputs": [
        {
          "output_type": "execute_result",
          "data": {
            "text/plain": [
              "<keras.layers.embeddings.Embedding at 0x7f4c0e2bd890>"
            ]
          },
          "metadata": {},
          "execution_count": 236
        }
      ]
    },
    {
      "cell_type": "markdown",
      "source": [
        "## Baseline model"
      ],
      "metadata": {
        "id": "eYiGJg4wwVT5"
      }
    },
    {
      "cell_type": "code",
      "source": [
        "from sklearn.feature_extraction.text import TfidfVectorizer\n",
        "from sklearn.naive_bayes import MultinomialNB\n",
        "from sklearn.pipeline import Pipeline"
      ],
      "metadata": {
        "id": "Z64MFA3Wwc8e"
      },
      "execution_count": 237,
      "outputs": []
    },
    {
      "cell_type": "code",
      "source": [
        "model_0 = Pipeline([('tfidf',TfidfVectorizer()),\n",
        "                     ('clf',MultinomialNB())])"
      ],
      "metadata": {
        "id": "kq_aTI-bwfK0"
      },
      "execution_count": 238,
      "outputs": []
    },
    {
      "cell_type": "code",
      "source": [
        "model_0.fit(X_train,y_train)"
      ],
      "metadata": {
        "colab": {
          "base_uri": "https://localhost:8080/"
        },
        "id": "bfs7iCvLwgvx",
        "outputId": "e9d72629-c08a-4cd3-edc9-68b40d80e317"
      },
      "execution_count": 239,
      "outputs": [
        {
          "output_type": "execute_result",
          "data": {
            "text/plain": [
              "Pipeline(steps=[('tfidf', TfidfVectorizer()), ('clf', MultinomialNB())])"
            ]
          },
          "metadata": {},
          "execution_count": 239
        }
      ]
    },
    {
      "cell_type": "code",
      "source": [
        "from sklearn.metrics import accuracy_score , f1_score"
      ],
      "metadata": {
        "id": "jG3_tI0rwitH"
      },
      "execution_count": 240,
      "outputs": []
    },
    {
      "cell_type": "code",
      "source": [
        "model_0.score(X_val , y_val)"
      ],
      "metadata": {
        "colab": {
          "base_uri": "https://localhost:8080/"
        },
        "id": "5Wio3nKLwnVi",
        "outputId": "e9e41d18-bffc-46e3-c5ec-d12e25e0a42f"
      },
      "execution_count": 241,
      "outputs": [
        {
          "output_type": "execute_result",
          "data": {
            "text/plain": [
              "0.9217546428534601"
            ]
          },
          "metadata": {},
          "execution_count": 241
        }
      ]
    },
    {
      "cell_type": "code",
      "source": [
        "base_preds = model_0.predict(X_val)"
      ],
      "metadata": {
        "id": "AlVlwX26wsNj"
      },
      "execution_count": 242,
      "outputs": []
    },
    {
      "cell_type": "code",
      "source": [
        "f1_score(y_val , base_preds ,average = 'weighted')"
      ],
      "metadata": {
        "colab": {
          "base_uri": "https://localhost:8080/"
        },
        "id": "vr0703exwzbw",
        "outputId": "c353a169-f4b6-45d9-9976-7907137a40c6"
      },
      "execution_count": 243,
      "outputs": [
        {
          "output_type": "execute_result",
          "data": {
            "text/plain": [
              "0.8852784061964807"
            ]
          },
          "metadata": {},
          "execution_count": 243
        }
      ]
    },
    {
      "cell_type": "code",
      "source": [
        "make_confusion_matrix(y_val,base_preds, classes=None, figsize=(10, 10), text_size=15, norm=False, savefig=False)"
      ],
      "metadata": {
        "id": "Zch45Khaw2Gi",
        "colab": {
          "base_uri": "https://localhost:8080/",
          "height": 574
        },
        "outputId": "28cde2e2-f62e-437e-a304-c6e2337b0e0d"
      },
      "execution_count": 244,
      "outputs": [
        {
          "output_type": "display_data",
          "data": {
            "image/png": "[encoded data removed]",
            "text/plain": [
              "<Figure size 720x720 with 2 Axes>"
            ]
          },
          "metadata": {
            "needs_background": "light"
          }
        }
      ]
    },
    {
      "cell_type": "markdown",
      "source": [
        "## Model 2 - Logistic Regression"
      ],
      "metadata": {
        "id": "yfVEI9bA0r66"
      }
    },
    {
      "cell_type": "code",
      "source": [
        "from sklearn.linear_model import LogisticRegression"
      ],
      "metadata": {
        "id": "y73vdSXC0uB6"
      },
      "execution_count": 245,
      "outputs": []
    },
    {
      "cell_type": "code",
      "source": [
        "model_1 = LogisticRegression(class_weight = 'balance')"
      ],
      "metadata": {
        "id": "YGGYcVm-0uB-"
      },
      "execution_count": 246,
      "outputs": []
    },
    {
      "cell_type": "code",
      "source": [
        "model_1.fit(X_train_indicators,y_train)"
      ],
      "metadata": {
        "colab": {
          "base_uri": "https://localhost:8080/"
        },
        "outputId": "5aa2be7f-dae8-4638-fa8e-0dbe4de17c5f",
        "id": "f9mwZ7G40uCA"
      },
      "execution_count": 247,
      "outputs": [
        {
          "output_type": "execute_result",
          "data": {
            "text/plain": [
              "LogisticRegression(class_weight='balance')"
            ]
          },
          "metadata": {},
          "execution_count": 247
        }
      ]
    },
    {
      "cell_type": "code",
      "source": [
        "model_1.score(X_val_indicators , y_val)"
      ],
      "metadata": {
        "colab": {
          "base_uri": "https://localhost:8080/"
        },
        "outputId": "a0f46733-cbc3-4ce9-9e44-759e48490003",
        "id": "RRqo-OLL0uCF"
      },
      "execution_count": 248,
      "outputs": [
        {
          "output_type": "execute_result",
          "data": {
            "text/plain": [
              "0.9845633500726977"
            ]
          },
          "metadata": {},
          "execution_count": 248
        }
      ]
    },
    {
      "cell_type": "code",
      "source": [
        "base_preds = model_1.predict(X_val_indicators)"
      ],
      "metadata": {
        "id": "M9JMeXXQ0uCG"
      },
      "execution_count": 249,
      "outputs": []
    },
    {
      "cell_type": "code",
      "source": [
        "f1_score(y_val , base_preds ,average = 'weighted')"
      ],
      "metadata": {
        "colab": {
          "base_uri": "https://localhost:8080/"
        },
        "outputId": "7e36020e-6792-4f99-f76a-9c3ea73208a3",
        "id": "KL2j1KR80uCI"
      },
      "execution_count": 250,
      "outputs": [
        {
          "output_type": "execute_result",
          "data": {
            "text/plain": [
              "0.9845518325968401"
            ]
          },
          "metadata": {},
          "execution_count": 250
        }
      ]
    },
    {
      "cell_type": "code",
      "source": [
        "make_confusion_matrix(y_val,base_preds, classes=None, figsize=(10, 10), text_size=15, norm=False, savefig=False)"
      ],
      "metadata": {
        "colab": {
          "base_uri": "https://localhost:8080/",
          "height": 574
        },
        "outputId": "49732322-edde-4668-fee9-eb538b4a695e",
        "id": "ez5tIYVs0uCI"
      },
      "execution_count": 251,
      "outputs": [
        {
          "output_type": "display_data",
          "data": {
            "image/png": "[encoded data removed]",
            "text/plain": [
              "<Figure size 720x720 with 2 Axes>"
            ]
          },
          "metadata": {
            "needs_background": "light"
          }
        }
      ]
    },
    {
      "cell_type": "markdown",
      "source": [
        "1. The model was unable to differentiate  between classes due to the data imbalance"
      ],
      "metadata": {
        "id": "lRpKA7kdx6Qu"
      }
    },
    {
      "cell_type": "markdown",
      "source": [
        "## Model 2 : Ensemble logistic regression + naive bayes"
      ],
      "metadata": {
        "id": "_YnXDIRWveea"
      }
    },
    {
      "cell_type": "code",
      "source": [
        "from sklearn.ensemble import VotingClassifier\n",
        "from sklearn.base import TransformerMixin, BaseEstimator\n",
        "import numpy as np\n",
        "from sklearn.ensemble import VotingClassifier\n",
        "\n",
        "######################\n",
        "# custom transformer for sklearn pipeline\n",
        "class ColumnExtractor(TransformerMixin, BaseEstimator):\n",
        "    def __init__(self, cols):\n",
        "        self.cols = cols\n",
        "\n",
        "    def transform(self, X):\n",
        "      if len(self.cols) == 1:\n",
        "        return X[self.cols[0]]\n",
        "      else:\n",
        "        return X[self.cols]\n",
        "\n",
        "    def fit(self, X, y=None):\n",
        "        return self\n",
        "\n",
        "# fit clf1 with df1\n",
        "pipe1 = Pipeline([\n",
        "    ('col_extract', ColumnExtractor( cols= ['identity_attack','insult','obscene','severe_toxicity','sexual_explicit','threat'] )), # selecting features 0 and 1 (df1) to be used with LR (clf1)\n",
        "    ('clf', LogisticRegression(class_weight = 'balance'))\n",
        "    ])\n",
        "\n",
        "pipe1.fit(df_train, y_train) # sanity check\n",
        "print(f'accuracy - pipe1, logistic regression :{pipe1.score(df_val,y_val)}') # sanity check\n",
        "\n",
        "# fit clf2 with df2\n",
        "pipe2 = Pipeline([\n",
        "    ('col_extract', ColumnExtractor( cols=['text'])), # selecting features 2 and 3 (df2) to be used with SVC (clf2)\n",
        "    ('tfidf',TfidfVectorizer()),\n",
        "    ('clf', MultinomialNB())\n",
        "    ])\n",
        "\n",
        "pipe2.fit(df_train, y_train) # sanity check\n",
        "print(f'accuracy - pipe2, MultinomialNB , with TFidfVectorizer:{pipe2.score(df_val,y_val)}') # sanity check\n",
        "\n",
        "######################\n",
        "# ensemble/voting classifier where clf1 fitted with df1 and clf2 fitted with df2\n",
        "eclf = VotingClassifier(estimators=[('df1-clf1', pipe1), ('df2-clf2', pipe2)], voting='soft', weights= [1.5, 0.5])\n",
        "eclf.fit(df_train, y_train)\n",
        "print(f'accuracy - voting classifier with pipe1 and pipe 2 :{eclf.score(df_val,y_val)}')\n"
      ],
      "metadata": {
        "id": "l8vaflmIvqX6",
        "colab": {
          "base_uri": "https://localhost:8080/"
        },
        "outputId": "586f9cd1-61eb-4efb-bd80-6bc985d5a8cf"
      },
      "execution_count": 252,
      "outputs": [
        {
          "output_type": "stream",
          "name": "stdout",
          "text": [
            "accuracy - pipe1, logistic regression :0.9845633500726977\n",
            "accuracy - pipe2, MultinomialNB , with TFidfVectorizer:0.9217546428534601\n",
            "accuracy - voting classifier with pipe1 and pipe 2 :0.9812017282448415\n"
          ]
        }
      ]
    },
    {
      "cell_type": "code",
      "source": [
        "model_2_predictions = eclf.predict(df_val)"
      ],
      "metadata": {
        "id": "YLq0-JW_t_5a"
      },
      "execution_count": 253,
      "outputs": []
    },
    {
      "cell_type": "code",
      "source": [
        "make_confusion_matrix(y_val,model_2_predictions, classes=None, figsize=(10, 10), text_size=15, norm=False, savefig=False)"
      ],
      "metadata": {
        "colab": {
          "base_uri": "https://localhost:8080/",
          "height": 574
        },
        "id": "Jjlcy0FMyEJB",
        "outputId": "9257e049-6f18-4dae-f9f2-3e6ef5ad9153"
      },
      "execution_count": 254,
      "outputs": [
        {
          "output_type": "display_data",
          "data": {
            "image/png": "[encoded data removed]",
            "text/plain": [
              "<Figure size 720x720 with 2 Axes>"
            ]
          },
          "metadata": {
            "needs_background": "light"
          }
        }
      ]
    },
    {
      "cell_type": "markdown",
      "source": [
        "## Model 3 : USE encoder + Logistic Regression"
      ],
      "metadata": {
        "id": "zi3Iv_9fxlp3"
      }
    },
    {
      "cell_type": "code",
      "source": [
        "import tensorflow_hub as hub\n",
        "tf_hub_embedding_layer = hub.KerasLayer('https://tfhub.dev/google/universal-sentence-encoder/4',\n",
        "                                        trainable = False,\n",
        "                                        name = 'universal_sentence_encoder')"
      ],
      "metadata": {
        "id": "xfttxKzJzlfW"
      },
      "execution_count": 255,
      "outputs": []
    },
    {
      "cell_type": "code",
      "source": [
        "import tensorflow as tf\n",
        "from tensorflow.keras import layers"
      ],
      "metadata": {
        "id": "B6NAnRti0XSY"
      },
      "execution_count": 256,
      "outputs": []
    },
    {
      "cell_type": "code",
      "source": [
        "# from imblearn.over_sampling import RandomOverSampler\n",
        "# from imblearn.under_sampling import RandomUnderSampler\n",
        "# from imblearn.pipeline import Pipeline as imblearnpipe\n",
        "\n",
        "\n",
        "# ros = RandomOverSampler(sampling_strategy = {0:457046,1:457046},random_state=42)\n",
        "# rus = RandomUnderSampler(sampling_strategy = {0:100000,1:100000} , random_state=42)\n",
        "\n",
        "# imbpipe = imblearnpipe([('ros',ros)])\n",
        "# X_train, y_train = imbpipe.fit_resample(df_train[['identity_attack','insult','obscene','severe_toxicity','sexual_explicit','threat','text']], df_train['toxicity'])\n",
        "X_train = df_train[['identity_attack','insult','obscene','severe_toxicity','sexual_explicit','threat','text']]\n",
        "y_train = df_train['toxicity']"
      ],
      "metadata": {
        "id": "inlkJJIzLhUU"
      },
      "execution_count": 257,
      "outputs": []
    },
    {
      "cell_type": "code",
      "source": [
        "#1.\n",
        "token_inputs = layers.Input(shape = [], dtype = tf.string , name = 'token_inputs')\n",
        "token_embeddings = tf_hub_embedding_layer(token_inputs)\n",
        "token_outputs = layers.Dense(128, activation = 'relu')(token_embeddings)\n",
        "token_model = tf.keras.Model(inputs = token_inputs,\n",
        "                             outputs = token_outputs,\n",
        "                             name = 'token_model')\n",
        "\n",
        "#2. Building a logistic regression layer\n",
        "numeric_inputs = layers.Input(shape = (6,) , dtype = tf.int32, name = 'numeric_input')\n",
        "x = layers.Dense(2, activation = 'sigmoid')(numeric_inputs)\n",
        "numeric_model = tf.keras.Model(inputs = numeric_inputs,\n",
        "                               outputs = x , \n",
        "                               name = 'logistic_regression layer')\n",
        "\n",
        "#5. Combine token and char embedding into a hybrid embedding\n",
        "\n",
        "combined_embeddings = layers.Concatenate(name = 'token_vader')([token_model.output,\n",
        "                                                                numeric_model.output])\n",
        "\n",
        "\n",
        "z = layers.Dense(129,activation = 'sigmoid')(combined_embeddings)\n",
        "z = layers.Dense(64,activation = 'relu')(z)\n",
        "z = layers.Dropout(0.5)(z)\n",
        "\n",
        "\n",
        "#7. Create output layer\n",
        "output_layer = layers.Dense(2,activation = 'sigmoid' , name = 'output_layer')(z)\n",
        "\n",
        "#8. Combine model\n",
        "\n",
        "model_3 = tf.keras.Model(inputs = [token_model.input,\n",
        "                                   numeric_model.input\n",
        "                                   ],\n",
        "                         outputs = output_layer,\n",
        "                         name = 'token_vader_model')"
      ],
      "metadata": {
        "id": "GT06qqMYz0aY"
      },
      "execution_count": 326,
      "outputs": []
    },
    {
      "cell_type": "code",
      "source": [
        "model_3.summary()"
      ],
      "metadata": {
        "colab": {
          "base_uri": "https://localhost:8080/"
        },
        "id": "xBCzdieQ25ye",
        "outputId": "130882fb-aaba-491f-b9f4-41e86d6f2481"
      },
      "execution_count": 327,
      "outputs": [
        {
          "output_type": "stream",
          "name": "stdout",
          "text": [
            "Model: \"token_vader_model\"\n",
            "__________________________________________________________________________________________________\n",
            " Layer (type)                   Output Shape         Param #     Connected to                     \n",
            "==================================================================================================\n",
            " token_inputs (InputLayer)      [(None,)]            0           []                               \n",
            "                                                                                                  \n",
            " universal_sentence_encoder (Ke  (None, 512)         256797824   ['token_inputs[0][0]']           \n",
            " rasLayer)                                                                                        \n",
            "                                                                                                  \n",
            " numeric_input (InputLayer)     [(None, 6)]          0           []                               \n",
            "                                                                                                  \n",
            " dense_78 (Dense)               (None, 128)          65664       ['universal_sentence_encoder[10][\n",
            "                                                                 0]']                             \n",
            "                                                                                                  \n",
            " dense_79 (Dense)               (None, 2)            14          ['numeric_input[0][0]']          \n",
            "                                                                                                  \n",
            " token_vader (Concatenate)      (None, 130)          0           ['dense_78[0][0]',               \n",
            "                                                                  'dense_79[0][0]']               \n",
            "                                                                                                  \n",
            " dense_80 (Dense)               (None, 129)          16899       ['token_vader[0][0]']            \n",
            "                                                                                                  \n",
            " dense_81 (Dense)               (None, 64)           8320        ['dense_80[0][0]']               \n",
            "                                                                                                  \n",
            " dropout_22 (Dropout)           (None, 64)           0           ['dense_81[0][0]']               \n",
            "                                                                                                  \n",
            " output_layer (Dense)           (None, 2)            130         ['dropout_22[0][0]']             \n",
            "                                                                                                  \n",
            "==================================================================================================\n",
            "Total params: 256,888,851\n",
            "Trainable params: 91,027\n",
            "Non-trainable params: 256,797,824\n",
            "__________________________________________________________________________________________________\n"
          ]
        }
      ]
    },
    {
      "cell_type": "code",
      "source": [
        "from tensorflow.keras.utils import plot_model\n",
        "plot_model(model_3, show_shapes = True)"
      ],
      "metadata": {
        "colab": {
          "base_uri": "https://localhost:8080/",
          "height": 865
        },
        "id": "9XJjY64N3bM6",
        "outputId": "40389505-ad95-48bf-82cb-078eba2fc25e"
      },
      "execution_count": 328,
      "outputs": [
        {
          "output_type": "execute_result",
          "data": {
            "image/png": "[encoded data removed]",
            "text/plain": [
              "<IPython.core.display.Image object>"
            ]
          },
          "metadata": {},
          "execution_count": 328
        }
      ]
    },
    {
      "cell_type": "code",
      "source": [
        "from sklearn.preprocessing import OneHotEncoder, LabelEncoder"
      ],
      "metadata": {
        "id": "Jh878YgV3gFj"
      },
      "execution_count": 329,
      "outputs": []
    },
    {
      "cell_type": "code",
      "source": [
        "one_hot_encoder = OneHotEncoder(sparse = False)\n",
        "train_labels_one_hot = one_hot_encoder.fit_transform(y_train.to_numpy().reshape(-1,1))\n",
        "val_labels_one_hot = one_hot_encoder.transform(y_val.to_numpy().reshape(-1,1))"
      ],
      "metadata": {
        "id": "6GAM7Q8w4Jpp"
      },
      "execution_count": 330,
      "outputs": []
    },
    {
      "cell_type": "code",
      "source": [
        "label_encoder = LabelEncoder()\n",
        "train_labels_encoded = label_encoder.fit_transform(y_train.to_numpy())\n",
        "val_labels_encoded = label_encoder.transform(y_val.to_numpy())"
      ],
      "metadata": {
        "id": "SXrcwQBD4n6R"
      },
      "execution_count": 331,
      "outputs": []
    },
    {
      "cell_type": "code",
      "source": [
        "train_sentences = X_train.text.tolist()\n",
        "train_numeric = X_train[['identity_attack', 'insult', 'obscene', 'severe_toxicity','sexual_explicit', 'threat']]\n",
        "\n",
        "val_sentences = df_val.text.tolist()\n",
        "val_numeric = df_val[['identity_attack', 'insult', 'obscene', 'severe_toxicity','sexual_explicit', 'threat']]"
      ],
      "metadata": {
        "id": "G_aahZSN5iyZ"
      },
      "execution_count": 332,
      "outputs": []
    },
    {
      "cell_type": "code",
      "source": [
        "train_token_numeric_data = tf.data.Dataset.from_tensor_slices((train_sentences,\n",
        "                                                             train_numeric\n",
        "                                                             ))\n",
        "\n",
        "train_token_numeric_labels = tf.data.Dataset.from_tensor_slices(train_labels_one_hot)\n",
        "train_token_numeric_dataset = tf.data.Dataset.zip((train_token_numeric_data,\n",
        "                                                   train_token_numeric_labels))\n",
        "\n",
        "train_token_numeric_dataset = train_token_numeric_dataset.batch(32).prefetch(tf.data.AUTOTUNE)\n",
        "\n",
        "\n",
        "val_token_numeric_data = tf.data.Dataset.from_tensor_slices((val_sentences,\n",
        "                                                             val_numeric\n",
        "                                                             ))\n",
        "\n",
        "val_token_numeric_labels = tf.data.Dataset.from_tensor_slices(val_labels_one_hot)\n",
        "val_token_numeric_dataset = tf.data.Dataset.zip((val_token_numeric_data,\n",
        "                                                 val_token_numeric_labels))\n",
        "\n",
        "val_token_numeric_dataset = val_token_numeric_dataset.batch(32).prefetch(tf.data.AUTOTUNE)\n"
      ],
      "metadata": {
        "id": "N2rj_2LD4vj-"
      },
      "execution_count": 333,
      "outputs": []
    },
    {
      "cell_type": "code",
      "source": [
        "print(train_token_numeric_dataset)\n",
        "print(val_token_numeric_dataset)"
      ],
      "metadata": {
        "colab": {
          "base_uri": "https://localhost:8080/"
        },
        "id": "MKocD0jC6gj8",
        "outputId": "f4c7688b-cd5a-4a5d-b95e-8272d245d2f3"
      },
      "execution_count": 334,
      "outputs": [
        {
          "output_type": "stream",
          "name": "stdout",
          "text": [
            "<PrefetchDataset shapes: (((None,), (None, 6)), (None, 2)), types: ((tf.string, tf.float64), tf.float64)>\n",
            "<PrefetchDataset shapes: (((None,), (None, 6)), (None, 2)), types: ((tf.string, tf.float64), tf.float64)>\n"
          ]
        }
      ]
    },
    {
      "cell_type": "code",
      "source": [
        "len(y_train)/(y_train.sum())"
      ],
      "metadata": {
        "colab": {
          "base_uri": "https://localhost:8080/"
        },
        "id": "B1LUIdKgENpt",
        "outputId": "5f28eccd-7ca1-405c-957e-b99494676339"
      },
      "execution_count": 335,
      "outputs": [
        {
          "output_type": "execute_result",
          "data": {
            "text/plain": [
              "12.445195702802193"
            ]
          },
          "metadata": {},
          "execution_count": 335
        }
      ]
    },
    {
      "cell_type": "code",
      "source": [
        "earlystopping = tf.keras.callbacks.EarlyStopping(min_delta = 0.001,monitor = 'val_auc_14', verbose = 1 , patience = 5)"
      ],
      "metadata": {
        "id": "a6QoSV397l-B"
      },
      "execution_count": 336,
      "outputs": []
    },
    {
      "cell_type": "code",
      "source": [
        "model_3.compile(loss = tf.keras.losses.BinaryCrossentropy(label_smoothing = 0.2),\n",
        "                optimizer = tf.keras.optimizers.Adam(),\n",
        "                metrics = tf.keras.metrics.AUC(curve='PR')\n",
        "                )"
      ],
      "metadata": {
        "id": "2-5DskFg8IzL"
      },
      "execution_count": 337,
      "outputs": []
    },
    {
      "cell_type": "code",
      "source": [
        "classweights = {0:1,\n",
        "                1:len(y_train)/(y_train.sum())}"
      ],
      "metadata": {
        "id": "giL8t9ImEcKP"
      },
      "execution_count": 338,
      "outputs": []
    },
    {
      "cell_type": "code",
      "source": [
        "model_3_history = model_3.fit(train_token_numeric_dataset,\n",
        "                              steps_per_epoch = int(len(train_token_numeric_dataset)//32),\n",
        "                              epochs = 20,\n",
        "                              validation_data = val_token_numeric_dataset,\n",
        "                              class_weight = classweights,\n",
        "                              validation_steps = int(len(val_token_numeric_dataset)//32),\n",
        "                              callbacks = [tf.keras.callbacks.ModelCheckpoint(filepath = 'model_checkpoint',\n",
        "                                                                              monitor = 'val_auc_14',\n",
        "                                                                              save_best_only = True,\n",
        "                                                                              save_weights_only = False),\n",
        "                                           earlystopping])"
      ],
      "metadata": {
        "colab": {
          "base_uri": "https://localhost:8080/"
        },
        "id": "hDu3DENG8Mlh",
        "outputId": "e164823c-dcfc-4138-d5d8-0b0e1f54ea67"
      },
      "execution_count": 339,
      "outputs": [
        {
          "output_type": "stream",
          "name": "stdout",
          "text": [
            "Epoch 1/20\n",
            "484/485 [============================>.] - ETA: 0s - loss: 1.2268 - auc_14: 0.6705INFO:tensorflow:Assets written to: model_checkpoint/assets\n"
          ]
        },
        {
          "output_type": "stream",
          "name": "stderr",
          "text": [
            "INFO:tensorflow:Assets written to: model_checkpoint/assets\n"
          ]
        },
        {
          "output_type": "stream",
          "name": "stdout",
          "text": [
            "485/485 [==============================] - 26s 50ms/step - loss: 1.2270 - auc_14: 0.6708 - val_loss: 0.5983 - val_auc_14: 0.8070\n",
            "Epoch 2/20\n",
            "485/485 [==============================] - 13s 28ms/step - loss: 1.1324 - auc_14: 0.7872 - val_loss: 0.4963 - val_auc_14: 0.9322\n",
            "Epoch 3/20\n",
            "485/485 [==============================] - ETA: 0s - loss: 1.1237 - auc_14: 0.7977INFO:tensorflow:Assets written to: model_checkpoint/assets\n"
          ]
        },
        {
          "output_type": "stream",
          "name": "stderr",
          "text": [
            "INFO:tensorflow:Assets written to: model_checkpoint/assets\n"
          ]
        },
        {
          "output_type": "stream",
          "name": "stdout",
          "text": [
            "485/485 [==============================] - 117s 242ms/step - loss: 1.1237 - auc_14: 0.7977 - val_loss: 0.6082 - val_auc_14: 0.7943\n",
            "Epoch 4/20\n",
            "483/485 [============================>.] - ETA: 0s - loss: 1.0966 - auc_14: 0.8139INFO:tensorflow:Assets written to: model_checkpoint/assets\n"
          ]
        },
        {
          "output_type": "stream",
          "name": "stderr",
          "text": [
            "INFO:tensorflow:Assets written to: model_checkpoint/assets\n"
          ]
        },
        {
          "output_type": "stream",
          "name": "stdout",
          "text": [
            "485/485 [==============================] - 24s 49ms/step - loss: 1.0967 - auc_14: 0.8136 - val_loss: 0.6268 - val_auc_14: 0.7596\n",
            "Epoch 5/20\n",
            "485/485 [==============================] - 13s 27ms/step - loss: 1.0972 - auc_14: 0.8112 - val_loss: 0.5513 - val_auc_14: 0.8714\n",
            "Epoch 6/20\n",
            "485/485 [==============================] - 13s 27ms/step - loss: 1.1421 - auc_14: 0.7897 - val_loss: 0.6205 - val_auc_14: 0.7620\n",
            "Epoch 7/20\n",
            "485/485 [==============================] - 13s 28ms/step - loss: 1.1196 - auc_14: 0.8045 - val_loss: 0.5949 - val_auc_14: 0.8129\n",
            "Epoch 8/20\n",
            "485/485 [==============================] - 13s 27ms/step - loss: 1.0864 - auc_14: 0.8235 - val_loss: 0.5448 - val_auc_14: 0.8815\n",
            "Epoch 9/20\n",
            "485/485 [==============================] - 13s 27ms/step - loss: 1.0787 - auc_14: 0.8257 - val_loss: 0.5556 - val_auc_14: 0.8642\n",
            "Epoch 00009: early stopping\n"
          ]
        }
      ]
    },
    {
      "cell_type": "code",
      "source": [
        "model_3 = tf.keras.models.load_model('model_checkpoint/')"
      ],
      "metadata": {
        "id": "Id7PpthqRitR"
      },
      "execution_count": 340,
      "outputs": []
    },
    {
      "cell_type": "code",
      "source": [
        "model_3.evaluate(val_token_numeric_dataset)"
      ],
      "metadata": {
        "colab": {
          "base_uri": "https://localhost:8080/"
        },
        "id": "1R0hec8Z8YLY",
        "outputId": "0dd9c403-ed8d-47f4-8950-26e16e6f0cf1"
      },
      "execution_count": 341,
      "outputs": [
        {
          "output_type": "stream",
          "name": "stdout",
          "text": [
            "3031/3031 [==============================] - 69s 22ms/step - loss: 0.6210 - auc_14: 0.7683\n"
          ]
        },
        {
          "output_type": "execute_result",
          "data": {
            "text/plain": [
              "[0.6210083365440369, 0.768345832824707]"
            ]
          },
          "metadata": {},
          "execution_count": 341
        }
      ]
    },
    {
      "cell_type": "code",
      "source": [
        "preds = model_3.predict(val_token_numeric_dataset)"
      ],
      "metadata": {
        "id": "2PxaCfJfAwqR"
      },
      "execution_count": 342,
      "outputs": []
    },
    {
      "cell_type": "code",
      "source": [
        "preds"
      ],
      "metadata": {
        "colab": {
          "base_uri": "https://localhost:8080/"
        },
        "id": "T01ZZfei-hlb",
        "outputId": "dca02322-7115-4eed-e4fb-68f3964579b9"
      },
      "execution_count": 343,
      "outputs": [
        {
          "output_type": "execute_result",
          "data": {
            "text/plain": [
              "array([[0.16717924, 0.8326807 ],\n",
              "       [0.17174152, 0.82807153],\n",
              "       [0.44176853, 0.5627157 ],\n",
              "       ...,\n",
              "       [0.19316919, 0.80720544],\n",
              "       [0.64183915, 0.36466184],\n",
              "       [0.810389  , 0.193633  ]], dtype=float32)"
            ]
          },
          "metadata": {},
          "execution_count": 343
        }
      ]
    },
    {
      "cell_type": "code",
      "source": [
        "predictions = np.argmax(preds,axis = 1)"
      ],
      "metadata": {
        "id": "aEQ3LduRBXz6"
      },
      "execution_count": 344,
      "outputs": []
    },
    {
      "cell_type": "code",
      "source": [
        "make_confusion_matrix(y_val,predictions, classes=None, figsize=(10, 10), text_size=15, norm=False, savefig=False)"
      ],
      "metadata": {
        "colab": {
          "base_uri": "https://localhost:8080/",
          "height": 574
        },
        "id": "wXUJtXDlAiCY",
        "outputId": "8d8c0703-4c68-44a1-e189-cf46a4f19fa1"
      },
      "execution_count": 346,
      "outputs": [
        {
          "output_type": "display_data",
          "data": {
            "image/png": "[encoded data removed]",
            "text/plain": [
              "<Figure size 720x720 with 2 Axes>"
            ]
          },
          "metadata": {
            "needs_background": "light"
          }
        }
      ]
    },
    {
      "cell_type": "code",
      "source": [
        "m3_history_df = pd.DataFrame(model_3_history.history)\n",
        "m3_history_df['epoch'] = range(0,len(m3_history_df))"
      ],
      "metadata": {
        "id": "SrIJATDFowaD"
      },
      "execution_count": 350,
      "outputs": []
    },
    {
      "cell_type": "code",
      "source": [
        "plt.plot(m3_history_df.epoch ,m3_history_df.auc_14 , label = 'train_auc')\n",
        "plt.plot(m3_history_df.epoch ,m3_history_df.val_auc_14 , label = 'val_auc')\n",
        "plt.legend()"
      ],
      "metadata": {
        "colab": {
          "base_uri": "https://localhost:8080/",
          "height": 284
        },
        "id": "o00_d9I0pshL",
        "outputId": "9eb554a7-5a7a-4f2e-bbbe-2bdd46956ff4"
      },
      "execution_count": 357,
      "outputs": [
        {
          "output_type": "execute_result",
          "data": {
            "text/plain": [
              "<matplotlib.legend.Legend at 0x7f4be48a72d0>"
            ]
          },
          "metadata": {},
          "execution_count": 357
        },
        {
          "output_type": "display_data",
          "data": {
            "image/png": "[encoded data removed]",
            "text/plain": [
              "<Figure size 432x288 with 1 Axes>"
            ]
          },
          "metadata": {
            "needs_background": "light"
          }
        }
      ]
    },
    {
      "cell_type": "code",
      "source": [
        ""
      ],
      "metadata": {
        "id": "g3Z87_ckqHay"
      },
      "execution_count": null,
      "outputs": []
    }
  ]
}